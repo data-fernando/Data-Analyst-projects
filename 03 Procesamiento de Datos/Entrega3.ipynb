{
 "cells": [
  {
   "cell_type": "markdown",
   "metadata": {},
   "source": [
    "# ¡Hola, Gabriel!  \n",
    "\n",
    "Mi nombre es Carlos Ortiz, soy code reviewer de Practicum y voy a revisar el proyecto que acabas de desarrollar.\n",
    "\n",
    "Cuando vea un error la primera vez, lo señalaré. Deberás encontrarlo y arreglarlo. La intención es que te prepares para un espacio real de trabajo. En un trabajo, el líder de tu equipo hará lo mismo. Si no puedes solucionar el error, te daré más información en la próxima ocasión. \n",
    "\n",
    "Encontrarás mis comentarios más abajo - **por favor, no los muevas, no los modifiques ni los borres**.\n",
    "\n",
    "¿Cómo lo voy a hacer? Voy a leer detenidamente cada una de las implementaciones que has llevado a cabo para cumplir con lo solicitado. Verás los comentarios de esta forma:\n",
    "\n",
    "<div class=\"alert alert-block alert-success\">\n",
    "<b>Comentario del revisor</b> <a class=\"tocSkip\"></a>\n",
    "    \n",
    "Si todo está perfecto.\n",
    "</div>\n",
    "\n",
    "\n",
    "<div class=\"alert alert-block alert-warning\">\n",
    "<b>Comentario del revisor</b> <a class=\"tocSkip\"></a>\n",
    "    \n",
    "Si tu código está bien pero se puede mejorar o hay algún detalle que le hace falta.\n",
    "</div>\n",
    "\n",
    "\n",
    "<div class=\"alert alert-block alert-danger\">\n",
    "    \n",
    "<b>Comentario del revisor</b> <a class=\"tocSkip\"></a>\n",
    "    \n",
    "    \n",
    "Si de pronto hace falta algo o existe algún problema con tu código o conclusiones.\n",
    "</div>\n",
    "\n",
    "\n",
    "Puedes responderme de esta forma: \n",
    "\n",
    "<div class=\"alert alert-block alert-info\">\n",
    "<b>Respuesta del estudiante</b> <a class=\"tocSkip\"></a>\n",
    "</div>\n",
    "\n",
    "¡Empecemos!"
   ]
  },
  {
   "cell_type": "markdown",
   "metadata": {},
   "source": [
    "# Proyecto de Preporcesamiento de Datos."
   ]
  },
  {
   "cell_type": "markdown",
   "metadata": {},
   "source": [
    "Por: *Fernando Gabriel Ponce Lara.*"
   ]
  },
  {
   "cell_type": "markdown",
   "metadata": {},
   "source": [
    "## Tabla de Contenidos <a class=\"anchor\" id=\"tablacontenido\"></a>\n",
    "\n",
    "+ [Introducción](#Introducción)\n",
    "+ [Planteamiento del Problema](#planteamiento)\n",
    "+ [01. Exploración de datos](#primertitulo)\n",
    "    + [Descripción de los datos](#primertitulo_sub1)\n",
    "    + [Conclusión de la Sección](#exploracionConclusion)\n",
    "+ [02. Transformación de datos](#transformacion)\n",
    "+ [03. Trabajar con valores ausentes](#ausentes)\n",
    "+ [04. Clasificación de datos](#clasificar)\n",
    "+ [05. Comprobación de las hipótesis](#comprobacion)\n",
    "+ [06. Conclusión General](#conclusiongeneral)\n",
    "\n"
   ]
  },
  {
   "cell_type": "markdown",
   "metadata": {},
   "source": [
    "## Análisis del riesgo de incumplimiento de los prestatarios\n",
    "\n",
    "El proyecto consiste en preparar un informe para la división de préstamos de un banco. Deberás averiguar si el estado civil y el número de hijos de un cliente tienen un impacto en el incumplimiento de pago de un préstamo. El banco ya tiene algunos datos sobre la solvencia crediticia de los clientes.\n",
    "\n",
    "Este informe se tendrá en cuenta al crear una **puntuación de crédito** para un cliente potencial. La **puntuación de crédito** se utiliza para evaluar la capacidad de un prestatario potencial para pagar su préstamo.\n",
    "\n",
    "\n",
    "##  Propósito del proyecto\n",
    "\n",
    "El propósito del proyecto es analizar los datos de los clientes de la división de préstamos de un banco para determinar si el estado civil y el número de hijos tienen un impacto en el incumplimiento de pago de un préstamo. El informe resultante se utilizará para crear una puntuación de crédito para los clientes potenciales, lo que ayudará al banco a evaluar la capacidad de un prestatario potencial para pagar su préstamo.\n",
    "\n",
    "Para llevar a cabo este proyecto, se analizarán los datos existentes de los clientes, incluyendo información como el número de hijos, la experiencia laboral, la edad, la educación, el estado civil, el género, el tipo de empleo, la deuda, el ingreso mensual y el propósito del préstamo. Se buscará patrones y relaciones entre estos datos y el incumplimiento de pago para determinar si el estado civil y el número de hijos son factores que influyen en el riesgo de incumplimiento.\n",
    "\n",
    "El informe final se presentará al banco y se utilizará para mejorar la puntuación de crédito de los clientes potenciales, lo que ayudará al banco a tomar decisiones más informadas sobre el otorgamiento de préstamos y a reducir el riesgo de incumplimiento.\n"
   ]
  },
  {
   "cell_type": "markdown",
   "metadata": {},
   "source": [
    "<div class=\"alert alert-block alert-info\" >\n",
    "\n",
    "<b>Nota estudiante:</b> <br>\n",
    "    \n",
    "    No eliminare lo que esta en corchetes por favor asumir que lo hice. no puedo trabajarlo  de forma local.\n",
    "</div>"
   ]
  },
  {
   "cell_type": "markdown",
   "metadata": {},
   "source": [
    "<div class=\"alert alert-block alert-warning\">\n",
    "<b>Comentario del revisor</b> <a class=\"tocSkip\"></a>\n",
    "    \n",
    "Hola, Gabriel. Dado que es una instrucción importante en el proyecto porque el objetivo de los mismos es que puedas utilizarlo como parte de tu portafolio en el futuro, quisiera preguntar ¿a qué haces referencia con que no puedes trabajarlo de manera local? Eliminar los comentarios solo requiere de que hagas doble clic en la celda y elimines lo que está escrito. Esto lo puedes lograr trabajando en jupyter, en la plataforma o en colab.\n",
    "</div>"
   ]
  },
  {
   "cell_type": "markdown",
   "metadata": {},
   "source": [
    "<div class=\"alert alert-block alert-danger\">\n",
    "<b>Comentario del revisor</b> <a class=\"tocSkip\"></a>\n",
    "    \n",
    "En esta sección debes incluir una introducción al proyecto, los objetivos y una tabla de contenidos. Esto facilitará la navegación en el mismo. \n",
    "</div>"
   ]
  },
  {
   "cell_type": "markdown",
   "metadata": {},
   "source": [
    "## Introducción \n",
    "\n",
    "Se busca analizar los datos de los clientes de la división de préstamos de un banco con el objetivo de determinar si existen relaciones entre el incumplimiento de pago de un préstamo y ciertos factores como el número de hijos, el estado civil y el nivel de ingresos. El informe resultante se utilizará para mejorar la puntuación de crédito de los clientes potenciales, lo que ayudará al banco a evaluar mejor la capacidad de pago de un prestatario potencial y tomar decisiones más informadas sobre el otorgamiento de préstamos.\n",
    "Para esto se necesita un proceso de análisis de datos para comprobar las hipótesis que resuelven la problemática.\n",
    "\n",
    "## Planteamiento del Problema  <a class=\"anchor\" id=\"planteamiento\"></a>\n",
    "\n",
    "El problema planteado en este proyecto es determinar si el estado civil y el número de hijos de un cliente tienen un impacto en el incumplimiento de pago de un préstamo. El banco busca mejorar su proceso de evaluación de riesgos al momento de otorgar un préstamo, para esto se busca entender si estos factores son relevantes para determinar la capacidad de pago de un cliente y así poder incluirlos en la puntuación de crédito. El análisis de los datos existentes permitirá entender si estos factores son relevantes para el incumplimiento de pago y ayudará al banco a tomar decisiones más informadas al momento de otorgar un préstamo.\n",
    "\n",
    "## Hipótesis a probar\n",
    "\n",
    "Concretamente se plantean tres hipótesis a probar:\n",
    "\n",
    "    1.Existe una relación entre el número de hijos de un cliente y el incumplimiento de pago de un préstamo.\n",
    "    2.Existe una relación entre el estado civil de las personas casadas y el incumplimiento de pago de un préstamo.\n",
    "    3.Existe una relación entre el nivel de ingresos de un cliente y el incumplimiento de pago de un préstamo.\n",
    "    4.Afecta el propósito del crédito a la tasa de incumplimiento"
   ]
  },
  {
   "cell_type": "markdown",
   "metadata": {},
   "source": [
    "## Abre el archivo de datos y mira la información general. \n",
    "\n",
    "[Empieza con la importación de las librerías y la carga de los datos. Es posible que te des cuenta de que necesitas librerías adicionales a medida que avanzas, lo cual es totalmente normal, solo asegúrate de actualizar esta sección cuando lo hagas.]\n",
    "\n",
    "Empezamos abriendo e importando las librerías y el ‘dataset’ con el que trabajaremos en este proyecto."
   ]
  },
  {
   "cell_type": "code",
   "execution_count": 143,
   "metadata": {
    "scrolled": false
   },
   "outputs": [],
   "source": [
    "# Cargar todas las librerías\n",
    "import pandas as pd\n",
    "import numpy as np\n",
    "import math\n"
   ]
  },
  {
   "cell_type": "code",
   "execution_count": 144,
   "metadata": {
    "scrolled": true
   },
   "outputs": [],
   "source": [
    "# Carga los datos\n",
    "\n",
    "try:\n",
    "    df = pd.read_csv('credit_scoring_eng.csv')\n",
    "except:\n",
    "    df = pd.read_csv('/datasets/credit_scoring_eng.csv') "
   ]
  },
  {
   "cell_type": "markdown",
   "metadata": {},
   "source": [
    "# 01. Exploración de datos <a class=\"anchor\" id=\"primertitulo\"></a>\n",
    "\n",
    " **Descripción de los datos** <a class=\"anchor\" id=\"primertitulo_sub1\"> </a>\n",
    "\n",
    "- `children` - el número de hijos en la familia\n",
    "- `days_employed` - experiencia laboral en días\n",
    "- `dob_years` - la edad del cliente en años\n",
    "- `education` - la educación del cliente\n",
    "- `education_id` - identificador de educación\n",
    "- `family_status` - estado civil\n",
    "- `family_status_id` - identificador de estado civil\n",
    "- `gender` - género del cliente\n",
    "- `income_type` - tipo de empleo\n",
    "- `debt` - ¿había alguna deuda en el pago de un préstamo?\n",
    "- `total_income` - ingreso mensual\n",
    "- `purpose` - el propósito de obtener un préstamo\n",
    "\n"
   ]
  },
  {
   "cell_type": "markdown",
   "metadata": {},
   "source": [
    "Ahora veremos la columnas y 10 primeras filas de nuestro `dataset`."
   ]
  },
  {
   "cell_type": "code",
   "execution_count": 145,
   "metadata": {
    "scrolled": false
   },
   "outputs": [
    {
     "name": "stdout",
     "output_type": "stream",
     "text": [
      "<class 'pandas.core.frame.DataFrame'>\n",
      "RangeIndex: 21525 entries, 0 to 21524\n",
      "Data columns (total 12 columns):\n",
      " #   Column            Non-Null Count  Dtype  \n",
      "---  ------            --------------  -----  \n",
      " 0   children          21525 non-null  int64  \n",
      " 1   days_employed     19351 non-null  float64\n",
      " 2   dob_years         21525 non-null  int64  \n",
      " 3   education         21525 non-null  object \n",
      " 4   education_id      21525 non-null  int64  \n",
      " 5   family_status     21525 non-null  object \n",
      " 6   family_status_id  21525 non-null  int64  \n",
      " 7   gender            21525 non-null  object \n",
      " 8   income_type       21525 non-null  object \n",
      " 9   debt              21525 non-null  int64  \n",
      " 10  total_income      19351 non-null  float64\n",
      " 11  purpose           21525 non-null  object \n",
      "dtypes: float64(2), int64(5), object(5)\n",
      "memory usage: 2.0+ MB\n"
     ]
    }
   ],
   "source": [
    "# Vamos a ver cuántas filas y columnas tiene nuestro conjunto de datos\n",
    "\n",
    "df.info()"
   ]
  },
  {
   "cell_type": "code",
   "execution_count": 146,
   "metadata": {
    "scrolled": false
   },
   "outputs": [
    {
     "data": {
      "text/html": [
       "<div>\n",
       "<style scoped>\n",
       "    .dataframe tbody tr th:only-of-type {\n",
       "        vertical-align: middle;\n",
       "    }\n",
       "\n",
       "    .dataframe tbody tr th {\n",
       "        vertical-align: top;\n",
       "    }\n",
       "\n",
       "    .dataframe thead th {\n",
       "        text-align: right;\n",
       "    }\n",
       "</style>\n",
       "<table border=\"1\" class=\"dataframe\">\n",
       "  <thead>\n",
       "    <tr style=\"text-align: right;\">\n",
       "      <th></th>\n",
       "      <th>children</th>\n",
       "      <th>days_employed</th>\n",
       "      <th>dob_years</th>\n",
       "      <th>education</th>\n",
       "      <th>education_id</th>\n",
       "      <th>family_status</th>\n",
       "      <th>family_status_id</th>\n",
       "      <th>gender</th>\n",
       "      <th>income_type</th>\n",
       "      <th>debt</th>\n",
       "      <th>total_income</th>\n",
       "      <th>purpose</th>\n",
       "    </tr>\n",
       "  </thead>\n",
       "  <tbody>\n",
       "    <tr>\n",
       "      <th>0</th>\n",
       "      <td>1</td>\n",
       "      <td>-8437.673028</td>\n",
       "      <td>42</td>\n",
       "      <td>bachelor's degree</td>\n",
       "      <td>0</td>\n",
       "      <td>married</td>\n",
       "      <td>0</td>\n",
       "      <td>F</td>\n",
       "      <td>employee</td>\n",
       "      <td>0</td>\n",
       "      <td>40620.102</td>\n",
       "      <td>purchase of the house</td>\n",
       "    </tr>\n",
       "    <tr>\n",
       "      <th>1</th>\n",
       "      <td>1</td>\n",
       "      <td>-4024.803754</td>\n",
       "      <td>36</td>\n",
       "      <td>secondary education</td>\n",
       "      <td>1</td>\n",
       "      <td>married</td>\n",
       "      <td>0</td>\n",
       "      <td>F</td>\n",
       "      <td>employee</td>\n",
       "      <td>0</td>\n",
       "      <td>17932.802</td>\n",
       "      <td>car purchase</td>\n",
       "    </tr>\n",
       "    <tr>\n",
       "      <th>2</th>\n",
       "      <td>0</td>\n",
       "      <td>-5623.422610</td>\n",
       "      <td>33</td>\n",
       "      <td>Secondary Education</td>\n",
       "      <td>1</td>\n",
       "      <td>married</td>\n",
       "      <td>0</td>\n",
       "      <td>M</td>\n",
       "      <td>employee</td>\n",
       "      <td>0</td>\n",
       "      <td>23341.752</td>\n",
       "      <td>purchase of the house</td>\n",
       "    </tr>\n",
       "    <tr>\n",
       "      <th>3</th>\n",
       "      <td>3</td>\n",
       "      <td>-4124.747207</td>\n",
       "      <td>32</td>\n",
       "      <td>secondary education</td>\n",
       "      <td>1</td>\n",
       "      <td>married</td>\n",
       "      <td>0</td>\n",
       "      <td>M</td>\n",
       "      <td>employee</td>\n",
       "      <td>0</td>\n",
       "      <td>42820.568</td>\n",
       "      <td>supplementary education</td>\n",
       "    </tr>\n",
       "    <tr>\n",
       "      <th>4</th>\n",
       "      <td>0</td>\n",
       "      <td>340266.072047</td>\n",
       "      <td>53</td>\n",
       "      <td>secondary education</td>\n",
       "      <td>1</td>\n",
       "      <td>civil partnership</td>\n",
       "      <td>1</td>\n",
       "      <td>F</td>\n",
       "      <td>retiree</td>\n",
       "      <td>0</td>\n",
       "      <td>25378.572</td>\n",
       "      <td>to have a wedding</td>\n",
       "    </tr>\n",
       "  </tbody>\n",
       "</table>\n",
       "</div>"
      ],
      "text/plain": [
       "   children  days_employed  dob_years            education  education_id  \\\n",
       "0         1   -8437.673028         42    bachelor's degree             0   \n",
       "1         1   -4024.803754         36  secondary education             1   \n",
       "2         0   -5623.422610         33  Secondary Education             1   \n",
       "3         3   -4124.747207         32  secondary education             1   \n",
       "4         0  340266.072047         53  secondary education             1   \n",
       "\n",
       "       family_status  family_status_id gender income_type  debt  total_income  \\\n",
       "0            married                 0      F    employee     0     40620.102   \n",
       "1            married                 0      F    employee     0     17932.802   \n",
       "2            married                 0      M    employee     0     23341.752   \n",
       "3            married                 0      M    employee     0     42820.568   \n",
       "4  civil partnership                 1      F     retiree     0     25378.572   \n",
       "\n",
       "                   purpose  \n",
       "0    purchase of the house  \n",
       "1             car purchase  \n",
       "2    purchase of the house  \n",
       "3  supplementary education  \n",
       "4        to have a wedding  "
      ]
     },
     "execution_count": 146,
     "metadata": {},
     "output_type": "execute_result"
    }
   ],
   "source": [
    "# vamos a mostrar las primeras filas N\n",
    "\n",
    "df.head(5)"
   ]
  },
  {
   "cell_type": "markdown",
   "metadata": {},
   "source": [
    "\n",
    "#### Observaciones:\n",
    "\n",
    "- Se puede concluir que el data frame cuenta con valores nulos, por lo que se debe considerar dar un tratamiento a los datos.\n",
    "\n",
    "-  El ‘dataframe’ tiene en total 21525 entradas, pero solo dos columnas no tiene todos los valores completos en este caso las columna: `days_employed` y `total_income`.\n",
    "- Por lo tanto, hay que enfocarse en esas 2 columnas especialmente.\n"
   ]
  },
  {
   "cell_type": "code",
   "execution_count": 147,
   "metadata": {
    "scrolled": true
   },
   "outputs": [
    {
     "name": "stdout",
     "output_type": "stream",
     "text": [
      "Primer Filtro 'days_employed': len(dfl1) 2174\n",
      "Doble Filtro 'total_income': len(dfl1l2) 2174\n",
      "dfl1l2['days_employed'] 2174\n",
      "\n",
      "tabla filtrada: \n",
      "\n"
     ]
    },
    {
     "data": {
      "text/html": [
       "<div>\n",
       "<style scoped>\n",
       "    .dataframe tbody tr th:only-of-type {\n",
       "        vertical-align: middle;\n",
       "    }\n",
       "\n",
       "    .dataframe tbody tr th {\n",
       "        vertical-align: top;\n",
       "    }\n",
       "\n",
       "    .dataframe thead th {\n",
       "        text-align: right;\n",
       "    }\n",
       "</style>\n",
       "<table border=\"1\" class=\"dataframe\">\n",
       "  <thead>\n",
       "    <tr style=\"text-align: right;\">\n",
       "      <th></th>\n",
       "      <th>children</th>\n",
       "      <th>days_employed</th>\n",
       "      <th>dob_years</th>\n",
       "      <th>education</th>\n",
       "      <th>education_id</th>\n",
       "      <th>family_status</th>\n",
       "      <th>family_status_id</th>\n",
       "      <th>gender</th>\n",
       "      <th>income_type</th>\n",
       "      <th>debt</th>\n",
       "      <th>total_income</th>\n",
       "      <th>purpose</th>\n",
       "    </tr>\n",
       "  </thead>\n",
       "  <tbody>\n",
       "    <tr>\n",
       "      <th>12</th>\n",
       "      <td>0</td>\n",
       "      <td>NaN</td>\n",
       "      <td>65</td>\n",
       "      <td>secondary education</td>\n",
       "      <td>1</td>\n",
       "      <td>civil partnership</td>\n",
       "      <td>1</td>\n",
       "      <td>M</td>\n",
       "      <td>retiree</td>\n",
       "      <td>0</td>\n",
       "      <td>NaN</td>\n",
       "      <td>to have a wedding</td>\n",
       "    </tr>\n",
       "    <tr>\n",
       "      <th>26</th>\n",
       "      <td>0</td>\n",
       "      <td>NaN</td>\n",
       "      <td>41</td>\n",
       "      <td>secondary education</td>\n",
       "      <td>1</td>\n",
       "      <td>married</td>\n",
       "      <td>0</td>\n",
       "      <td>M</td>\n",
       "      <td>civil servant</td>\n",
       "      <td>0</td>\n",
       "      <td>NaN</td>\n",
       "      <td>education</td>\n",
       "    </tr>\n",
       "    <tr>\n",
       "      <th>29</th>\n",
       "      <td>0</td>\n",
       "      <td>NaN</td>\n",
       "      <td>63</td>\n",
       "      <td>secondary education</td>\n",
       "      <td>1</td>\n",
       "      <td>unmarried</td>\n",
       "      <td>4</td>\n",
       "      <td>F</td>\n",
       "      <td>retiree</td>\n",
       "      <td>0</td>\n",
       "      <td>NaN</td>\n",
       "      <td>building a real estate</td>\n",
       "    </tr>\n",
       "    <tr>\n",
       "      <th>41</th>\n",
       "      <td>0</td>\n",
       "      <td>NaN</td>\n",
       "      <td>50</td>\n",
       "      <td>secondary education</td>\n",
       "      <td>1</td>\n",
       "      <td>married</td>\n",
       "      <td>0</td>\n",
       "      <td>F</td>\n",
       "      <td>civil servant</td>\n",
       "      <td>0</td>\n",
       "      <td>NaN</td>\n",
       "      <td>second-hand car purchase</td>\n",
       "    </tr>\n",
       "    <tr>\n",
       "      <th>55</th>\n",
       "      <td>0</td>\n",
       "      <td>NaN</td>\n",
       "      <td>54</td>\n",
       "      <td>secondary education</td>\n",
       "      <td>1</td>\n",
       "      <td>civil partnership</td>\n",
       "      <td>1</td>\n",
       "      <td>F</td>\n",
       "      <td>retiree</td>\n",
       "      <td>1</td>\n",
       "      <td>NaN</td>\n",
       "      <td>to have a wedding</td>\n",
       "    </tr>\n",
       "  </tbody>\n",
       "</table>\n",
       "</div>"
      ],
      "text/plain": [
       "    children  days_employed  dob_years            education  education_id  \\\n",
       "12         0            NaN         65  secondary education             1   \n",
       "26         0            NaN         41  secondary education             1   \n",
       "29         0            NaN         63  secondary education             1   \n",
       "41         0            NaN         50  secondary education             1   \n",
       "55         0            NaN         54  secondary education             1   \n",
       "\n",
       "        family_status  family_status_id gender    income_type  debt  \\\n",
       "12  civil partnership                 1      M        retiree     0   \n",
       "26            married                 0      M  civil servant     0   \n",
       "29          unmarried                 4      F        retiree     0   \n",
       "41            married                 0      F  civil servant     0   \n",
       "55  civil partnership                 1      F        retiree     1   \n",
       "\n",
       "    total_income                   purpose  \n",
       "12           NaN         to have a wedding  \n",
       "26           NaN                 education  \n",
       "29           NaN    building a real estate  \n",
       "41           NaN  second-hand car purchase  \n",
       "55           NaN         to have a wedding  "
      ]
     },
     "execution_count": 147,
     "metadata": {},
     "output_type": "execute_result"
    }
   ],
   "source": [
    "# Veamos la tabla filtrada con valores ausentes de la primera columna donde faltan datos\n",
    "\n",
    "\n",
    "dfl1=df.loc[df['days_employed'].isna(),:]\n",
    "##tamnio tabla filtrada con valores vacios de `days_employed`\n",
    "print('Primer Filtro \\'days_employed\\':' ,str('len(dfl1)') , len(dfl1))\n",
    "\n",
    "\n",
    "### aplicacmos el filtro para vacios de `total_income`\n",
    "dfl1l2=dfl1.loc[df['total_income'].isna(),:]\n",
    "\n",
    "##tamnio tabla filtrada con valores vacios de `days_employed`\n",
    "print('Doble Filtro \\'total_income\\':' ,str('len(dfl1l2)') , len(dfl1l2))\n",
    "\n",
    "## valores ausentes e dataframe\n",
    "print(str(\"dfl1l2['days_employed']\") ,dfl1l2['days_employed'].isna().sum())\n",
    "\n",
    "\n",
    "print('\\ntabla filtrada: \\n' )\n",
    "dfl1l2.head()"
   ]
  },
  {
   "cell_type": "markdown",
   "metadata": {},
   "source": [
    "\n",
    "**Observaciones:**\n",
    "\n",
    "- Se puede ver que las columnas con valores ausente son:\n",
    "    + `days_employed` con 2174 valores vacíos en dicha columna.\n",
    "    + `total_income` con 2174 valores vacíos en dicha columna.\n",
    "\n",
    "- Para ver si los valores ausentes son simétricos , se comprobó aplicando los 2 filtros y mantienen el mismo número de valores vacíos. Por lo tanto se Concluye que son simétricos.\n"
   ]
  },
  {
   "cell_type": "code",
   "execution_count": 148,
   "metadata": {
    "scrolled": false
   },
   "outputs": [
    {
     "name": "stdout",
     "output_type": "stream",
     "text": [
      "Numero de filas de la tabla filtrada (con valores vacios) :  2174\n",
      "porcentaje de valores vacios: 10.10%\n"
     ]
    }
   ],
   "source": [
    "# Apliquemos múltiples condiciones para filtrar datos y veamos el número de filas en la tabla filtrada.\n",
    "\n",
    "##el filtro se aplico en las celdas anteriores\n",
    "print(\"Numero de filas de la tabla filtrada (con valores vacios) : \",len(dfl1l2) )\n",
    "\n",
    "### porcentaje de valores vacios.\n",
    "porcentajeVACIO=len(dfl1l2)/len(df)\n",
    "print(f'porcentaje de valores vacios: {porcentajeVACIO:.2%}')\n",
    "\n",
    "\n"
   ]
  },
  {
   "cell_type": "markdown",
   "metadata": {},
   "source": [
    "#### Observaciones :\n",
    "\n",
    "\n",
    "+ Se concluye que hay valores ausentes , no son iguales que la tabla original, Por lo tanto hay que dar un tratamiento a esas columnas.\n",
    "+ Aproximadamente el 10% de los valores poseen valores ausentes en el campo de la columna `days_employed`\n",
    "+ Por lo tanto hay que continuar con los pasos siguientes de completado de valores ausentes."
   ]
  },
  {
   "cell_type": "code",
   "execution_count": 149,
   "metadata": {
    "scrolled": false
   },
   "outputs": [
    {
     "data": {
      "text/html": [
       "<div>\n",
       "<style scoped>\n",
       "    .dataframe tbody tr th:only-of-type {\n",
       "        vertical-align: middle;\n",
       "    }\n",
       "\n",
       "    .dataframe tbody tr th {\n",
       "        vertical-align: top;\n",
       "    }\n",
       "\n",
       "    .dataframe thead th {\n",
       "        text-align: right;\n",
       "    }\n",
       "</style>\n",
       "<table border=\"1\" class=\"dataframe\">\n",
       "  <thead>\n",
       "    <tr style=\"text-align: right;\">\n",
       "      <th></th>\n",
       "      <th>children</th>\n",
       "      <th>days_employed</th>\n",
       "      <th>dob_years</th>\n",
       "      <th>education</th>\n",
       "      <th>education_id</th>\n",
       "      <th>family_status</th>\n",
       "      <th>family_status_id</th>\n",
       "      <th>gender</th>\n",
       "      <th>income_type</th>\n",
       "      <th>debt</th>\n",
       "      <th>total_income</th>\n",
       "      <th>purpose</th>\n",
       "    </tr>\n",
       "  </thead>\n",
       "  <tbody>\n",
       "    <tr>\n",
       "      <th>12</th>\n",
       "      <td>0</td>\n",
       "      <td>NaN</td>\n",
       "      <td>65</td>\n",
       "      <td>secondary education</td>\n",
       "      <td>1</td>\n",
       "      <td>civil partnership</td>\n",
       "      <td>1</td>\n",
       "      <td>M</td>\n",
       "      <td>retiree</td>\n",
       "      <td>0</td>\n",
       "      <td>NaN</td>\n",
       "      <td>to have a wedding</td>\n",
       "    </tr>\n",
       "    <tr>\n",
       "      <th>26</th>\n",
       "      <td>0</td>\n",
       "      <td>NaN</td>\n",
       "      <td>41</td>\n",
       "      <td>secondary education</td>\n",
       "      <td>1</td>\n",
       "      <td>married</td>\n",
       "      <td>0</td>\n",
       "      <td>M</td>\n",
       "      <td>civil servant</td>\n",
       "      <td>0</td>\n",
       "      <td>NaN</td>\n",
       "      <td>education</td>\n",
       "    </tr>\n",
       "    <tr>\n",
       "      <th>29</th>\n",
       "      <td>0</td>\n",
       "      <td>NaN</td>\n",
       "      <td>63</td>\n",
       "      <td>secondary education</td>\n",
       "      <td>1</td>\n",
       "      <td>unmarried</td>\n",
       "      <td>4</td>\n",
       "      <td>F</td>\n",
       "      <td>retiree</td>\n",
       "      <td>0</td>\n",
       "      <td>NaN</td>\n",
       "      <td>building a real estate</td>\n",
       "    </tr>\n",
       "    <tr>\n",
       "      <th>41</th>\n",
       "      <td>0</td>\n",
       "      <td>NaN</td>\n",
       "      <td>50</td>\n",
       "      <td>secondary education</td>\n",
       "      <td>1</td>\n",
       "      <td>married</td>\n",
       "      <td>0</td>\n",
       "      <td>F</td>\n",
       "      <td>civil servant</td>\n",
       "      <td>0</td>\n",
       "      <td>NaN</td>\n",
       "      <td>second-hand car purchase</td>\n",
       "    </tr>\n",
       "    <tr>\n",
       "      <th>55</th>\n",
       "      <td>0</td>\n",
       "      <td>NaN</td>\n",
       "      <td>54</td>\n",
       "      <td>secondary education</td>\n",
       "      <td>1</td>\n",
       "      <td>civil partnership</td>\n",
       "      <td>1</td>\n",
       "      <td>F</td>\n",
       "      <td>retiree</td>\n",
       "      <td>1</td>\n",
       "      <td>NaN</td>\n",
       "      <td>to have a wedding</td>\n",
       "    </tr>\n",
       "  </tbody>\n",
       "</table>\n",
       "</div>"
      ],
      "text/plain": [
       "    children  days_employed  dob_years            education  education_id  \\\n",
       "12         0            NaN         65  secondary education             1   \n",
       "26         0            NaN         41  secondary education             1   \n",
       "29         0            NaN         63  secondary education             1   \n",
       "41         0            NaN         50  secondary education             1   \n",
       "55         0            NaN         54  secondary education             1   \n",
       "\n",
       "        family_status  family_status_id gender    income_type  debt  \\\n",
       "12  civil partnership                 1      M        retiree     0   \n",
       "26            married                 0      M  civil servant     0   \n",
       "29          unmarried                 4      F        retiree     0   \n",
       "41            married                 0      F  civil servant     0   \n",
       "55  civil partnership                 1      F        retiree     1   \n",
       "\n",
       "    total_income                   purpose  \n",
       "12           NaN         to have a wedding  \n",
       "26           NaN                 education  \n",
       "29           NaN    building a real estate  \n",
       "41           NaN  second-hand car purchase  \n",
       "55           NaN         to have a wedding  "
      ]
     },
     "execution_count": 149,
     "metadata": {},
     "output_type": "execute_result"
    }
   ],
   "source": [
    "# Vamos a investigar a los clientes que no tienen datos sobre la característica identificada y la columna con los valores ausentes\n",
    "\n",
    "dfl1l2.head(5)"
   ]
  },
  {
   "cell_type": "code",
   "execution_count": 150,
   "metadata": {
    "scrolled": false
   },
   "outputs": [
    {
     "data": {
      "text/html": [
       "<div>\n",
       "<style scoped>\n",
       "    .dataframe tbody tr th:only-of-type {\n",
       "        vertical-align: middle;\n",
       "    }\n",
       "\n",
       "    .dataframe tbody tr th {\n",
       "        vertical-align: top;\n",
       "    }\n",
       "\n",
       "    .dataframe thead th {\n",
       "        text-align: right;\n",
       "    }\n",
       "</style>\n",
       "<table border=\"1\" class=\"dataframe\">\n",
       "  <thead>\n",
       "    <tr style=\"text-align: right;\">\n",
       "      <th></th>\n",
       "      <th>children</th>\n",
       "      <th>days_employed</th>\n",
       "      <th>dob_years</th>\n",
       "      <th>education_id</th>\n",
       "      <th>family_status_id</th>\n",
       "      <th>debt</th>\n",
       "      <th>total_income</th>\n",
       "    </tr>\n",
       "  </thead>\n",
       "  <tbody>\n",
       "    <tr>\n",
       "      <th>count</th>\n",
       "      <td>2174.000000</td>\n",
       "      <td>0.0</td>\n",
       "      <td>2174.000000</td>\n",
       "      <td>2174.000000</td>\n",
       "      <td>2174.000000</td>\n",
       "      <td>2174.000000</td>\n",
       "      <td>0.0</td>\n",
       "    </tr>\n",
       "    <tr>\n",
       "      <th>mean</th>\n",
       "      <td>0.552438</td>\n",
       "      <td>NaN</td>\n",
       "      <td>43.632015</td>\n",
       "      <td>0.800828</td>\n",
       "      <td>0.975161</td>\n",
       "      <td>0.078197</td>\n",
       "      <td>NaN</td>\n",
       "    </tr>\n",
       "    <tr>\n",
       "      <th>std</th>\n",
       "      <td>1.469356</td>\n",
       "      <td>NaN</td>\n",
       "      <td>12.531481</td>\n",
       "      <td>0.530157</td>\n",
       "      <td>1.418220</td>\n",
       "      <td>0.268543</td>\n",
       "      <td>NaN</td>\n",
       "    </tr>\n",
       "    <tr>\n",
       "      <th>min</th>\n",
       "      <td>-1.000000</td>\n",
       "      <td>NaN</td>\n",
       "      <td>0.000000</td>\n",
       "      <td>0.000000</td>\n",
       "      <td>0.000000</td>\n",
       "      <td>0.000000</td>\n",
       "      <td>NaN</td>\n",
       "    </tr>\n",
       "    <tr>\n",
       "      <th>25%</th>\n",
       "      <td>0.000000</td>\n",
       "      <td>NaN</td>\n",
       "      <td>34.000000</td>\n",
       "      <td>0.250000</td>\n",
       "      <td>0.000000</td>\n",
       "      <td>0.000000</td>\n",
       "      <td>NaN</td>\n",
       "    </tr>\n",
       "    <tr>\n",
       "      <th>50%</th>\n",
       "      <td>0.000000</td>\n",
       "      <td>NaN</td>\n",
       "      <td>43.000000</td>\n",
       "      <td>1.000000</td>\n",
       "      <td>0.000000</td>\n",
       "      <td>0.000000</td>\n",
       "      <td>NaN</td>\n",
       "    </tr>\n",
       "    <tr>\n",
       "      <th>75%</th>\n",
       "      <td>1.000000</td>\n",
       "      <td>NaN</td>\n",
       "      <td>54.000000</td>\n",
       "      <td>1.000000</td>\n",
       "      <td>1.000000</td>\n",
       "      <td>0.000000</td>\n",
       "      <td>NaN</td>\n",
       "    </tr>\n",
       "    <tr>\n",
       "      <th>max</th>\n",
       "      <td>20.000000</td>\n",
       "      <td>NaN</td>\n",
       "      <td>73.000000</td>\n",
       "      <td>3.000000</td>\n",
       "      <td>4.000000</td>\n",
       "      <td>1.000000</td>\n",
       "      <td>NaN</td>\n",
       "    </tr>\n",
       "  </tbody>\n",
       "</table>\n",
       "</div>"
      ],
      "text/plain": [
       "          children  days_employed    dob_years  education_id  \\\n",
       "count  2174.000000            0.0  2174.000000   2174.000000   \n",
       "mean      0.552438            NaN    43.632015      0.800828   \n",
       "std       1.469356            NaN    12.531481      0.530157   \n",
       "min      -1.000000            NaN     0.000000      0.000000   \n",
       "25%       0.000000            NaN    34.000000      0.250000   \n",
       "50%       0.000000            NaN    43.000000      1.000000   \n",
       "75%       1.000000            NaN    54.000000      1.000000   \n",
       "max      20.000000            NaN    73.000000      3.000000   \n",
       "\n",
       "       family_status_id         debt  total_income  \n",
       "count       2174.000000  2174.000000           0.0  \n",
       "mean           0.975161     0.078197           NaN  \n",
       "std            1.418220     0.268543           NaN  \n",
       "min            0.000000     0.000000           NaN  \n",
       "25%            0.000000     0.000000           NaN  \n",
       "50%            0.000000     0.000000           NaN  \n",
       "75%            1.000000     0.000000           NaN  \n",
       "max            4.000000     1.000000           NaN  "
      ]
     },
     "execution_count": 150,
     "metadata": {},
     "output_type": "execute_result"
    }
   ],
   "source": [
    "# Comprobación de la distribución\n",
    "\n",
    "## imprimimos la edad\n",
    "dfl1.describe()"
   ]
  },
  {
   "cell_type": "markdown",
   "metadata": {},
   "source": [
    "**Observaciones**:\n",
    "+ Se puede ver que hay un patrón muy fuerte entre las columnas ,donde `days_employed` esta vacío  también lo está la columna `total_income`. Es posible que en el Registro de Datos o durante el procesamiento de estos ocurra un error que los haga aparecer como vacíos.\n",
    "+ Se concluye que los valores ausentes no siguen un patrón es especifico por lo que debe de continuar con los siguientes pasos. \n",
    "+ Posiblemente los valores ausentes se dieron al ingreso de los datos.\n"
   ]
  },
  {
   "cell_type": "code",
   "execution_count": 151,
   "metadata": {
    "scrolled": false
   },
   "outputs": [
    {
     "data": {
      "text/html": [
       "<div>\n",
       "<style scoped>\n",
       "    .dataframe tbody tr th:only-of-type {\n",
       "        vertical-align: middle;\n",
       "    }\n",
       "\n",
       "    .dataframe tbody tr th {\n",
       "        vertical-align: top;\n",
       "    }\n",
       "\n",
       "    .dataframe thead th {\n",
       "        text-align: right;\n",
       "    }\n",
       "</style>\n",
       "<table border=\"1\" class=\"dataframe\">\n",
       "  <thead>\n",
       "    <tr style=\"text-align: right;\">\n",
       "      <th></th>\n",
       "      <th>children</th>\n",
       "      <th>days_employed</th>\n",
       "      <th>dob_years</th>\n",
       "      <th>education_id</th>\n",
       "      <th>family_status_id</th>\n",
       "      <th>debt</th>\n",
       "      <th>total_income</th>\n",
       "    </tr>\n",
       "  </thead>\n",
       "  <tbody>\n",
       "    <tr>\n",
       "      <th>count</th>\n",
       "      <td>21525.000000</td>\n",
       "      <td>19351.000000</td>\n",
       "      <td>21525.000000</td>\n",
       "      <td>21525.000000</td>\n",
       "      <td>21525.000000</td>\n",
       "      <td>21525.000000</td>\n",
       "      <td>19351.000000</td>\n",
       "    </tr>\n",
       "    <tr>\n",
       "      <th>mean</th>\n",
       "      <td>0.538908</td>\n",
       "      <td>63046.497661</td>\n",
       "      <td>43.293380</td>\n",
       "      <td>0.817236</td>\n",
       "      <td>0.972544</td>\n",
       "      <td>0.080883</td>\n",
       "      <td>26787.568355</td>\n",
       "    </tr>\n",
       "    <tr>\n",
       "      <th>std</th>\n",
       "      <td>1.381587</td>\n",
       "      <td>140827.311974</td>\n",
       "      <td>12.574584</td>\n",
       "      <td>0.548138</td>\n",
       "      <td>1.420324</td>\n",
       "      <td>0.272661</td>\n",
       "      <td>16475.450632</td>\n",
       "    </tr>\n",
       "    <tr>\n",
       "      <th>min</th>\n",
       "      <td>-1.000000</td>\n",
       "      <td>-18388.949901</td>\n",
       "      <td>0.000000</td>\n",
       "      <td>0.000000</td>\n",
       "      <td>0.000000</td>\n",
       "      <td>0.000000</td>\n",
       "      <td>3306.762000</td>\n",
       "    </tr>\n",
       "    <tr>\n",
       "      <th>25%</th>\n",
       "      <td>0.000000</td>\n",
       "      <td>-2747.423625</td>\n",
       "      <td>33.000000</td>\n",
       "      <td>1.000000</td>\n",
       "      <td>0.000000</td>\n",
       "      <td>0.000000</td>\n",
       "      <td>16488.504500</td>\n",
       "    </tr>\n",
       "    <tr>\n",
       "      <th>50%</th>\n",
       "      <td>0.000000</td>\n",
       "      <td>-1203.369529</td>\n",
       "      <td>42.000000</td>\n",
       "      <td>1.000000</td>\n",
       "      <td>0.000000</td>\n",
       "      <td>0.000000</td>\n",
       "      <td>23202.870000</td>\n",
       "    </tr>\n",
       "    <tr>\n",
       "      <th>75%</th>\n",
       "      <td>1.000000</td>\n",
       "      <td>-291.095954</td>\n",
       "      <td>53.000000</td>\n",
       "      <td>1.000000</td>\n",
       "      <td>1.000000</td>\n",
       "      <td>0.000000</td>\n",
       "      <td>32549.611000</td>\n",
       "    </tr>\n",
       "    <tr>\n",
       "      <th>max</th>\n",
       "      <td>20.000000</td>\n",
       "      <td>401755.400475</td>\n",
       "      <td>75.000000</td>\n",
       "      <td>4.000000</td>\n",
       "      <td>4.000000</td>\n",
       "      <td>1.000000</td>\n",
       "      <td>362496.645000</td>\n",
       "    </tr>\n",
       "  </tbody>\n",
       "</table>\n",
       "</div>"
      ],
      "text/plain": [
       "           children  days_employed     dob_years  education_id  \\\n",
       "count  21525.000000   19351.000000  21525.000000  21525.000000   \n",
       "mean       0.538908   63046.497661     43.293380      0.817236   \n",
       "std        1.381587  140827.311974     12.574584      0.548138   \n",
       "min       -1.000000  -18388.949901      0.000000      0.000000   \n",
       "25%        0.000000   -2747.423625     33.000000      1.000000   \n",
       "50%        0.000000   -1203.369529     42.000000      1.000000   \n",
       "75%        1.000000    -291.095954     53.000000      1.000000   \n",
       "max       20.000000  401755.400475     75.000000      4.000000   \n",
       "\n",
       "       family_status_id          debt   total_income  \n",
       "count      21525.000000  21525.000000   19351.000000  \n",
       "mean           0.972544      0.080883   26787.568355  \n",
       "std            1.420324      0.272661   16475.450632  \n",
       "min            0.000000      0.000000    3306.762000  \n",
       "25%            0.000000      0.000000   16488.504500  \n",
       "50%            0.000000      0.000000   23202.870000  \n",
       "75%            1.000000      0.000000   32549.611000  \n",
       "max            4.000000      1.000000  362496.645000  "
      ]
     },
     "execution_count": 151,
     "metadata": {},
     "output_type": "execute_result"
    }
   ],
   "source": [
    "# Comprobando la distribución en el conjunto de datos entero\n",
    "\n",
    "df.describe()"
   ]
  },
  {
   "cell_type": "markdown",
   "metadata": {},
   "source": [
    "**Conclusión intermedia `Estudiante:`** \n",
    "\n",
    "+ Al comparar la distribución de datos del conjunto entero del DataFrame con valores vacíos, se puede apreciar que:\n",
    "    - Los valores de las columnas se parecen mucho, excepto en la columnas donde hay valores vacíos.\n",
    "+ Al apreciar la distribución de ambas se nota que no hay mucha diferencia ni varianza en los valores de las columnas no vacías.\n",
    "+ No son aleatorios los valores vacíos, al parecer. Porque se concluyó que la misma cantidad de valores vacíos de la columna `days_employed\t` es igual al de la columna `total_income`.\n",
    "\n"
   ]
  },
  {
   "cell_type": "code",
   "execution_count": 152,
   "metadata": {
    "scrolled": false
   },
   "outputs": [
    {
     "name": "stdout",
     "output_type": "stream",
     "text": [
      "tabla original:\n",
      "            children  days_employed     dob_years  education_id  \\\n",
      "count  21525.000000   19351.000000  21525.000000  21525.000000   \n",
      "mean       0.538908   63046.497661     43.293380      0.817236   \n",
      "std        1.381587  140827.311974     12.574584      0.548138   \n",
      "min       -1.000000  -18388.949901      0.000000      0.000000   \n",
      "25%        0.000000   -2747.423625     33.000000      1.000000   \n",
      "50%        0.000000   -1203.369529     42.000000      1.000000   \n",
      "75%        1.000000    -291.095954     53.000000      1.000000   \n",
      "max       20.000000  401755.400475     75.000000      4.000000   \n",
      "\n",
      "       family_status_id          debt   total_income  \n",
      "count      21525.000000  21525.000000   19351.000000  \n",
      "mean           0.972544      0.080883   26787.568355  \n",
      "std            1.420324      0.272661   16475.450632  \n",
      "min            0.000000      0.000000    3306.762000  \n",
      "25%            0.000000      0.000000   16488.504500  \n",
      "50%            0.000000      0.000000   23202.870000  \n",
      "75%            1.000000      0.000000   32549.611000  \n",
      "max            4.000000      1.000000  362496.645000  \n",
      "tabla filtrada:\n",
      "\n"
     ]
    },
    {
     "data": {
      "text/html": [
       "<div>\n",
       "<style scoped>\n",
       "    .dataframe tbody tr th:only-of-type {\n",
       "        vertical-align: middle;\n",
       "    }\n",
       "\n",
       "    .dataframe tbody tr th {\n",
       "        vertical-align: top;\n",
       "    }\n",
       "\n",
       "    .dataframe thead th {\n",
       "        text-align: right;\n",
       "    }\n",
       "</style>\n",
       "<table border=\"1\" class=\"dataframe\">\n",
       "  <thead>\n",
       "    <tr style=\"text-align: right;\">\n",
       "      <th></th>\n",
       "      <th>children</th>\n",
       "      <th>days_employed</th>\n",
       "      <th>dob_years</th>\n",
       "      <th>education_id</th>\n",
       "      <th>family_status_id</th>\n",
       "      <th>debt</th>\n",
       "      <th>total_income</th>\n",
       "    </tr>\n",
       "  </thead>\n",
       "  <tbody>\n",
       "    <tr>\n",
       "      <th>count</th>\n",
       "      <td>2174.000000</td>\n",
       "      <td>0.0</td>\n",
       "      <td>2174.000000</td>\n",
       "      <td>2174.000000</td>\n",
       "      <td>2174.000000</td>\n",
       "      <td>2174.000000</td>\n",
       "      <td>0.0</td>\n",
       "    </tr>\n",
       "    <tr>\n",
       "      <th>mean</th>\n",
       "      <td>0.552438</td>\n",
       "      <td>NaN</td>\n",
       "      <td>43.632015</td>\n",
       "      <td>0.800828</td>\n",
       "      <td>0.975161</td>\n",
       "      <td>0.078197</td>\n",
       "      <td>NaN</td>\n",
       "    </tr>\n",
       "    <tr>\n",
       "      <th>std</th>\n",
       "      <td>1.469356</td>\n",
       "      <td>NaN</td>\n",
       "      <td>12.531481</td>\n",
       "      <td>0.530157</td>\n",
       "      <td>1.418220</td>\n",
       "      <td>0.268543</td>\n",
       "      <td>NaN</td>\n",
       "    </tr>\n",
       "    <tr>\n",
       "      <th>min</th>\n",
       "      <td>-1.000000</td>\n",
       "      <td>NaN</td>\n",
       "      <td>0.000000</td>\n",
       "      <td>0.000000</td>\n",
       "      <td>0.000000</td>\n",
       "      <td>0.000000</td>\n",
       "      <td>NaN</td>\n",
       "    </tr>\n",
       "    <tr>\n",
       "      <th>25%</th>\n",
       "      <td>0.000000</td>\n",
       "      <td>NaN</td>\n",
       "      <td>34.000000</td>\n",
       "      <td>0.250000</td>\n",
       "      <td>0.000000</td>\n",
       "      <td>0.000000</td>\n",
       "      <td>NaN</td>\n",
       "    </tr>\n",
       "    <tr>\n",
       "      <th>50%</th>\n",
       "      <td>0.000000</td>\n",
       "      <td>NaN</td>\n",
       "      <td>43.000000</td>\n",
       "      <td>1.000000</td>\n",
       "      <td>0.000000</td>\n",
       "      <td>0.000000</td>\n",
       "      <td>NaN</td>\n",
       "    </tr>\n",
       "    <tr>\n",
       "      <th>75%</th>\n",
       "      <td>1.000000</td>\n",
       "      <td>NaN</td>\n",
       "      <td>54.000000</td>\n",
       "      <td>1.000000</td>\n",
       "      <td>1.000000</td>\n",
       "      <td>0.000000</td>\n",
       "      <td>NaN</td>\n",
       "    </tr>\n",
       "    <tr>\n",
       "      <th>max</th>\n",
       "      <td>20.000000</td>\n",
       "      <td>NaN</td>\n",
       "      <td>73.000000</td>\n",
       "      <td>3.000000</td>\n",
       "      <td>4.000000</td>\n",
       "      <td>1.000000</td>\n",
       "      <td>NaN</td>\n",
       "    </tr>\n",
       "  </tbody>\n",
       "</table>\n",
       "</div>"
      ],
      "text/plain": [
       "          children  days_employed    dob_years  education_id  \\\n",
       "count  2174.000000            0.0  2174.000000   2174.000000   \n",
       "mean      0.552438            NaN    43.632015      0.800828   \n",
       "std       1.469356            NaN    12.531481      0.530157   \n",
       "min      -1.000000            NaN     0.000000      0.000000   \n",
       "25%       0.000000            NaN    34.000000      0.250000   \n",
       "50%       0.000000            NaN    43.000000      1.000000   \n",
       "75%       1.000000            NaN    54.000000      1.000000   \n",
       "max      20.000000            NaN    73.000000      3.000000   \n",
       "\n",
       "       family_status_id         debt  total_income  \n",
       "count       2174.000000  2174.000000           0.0  \n",
       "mean           0.975161     0.078197           NaN  \n",
       "std            1.418220     0.268543           NaN  \n",
       "min            0.000000     0.000000           NaN  \n",
       "25%            0.000000     0.000000           NaN  \n",
       "50%            0.000000     0.000000           NaN  \n",
       "75%            1.000000     0.000000           NaN  \n",
       "max            4.000000     1.000000           NaN  "
      ]
     },
     "execution_count": 152,
     "metadata": {},
     "output_type": "execute_result"
    }
   ],
   "source": [
    "# Comprueba otras razones y patrones que podrían llevar a valores ausentes\n",
    "\n",
    "##tabla original\n",
    "print('tabla original:\\n',df.describe())\n",
    "\n",
    "## tabla filtrada\n",
    "print('tabla filtrada:\\n')\n",
    "dfl1l2.describe()"
   ]
  },
  {
   "cell_type": "markdown",
   "metadata": {},
   "source": [
    "**Conclusión intermedia**\n",
    "\n",
    "\n",
    "+ Se nota que los valores no pueden ser 100 % accidentales , Existe un patrón.\n",
    "+ Es la misma cantidad de valores ausente que la columna `total_income`\n",
    "+ La misma cantidad de valores ausentes en dichas columnas `total_income` y `days_employed` por lo tanto que si se tratan los mismos estos completarían el DataSet.\n"
   ]
  },
  {
   "cell_type": "markdown",
   "metadata": {},
   "source": [
    "<div class=\"alert alert-block alert-warning\">\n",
    "<b>Comentario del revisor</b> <a class=\"tocSkip\"></a>\n",
    "    \n",
    "En este punto sí puedes concluir que son simétricos.\n",
    "</div>"
   ]
  },
  {
   "cell_type": "markdown",
   "metadata": {},
   "source": [
    "<div class=\"alert alert-block alert-info\">\n",
    "<b>Respuesta del estudiante</b> <br>\n",
    "    Listo. \n",
    "    <a class=\"tocSkip\"></a>\n",
    "</div>\n"
   ]
  },
  {
   "cell_type": "markdown",
   "metadata": {},
   "source": [
    "\n",
    "**Conclusión de la Sección** <a class=\"anchor\" id=\"exploracionConclusion\"></a>\n",
    "\n",
    "   __Tratamiento de Datos__:\n",
    "\n",
    "1. Se concluye que no hay un patrón en específico para este caso , porque al comparar los valores filtrados con la tabla original , se encontró que no difieren demasiado utilizando `df.describe()`\n",
    "2. Abordaje de Valores Ausentes\n",
    "    - se deben de sustituir los valores numéricos por un valor representativo.\n",
    "    - o agruparlos por un valor categórico.\n",
    "3. Transformación de datos.\n",
    "    - se eliminará los duplicados.\n",
    "    - se cambiará los tipos de ser necesario.\n",
    "    - se rellenará los valores ausentes\n",
    "\n",
    "    \n",
    " "
   ]
  },
  {
   "cell_type": "markdown",
   "metadata": {},
   "source": [
    "<div class=\"alert alert-block alert-danger\">\n",
    "<b>Comentario del revisor</b> <a class=\"tocSkip\"></a>\n",
    "    \n",
    "Es necesario que, para concluir si hay aleatoriedad o no en la existencia de los datos ausentes, compruebes las distribuciones por separado de algunas variables con y sin datos ausentes. Esto lo puedes hacer con el método `value_counts` pasándole el argumento `normalize=True`. Si los porcentajes difieren significativamente en alguna variable, se puede concluir que la razón depende de esa variable. Si no hay diferencias para ninguna, sí se puede concluir que son aleatorios.\n",
    "</div>"
   ]
  },
  {
   "cell_type": "markdown",
   "metadata": {},
   "source": [
    "<div class=\"alert alert-block alert-info\">\n",
    "<b>Respuesta del estudiante</b> <br>\n",
    "    Listo. Se agrego el `value_counts` , lo que justifica la Aletoriedad.\n",
    "    <a class=\"tocSkip\"></a>\n",
    "</div>\n"
   ]
  },
  {
   "cell_type": "markdown",
   "metadata": {},
   "source": [
    "<div class=\"alert alert-block alert-danger\">\n",
    "<b>Comentario del revisor #2</b> <a class=\"tocSkip\"></a>\n",
    "    \n",
    "Debemos trabajar un poco en esta sección:\n",
    "    \n",
    "1. Debes crear dos dataframes: uno con datos faltantes y otro sin datos faltantes.\n",
    "    \n",
    "2. Piensa en algunas columnas que pueden tener relación con los datos faltantes. Te puedo sugerir `income_type`, `family_status`, `debt` y `gender`.\n",
    "    \n",
    "3. Para cada dataframe debes utilizar el método `value_counts` pasándole el argumento `normalize=True` para cada columna. Por ejemplo, si se quiere analizar `income_type`, podemos escribir:\n",
    "    \n",
    "```python\n",
    "   df['income_type'].value_counts(normalize=True)\n",
    "   df_not_na['income_type'].value_counts(normalize=True)\n",
    "```\n",
    "    \n",
    "Si existe alguna diferencia significativa entre estos dos resultados, se puede concluir que los datos faltantes tienen alguna relación con la columna en cuestión. Recuerda aplicarlo a cada columna y concluir sobre lo encontrado.\n",
    "</div>"
   ]
  },
  {
   "cell_type": "markdown",
   "metadata": {},
   "source": [
    "<div class=\"alert alert-block alert-info\">\n",
    "<b>Respuesta del estudiante #2</b> <br>\n",
    "    Listo. Se elimino la celda incorrecta y se hizo una comparacion entre solo valores nulos y no nulos. agrupados por `income_type`. Se lo hace a continuacion:\n",
    "    <a class=\"tocSkip\"></a>\n",
    "</div>\n"
   ]
  },
  {
   "cell_type": "code",
   "execution_count": 153,
   "metadata": {
    "scrolled": true
   },
   "outputs": [
    {
     "name": "stdout",
     "output_type": "stream",
     "text": [
      "Distribución de income_type en dataframe con valores ausentes de days_employed: \n",
      " employee         0.508280\n",
      "business         0.233671\n",
      "retiree          0.189972\n",
      "civil servant    0.067617\n",
      "entrepreneur     0.000460\n",
      "Name: income_type, dtype: float64 \n",
      "\n",
      "Distribución de income_type en dataframe sin valores ausentes de days_employed: \n",
      " employee                       0.517493\n",
      "business                       0.236525\n",
      "retiree                        0.177924\n",
      "civil servant                  0.067800\n",
      "unemployed                     0.000103\n",
      "student                        0.000052\n",
      "entrepreneur                   0.000052\n",
      "paternity / maternity leave    0.000052\n",
      "Name: income_type, dtype: float64\n"
     ]
    }
   ],
   "source": [
    "# Crear dataframe con valores ausentes en la columna 'days_employed' y 'total_income'\n",
    "df_solo_nulos_days_employed= df[df['days_employed'].isnull()]\n",
    "\n",
    "# Crear dataframe sin valores ausentes en la columna 'days_employed' y 'total_income'\n",
    "df_sin_nulos_days_employed= df.dropna(subset=['days_employed'])\n",
    "\n",
    "# Analizar la distribución de income_type en ambos dataframes\n",
    "print(\"Distribución de income_type en dataframe con valores ausentes de days_employed: \\n\", df_solo_nulos_days_employed['income_type'].value_counts(normalize=True),\"\\n\")\n",
    "print(\"Distribución de income_type en dataframe sin valores ausentes de days_employed: \\n\", df_sin_nulos_days_employed['income_type'].value_counts(normalize=True))\n"
   ]
  },
  {
   "cell_type": "code",
   "execution_count": 154,
   "metadata": {
    "scrolled": true
   },
   "outputs": [
    {
     "name": "stdout",
     "output_type": "stream",
     "text": [
      "Distribución de income_type en dataframe con valores ausentes de total_income: \n",
      " employee         0.508280\n",
      "business         0.233671\n",
      "retiree          0.189972\n",
      "civil servant    0.067617\n",
      "entrepreneur     0.000460\n",
      "Name: income_type, dtype: float64 \n",
      "\n",
      "Distribución de income_type en dataframe sin valores ausentes de total_income: \n",
      " employee                       0.517493\n",
      "business                       0.236525\n",
      "retiree                        0.177924\n",
      "civil servant                  0.067800\n",
      "unemployed                     0.000103\n",
      "student                        0.000052\n",
      "entrepreneur                   0.000052\n",
      "paternity / maternity leave    0.000052\n",
      "Name: income_type, dtype: float64\n"
     ]
    }
   ],
   "source": [
    "# Crear dataframe con valores ausentes en la columna 'days_employed' y 'total_income'\n",
    "df_solo_nulos_total_income= df[df['total_income'].isnull()]\n",
    "\n",
    "# Crear dataframe sin valores ausentes en la columna 'days_employed' y 'total_income'\n",
    "df_sin_nulos_total_income= df.dropna(subset=['total_income'])\n",
    "\n",
    "# Analizar la distribución de income_type en ambos dataframes\n",
    "print(\"Distribución de income_type en dataframe con valores ausentes de total_income: \\n\", df_solo_nulos_days_employed['income_type'].value_counts(normalize=True),\"\\n\")\n",
    "print(\"Distribución de income_type en dataframe sin valores ausentes de total_income: \\n\", df_sin_nulos_days_employed['income_type'].value_counts(normalize=True))\n"
   ]
  },
  {
   "cell_type": "markdown",
   "metadata": {},
   "source": [
    "Se sabe que la distribución con valores nulos y no nulos son aproximadamente simétricos , por lo que se concluye que existe algún tipo de simetría."
   ]
  },
  {
   "cell_type": "markdown",
   "metadata": {},
   "source": [
    "- [__Click para ir a la Tabla de Contenidos__](#tablacontenido)"
   ]
  },
  {
   "cell_type": "markdown",
   "metadata": {},
   "source": [
    "# 02 Transformación de datos <a class=\"anchor\" id=\"transformacion\"></a>\n",
    "\n",
    "En esta etapa vamos a Dar un tratamiento a Datos que puedan interferir con la calidad de los mismos durante su análisis."
   ]
  },
  {
   "cell_type": "code",
   "execution_count": 155,
   "metadata": {
    "scrolled": false
   },
   "outputs": [
    {
     "name": "stdout",
     "output_type": "stream",
     "text": [
      "<class 'pandas.core.frame.DataFrame'>\n",
      "RangeIndex: 21525 entries, 0 to 21524\n",
      "Data columns (total 12 columns):\n",
      " #   Column            Non-Null Count  Dtype  \n",
      "---  ------            --------------  -----  \n",
      " 0   children          21525 non-null  int64  \n",
      " 1   days_employed     19351 non-null  float64\n",
      " 2   dob_years         21525 non-null  int64  \n",
      " 3   education         21525 non-null  object \n",
      " 4   education_id      21525 non-null  int64  \n",
      " 5   family_status     21525 non-null  object \n",
      " 6   family_status_id  21525 non-null  int64  \n",
      " 7   gender            21525 non-null  object \n",
      " 8   income_type       21525 non-null  object \n",
      " 9   debt              21525 non-null  int64  \n",
      " 10  total_income      19351 non-null  float64\n",
      " 11  purpose           21525 non-null  object \n",
      "dtypes: float64(2), int64(5), object(5)\n",
      "memory usage: 2.0+ MB\n",
      "[\"bachelor's degree\" 'secondary education' 'Secondary Education'\n",
      " 'SECONDARY EDUCATION' \"BACHELOR'S DEGREE\" 'some college'\n",
      " 'primary education' \"Bachelor's Degree\" 'SOME COLLEGE' 'Some College'\n",
      " 'PRIMARY EDUCATION' 'Primary Education' 'Graduate Degree'\n",
      " 'GRADUATE DEGREE' 'graduate degree']\n"
     ]
    }
   ],
   "source": [
    "# Veamos todos los valores en la columna de educación para verificar si será necesario corregir la ortografía y qué habrá que corregir exactamente\n",
    "\n",
    "df.info()\n",
    "df['education'].describe()\n",
    "print(df['education'].unique())"
   ]
  },
  {
   "cell_type": "code",
   "execution_count": 156,
   "metadata": {
    "scrolled": true
   },
   "outputs": [],
   "source": [
    "# Arregla los registros si es necesario\n",
    "df['education'] = df['education'].str.lower()"
   ]
  },
  {
   "cell_type": "code",
   "execution_count": 157,
   "metadata": {
    "scrolled": false
   },
   "outputs": [
    {
     "name": "stdout",
     "output_type": "stream",
     "text": [
      "[\"bachelor's degree\" 'secondary education' 'some college'\n",
      " 'primary education' 'graduate degree']\n"
     ]
    }
   ],
   "source": [
    "# Comprobar todos los valores en la columna para asegurarnos de que los hayamos corregido\n",
    "\n",
    "print(df['education'].unique())"
   ]
  },
  {
   "cell_type": "markdown",
   "metadata": {},
   "source": [
    "<div class=\"alert alert-block alert-success\">\n",
    "<b>Comentario del revisor</b> <a class=\"tocSkip\"></a>\n",
    "    \n",
    "Buen trabajo.\n",
    "</div>"
   ]
  },
  {
   "cell_type": "markdown",
   "metadata": {},
   "source": [
    "Datos de la columna `children`:"
   ]
  },
  {
   "cell_type": "code",
   "execution_count": 158,
   "metadata": {
    "scrolled": false
   },
   "outputs": [
    {
     "data": {
      "text/plain": [
       "count    21525.000000\n",
       "mean         0.538908\n",
       "std          1.381587\n",
       "min         -1.000000\n",
       "25%          0.000000\n",
       "50%          0.000000\n",
       "75%          1.000000\n",
       "max         20.000000\n",
       "Name: children, dtype: float64"
      ]
     },
     "execution_count": 158,
     "metadata": {},
     "output_type": "execute_result"
    }
   ],
   "source": [
    "# Veamos la distribución de los valores en la columna `children`\n",
    "df['children'].describe()"
   ]
  },
  {
   "cell_type": "markdown",
   "metadata": {},
   "source": [
    "Vamos a ver si esta Columna Resulta problemática por lo que vamos a ver cuantos valores erróneos puede Presentar."
   ]
  },
  {
   "cell_type": "code",
   "execution_count": 159,
   "metadata": {
    "scrolled": false
   },
   "outputs": [
    {
     "name": "stdout",
     "output_type": "stream",
     "text": [
      "valores menores que 0: \n",
      " 47\n",
      "valores iguales a 20: \n",
      " 76\n"
     ]
    }
   ],
   "source": [
    "# [arregla los datos según tu decisión]\n",
    "\n",
    "\n",
    "\n",
    "##vemos que hay valores de -1 \n",
    "dfl2=df.loc[df['children']<0 ,:]\n",
    "print('valores menores que 0: \\n',len(dfl2))\n",
    "\n",
    "###valores igual a 20\n",
    "dfl2_=df.loc[df['children']==20,:]\n",
    "print('valores iguales a 20: \\n',len(dfl2_))\n",
    "\n",
    "\n",
    "###numero de valores erronesos\n",
    "numero_erroneo_children=len(dfl2)+len(dfl2_)\n",
    "\n",
    "##vemos que mayores que 9  \n",
    "#dfl3=df.loc[df['children']>=9 ,:]\n",
    "#print('valores mayores o iguales a 9: \\n',len(dfl3))\n",
    "\n",
    "###correccion\n",
    "df['children']=abs(df['children']) ##aplicar el valor absoluto\n",
    "\n",
    "\n",
    "\n",
    "### para children se creara una funcion para alterar unicamente esa columna\n",
    "\n",
    "\"\"\"\n",
    "def arreglar_children_igual_de_20(hijos):\n",
    "    hijos_retorno=hijos\n",
    "    if hijos == 20:\n",
    "        hijos_retorno=2\n",
    "        return hijos_retorno\n",
    "\n",
    "    return hijos_retorno\n",
    "\"\"\"\n",
    "\n",
    "#df['children']= df['children'].apply(arreglar_children_igual_de_20)\n",
    "df['children'] = df['children'].replace(20, 2)"
   ]
  },
  {
   "cell_type": "markdown",
   "metadata": {},
   "source": [
    "<div class=\"alert alert-block alert-warning\">\n",
    "<b>Comentario del revisor #2</b> <a class=\"tocSkip\"></a>\n",
    "    \n",
    "Esto lo puedes hacer más fácil con el método `replace`.\n",
    "</div>"
   ]
  },
  {
   "cell_type": "markdown",
   "metadata": {},
   "source": [
    "<div class=\"alert alert-block alert-info\">\n",
    "<b>Respuesta del estudiante #2</b> <br>\n",
    "    Listo. se comento el codigo.\n",
    "    <a class=\"tocSkip\"></a>\n",
    "</div>\n"
   ]
  },
  {
   "cell_type": "markdown",
   "metadata": {},
   "source": [
    "+ Comprobación si hay valores erróneos después de la corrección."
   ]
  },
  {
   "cell_type": "code",
   "execution_count": 160,
   "metadata": {
    "scrolled": true
   },
   "outputs": [
    {
     "name": "stdout",
     "output_type": "stream",
     "text": [
      "valores menores que 0: \n",
      " 0\n",
      "valores iguales a 20: \n",
      " 0\n",
      "Porcentaje de Valores Errorneos de la Columna children: 0.00%\n"
     ]
    }
   ],
   "source": [
    "df['children'].describe()\n",
    "\n",
    "##vemos que hay valores de -1 \n",
    "dfl2=df.loc[df['children']<0 ,:]\n",
    "print('valores menores que 0: \\n',len(dfl2))\n",
    "\n",
    "###valores igual a 20 comprobacion\n",
    "dfl2_=df.loc[df['children']==20,:]\n",
    "print('valores iguales a 20: \\n',len(dfl2_))\n",
    "\n",
    "\n",
    "numero_erroneo_children=len(dfl2)+len(dfl2_)\n",
    "\n",
    "propocion_erroneo_children=numero_erroneo_children/len(df)\n",
    "print(f'Porcentaje de Valores Errorneos de la Columna children: {propocion_erroneo_children:.2%}')"
   ]
  },
  {
   "cell_type": "code",
   "execution_count": 161,
   "metadata": {
    "scrolled": false
   },
   "outputs": [
    {
     "name": "stdout",
     "output_type": "stream",
     "text": [
      "valores menores que 0: \n",
      " 0\n",
      "valores iguales a 20: \n",
      " 0\n"
     ]
    },
    {
     "data": {
      "text/plain": [
       "count    21525.000000\n",
       "mean         0.479721\n",
       "std          0.755528\n",
       "min          0.000000\n",
       "25%          0.000000\n",
       "50%          0.000000\n",
       "75%          1.000000\n",
       "max          5.000000\n",
       "Name: children, dtype: float64"
      ]
     },
     "execution_count": 161,
     "metadata": {},
     "output_type": "execute_result"
    }
   ],
   "source": [
    "# Comprobar la columna `children` de nuevo para asegurarnos de que todo está arreglado\n",
    "\n",
    "##vemos que hay valores de -1 \n",
    "dfl2=df.loc[df['children']<0 ,:]\n",
    "print('valores menores que 0: \\n',len(dfl2))\n",
    "\n",
    "###valores igual a 20\n",
    "dfl2_=df.loc[df['children']==20,:]\n",
    "print('valores iguales a 20: \\n',len(dfl2_))\n",
    "\n",
    "df['children'].describe()"
   ]
  },
  {
   "cell_type": "markdown",
   "metadata": {},
   "source": [
    "<div class=\"alert alert-block alert-success\">\n",
    "<b>Comentario del revisor</b> <a class=\"tocSkip\"></a>\n",
    "    \n",
    "Buen trabajo.\n",
    "</div>"
   ]
  },
  {
   "cell_type": "code",
   "execution_count": 162,
   "metadata": {
    "scrolled": true
   },
   "outputs": [
    {
     "data": {
      "text/plain": [
       "0    14149\n",
       "1     4865\n",
       "2     2131\n",
       "3      330\n",
       "4       41\n",
       "5        9\n",
       "Name: children, dtype: int64"
      ]
     },
     "execution_count": 162,
     "metadata": {},
     "output_type": "execute_result"
    }
   ],
   "source": [
    "df['children'].value_counts()"
   ]
  },
  {
   "cell_type": "code",
   "execution_count": 163,
   "metadata": {
    "scrolled": true
   },
   "outputs": [
    {
     "data": {
      "text/plain": [
       "array(['married', 'civil partnership', 'widow / widower', 'divorced',\n",
       "       'unmarried'], dtype=object)"
      ]
     },
     "execution_count": 163,
     "metadata": {},
     "output_type": "execute_result"
    }
   ],
   "source": [
    "df['family_status'].unique()"
   ]
  },
  {
   "cell_type": "markdown",
   "metadata": {},
   "source": [
    "\n",
    "Posiblemente la Columna `days_employed` puede presentar valores negativos por lo que hay que cambiarlos.\n",
    "También Es posible que tenga Valores nulos pero eso lo trataremos más adelante.\n"
   ]
  },
  {
   "cell_type": "code",
   "execution_count": 164,
   "metadata": {
    "scrolled": false
   },
   "outputs": [
    {
     "name": "stdout",
     "output_type": "stream",
     "text": [
      "count     19351.000000\n",
      "mean      63046.497661\n",
      "std      140827.311974\n",
      "min      -18388.949901\n",
      "25%       -2747.423625\n",
      "50%       -1203.369529\n",
      "75%        -291.095954\n",
      "max      401755.400475\n",
      "Name: days_employed, dtype: float64 \n",
      "\n",
      "porcentaje de valore negativos 73.90%\n"
     ]
    }
   ],
   "source": [
    "# Encuentra datos problemáticos en `days_employed`, si existen, y calcula el porcentaje\n",
    "print(df['days_employed'].describe(),'\\n')\n",
    "\n",
    "dfl4=df.loc[df['days_employed']<=0 ,:]\n",
    "\n",
    "percentaje_days_employed=len(dfl4)/len(df)\n",
    "\n",
    "print(f'porcentaje de valore negativos {percentaje_days_employed:.2%}')"
   ]
  },
  {
   "cell_type": "markdown",
   "metadata": {},
   "source": [
    "__Columna `days_employed`__\n",
    "\n",
    "Podemos observar que los valores menores que 0 o negativos cubren el 73% de los datos por lo que es demasiado Grande, En este caso , Hay que avisar al programado porque hay tantos valores de esta característica.\n",
    "\n",
    "+ En este caso Vamos a convertir los valores negativos de esta columna en valores positivos.\n",
    "\n",
    "También hay que considerar que podemos ver valores atípicos. Muy grandes.\n",
    "+ En este caso aplicaremos el filtro donde si el número de días se divide para 365 y esto resulta mayor que 50 entonces es un valor atípico.\n"
   ]
  },
  {
   "cell_type": "code",
   "execution_count": 165,
   "metadata": {
    "scrolled": false
   },
   "outputs": [
    {
     "name": "stdout",
     "output_type": "stream",
     "text": [
      "0         -8437.673028\n",
      "1         -4024.803754\n",
      "2         -5623.422610\n",
      "3         -4124.747207\n",
      "4        340266.072047\n",
      "             ...      \n",
      "21520     -4529.316663\n",
      "21521    343937.404131\n",
      "21522     -2113.346888\n",
      "21523     -3112.481705\n",
      "21524     -1984.507589\n",
      "Name: days_employed, Length: 21525, dtype: float64\n"
     ]
    }
   ],
   "source": [
    "# Aborda los valores problemáticos, si existen.\n",
    "\n",
    "\n",
    "### en este caso usaremos el valor absoluto para corregir los negativos, suponiendo que solo  el signo es la falla\n",
    "print(df['days_employed'])\n",
    "\n"
   ]
  },
  {
   "cell_type": "markdown",
   "metadata": {},
   "source": [
    "<div class=\"alert alert-block alert-success\">\n",
    "<b>Comentario del revisor</b> <a class=\"tocSkip\"></a>\n",
    "    \n",
    "Buen trabajo.\n",
    "</div>"
   ]
  },
  {
   "cell_type": "code",
   "execution_count": 166,
   "metadata": {
    "scrolled": false
   },
   "outputs": [
    {
     "name": "stdout",
     "output_type": "stream",
     "text": [
      "count     19351.000000\n",
      "mean      63046.497661\n",
      "std      140827.311974\n",
      "min      -18388.949901\n",
      "25%       -2747.423625\n",
      "50%       -1203.369529\n",
      "75%        -291.095954\n",
      "max      401755.400475\n",
      "Name: days_employed, dtype: float64\n",
      "\n",
      " porcentaje de valores negativos is 73.90%\n"
     ]
    }
   ],
   "source": [
    "# Comprueba el resultado - asegúrate de que esté arreglado\n",
    "\n",
    "print(df['days_employed'].describe())\n",
    "dfl4=df.loc[df['days_employed']<=0 ,:]\n",
    "\n",
    "percentaje_days_employed=len(dfl4)/len(df)\n",
    "print(f'\\n porcentaje de valores negativos is {percentaje_days_employed:.2%}')"
   ]
  },
  {
   "cell_type": "markdown",
   "metadata": {},
   "source": [
    "En este caso usaremos como criterio para los valores grandes y muy atípicos el valor de 365*50=18250."
   ]
  },
  {
   "cell_type": "code",
   "execution_count": 167,
   "metadata": {
    "scrolled": true
   },
   "outputs": [
    {
     "name": "stdout",
     "output_type": "stream",
     "text": [
      "Margen de valor atipico inferior -18250 y valor atipico superior 18250  \n",
      "\n",
      " porcentaje de valores atipicos es 16.01% antes de Corregir\n",
      "\n",
      " porcentaje de valores atipicos es 0.00% despues de Corregir\n"
     ]
    }
   ],
   "source": [
    "### correccion de valores Atipicos \n",
    "\n",
    "#### el criterio del margen es que el tiempo util de trabajo de una presona durante un año maximo es 50\n",
    "margen_atipico_positivo=365*50\n",
    "margen_atipico_negativo=-365*50\n",
    "\n",
    "\n",
    "print(f'Margen de valor atipico inferior {margen_atipico_negativo} y valor atipico superior {margen_atipico_positivo}  ')\n",
    "df_days_atipico_superior=df.query('days_employed>@margen_atipico_positivo')\n",
    "df_days_atipico_inferior=df.query('days_employed<@margen_atipico_negativo')\n",
    "\n",
    "days_atipico=len(df_days_atipico_superior)+len(df_days_atipico_inferior)\n",
    "#df.loc[df['days_employed']<=0 ,:]\n",
    "\n",
    "atipico_days_employed=days_atipico/len(df)\n",
    "print(f'\\n porcentaje de valores atipicos es {atipico_days_employed:.2%} antes de Corregir')\n",
    "\n",
    "\n",
    "############### Correcion\n",
    "def corregir_days_employed(days_employed):\n",
    "    \"\"\"\n",
    "    La funcion multiplica por 0.01 si el parametro sobrepasa el margen\n",
    "    \"\"\"\n",
    "    valor=days_employed\n",
    "    if margen_atipico_negativo<=days_employed >= margen_atipico_positivo:\n",
    "        valor=(valor/100)     \n",
    "    return valor\n",
    "\n",
    "df['days_employed'] = df['days_employed'].apply(corregir_days_employed)\n",
    "\n",
    "\n",
    "################\n",
    "\n",
    "df_days_atipico=df.query('@margen_atipico_negativo<days_employed>@margen_atipico_positivo')\n",
    "atipico_days_employed=len(df_days_atipico)/len(df)\n",
    "print(f'\\n porcentaje de valores atipicos es {atipico_days_employed:.2%} despues de Corregir')"
   ]
  },
  {
   "cell_type": "code",
   "execution_count": 168,
   "metadata": {},
   "outputs": [
    {
     "name": "stdout",
     "output_type": "stream",
     "text": [
      "count    19351.000000\n",
      "mean     -1284.309490\n",
      "std       3105.769115\n",
      "min     -18388.949901\n",
      "25%      -2747.423625\n",
      "50%      -1203.369529\n",
      "75%       -291.095954\n",
      "max       4017.554005\n",
      "Name: days_employed, dtype: float64\n"
     ]
    }
   ],
   "source": [
    "print(df['days_employed'].describe())"
   ]
  },
  {
   "cell_type": "markdown",
   "metadata": {},
   "source": [
    "Vamos a convertir los valores negativos a positivos."
   ]
  },
  {
   "cell_type": "code",
   "execution_count": 169,
   "metadata": {
    "scrolled": true
   },
   "outputs": [],
   "source": [
    "df['days_employed']=abs(df['days_employed'])\n",
    "\n"
   ]
  },
  {
   "cell_type": "code",
   "execution_count": 170,
   "metadata": {
    "scrolled": true
   },
   "outputs": [
    {
     "name": "stdout",
     "output_type": "stream",
     "text": [
      "count    19351.000000\n",
      "mean      2583.921756\n",
      "std       2149.032624\n",
      "min         24.141633\n",
      "25%        927.009265\n",
      "50%       2194.220567\n",
      "75%       3658.750303\n",
      "max      18388.949901\n",
      "Name: days_employed, dtype: float64\n"
     ]
    }
   ],
   "source": [
    "print(df['days_employed'].describe())"
   ]
  },
  {
   "cell_type": "markdown",
   "metadata": {},
   "source": [
    "<div class=\"alert alert-block alert-danger\">\n",
    "<b>Comentario del revisor</b> <a class=\"tocSkip\"></a>\n",
    "    \n",
    "Esta columna tiene tres problemas:\n",
    "    \n",
    "1. Datos ausentes\n",
    "2. Datos negativos\n",
    "3. Datos anormalmente grandes\n",
    "\n",
    "El primer problema lo abordarás más adelante, el segundo ya lo resolviste pero aún es necesario trabajar en el tercero.\n",
    "</div>"
   ]
  },
  {
   "cell_type": "markdown",
   "metadata": {},
   "source": [
    "<div class=\"alert alert-block alert-info\">\n",
    "    \n",
    "<b>Respuesta del estudiante</b>  <a class=\"tocSkip\"></a> <br>\n",
    "    Listo. Se corrigio los posibles valores atipicos de la columna 'days_employed' , Se lo hizo agregando una celda.\n",
    "</div>\n"
   ]
  },
  {
   "cell_type": "markdown",
   "metadata": {},
   "source": [
    "<div class=\"alert alert-block alert-danger\">\n",
    "<b>Comentario del revisor #2</b> <a class=\"tocSkip\"></a>\n",
    "    \n",
    "Todos los datos positivos, antes de la transformación de negativos a positivos son inconsistentes. Así que antes de aplicar valor absoluto, puedes hacer el tratamiento que planteas anteriormente.\n",
    "</div>"
   ]
  },
  {
   "cell_type": "markdown",
   "metadata": {},
   "source": [
    "<div class=\"alert alert-block alert-info\">\n",
    "    \n",
    "<b>Respuesta del estudiante #2 </b>  <a class=\"tocSkip\"></a> <br>\n",
    "    Listo. Se corrigio los posibles valores atipicos de la columna 'days_employed' , con el criterio de mayores de 50 años serian atipicos y su valor se reemplazara por su mismo valor dividido para 10. Se aplico el filtro de valores atipicos y despues se los convirtio en positivos como estaba aconsejado.\n",
    "</div>"
   ]
  },
  {
   "cell_type": "markdown",
   "metadata": {},
   "source": [
    "__Columna `dob_years`__ \n",
    "\n",
    "Revisando la Columna `dob_years` para encontrar posibles valores sospechosos."
   ]
  },
  {
   "cell_type": "code",
   "execution_count": 171,
   "metadata": {
    "scrolled": true
   },
   "outputs": [
    {
     "data": {
      "text/plain": [
       "count    21525.000000\n",
       "mean        43.293380\n",
       "std         12.574584\n",
       "min          0.000000\n",
       "25%         33.000000\n",
       "50%         42.000000\n",
       "75%         53.000000\n",
       "max         75.000000\n",
       "Name: dob_years, dtype: float64"
      ]
     },
     "execution_count": 171,
     "metadata": {},
     "output_type": "execute_result"
    }
   ],
   "source": [
    "# Revisa `dob_years` en busca de valores sospechosos y cuenta el porcentaje\n",
    "\n",
    "df['dob_years'].describe()"
   ]
  },
  {
   "cell_type": "markdown",
   "metadata": {},
   "source": [
    "**Revisando columna `dob_years`**\n",
    "\n",
    "+ Estos valores de deben convertir en enteros para ocupar menos espacio en memoria.\n",
    "+ Podemos ver un mínimo de 0 años lo que lo hace algo inusual.\n",
    "+ Notando se ve que los Años 0 son 100 datos.\n"
   ]
  },
  {
   "cell_type": "code",
   "execution_count": 172,
   "metadata": {
    "scrolled": false
   },
   "outputs": [
    {
     "name": "stdout",
     "output_type": "stream",
     "text": [
      "dob_year inusual: 101\n"
     ]
    }
   ],
   "source": [
    "# Resuelve los problemas en la columna `dob_years`, si existen\n",
    "\n",
    "\n",
    "## contar los anyos donde es 0 \n",
    "df_anyos_inusual=df.query('dob_years==0')\n",
    "print('dob_year inusual:',len(df_anyos_inusual))\n",
    "\n",
    "### Tratar valoes de 0, se sustituitan aquellos valores con un promedio de la edad basandose en la columna mas representativa\n",
    "### en este caso se utilizara la columna income_type\n",
    "\n",
    "df_retiree=df.query('income_type==\"retiree\"').query('dob_years !=0')\n",
    "df_business=df.query('income_type==\"business\"').query('dob_years !=0')\n",
    "df_employee=df.query('income_type==\"employee\"').query('dob_years !=0')\n",
    "df_civil_servant=df.query('income_type==\"civil servant\"').query('dob_years !=0')\n",
    "\n",
    "##### reemplazamos los valores por la media de la edad\n",
    "def corregir_anios_0(row):\n",
    "    edad = row['dob_years']\n",
    "    income_type = row['income_type']\n",
    "    retorno_edad=edad\n",
    "    if edad ==0:\n",
    "        if income_type=='retiree':\n",
    "            retorno_edad=df_retiree['dob_years'].median()\n",
    "            return round(retorno_edad)\n",
    "        if income_type=='business':\n",
    "            retorno_edad=df_business['dob_years'].median()\n",
    "            return round(retorno_edad)\n",
    "        if income_type=='employee':\n",
    "            retorno_edad=df_employee['dob_years'].median()\n",
    "            return round(retorno_edad) \n",
    "        if income_type=='civil servant':\n",
    "            retorno_edad=df_civil_servant['dob_years'].median()\n",
    "            return round(retorno_edad) \n",
    "    return edad\n",
    "            \n",
    "\n",
    "df['dob_years']=df.apply(corregir_anios_0,axis=1)\n",
    "\n",
    "###cambiar el tipo\n",
    "\n",
    "\n"
   ]
  },
  {
   "cell_type": "code",
   "execution_count": 173,
   "metadata": {
    "scrolled": false
   },
   "outputs": [
    {
     "name": "stdout",
     "output_type": "stream",
     "text": [
      "dob_year inusual: 0\n"
     ]
    },
    {
     "data": {
      "text/plain": [
       "count    21525.000000\n",
       "mean        43.496167\n",
       "std         12.231538\n",
       "min         19.000000\n",
       "25%         34.000000\n",
       "50%         43.000000\n",
       "75%         53.000000\n",
       "max         75.000000\n",
       "Name: dob_years, dtype: float64"
      ]
     },
     "execution_count": 173,
     "metadata": {},
     "output_type": "execute_result"
    }
   ],
   "source": [
    "# Comprueba el resultado - asegúrate de que esté arreglado\n",
    "df_anyos_inusual=df.query('dob_years==0')\n",
    "print('dob_year inusual:',len(df_anyos_inusual))\n",
    "\n",
    "\n",
    "df['dob_years'].describe()\n"
   ]
  },
  {
   "cell_type": "markdown",
   "metadata": {},
   "source": [
    "<div class=\"alert alert-block alert-danger\">\n",
    "<b>Comentario del revisor</b> <a class=\"tocSkip\"></a>\n",
    "    \n",
    "Dado que es un dataset de individuos con historial crediticio, el valor de 0 para los años es inusual y debe ser corregido. \n",
    "</div>"
   ]
  },
  {
   "cell_type": "markdown",
   "metadata": {},
   "source": [
    "<div class=\"alert alert-block alert-info\">\n",
    "    \n",
    "<b>Respuesta del estudiante</b>  <a class=\"tocSkip\"></a> <br>\n",
    "    Listo. Se trato los valores donde `dob_year`=0 , Se lo reeemplazo con la media de su equivalente en `income_type`\n",
    "    \n",
    "</div>"
   ]
  },
  {
   "cell_type": "markdown",
   "metadata": {},
   "source": [
    "<div class=\"alert alert-block alert-danger\">\n",
    "<b>Comentario del revisor #2</b> <a class=\"tocSkip\"></a>\n",
    "    \n",
    "Buen trabajo, pero cambia el estadístico `mean` por `median` será mejor dado que nuestros datos presentan una leve asimetría y además son discretos.\n",
    "</div>"
   ]
  },
  {
   "cell_type": "markdown",
   "metadata": {},
   "source": [
    "<div class=\"alert alert-block alert-info\">\n",
    "    \n",
    "<b>Respuesta del estudiante #2</b>  <a class=\"tocSkip\"></a> \n",
    "    \n",
    "Listo. Se trato los cambios el `mean()` por `median()`\n",
    "</div>"
   ]
  },
  {
   "cell_type": "markdown",
   "metadata": {},
   "source": [
    "__Revisando columna `family_status`__:\n",
    "+ El único error posible puede ser que no estén con el mismo formato de texto.\n",
    "+ También pude ser que haya valores que sean numéricos.\n"
   ]
  },
  {
   "cell_type": "code",
   "execution_count": 174,
   "metadata": {
    "scrolled": false
   },
   "outputs": [
    {
     "name": "stdout",
     "output_type": "stream",
     "text": [
      "count       21525\n",
      "unique          5\n",
      "top       married\n",
      "freq        12380\n",
      "Name: family_status, dtype: object\n"
     ]
    },
    {
     "data": {
      "text/plain": [
       "array(['married', 'civil partnership', 'widow / widower', 'divorced',\n",
       "       'unmarried'], dtype=object)"
      ]
     },
     "execution_count": 174,
     "metadata": {},
     "output_type": "execute_result"
    }
   ],
   "source": [
    "# Veamos los valores de la columna\n",
    "print(df['family_status'].describe())\n",
    "\n",
    "df['family_status'].unique()\n"
   ]
  },
  {
   "cell_type": "code",
   "execution_count": 175,
   "metadata": {
    "scrolled": true
   },
   "outputs": [
    {
     "data": {
      "text/plain": [
       "array(['married', 'civil partnership', 'widow / widower', 'divorced',\n",
       "       'unmarried'], dtype=object)"
      ]
     },
     "execution_count": 175,
     "metadata": {},
     "output_type": "execute_result"
    }
   ],
   "source": [
    "df['family_status'].unique()"
   ]
  },
  {
   "cell_type": "markdown",
   "metadata": {},
   "source": [
    "+ Podemos apreciar que no hay valores raros dentro de la columna."
   ]
  },
  {
   "cell_type": "code",
   "execution_count": 176,
   "metadata": {
    "scrolled": false
   },
   "outputs": [],
   "source": [
    "# Aborda los valores problemáticos en `family_status`, si existen\n",
    "\n",
    "\n",
    "\n",
    "##tenemos un valor string numerico , lo debemos reemplazar por su equivalente.  \n",
    "def reemplazar_family_status(row):\n",
    "    \"\"\"\n",
    "    funcion que cambia los valores enteros por su equivalente string\n",
    "    \"\"\"\n",
    "\n",
    "    family_status = row['family_status']\n",
    "    family_status_id = row['family_status_id']\n",
    "\n",
    "    if (isinstance(family_status,int)):\n",
    "        if family_status_id==0:\n",
    "            family_status='married'\n",
    "        if family_status_id==1:\n",
    "            family_status='civil partnership'\n",
    "        if family_status_id==2:\n",
    "            family_status='widow / widower'\n",
    "        if family_status_id==3:\n",
    "            family_status='divorced'\n",
    "        if family_status_id==4:\n",
    "            family_status='unmarried'\n",
    "            \n",
    "    return family_status\n",
    "    \n",
    "\n",
    "\n",
    "#df['family_status'] = df.apply(reemplazar_family_status, axis=1)\n",
    "\n",
    "\n"
   ]
  },
  {
   "cell_type": "code",
   "execution_count": 177,
   "metadata": {
    "scrolled": false
   },
   "outputs": [
    {
     "name": "stdout",
     "output_type": "stream",
     "text": [
      "count       21525\n",
      "unique          5\n",
      "top       married\n",
      "freq        12380\n",
      "Name: family_status, dtype: object\n"
     ]
    },
    {
     "data": {
      "text/plain": [
       "array(['married', 'civil partnership', 'widow / widower', 'divorced',\n",
       "       'unmarried'], dtype=object)"
      ]
     },
     "execution_count": 177,
     "metadata": {},
     "output_type": "execute_result"
    }
   ],
   "source": [
    "# Comprueba el resultado - asegúrate de que esté arreglado\n",
    "\n",
    "\n",
    "### podemos comprobar que eliminamos el numero de esa columna\n",
    "\n",
    "print(df['family_status'].describe())\n",
    "\n",
    "df['family_status'].unique()\n"
   ]
  },
  {
   "cell_type": "markdown",
   "metadata": {},
   "source": [
    "+ Tenemos que ya no hay valores enteros dentro de la columna por loque ya se ha corregido."
   ]
  },
  {
   "cell_type": "markdown",
   "metadata": {},
   "source": [
    "__Revisando columna `gender`:__\n",
    "\n",
    "+ Los posible valores erróneos de la columna `gender` son que existan un valores numéricos.\n"
   ]
  },
  {
   "cell_type": "code",
   "execution_count": 178,
   "metadata": {
    "scrolled": false
   },
   "outputs": [
    {
     "name": "stdout",
     "output_type": "stream",
     "text": [
      "count     21525\n",
      "unique        3\n",
      "top           F\n",
      "freq      14236\n",
      "Name: gender, dtype: object\n"
     ]
    },
    {
     "data": {
      "text/plain": [
       "array(['F', 'M', 'XNA'], dtype=object)"
      ]
     },
     "execution_count": 178,
     "metadata": {},
     "output_type": "execute_result"
    }
   ],
   "source": [
    "# Veamos los valores en la columna\n",
    "\n",
    "print(df['gender'].describe())\n",
    "\n",
    "\n",
    "df['gender'].unique()"
   ]
  },
  {
   "cell_type": "markdown",
   "metadata": {},
   "source": [
    "+ Podemos apreciar que no hay valores raros, Están la 3 categorías esperadas."
   ]
  },
  {
   "cell_type": "code",
   "execution_count": 179,
   "metadata": {
    "scrolled": false
   },
   "outputs": [],
   "source": [
    "# Aborda los valores problemáticos, si existen\n",
    "\n",
    "\n",
    "###se reemplazara con 'xna' los valores numericos.\n",
    "def reemplazar_gender(row):\n",
    "\n",
    "    gender= row['gender']\n",
    "    \n",
    "    \n",
    "    \n",
    "    if (isinstance(gender,int)):\n",
    "        gender='XNA'\n",
    "        \n",
    "    return gender\n",
    "    \n",
    "    \n",
    "    \n",
    "#df['gender'] = df.apply(reemplazar_gender, axis=1)\n",
    "    "
   ]
  },
  {
   "cell_type": "code",
   "execution_count": 180,
   "metadata": {
    "scrolled": false
   },
   "outputs": [
    {
     "name": "stdout",
     "output_type": "stream",
     "text": [
      "count     21525\n",
      "unique        3\n",
      "top           F\n",
      "freq      14236\n",
      "Name: gender, dtype: object\n"
     ]
    },
    {
     "data": {
      "text/plain": [
       "array(['F', 'M', 'XNA'], dtype=object)"
      ]
     },
     "execution_count": 180,
     "metadata": {},
     "output_type": "execute_result"
    }
   ],
   "source": [
    "# Comprueba el resultado - asegúrate de que esté arreglado\n",
    "\n",
    "print(df['gender'].describe())\n",
    "\n",
    "\n",
    "df['gender'].unique()\n"
   ]
  },
  {
   "cell_type": "markdown",
   "metadata": {},
   "source": [
    "__Revisando la columna `income_type`:__\n",
    "\n",
    "+ Vamos a revisar si hay valores raros dentro de la columna.\n",
    "\n"
   ]
  },
  {
   "cell_type": "code",
   "execution_count": 181,
   "metadata": {
    "scrolled": false
   },
   "outputs": [
    {
     "name": "stdout",
     "output_type": "stream",
     "text": [
      "count        21525\n",
      "unique           8\n",
      "top       employee\n",
      "freq         11119\n",
      "Name: income_type, dtype: object\n"
     ]
    },
    {
     "data": {
      "text/plain": [
       "array(['employee', 'retiree', 'business', 'civil servant', 'unemployed',\n",
       "       'entrepreneur', 'student', 'paternity / maternity leave'],\n",
       "      dtype=object)"
      ]
     },
     "execution_count": 181,
     "metadata": {},
     "output_type": "execute_result"
    }
   ],
   "source": [
    "# Veamos los valores en la columna\n",
    "\n",
    "print(df['income_type'].describe())\n",
    "\n",
    "\n",
    "df['income_type'].unique()"
   ]
  },
  {
   "cell_type": "code",
   "execution_count": 182,
   "metadata": {
    "scrolled": false
   },
   "outputs": [],
   "source": [
    "# Aborda los valores problemáticos, si existen\n",
    "\n",
    "\n",
    "#### vemos que sigue habiendo el mismo valor numerico\n",
    "\n",
    "def reemplazar_income_type(row):\n",
    "\n",
    "    income_type= row['income_type']\n",
    "    \n",
    "    if income_type==0.5432752613240418:\n",
    "        income_type='unknow'\n",
    "        \n",
    "    return income_type\n",
    "    \n",
    "    \n",
    "    \n",
    "#df['income_type'] = df.apply(reemplazar_income_type, axis=1)"
   ]
  },
  {
   "cell_type": "code",
   "execution_count": 183,
   "metadata": {
    "scrolled": false
   },
   "outputs": [
    {
     "name": "stdout",
     "output_type": "stream",
     "text": [
      "count        21525\n",
      "unique           8\n",
      "top       employee\n",
      "freq         11119\n",
      "Name: income_type, dtype: object\n"
     ]
    },
    {
     "data": {
      "text/plain": [
       "array(['employee', 'retiree', 'business', 'civil servant', 'unemployed',\n",
       "       'entrepreneur', 'student', 'paternity / maternity leave'],\n",
       "      dtype=object)"
      ]
     },
     "execution_count": 183,
     "metadata": {},
     "output_type": "execute_result"
    }
   ],
   "source": [
    "# Comprueba el resultado - asegúrate de que esté arreglado\n",
    "\n",
    "print(df['income_type'].describe())\n",
    "\n",
    "\n",
    "df['income_type'].unique()"
   ]
  },
  {
   "cell_type": "markdown",
   "metadata": {},
   "source": [
    "### Comprobar valores duplicados del set de Datos"
   ]
  },
  {
   "cell_type": "code",
   "execution_count": 184,
   "metadata": {
    "scrolled": false
   },
   "outputs": [
    {
     "name": "stdout",
     "output_type": "stream",
     "text": [
      "71\n",
      "21525\n"
     ]
    }
   ],
   "source": [
    "# Comprobar los duplicados\n",
    "\n",
    "print(df.duplicated().sum())\n",
    "\n",
    "print(len(df))\n",
    "dfz1=len(df) ## filas antes de eliminar duplicados"
   ]
  },
  {
   "cell_type": "code",
   "execution_count": 185,
   "metadata": {
    "scrolled": false
   },
   "outputs": [],
   "source": [
    "# Aborda los duplicados, si existen\n",
    "\n",
    "df=df.drop_duplicates().reset_index(drop=True)"
   ]
  },
  {
   "cell_type": "code",
   "execution_count": 186,
   "metadata": {
    "scrolled": false
   },
   "outputs": [
    {
     "name": "stdout",
     "output_type": "stream",
     "text": [
      "0\n"
     ]
    }
   ],
   "source": [
    "# Última comprobación para ver si tenemos duplicados\n",
    "\n",
    "\n",
    "print(df.duplicated().sum())"
   ]
  },
  {
   "cell_type": "code",
   "execution_count": 187,
   "metadata": {
    "scrolled": false
   },
   "outputs": [
    {
     "name": "stdout",
     "output_type": "stream",
     "text": [
      "21454\n",
      "el cambio de porcentaje coservado despues de eliminar los duplicados fue 99.67%\n"
     ]
    }
   ],
   "source": [
    "# Comprueba el tamaño del conjunto de datos que tienes ahora, después de haber ejecutado estas primeras manipulaciones\n",
    "\n",
    "print(len(df))\n",
    "dfzz1=len(df)/dfz1 ###proporcion de eliminar duplicados (ahora , antes)\n",
    "print(f'el cambio de porcentaje coservado despues de eliminar los duplicados fue {dfzz1:.2%}')"
   ]
  },
  {
   "cell_type": "markdown",
   "metadata": {},
   "source": [
    "**Respuesta `Estudiante`**\n",
    "\n",
    "\n",
    "Lo que se hizo con los datos fue:\n",
    "\n",
    "   + Analizar valores problemáticos y reemplazarlos por valores representativos.\n",
    "   + Cambiar los valores de 0 por valores representativos de la columna que representativa.\n",
    "   + Eliminar los duplicados de las columnas .\n",
    "\n",
    "\n"
   ]
  },
  {
   "cell_type": "markdown",
   "metadata": {},
   "source": [
    "<div class=\"alert alert-block alert-success\">\n",
    "<b>Comentario del revisor #2</b> <a class=\"tocSkip\"></a>\n",
    "    \n",
    "Buen trabajo con los duplicados.\n",
    "</div>"
   ]
  },
  {
   "cell_type": "markdown",
   "metadata": {},
   "source": [
    "- [__Click para ir a la Tabla de Contenidos__](#tablacontenido)"
   ]
  },
  {
   "cell_type": "code",
   "execution_count": 188,
   "metadata": {},
   "outputs": [
    {
     "name": "stdout",
     "output_type": "stream",
     "text": [
      "<class 'pandas.core.frame.DataFrame'>\n",
      "RangeIndex: 21454 entries, 0 to 21453\n",
      "Data columns (total 12 columns):\n",
      " #   Column            Non-Null Count  Dtype  \n",
      "---  ------            --------------  -----  \n",
      " 0   children          21454 non-null  int64  \n",
      " 1   days_employed     19351 non-null  float64\n",
      " 2   dob_years         21454 non-null  int64  \n",
      " 3   education         21454 non-null  object \n",
      " 4   education_id      21454 non-null  int64  \n",
      " 5   family_status     21454 non-null  object \n",
      " 6   family_status_id  21454 non-null  int64  \n",
      " 7   gender            21454 non-null  object \n",
      " 8   income_type       21454 non-null  object \n",
      " 9   debt              21454 non-null  int64  \n",
      " 10  total_income      19351 non-null  float64\n",
      " 11  purpose           21454 non-null  object \n",
      "dtypes: float64(2), int64(5), object(5)\n",
      "memory usage: 2.0+ MB\n"
     ]
    }
   ],
   "source": [
    "df.info()"
   ]
  },
  {
   "cell_type": "markdown",
   "metadata": {},
   "source": [
    "## 03. Trabajar con valores ausentes <a class=\"anchor\" id=\"ausentes\"></a>"
   ]
  },
  {
   "cell_type": "markdown",
   "metadata": {},
   "source": [
    "**Trabajar con valores ausentes:**\n",
    "\n",
    "+ Se va a crear un diccionario usando IDs , basándose en el siguiente formato: "
   ]
  },
  {
   "cell_type": "code",
   "execution_count": 189,
   "metadata": {
    "scrolled": false
   },
   "outputs": [
    {
     "name": "stdout",
     "output_type": "stream",
     "text": [
      "count     21454\n",
      "unique    21454\n",
      "top         100\n",
      "freq          1\n",
      "Name: id, dtype: object\n"
     ]
    },
    {
     "data": {
      "text/plain": [
       "\"\\neducation_dict = dict(zip(df['education'], df['education_id']))\\nprint(education_dict)\\n\\nfamily_status_dict = dict(zip(df['family_status'], df['family_status_id']))\\nprint(family_status_dict)\\n\""
      ]
     },
     "execution_count": 189,
     "metadata": {},
     "output_type": "execute_result"
    }
   ],
   "source": [
    "# Encuentra los diccionarios\n",
    "\n",
    "#### se debe crear una columna de IDs\n",
    "#### \n",
    "\n",
    "\n",
    "##'000000F' + (df.index + 1)+'-x'\n",
    "\n",
    "df['id'] = (df.index+1).astype(str)+df['family_status_id'].astype(str) + df['education_id'].astype(str)\n",
    "\n",
    "print(df[\"id\"].describe())\n",
    "\n",
    "######\n",
    "\"\"\"\n",
    "education_dict = dict(zip(df['education'], df['education_id']))\n",
    "print(education_dict)\n",
    "\n",
    "family_status_dict = dict(zip(df['family_status'], df['family_status_id']))\n",
    "print(family_status_dict)\n",
    "\"\"\"\n"
   ]
  },
  {
   "cell_type": "markdown",
   "metadata": {},
   "source": [
    "Crear una columna `id` nos ayudara a analizar los datos más adelante  "
   ]
  },
  {
   "cell_type": "markdown",
   "metadata": {},
   "source": [
    "<div class=\"alert alert-block alert-danger\">\n",
    "<b>Comentario del revisor #2</b> <a class=\"tocSkip\"></a>\n",
    "    \n",
    "Debes crear un diccionario asociando `education` con `education_id` y otro para asociar `family_status` con `family_status_id`.\n",
    "</div>"
   ]
  },
  {
   "cell_type": "markdown",
   "metadata": {},
   "source": [
    "<div class=\"alert alert-block alert-info\">\n",
    "    \n",
    "<b>Respuesta del estudiante #2</b>  <a class=\"tocSkip\"></a> <br>\n",
    "    Listo. se creo una columna `id` que asocia el `education_id` con `family_status`\n",
    "    \n",
    "</div>"
   ]
  },
  {
   "cell_type": "code",
   "execution_count": 190,
   "metadata": {},
   "outputs": [
    {
     "name": "stdout",
     "output_type": "stream",
     "text": [
      "<class 'pandas.core.frame.DataFrame'>\n",
      "RangeIndex: 21454 entries, 0 to 21453\n",
      "Data columns (total 13 columns):\n",
      " #   Column            Non-Null Count  Dtype  \n",
      "---  ------            --------------  -----  \n",
      " 0   children          21454 non-null  int64  \n",
      " 1   days_employed     19351 non-null  float64\n",
      " 2   dob_years         21454 non-null  int64  \n",
      " 3   education         21454 non-null  object \n",
      " 4   education_id      21454 non-null  int64  \n",
      " 5   family_status     21454 non-null  object \n",
      " 6   family_status_id  21454 non-null  int64  \n",
      " 7   gender            21454 non-null  object \n",
      " 8   income_type       21454 non-null  object \n",
      " 9   debt              21454 non-null  int64  \n",
      " 10  total_income      19351 non-null  float64\n",
      " 11  purpose           21454 non-null  object \n",
      " 12  id                21454 non-null  object \n",
      "dtypes: float64(2), int64(5), object(6)\n",
      "memory usage: 2.1+ MB\n"
     ]
    }
   ],
   "source": [
    "df.info()"
   ]
  },
  {
   "cell_type": "markdown",
   "metadata": {},
   "source": [
    "### Restaurar valores ausentes en `total_income`"
   ]
  },
  {
   "cell_type": "markdown",
   "metadata": {},
   "source": [
    "\n",
    "Vamos a clasificar por edad creando una nueva columna.\n",
    "Donde las personas menores de 18 serán consideradas como `children`, quienes tengan entre 18 y menor de 64 serán `adult` y mayores `retired`. \n",
    "\n",
    "Usaremos esta función para reemplazar los valores ausentes por un valor representativo. en este caso la nueva columna que vamos creando.\n"
   ]
  },
  {
   "cell_type": "code",
   "execution_count": 191,
   "metadata": {
    "scrolled": false
   },
   "outputs": [],
   "source": [
    "# Vamos a escribir una función que calcule la categoría de edad\n",
    "\n",
    "\n",
    "def age_group(age):\n",
    "\n",
    "    if age <= 18:\n",
    "        return 'children'\n",
    "    if age <= 64:\n",
    "        return 'adult'\n",
    "    return 'retired' "
   ]
  },
  {
   "cell_type": "code",
   "execution_count": 192,
   "metadata": {
    "scrolled": false
   },
   "outputs": [
    {
     "name": "stdout",
     "output_type": "stream",
     "text": [
      "children\n",
      "adult\n",
      "retired\n"
     ]
    }
   ],
   "source": [
    "# Prueba si la función funciona bien\n",
    "print(age_group(4))\n",
    "print(age_group(30))\n",
    "print(age_group(65))"
   ]
  },
  {
   "cell_type": "code",
   "execution_count": 193,
   "metadata": {
    "scrolled": false
   },
   "outputs": [],
   "source": [
    "# Crear una nueva columna basada en la función\n",
    "\n",
    "df['age_category']=df['dob_years'].apply(age_group)"
   ]
  },
  {
   "cell_type": "code",
   "execution_count": 194,
   "metadata": {
    "scrolled": false
   },
   "outputs": [
    {
     "data": {
      "text/html": [
       "<div>\n",
       "<style scoped>\n",
       "    .dataframe tbody tr th:only-of-type {\n",
       "        vertical-align: middle;\n",
       "    }\n",
       "\n",
       "    .dataframe tbody tr th {\n",
       "        vertical-align: top;\n",
       "    }\n",
       "\n",
       "    .dataframe thead th {\n",
       "        text-align: right;\n",
       "    }\n",
       "</style>\n",
       "<table border=\"1\" class=\"dataframe\">\n",
       "  <thead>\n",
       "    <tr style=\"text-align: right;\">\n",
       "      <th></th>\n",
       "      <th>children</th>\n",
       "      <th>days_employed</th>\n",
       "      <th>dob_years</th>\n",
       "      <th>education</th>\n",
       "      <th>education_id</th>\n",
       "      <th>family_status</th>\n",
       "      <th>family_status_id</th>\n",
       "      <th>gender</th>\n",
       "      <th>income_type</th>\n",
       "      <th>debt</th>\n",
       "      <th>total_income</th>\n",
       "      <th>purpose</th>\n",
       "      <th>id</th>\n",
       "      <th>age_category</th>\n",
       "    </tr>\n",
       "  </thead>\n",
       "  <tbody>\n",
       "    <tr>\n",
       "      <th>0</th>\n",
       "      <td>1</td>\n",
       "      <td>8437.673028</td>\n",
       "      <td>42</td>\n",
       "      <td>bachelor's degree</td>\n",
       "      <td>0</td>\n",
       "      <td>married</td>\n",
       "      <td>0</td>\n",
       "      <td>F</td>\n",
       "      <td>employee</td>\n",
       "      <td>0</td>\n",
       "      <td>40620.102</td>\n",
       "      <td>purchase of the house</td>\n",
       "      <td>100</td>\n",
       "      <td>adult</td>\n",
       "    </tr>\n",
       "    <tr>\n",
       "      <th>1</th>\n",
       "      <td>1</td>\n",
       "      <td>4024.803754</td>\n",
       "      <td>36</td>\n",
       "      <td>secondary education</td>\n",
       "      <td>1</td>\n",
       "      <td>married</td>\n",
       "      <td>0</td>\n",
       "      <td>F</td>\n",
       "      <td>employee</td>\n",
       "      <td>0</td>\n",
       "      <td>17932.802</td>\n",
       "      <td>car purchase</td>\n",
       "      <td>201</td>\n",
       "      <td>adult</td>\n",
       "    </tr>\n",
       "    <tr>\n",
       "      <th>2</th>\n",
       "      <td>0</td>\n",
       "      <td>5623.422610</td>\n",
       "      <td>33</td>\n",
       "      <td>secondary education</td>\n",
       "      <td>1</td>\n",
       "      <td>married</td>\n",
       "      <td>0</td>\n",
       "      <td>M</td>\n",
       "      <td>employee</td>\n",
       "      <td>0</td>\n",
       "      <td>23341.752</td>\n",
       "      <td>purchase of the house</td>\n",
       "      <td>301</td>\n",
       "      <td>adult</td>\n",
       "    </tr>\n",
       "    <tr>\n",
       "      <th>3</th>\n",
       "      <td>3</td>\n",
       "      <td>4124.747207</td>\n",
       "      <td>32</td>\n",
       "      <td>secondary education</td>\n",
       "      <td>1</td>\n",
       "      <td>married</td>\n",
       "      <td>0</td>\n",
       "      <td>M</td>\n",
       "      <td>employee</td>\n",
       "      <td>0</td>\n",
       "      <td>42820.568</td>\n",
       "      <td>supplementary education</td>\n",
       "      <td>401</td>\n",
       "      <td>adult</td>\n",
       "    </tr>\n",
       "    <tr>\n",
       "      <th>4</th>\n",
       "      <td>0</td>\n",
       "      <td>3402.660720</td>\n",
       "      <td>53</td>\n",
       "      <td>secondary education</td>\n",
       "      <td>1</td>\n",
       "      <td>civil partnership</td>\n",
       "      <td>1</td>\n",
       "      <td>F</td>\n",
       "      <td>retiree</td>\n",
       "      <td>0</td>\n",
       "      <td>25378.572</td>\n",
       "      <td>to have a wedding</td>\n",
       "      <td>511</td>\n",
       "      <td>adult</td>\n",
       "    </tr>\n",
       "    <tr>\n",
       "      <th>5</th>\n",
       "      <td>0</td>\n",
       "      <td>926.185831</td>\n",
       "      <td>27</td>\n",
       "      <td>bachelor's degree</td>\n",
       "      <td>0</td>\n",
       "      <td>civil partnership</td>\n",
       "      <td>1</td>\n",
       "      <td>M</td>\n",
       "      <td>business</td>\n",
       "      <td>0</td>\n",
       "      <td>40922.170</td>\n",
       "      <td>purchase of the house</td>\n",
       "      <td>610</td>\n",
       "      <td>adult</td>\n",
       "    </tr>\n",
       "    <tr>\n",
       "      <th>6</th>\n",
       "      <td>0</td>\n",
       "      <td>2879.202052</td>\n",
       "      <td>43</td>\n",
       "      <td>bachelor's degree</td>\n",
       "      <td>0</td>\n",
       "      <td>married</td>\n",
       "      <td>0</td>\n",
       "      <td>F</td>\n",
       "      <td>business</td>\n",
       "      <td>0</td>\n",
       "      <td>38484.156</td>\n",
       "      <td>housing transactions</td>\n",
       "      <td>700</td>\n",
       "      <td>adult</td>\n",
       "    </tr>\n",
       "    <tr>\n",
       "      <th>7</th>\n",
       "      <td>0</td>\n",
       "      <td>152.779569</td>\n",
       "      <td>50</td>\n",
       "      <td>secondary education</td>\n",
       "      <td>1</td>\n",
       "      <td>married</td>\n",
       "      <td>0</td>\n",
       "      <td>M</td>\n",
       "      <td>employee</td>\n",
       "      <td>0</td>\n",
       "      <td>21731.829</td>\n",
       "      <td>education</td>\n",
       "      <td>801</td>\n",
       "      <td>adult</td>\n",
       "    </tr>\n",
       "    <tr>\n",
       "      <th>8</th>\n",
       "      <td>2</td>\n",
       "      <td>6929.865299</td>\n",
       "      <td>35</td>\n",
       "      <td>bachelor's degree</td>\n",
       "      <td>0</td>\n",
       "      <td>civil partnership</td>\n",
       "      <td>1</td>\n",
       "      <td>F</td>\n",
       "      <td>employee</td>\n",
       "      <td>0</td>\n",
       "      <td>15337.093</td>\n",
       "      <td>having a wedding</td>\n",
       "      <td>910</td>\n",
       "      <td>adult</td>\n",
       "    </tr>\n",
       "    <tr>\n",
       "      <th>9</th>\n",
       "      <td>0</td>\n",
       "      <td>2188.756445</td>\n",
       "      <td>41</td>\n",
       "      <td>secondary education</td>\n",
       "      <td>1</td>\n",
       "      <td>married</td>\n",
       "      <td>0</td>\n",
       "      <td>M</td>\n",
       "      <td>employee</td>\n",
       "      <td>0</td>\n",
       "      <td>23108.150</td>\n",
       "      <td>purchase of the house for my family</td>\n",
       "      <td>1001</td>\n",
       "      <td>adult</td>\n",
       "    </tr>\n",
       "    <tr>\n",
       "      <th>10</th>\n",
       "      <td>2</td>\n",
       "      <td>4171.483647</td>\n",
       "      <td>36</td>\n",
       "      <td>bachelor's degree</td>\n",
       "      <td>0</td>\n",
       "      <td>married</td>\n",
       "      <td>0</td>\n",
       "      <td>M</td>\n",
       "      <td>business</td>\n",
       "      <td>0</td>\n",
       "      <td>18230.959</td>\n",
       "      <td>buy real estate</td>\n",
       "      <td>1100</td>\n",
       "      <td>adult</td>\n",
       "    </tr>\n",
       "    <tr>\n",
       "      <th>11</th>\n",
       "      <td>0</td>\n",
       "      <td>792.701887</td>\n",
       "      <td>40</td>\n",
       "      <td>secondary education</td>\n",
       "      <td>1</td>\n",
       "      <td>married</td>\n",
       "      <td>0</td>\n",
       "      <td>F</td>\n",
       "      <td>employee</td>\n",
       "      <td>0</td>\n",
       "      <td>12331.077</td>\n",
       "      <td>buy commercial real estate</td>\n",
       "      <td>1201</td>\n",
       "      <td>adult</td>\n",
       "    </tr>\n",
       "    <tr>\n",
       "      <th>12</th>\n",
       "      <td>0</td>\n",
       "      <td>NaN</td>\n",
       "      <td>65</td>\n",
       "      <td>secondary education</td>\n",
       "      <td>1</td>\n",
       "      <td>civil partnership</td>\n",
       "      <td>1</td>\n",
       "      <td>M</td>\n",
       "      <td>retiree</td>\n",
       "      <td>0</td>\n",
       "      <td>NaN</td>\n",
       "      <td>to have a wedding</td>\n",
       "      <td>1311</td>\n",
       "      <td>retired</td>\n",
       "    </tr>\n",
       "    <tr>\n",
       "      <th>13</th>\n",
       "      <td>0</td>\n",
       "      <td>1846.641941</td>\n",
       "      <td>54</td>\n",
       "      <td>some college</td>\n",
       "      <td>2</td>\n",
       "      <td>married</td>\n",
       "      <td>0</td>\n",
       "      <td>F</td>\n",
       "      <td>employee</td>\n",
       "      <td>0</td>\n",
       "      <td>20873.317</td>\n",
       "      <td>car purchase</td>\n",
       "      <td>1402</td>\n",
       "      <td>adult</td>\n",
       "    </tr>\n",
       "    <tr>\n",
       "      <th>14</th>\n",
       "      <td>0</td>\n",
       "      <td>1844.956182</td>\n",
       "      <td>56</td>\n",
       "      <td>bachelor's degree</td>\n",
       "      <td>0</td>\n",
       "      <td>civil partnership</td>\n",
       "      <td>1</td>\n",
       "      <td>F</td>\n",
       "      <td>business</td>\n",
       "      <td>1</td>\n",
       "      <td>26420.466</td>\n",
       "      <td>buy residential real estate</td>\n",
       "      <td>1510</td>\n",
       "      <td>adult</td>\n",
       "    </tr>\n",
       "  </tbody>\n",
       "</table>\n",
       "</div>"
      ],
      "text/plain": [
       "    children  days_employed  dob_years            education  education_id  \\\n",
       "0          1    8437.673028         42    bachelor's degree             0   \n",
       "1          1    4024.803754         36  secondary education             1   \n",
       "2          0    5623.422610         33  secondary education             1   \n",
       "3          3    4124.747207         32  secondary education             1   \n",
       "4          0    3402.660720         53  secondary education             1   \n",
       "5          0     926.185831         27    bachelor's degree             0   \n",
       "6          0    2879.202052         43    bachelor's degree             0   \n",
       "7          0     152.779569         50  secondary education             1   \n",
       "8          2    6929.865299         35    bachelor's degree             0   \n",
       "9          0    2188.756445         41  secondary education             1   \n",
       "10         2    4171.483647         36    bachelor's degree             0   \n",
       "11         0     792.701887         40  secondary education             1   \n",
       "12         0            NaN         65  secondary education             1   \n",
       "13         0    1846.641941         54         some college             2   \n",
       "14         0    1844.956182         56    bachelor's degree             0   \n",
       "\n",
       "        family_status  family_status_id gender income_type  debt  \\\n",
       "0             married                 0      F    employee     0   \n",
       "1             married                 0      F    employee     0   \n",
       "2             married                 0      M    employee     0   \n",
       "3             married                 0      M    employee     0   \n",
       "4   civil partnership                 1      F     retiree     0   \n",
       "5   civil partnership                 1      M    business     0   \n",
       "6             married                 0      F    business     0   \n",
       "7             married                 0      M    employee     0   \n",
       "8   civil partnership                 1      F    employee     0   \n",
       "9             married                 0      M    employee     0   \n",
       "10            married                 0      M    business     0   \n",
       "11            married                 0      F    employee     0   \n",
       "12  civil partnership                 1      M     retiree     0   \n",
       "13            married                 0      F    employee     0   \n",
       "14  civil partnership                 1      F    business     1   \n",
       "\n",
       "    total_income                              purpose    id age_category  \n",
       "0      40620.102                purchase of the house   100        adult  \n",
       "1      17932.802                         car purchase   201        adult  \n",
       "2      23341.752                purchase of the house   301        adult  \n",
       "3      42820.568              supplementary education   401        adult  \n",
       "4      25378.572                    to have a wedding   511        adult  \n",
       "5      40922.170                purchase of the house   610        adult  \n",
       "6      38484.156                 housing transactions   700        adult  \n",
       "7      21731.829                            education   801        adult  \n",
       "8      15337.093                     having a wedding   910        adult  \n",
       "9      23108.150  purchase of the house for my family  1001        adult  \n",
       "10     18230.959                      buy real estate  1100        adult  \n",
       "11     12331.077           buy commercial real estate  1201        adult  \n",
       "12           NaN                    to have a wedding  1311      retired  \n",
       "13     20873.317                         car purchase  1402        adult  \n",
       "14     26420.466          buy residential real estate  1510        adult  "
      ]
     },
     "execution_count": 194,
     "metadata": {},
     "output_type": "execute_result"
    }
   ],
   "source": [
    "# Comprobar cómo los valores en la nueva columna\n",
    "\n",
    "df.head(15)"
   ]
  },
  {
   "cell_type": "markdown",
   "metadata": {},
   "source": [
    "Vamos a crear un data frame seleccionando los valores que no sean nulos, y de aquí usaremos los valores para remplazarlos en las filas del data frame original donde haya datos vacíos."
   ]
  },
  {
   "cell_type": "code",
   "execution_count": 195,
   "metadata": {
    "scrolled": false
   },
   "outputs": [
    {
     "name": "stdout",
     "output_type": "stream",
     "text": [
      "\n",
      "Columna de valores del Dataset :\n",
      " 0     40620.102\n",
      "1     17932.802\n",
      "2     23341.752\n",
      "3     42820.568\n",
      "4     25378.572\n",
      "5     40922.170\n",
      "6     38484.156\n",
      "7     21731.829\n",
      "8     15337.093\n",
      "9     23108.150\n",
      "10    18230.959\n",
      "11    12331.077\n",
      "12          NaN\n",
      "13    20873.317\n",
      "14    26420.466\n",
      "Name: total_income, dtype: float64\n",
      "\n",
      "Columna de valores no ausentes:\n",
      " 0     40620.102\n",
      "1     17932.802\n",
      "2     23341.752\n",
      "3     42820.568\n",
      "4     25378.572\n",
      "5     40922.170\n",
      "6     38484.156\n",
      "7     21731.829\n",
      "8     15337.093\n",
      "9     23108.150\n",
      "10    18230.959\n",
      "11    12331.077\n",
      "13    20873.317\n",
      "14    26420.466\n",
      "15    18691.345\n",
      "Name: total_income, dtype: float64\n"
     ]
    }
   ],
   "source": [
    "# Crea una tabla sin valores ausentes y muestra algunas de sus filas para asegurarte de que se ve bien\n",
    "\n",
    "\n",
    "### Restaurando valores Ausentes de 'total_income'\n",
    "\n",
    "print('\\nColumna de valores del Dataset :\\n',df['total_income'].head(15))\n",
    "\n",
    "\n",
    "##### tabla filtrada con valores no ausentes\n",
    "dfl5=df.loc[df['total_income'].notnull(),:]\n",
    "\n",
    "print('\\nColumna de valores no ausentes:\\n',dfl5['total_income'].head(15))"
   ]
  },
  {
   "cell_type": "code",
   "execution_count": 196,
   "metadata": {
    "scrolled": true
   },
   "outputs": [
    {
     "data": {
      "text/html": [
       "<div>\n",
       "<style scoped>\n",
       "    .dataframe tbody tr th:only-of-type {\n",
       "        vertical-align: middle;\n",
       "    }\n",
       "\n",
       "    .dataframe tbody tr th {\n",
       "        vertical-align: top;\n",
       "    }\n",
       "\n",
       "    .dataframe thead th {\n",
       "        text-align: right;\n",
       "    }\n",
       "</style>\n",
       "<table border=\"1\" class=\"dataframe\">\n",
       "  <thead>\n",
       "    <tr style=\"text-align: right;\">\n",
       "      <th></th>\n",
       "      <th>children</th>\n",
       "      <th>days_employed</th>\n",
       "      <th>dob_years</th>\n",
       "      <th>education</th>\n",
       "      <th>education_id</th>\n",
       "      <th>family_status</th>\n",
       "      <th>family_status_id</th>\n",
       "      <th>gender</th>\n",
       "      <th>income_type</th>\n",
       "      <th>debt</th>\n",
       "      <th>total_income</th>\n",
       "      <th>purpose</th>\n",
       "      <th>id</th>\n",
       "      <th>age_category</th>\n",
       "    </tr>\n",
       "  </thead>\n",
       "  <tbody>\n",
       "    <tr>\n",
       "      <th>0</th>\n",
       "      <td>1</td>\n",
       "      <td>8437.673028</td>\n",
       "      <td>42</td>\n",
       "      <td>bachelor's degree</td>\n",
       "      <td>0</td>\n",
       "      <td>married</td>\n",
       "      <td>0</td>\n",
       "      <td>F</td>\n",
       "      <td>employee</td>\n",
       "      <td>0</td>\n",
       "      <td>40620.102</td>\n",
       "      <td>purchase of the house</td>\n",
       "      <td>100</td>\n",
       "      <td>adult</td>\n",
       "    </tr>\n",
       "    <tr>\n",
       "      <th>1</th>\n",
       "      <td>1</td>\n",
       "      <td>4024.803754</td>\n",
       "      <td>36</td>\n",
       "      <td>secondary education</td>\n",
       "      <td>1</td>\n",
       "      <td>married</td>\n",
       "      <td>0</td>\n",
       "      <td>F</td>\n",
       "      <td>employee</td>\n",
       "      <td>0</td>\n",
       "      <td>17932.802</td>\n",
       "      <td>car purchase</td>\n",
       "      <td>201</td>\n",
       "      <td>adult</td>\n",
       "    </tr>\n",
       "    <tr>\n",
       "      <th>2</th>\n",
       "      <td>0</td>\n",
       "      <td>5623.422610</td>\n",
       "      <td>33</td>\n",
       "      <td>secondary education</td>\n",
       "      <td>1</td>\n",
       "      <td>married</td>\n",
       "      <td>0</td>\n",
       "      <td>M</td>\n",
       "      <td>employee</td>\n",
       "      <td>0</td>\n",
       "      <td>23341.752</td>\n",
       "      <td>purchase of the house</td>\n",
       "      <td>301</td>\n",
       "      <td>adult</td>\n",
       "    </tr>\n",
       "    <tr>\n",
       "      <th>3</th>\n",
       "      <td>3</td>\n",
       "      <td>4124.747207</td>\n",
       "      <td>32</td>\n",
       "      <td>secondary education</td>\n",
       "      <td>1</td>\n",
       "      <td>married</td>\n",
       "      <td>0</td>\n",
       "      <td>M</td>\n",
       "      <td>employee</td>\n",
       "      <td>0</td>\n",
       "      <td>42820.568</td>\n",
       "      <td>supplementary education</td>\n",
       "      <td>401</td>\n",
       "      <td>adult</td>\n",
       "    </tr>\n",
       "    <tr>\n",
       "      <th>4</th>\n",
       "      <td>0</td>\n",
       "      <td>3402.660720</td>\n",
       "      <td>53</td>\n",
       "      <td>secondary education</td>\n",
       "      <td>1</td>\n",
       "      <td>civil partnership</td>\n",
       "      <td>1</td>\n",
       "      <td>F</td>\n",
       "      <td>retiree</td>\n",
       "      <td>0</td>\n",
       "      <td>25378.572</td>\n",
       "      <td>to have a wedding</td>\n",
       "      <td>511</td>\n",
       "      <td>adult</td>\n",
       "    </tr>\n",
       "  </tbody>\n",
       "</table>\n",
       "</div>"
      ],
      "text/plain": [
       "   children  days_employed  dob_years            education  education_id  \\\n",
       "0         1    8437.673028         42    bachelor's degree             0   \n",
       "1         1    4024.803754         36  secondary education             1   \n",
       "2         0    5623.422610         33  secondary education             1   \n",
       "3         3    4124.747207         32  secondary education             1   \n",
       "4         0    3402.660720         53  secondary education             1   \n",
       "\n",
       "       family_status  family_status_id gender income_type  debt  total_income  \\\n",
       "0            married                 0      F    employee     0     40620.102   \n",
       "1            married                 0      F    employee     0     17932.802   \n",
       "2            married                 0      M    employee     0     23341.752   \n",
       "3            married                 0      M    employee     0     42820.568   \n",
       "4  civil partnership                 1      F     retiree     0     25378.572   \n",
       "\n",
       "                   purpose   id age_category  \n",
       "0    purchase of the house  100        adult  \n",
       "1             car purchase  201        adult  \n",
       "2    purchase of the house  301        adult  \n",
       "3  supplementary education  401        adult  \n",
       "4        to have a wedding  511        adult  "
      ]
     },
     "execution_count": 196,
     "metadata": {},
     "output_type": "execute_result"
    }
   ],
   "source": [
    "df.head()"
   ]
  },
  {
   "cell_type": "code",
   "execution_count": 197,
   "metadata": {
    "scrolled": false
   },
   "outputs": [
    {
     "name": "stdout",
     "output_type": "stream",
     "text": [
      "26787.56835465871\n"
     ]
    }
   ],
   "source": [
    "# Examina los valores medios de los ingresos en función de los factores que identificaste\n",
    "\n",
    "##valor representativo media:\n",
    "valor_representativo_total_income_mean=dfl5['total_income'].mean()\n",
    "print(valor_representativo_total_income_mean)"
   ]
  },
  {
   "cell_type": "code",
   "execution_count": 198,
   "metadata": {
    "scrolled": true
   },
   "outputs": [
    {
     "name": "stdout",
     "output_type": "stream",
     "text": [
      "23202.87\n"
     ]
    }
   ],
   "source": [
    "# Examina los valores medianos de los ingresos en función de los factores que identificaste\n",
    "\n",
    "\n",
    "##valor reresentativo mediana\n",
    "valor_representativo_total_income_median=dfl5['total_income'].median()\n",
    "print(valor_representativo_total_income_median)"
   ]
  },
  {
   "cell_type": "markdown",
   "metadata": {},
   "source": [
    "Se reemplazara las filas vacías por la media de los datos no vacíos que pertenecen a su respectiva categoría.En este caso por `income_type`."
   ]
  },
  {
   "cell_type": "code",
   "execution_count": 199,
   "metadata": {
    "scrolled": true
   },
   "outputs": [],
   "source": [
    "df_total_income_retiree=df.query('income_type==\"retiree\"').query('income_type.notnull()')\n",
    "df_total_income_business=df.query('income_type==\"business\"').query('income_type.notnull()')\n",
    "df_total_income_employee=df.query('income_type==\"employee\"').query('income_type.notnull()')\n",
    "df_total_income_civil_servant=df.query('income_type==\"civil servant\"').query('income_type.notnull()')"
   ]
  },
  {
   "cell_type": "code",
   "execution_count": 200,
   "metadata": {
    "scrolled": false
   },
   "outputs": [],
   "source": [
    "#  Escribe una función que usaremos para completar los valores ausentes\n",
    "\n",
    "##estadistico General\n",
    "#df['total_income']=df['total_income'].fillna(valor_representativo_total_income_median)\n",
    "#### la mediana es un valor mas representattivo.\n",
    "\n",
    "\n",
    "\n",
    "##Se Utilizara una Funcion en base a `income_type`\n",
    "\n",
    "def llenando_vacios_de_total_income(row):\n",
    "    \"\"\"\n",
    "    #funcion que devuelve donde es vacio`total_income` lo reemplaza por un representativo de `income_type`\n",
    "    \"\"\"\n",
    "    total_income = row['total_income']\n",
    "    income_type = row['income_type']\n",
    "    retorno=total_income\n",
    "    \n",
    "    if math.isnan(total_income):\n",
    "        if income_type==\"retiree\":\n",
    "            retorno=df_total_income_retiree['total_income'].median()\n",
    "            return retorno\n",
    "        if income_type==\"business\":\n",
    "            retorno=df_total_income_business['total_income'].median()\n",
    "            return retorno\n",
    "        if income_type==\"employee\":\n",
    "            retorno=df_total_income_employee['total_income'].median()\n",
    "            return retorno\n",
    "        if income_type==\"civil servant\":\n",
    "            retorno=df_total_income_civil_servant['total_income'].median()\n",
    "            return retorno\n",
    "        else:\n",
    "            retorno =valor_representativo_total_income_median\n",
    "            return retorno\n",
    "\n",
    "    return retorno\n",
    "\n",
    "\n"
   ]
  },
  {
   "cell_type": "markdown",
   "metadata": {},
   "source": [
    "<div class=\"alert alert-block alert-success\">\n",
    "<b>Comentario del revisor #2</b> <a class=\"tocSkip\"></a>\n",
    "    \n",
    "Buen trabajo.\n",
    "</div>"
   ]
  },
  {
   "cell_type": "code",
   "execution_count": 201,
   "metadata": {
    "scrolled": false
   },
   "outputs": [
    {
     "name": "stdout",
     "output_type": "stream",
     "text": [
      "0     40620.102\n",
      "1     17932.802\n",
      "2     23341.752\n",
      "3     42820.568\n",
      "4     25378.572\n",
      "5     40922.170\n",
      "6     38484.156\n",
      "7     21731.829\n",
      "8     15337.093\n",
      "9     23108.150\n",
      "10    18230.959\n",
      "11    12331.077\n",
      "12          NaN\n",
      "13    20873.317\n",
      "14    26420.466\n",
      "Name: total_income, dtype: float64\n",
      "nan \n",
      "\n"
     ]
    }
   ],
   "source": [
    "# Comprueba si funciona\n",
    "print(df['total_income'].head(15))\n",
    "\n",
    "#### antes era NaN\n",
    "### mirando el indice 12 se verifica que se sustituyo.\n",
    "print(df.loc[12,'total_income'],'\\n')\n"
   ]
  },
  {
   "cell_type": "code",
   "execution_count": 202,
   "metadata": {
    "scrolled": false
   },
   "outputs": [],
   "source": [
    "# Aplícalo a cada fila\n",
    "\n",
    "\n",
    "df['total_income']=df.apply(llenando_vacios_de_total_income,axis=1)\n",
    "\n"
   ]
  },
  {
   "cell_type": "code",
   "execution_count": 203,
   "metadata": {
    "scrolled": false
   },
   "outputs": [
    {
     "name": "stdout",
     "output_type": "stream",
     "text": [
      "ANTES ERA VALOR NULO:  18962.318 \n",
      "\n"
     ]
    }
   ],
   "source": [
    "# Comprueba si tenemos algún error\n",
    "df.head(15)\n",
    "\n",
    "### mirando el indice 12 se verifica que se sustituyo.\n",
    "print('ANTES ERA VALOR NULO: ',df.loc[12,'total_income'],'\\n')"
   ]
  },
  {
   "cell_type": "markdown",
   "metadata": {},
   "source": [
    "En este caso botaba un valor nulo dicha columna , por lo que se agregó un else a la función `llenando_vacios_de_total_income` para que tome ese valor faltante."
   ]
  },
  {
   "cell_type": "code",
   "execution_count": 204,
   "metadata": {
    "scrolled": false
   },
   "outputs": [
    {
     "name": "stdout",
     "output_type": "stream",
     "text": [
      "21454\n"
     ]
    },
    {
     "data": {
      "text/plain": [
       "21454"
      ]
     },
     "execution_count": 204,
     "metadata": {},
     "output_type": "execute_result"
    }
   ],
   "source": [
    "# Reemplazar los valores ausentes si hay algún error\n",
    "\n",
    "\n",
    "####no ha habido error en esta columna.\n",
    "print(df['total_income'].notnull().sum())\n",
    "len(df)\n"
   ]
  },
  {
   "cell_type": "markdown",
   "metadata": {},
   "source": [
    "Ahora sin lugar a duda se trato la Columna `total_income` de la manera correcta."
   ]
  },
  {
   "cell_type": "code",
   "execution_count": 205,
   "metadata": {
    "scrolled": false
   },
   "outputs": [
    {
     "name": "stdout",
     "output_type": "stream",
     "text": [
      "<class 'pandas.core.frame.DataFrame'>\n",
      "RangeIndex: 21454 entries, 0 to 21453\n",
      "Data columns (total 14 columns):\n",
      " #   Column            Non-Null Count  Dtype  \n",
      "---  ------            --------------  -----  \n",
      " 0   children          21454 non-null  int64  \n",
      " 1   days_employed     19351 non-null  float64\n",
      " 2   dob_years         21454 non-null  int64  \n",
      " 3   education         21454 non-null  object \n",
      " 4   education_id      21454 non-null  int64  \n",
      " 5   family_status     21454 non-null  object \n",
      " 6   family_status_id  21454 non-null  int64  \n",
      " 7   gender            21454 non-null  object \n",
      " 8   income_type       21454 non-null  object \n",
      " 9   debt              21454 non-null  int64  \n",
      " 10  total_income      21454 non-null  float64\n",
      " 11  purpose           21454 non-null  object \n",
      " 12  id                21454 non-null  object \n",
      " 13  age_category      21454 non-null  object \n",
      "dtypes: float64(2), int64(5), object(7)\n",
      "memory usage: 2.3+ MB\n"
     ]
    }
   ],
   "source": [
    "# Comprobar el número de entradas en las columnas\n",
    "\n",
    "df.info()\n",
    "\n"
   ]
  },
  {
   "cell_type": "markdown",
   "metadata": {},
   "source": [
    "###  Restaurar valores en `days_employed` <a class=\"anchor\" id=\"restaurar\"></a>"
   ]
  },
  {
   "cell_type": "markdown",
   "metadata": {},
   "source": [
    "Se usara el mismo criterio que la tabla anterior , se reemplazara por una media representativa , en este caso en funcion de una columna que no tenga datos vacios como `income_type`."
   ]
  },
  {
   "cell_type": "code",
   "execution_count": 206,
   "metadata": {
    "pycharm": {
     "name": "#%%\n"
    },
    "scrolled": false
   },
   "outputs": [
    {
     "data": {
      "text/plain": [
       "2194.220566878695"
      ]
     },
     "execution_count": 206,
     "metadata": {},
     "output_type": "execute_result"
    }
   ],
   "source": [
    "# Distribución de las medianas de `days_employed` en función de los parámetros identificados\n",
    "\n",
    "\n",
    "df['days_employed'].median()"
   ]
  },
  {
   "cell_type": "code",
   "execution_count": 207,
   "metadata": {
    "scrolled": false
   },
   "outputs": [
    {
     "name": "stdout",
     "output_type": "stream",
     "text": [
      "promedio days_employed 2583.921755515992\n"
     ]
    },
    {
     "data": {
      "text/plain": [
       "count    19351.000000\n",
       "mean      2583.921756\n",
       "std       2149.032624\n",
       "min         24.141633\n",
       "25%        927.009265\n",
       "50%       2194.220567\n",
       "75%       3658.750303\n",
       "max      18388.949901\n",
       "Name: days_employed, dtype: float64"
      ]
     },
     "execution_count": 207,
     "metadata": {},
     "output_type": "execute_result"
    }
   ],
   "source": [
    "# Distribución de las medias de `days_employed` en función de los parámetros identificados\n",
    "\n",
    "\n",
    "print(\"promedio days_employed\",df['days_employed'].mean())\n",
    "\n",
    "df['days_employed'].describe()"
   ]
  },
  {
   "cell_type": "markdown",
   "metadata": {},
   "source": [
    "\n",
    "Para reemplazar los valores vamos a sacar un promedio de su categoría y reemplazarlos. La media de su respectiva categoría representa el valor más similar.\n"
   ]
  },
  {
   "cell_type": "code",
   "execution_count": 208,
   "metadata": {
    "scrolled": true
   },
   "outputs": [],
   "source": [
    "df_days_employed_retiree=df.query('income_type==\"retiree\"').query('days_employed.notnull()')\n",
    "df_days_employed_business=df.query('income_type==\"business\"').query('days_employed.notnull()')\n",
    "df_days_employed_employee=df.query('income_type==\"employee\"').query('days_employed.notnull()')\n",
    "df_days_employed_civil_servant=df.query('income_type==\"civil servant\"').query('days_employed.notnull()')"
   ]
  },
  {
   "cell_type": "code",
   "execution_count": 209,
   "metadata": {
    "scrolled": false
   },
   "outputs": [],
   "source": [
    "# Escribamos una función que calcule medias o medianas (dependiendo de tu decisión) según el parámetro identificado\n",
    "\n",
    "## esto es un nuevo df que calculara medias o medianas para reemplazar a los valores ausentes.\n",
    "dfl6=df.loc[df['days_employed'].notnull(),:]\n",
    "mediana_dfl6=dfl6['days_employed'].median()\n",
    "\n",
    "#print(mediana_dfl6)\n",
    "\n",
    "\n",
    "###funcion \n",
    "\n",
    "def llenando_vacios_de_days_employed(row):\n",
    "    \"\"\"\n",
    "    #funcion que devuelve donde es vacio`days_employed` lo reemplaza por un representativo de `income_type`\n",
    "    \"\"\"\n",
    "    days_employed = row['days_employed']\n",
    "    income_type = row['income_type']\n",
    "    retorno=days_employed\n",
    "    \n",
    "    if math.isnan(days_employed):\n",
    "        if income_type==\"retiree\":\n",
    "            retorno=df_days_employed_retiree['days_employed'].median()\n",
    "            return retorno\n",
    "        if income_type==\"business\":\n",
    "            retorno=df_days_employed_business['days_employed'].median()\n",
    "            return retorno\n",
    "        if income_type==\"employee\":\n",
    "            retorno=df_days_employed_employee['days_employed'].median()\n",
    "            return retorno\n",
    "        if income_type==\"civil servant\":\n",
    "            retorno=df_days_employed_civil_servant['days_employed'].median()\n",
    "            return retorno\n",
    "        else:\n",
    "            retorno =mediana_dfl6\n",
    "            return retorno\n",
    "\n",
    "    return retorno\n"
   ]
  },
  {
   "cell_type": "markdown",
   "metadata": {},
   "source": [
    "La función valdrá con un data frame. No con una instancia así que se le probara directamente en el data frame."
   ]
  },
  {
   "cell_type": "code",
   "execution_count": 210,
   "metadata": {
    "scrolled": false
   },
   "outputs": [
    {
     "name": "stdout",
     "output_type": "stream",
     "text": [
      "{'days_employed': nan, 'income_type': 'business'}\n",
      "2111.5243982977295\n",
      "{'days_employed': nan, 'income_type': 'business'}\n"
     ]
    }
   ],
   "source": [
    "# Comprueba que la función funciona\n",
    "##print(df['days_employed'].head(15))\n",
    "##dfl6['days_employed'].head(15)\n",
    "\n",
    "row_probar_funcion_llenar_days_employed = {'days_employed': np.nan, 'income_type': 'business'}\n",
    "\n",
    "print(row_probar_funcion_llenar_days_employed)\n",
    "\n",
    "print(df_days_employed_business['days_employed'].mean())\n",
    "llenando_vacios_de_days_employed(row_probar_funcion_llenar_days_employed)\n",
    "print(row_probar_funcion_llenar_days_employed)\n"
   ]
  },
  {
   "cell_type": "markdown",
   "metadata": {},
   "source": [
    "Se sabe que para probar la función se debe usar un dato del tipo DataFrame , por lo que mejor será aplicarlo directo a la función."
   ]
  },
  {
   "cell_type": "code",
   "execution_count": 211,
   "metadata": {
    "scrolled": false
   },
   "outputs": [
    {
     "name": "stdout",
     "output_type": "stream",
     "text": [
      "2103\n"
     ]
    }
   ],
   "source": [
    "# Aplicar la función al income_type\n",
    "\n",
    "print(df['days_employed'].isna().sum())\n",
    "\n",
    "#df['days_employed']=df['days_employed'].fillna(mediana_dfl6)\n"
   ]
  },
  {
   "cell_type": "code",
   "execution_count": 212,
   "metadata": {
    "scrolled": false
   },
   "outputs": [
    {
     "data": {
      "text/plain": [
       "2103"
      ]
     },
     "execution_count": 212,
     "metadata": {},
     "output_type": "execute_result"
    }
   ],
   "source": [
    "# Comprueba si la función funcionó\n",
    "\n",
    "df['days_employed'].isna().sum()"
   ]
  },
  {
   "cell_type": "code",
   "execution_count": 213,
   "metadata": {
    "scrolled": false
   },
   "outputs": [
    {
     "data": {
      "text/plain": [
       "0"
      ]
     },
     "execution_count": 213,
     "metadata": {},
     "output_type": "execute_result"
    }
   ],
   "source": [
    "# Reemplazar valores ausentes\n",
    "\n",
    "df['days_employed']=df.apply(llenando_vacios_de_days_employed,axis=1)\n",
    "\n",
    "df['days_employed'].isna().sum()\n",
    "\n",
    "### ya se ha reemplazado arriba"
   ]
  },
  {
   "cell_type": "markdown",
   "metadata": {},
   "source": [
    "Ahora podemos Observar que no existe ningún valor nulo dentro de nuestros datos."
   ]
  },
  {
   "cell_type": "code",
   "execution_count": 214,
   "metadata": {
    "scrolled": false
   },
   "outputs": [
    {
     "name": "stdout",
     "output_type": "stream",
     "text": [
      "<class 'pandas.core.frame.DataFrame'>\n",
      "RangeIndex: 21454 entries, 0 to 21453\n",
      "Data columns (total 14 columns):\n",
      " #   Column            Non-Null Count  Dtype  \n",
      "---  ------            --------------  -----  \n",
      " 0   children          21454 non-null  int64  \n",
      " 1   days_employed     21454 non-null  float64\n",
      " 2   dob_years         21454 non-null  int64  \n",
      " 3   education         21454 non-null  object \n",
      " 4   education_id      21454 non-null  int64  \n",
      " 5   family_status     21454 non-null  object \n",
      " 6   family_status_id  21454 non-null  int64  \n",
      " 7   gender            21454 non-null  object \n",
      " 8   income_type       21454 non-null  object \n",
      " 9   debt              21454 non-null  int64  \n",
      " 10  total_income      21454 non-null  float64\n",
      " 11  purpose           21454 non-null  object \n",
      " 12  id                21454 non-null  object \n",
      " 13  age_category      21454 non-null  object \n",
      "dtypes: float64(2), int64(5), object(7)\n",
      "memory usage: 2.3+ MB\n"
     ]
    }
   ],
   "source": [
    "# Comprueba las entradas en todas las columnas: asegúrate de que hayamos corregido todos los valores ausentes\n",
    "\n",
    "df.info()\n"
   ]
  },
  {
   "cell_type": "markdown",
   "metadata": {},
   "source": [
    "<div class=\"alert alert-block alert-danger\">\n",
    "<b>Comentario del revisor #2</b> <a class=\"tocSkip\"></a>\n",
    "    \n",
    "Buen trabajo con esta variable pero habrá que ejecutarla de nuevo una vez se corrija la sección más arriba.\n",
    "    \n",
    "</div>"
   ]
  },
  {
   "cell_type": "markdown",
   "metadata": {},
   "source": [
    "<div class=\"alert alert-block alert-info\">\n",
    "    \n",
    "<b>Respuesta del estudiante</b>  <a class=\"tocSkip\"></a> <br>\n",
    "    Listo. Se corrigio la seccion de arriba.\n",
    "    \n",
    "</div>"
   ]
  },
  {
   "cell_type": "markdown",
   "metadata": {},
   "source": [
    "- [__Click para ir a la Tabla de Contenidos__](#tablacontenido)"
   ]
  },
  {
   "cell_type": "markdown",
   "metadata": {},
   "source": [
    "## 04 Clasificación de datos <a class=\"anchor\" id=\"clasificar\"></a>\n",
    "\n",
    "Se puede apreciar que en la columna `purpose` es algo difícil de analizar, pero hay palabras que se pueden repetir.\n",
    "Así que vamos a agrupar aplicando un algoritmo para que sea más sencillo.\n",
    "En este caso lo agruparemos una función que se verá más adelante.\n"
   ]
  },
  {
   "cell_type": "code",
   "execution_count": 215,
   "metadata": {
    "scrolled": true
   },
   "outputs": [
    {
     "data": {
      "text/plain": [
       "count                21454\n",
       "unique                  38\n",
       "top       wedding ceremony\n",
       "freq                   791\n",
       "Name: purpose, dtype: object"
      ]
     },
     "execution_count": 215,
     "metadata": {},
     "output_type": "execute_result"
    }
   ],
   "source": [
    "# Muestra los valores de los datos seleccionados para la clasificación\n",
    "\n",
    "df['purpose'].describe()\n",
    "\n"
   ]
  },
  {
   "cell_type": "markdown",
   "metadata": {},
   "source": [
    "Comprobar los valores únicos:"
   ]
  },
  {
   "cell_type": "code",
   "execution_count": 216,
   "metadata": {
    "scrolled": false
   },
   "outputs": [
    {
     "name": "stdout",
     "output_type": "stream",
     "text": [
      "['purchase of the house' 'car purchase' 'supplementary education'\n",
      " 'to have a wedding' 'housing transactions' 'education' 'having a wedding'\n",
      " 'purchase of the house for my family' 'buy real estate'\n",
      " 'buy commercial real estate' 'buy residential real estate'\n",
      " 'construction of own property' 'property' 'building a property'\n",
      " 'buying a second-hand car' 'buying my own car'\n",
      " 'transactions with commercial real estate' 'building a real estate'\n",
      " 'housing' 'transactions with my real estate' 'cars' 'to become educated'\n",
      " 'second-hand car purchase' 'getting an education' 'car'\n",
      " 'wedding ceremony' 'to get a supplementary education'\n",
      " 'purchase of my own house' 'real estate transactions'\n",
      " 'getting higher education' 'to own a car' 'purchase of a car'\n",
      " 'profile education' 'university education'\n",
      " 'buying property for renting out' 'to buy a car' 'housing renovation'\n",
      " 'going to university']\n"
     ]
    }
   ],
   "source": [
    "# Comprobar los valores únicos\n",
    "\n",
    "print(df['purpose'].unique())\n",
    "\n",
    "array_unique=df['purpose'].unique()\n"
   ]
  },
  {
   "cell_type": "markdown",
   "metadata": {},
   "source": [
    "La función \"change_purpose\" es una función de clasificación de datos que se utiliza para asignar una categoría específica a los datos de propósito de un préstamo. El objetivo de esta función es ayudar a responder a las preguntas planteadas y probar las diferentes hipótesis en el proyecto de análisis de datos. La función toma como entrada el propósito de un préstamo y devuelve una categoría específica.\n",
    "\n",
    "La función utiliza una estructura de control de flujo \"if-elif\" para determinar la categoría correcta para el propósito del préstamo. Por ejemplo, si el propósito incluye la palabra \"wedding\", la función asignará la categoría \"wedding\". De lo contrario, si el propósito incluye cualquiera de las palabras \"real\", \"state\", \"house\", \"property\" o \"housing\", la función asignará la categoría \"realestate\". Esta función esta diseñada para clasificar los datos de texto, pero también puedes usar otras instrucciones para clasificar los datos numéricos. Es importante proporcionar una explicación clara de las decisiones tomadas en el proceso de clasificación de datos.\n",
    "\n",
    "\n",
    "\n",
    "\n"
   ]
  },
  {
   "cell_type": "code",
   "execution_count": 217,
   "metadata": {
    "scrolled": false
   },
   "outputs": [],
   "source": [
    "# Escribamos una función para clasificar los datos en función de temas comunes\n",
    "\n",
    "\n",
    "def change_purpose(purpose):\n",
    "    purpose_category='unknow'\n",
    "    \n",
    "    if 'wedding' in purpose:\n",
    "        purpose_category='wedding'\n",
    "       \n",
    "    \n",
    "    elif ('real' in purpose) or ('state' in purpose) or ('house' in purpose) or ('property' in purpose) or ('housing' in purpose):\n",
    "        purpose_category='real estate'\n",
    "       \n",
    "    \n",
    "    elif 'car' in purpose:\n",
    "        purpose_category='car'\n",
    "        \n",
    "    elif ('education' in purpose) or ('educated' in purpose) or ('university' in purpose):\n",
    "        purpose_category='education'\n",
    "    return purpose_category"
   ]
  },
  {
   "cell_type": "code",
   "execution_count": 218,
   "metadata": {
    "scrolled": false
   },
   "outputs": [
    {
     "data": {
      "text/plain": [
       "real estate    10811\n",
       "car             4306\n",
       "education       4013\n",
       "wedding         2324\n",
       "Name: purpose_category, dtype: int64"
      ]
     },
     "execution_count": 218,
     "metadata": {},
     "output_type": "execute_result"
    }
   ],
   "source": [
    "# Crea una columna con las categorías y cuenta los valores en ellas\n",
    "df['purpose']=df['purpose'].apply(str)\n",
    "\n",
    "df['purpose_category'] = df['purpose'].apply(change_purpose)\n",
    "\n",
    "df['purpose_category'].value_counts()\n"
   ]
  },
  {
   "cell_type": "markdown",
   "metadata": {},
   "source": [
    "En este caso de tantos valores que había en categoría , al aplicar la función se lo simplifico quedando solamente 5 categorías:\n",
    "`unknow`, `education`, `wedding`, `car`, `real_state`.\n"
   ]
  },
  {
   "cell_type": "code",
   "execution_count": 219,
   "metadata": {
    "scrolled": false
   },
   "outputs": [
    {
     "name": "stdout",
     "output_type": "stream",
     "text": [
      "<class 'pandas.core.frame.DataFrame'>\n",
      "RangeIndex: 21454 entries, 0 to 21453\n",
      "Data columns (total 15 columns):\n",
      " #   Column            Non-Null Count  Dtype  \n",
      "---  ------            --------------  -----  \n",
      " 0   children          21454 non-null  int64  \n",
      " 1   days_employed     21454 non-null  float64\n",
      " 2   dob_years         21454 non-null  int64  \n",
      " 3   education         21454 non-null  object \n",
      " 4   education_id      21454 non-null  int64  \n",
      " 5   family_status     21454 non-null  object \n",
      " 6   family_status_id  21454 non-null  int64  \n",
      " 7   gender            21454 non-null  object \n",
      " 8   income_type       21454 non-null  object \n",
      " 9   debt              21454 non-null  int64  \n",
      " 10  total_income      21454 non-null  float64\n",
      " 11  purpose           21454 non-null  object \n",
      " 12  id                21454 non-null  object \n",
      " 13  age_category      21454 non-null  object \n",
      " 14  purpose_category  21454 non-null  object \n",
      "dtypes: float64(2), int64(5), object(8)\n",
      "memory usage: 2.5+ MB\n"
     ]
    }
   ],
   "source": [
    "# Revisar todos los datos numéricos en la columna seleccionada para la clasificación\n",
    "\n",
    "df.info()\n"
   ]
  },
  {
   "cell_type": "code",
   "execution_count": 220,
   "metadata": {
    "scrolled": false
   },
   "outputs": [
    {
     "data": {
      "text/plain": [
       "count     21454.000000\n",
       "mean      26448.571779\n",
       "std       15705.750220\n",
       "min        3306.762000\n",
       "25%       17219.817250\n",
       "50%       22815.103500\n",
       "75%       31330.237250\n",
       "max      362496.645000\n",
       "Name: total_income, dtype: float64"
      ]
     },
     "execution_count": 220,
     "metadata": {},
     "output_type": "execute_result"
    }
   ],
   "source": [
    "# Obtener estadísticas resumidas para la columna\n",
    "\n",
    "df['total_income'].describe()"
   ]
  },
  {
   "cell_type": "markdown",
   "metadata": {},
   "source": [
    "La función \"`clasificar_total_income()`\" es una función que permite clasificar los datos de ingresos totales de los clientes en diferentes grupos numéricos basándose en rangos.\n",
    "\n",
    "La función utiliza las librería de numpy para calcular los quantiles con saltos del 20% de los datos de ingreso total (q1,q2,q3,q4). Estos quantiles serán utilizados como límites para clasificar los datos en diferentes categorías.\n",
    "\n",
    "La función toma como entrada el ingreso total de un cliente y utiliza una estructura de control de flujo \"if-elif\" para determinar en qué categoría debe clasificar el ingreso. Por ejemplo, si el ingreso de un cliente es menor o igual al primer quantil (q1), la función asignará la categoría \"0 very low\", si el ingreso esta entre el primer y segundo quantil la función asignara la categoria \"1 low\" y así sucesivamente. Finalmente, la función devuelve la categoría asignada."
   ]
  },
  {
   "cell_type": "code",
   "execution_count": 221,
   "metadata": {
    "scrolled": false
   },
   "outputs": [],
   "source": [
    "# Crear una función para clasificar en diferentes grupos numéricos basándose en rangos\n",
    "\n",
    "\n",
    "#### en este caso clasificaresmos el total income\n",
    "#####usaremos quantiles con saltos del 20%  para tener categorias\n",
    "\n",
    "\n",
    "\n",
    "q1=np.quantile(df['total_income'],0.2)\n",
    "q2=np.quantile(df['total_income'],0.4)\n",
    "q3=np.quantile(df['total_income'],0.6)\n",
    "q4=np.quantile(df['total_income'],0.8)\n",
    "\n",
    "def clasificar_total_income(income):\n",
    "    categoria_income=''\n",
    "    if income<=q1:\n",
    "        categoria_income='0 very low'\n",
    "    elif (income>q1) and (income<=q2):\n",
    "        categoria_income='1 low'\n",
    "    elif (income>q2) and (income<=q3):\n",
    "        categoria_income='2 medium'\n",
    "    elif (income>q3) and (income<=q4):\n",
    "        categoria_income='3 high'\n",
    "    else:\n",
    "        categoria_income='4 very high'\n",
    "    \n",
    "    return categoria_income"
   ]
  },
  {
   "cell_type": "code",
   "execution_count": 222,
   "metadata": {
    "scrolled": false
   },
   "outputs": [],
   "source": [
    "# Crear una columna con categorías\n",
    "df['income_category']=df['total_income'].apply(clasificar_total_income)"
   ]
  },
  {
   "cell_type": "code",
   "execution_count": 223,
   "metadata": {
    "scrolled": true
   },
   "outputs": [
    {
     "name": "stdout",
     "output_type": "stream",
     "text": [
      "4 very high    4291\n",
      "1 low          4291\n",
      "0 very low     4291\n",
      "3 high         4291\n",
      "2 medium       4290\n",
      "Name: income_category, dtype: int64\n"
     ]
    },
    {
     "data": {
      "text/plain": [
       "count           21454\n",
       "unique              5\n",
       "top       4 very high\n",
       "freq             4291\n",
       "Name: income_category, dtype: object"
      ]
     },
     "execution_count": 223,
     "metadata": {},
     "output_type": "execute_result"
    }
   ],
   "source": [
    "# Contar los valores de cada categoría para ver la distribución\n",
    "\n",
    "print(df['income_category'].value_counts())\n",
    "\n",
    "####como se hizo por cuantiles se logro que tengan aproximadamente la misma cantidad de datos.\n",
    "\n",
    "df['income_category'].describe()\n"
   ]
  },
  {
   "cell_type": "markdown",
   "metadata": {},
   "source": [
    "<div class=\"alert alert-block alert-success\">\n",
    "<b>Comentario del revisor #2</b> <a class=\"tocSkip\"></a>\n",
    "    \n",
    "Buen trabajo en esta sección.\n",
    "</div>"
   ]
  },
  {
   "cell_type": "markdown",
   "metadata": {},
   "source": [
    "- [__Click para ir a la Tabla de Contenidos__](#tablacontenido)"
   ]
  },
  {
   "cell_type": "markdown",
   "metadata": {},
   "source": [
    "## 05. Comprobación de las hipótesis <a class=\"anchor\" id=\"comprobacion\"></a>\n"
   ]
  },
  {
   "cell_type": "markdown",
   "metadata": {},
   "source": [
    "**¿Existe una correlación entre tener hijos y pagar a tiempo?**"
   ]
  },
  {
   "cell_type": "code",
   "execution_count": 224,
   "metadata": {
    "scrolled": false
   },
   "outputs": [
    {
     "name": "stdout",
     "output_type": "stream",
     "text": [
      "debt  children\n",
      "0     0           13028\n",
      "      1            4410\n",
      "      2            1926\n",
      "      3             303\n",
      "      4              37\n",
      "      5               9\n",
      "Name: children, dtype: int64\n",
      "debt  children\n",
      "1     0           1063\n",
      "      1            445\n",
      "      2            202\n",
      "      3             27\n",
      "      4              4\n",
      "Name: children, dtype: int64\n"
     ]
    }
   ],
   "source": [
    "# Comprueba los datos sobre los hijos y los pagos puntuales\n",
    "df_hijos_pago_0 = df.loc[df['debt']==0].groupby('debt')['children'].value_counts()\n",
    "\n",
    "df_hijos_pago_1= df.loc[df['debt']==1].groupby('debt')['children'].value_counts()\n",
    "\n",
    "\n",
    "# Calcular la tasa de incumplimiento en función del número de hijos\n",
    "\n",
    "print(df_hijos_pago_0.head(6))\n",
    "\n",
    "print(df_hijos_pago_1.head(6))\n",
    "\n",
    "\n",
    "\n",
    "\n"
   ]
  },
  {
   "cell_type": "code",
   "execution_count": 225,
   "metadata": {
    "scrolled": true
   },
   "outputs": [
    {
     "data": {
      "text/html": [
       "<div>\n",
       "<style scoped>\n",
       "    .dataframe tbody tr th:only-of-type {\n",
       "        vertical-align: middle;\n",
       "    }\n",
       "\n",
       "    .dataframe tbody tr th {\n",
       "        vertical-align: top;\n",
       "    }\n",
       "\n",
       "    .dataframe thead tr th {\n",
       "        text-align: left;\n",
       "    }\n",
       "\n",
       "    .dataframe thead tr:last-of-type th {\n",
       "        text-align: right;\n",
       "    }\n",
       "</style>\n",
       "<table border=\"1\" class=\"dataframe\">\n",
       "  <thead>\n",
       "    <tr>\n",
       "      <th></th>\n",
       "      <th colspan=\"2\" halign=\"left\">count</th>\n",
       "      <th colspan=\"2\" halign=\"left\">tasa %</th>\n",
       "    </tr>\n",
       "    <tr>\n",
       "      <th>debt</th>\n",
       "      <th>0</th>\n",
       "      <th>1</th>\n",
       "      <th>0</th>\n",
       "      <th>1</th>\n",
       "    </tr>\n",
       "    <tr>\n",
       "      <th>children</th>\n",
       "      <th></th>\n",
       "      <th></th>\n",
       "      <th></th>\n",
       "      <th></th>\n",
       "    </tr>\n",
       "  </thead>\n",
       "  <tbody>\n",
       "    <tr>\n",
       "      <th>0</th>\n",
       "      <td>13028.0</td>\n",
       "      <td>1063.0</td>\n",
       "      <td>92.456178</td>\n",
       "      <td>7.543822</td>\n",
       "    </tr>\n",
       "    <tr>\n",
       "      <th>1</th>\n",
       "      <td>4410.0</td>\n",
       "      <td>445.0</td>\n",
       "      <td>90.834192</td>\n",
       "      <td>9.165808</td>\n",
       "    </tr>\n",
       "    <tr>\n",
       "      <th>2</th>\n",
       "      <td>1926.0</td>\n",
       "      <td>202.0</td>\n",
       "      <td>90.507519</td>\n",
       "      <td>9.492481</td>\n",
       "    </tr>\n",
       "    <tr>\n",
       "      <th>3</th>\n",
       "      <td>303.0</td>\n",
       "      <td>27.0</td>\n",
       "      <td>91.818182</td>\n",
       "      <td>8.181818</td>\n",
       "    </tr>\n",
       "    <tr>\n",
       "      <th>4</th>\n",
       "      <td>37.0</td>\n",
       "      <td>4.0</td>\n",
       "      <td>90.243902</td>\n",
       "      <td>9.756098</td>\n",
       "    </tr>\n",
       "    <tr>\n",
       "      <th>5</th>\n",
       "      <td>9.0</td>\n",
       "      <td>0.0</td>\n",
       "      <td>100.000000</td>\n",
       "      <td>0.000000</td>\n",
       "    </tr>\n",
       "  </tbody>\n",
       "</table>\n",
       "</div>"
      ],
      "text/plain": [
       "            count              tasa %          \n",
       "debt            0       1           0         1\n",
       "children                                       \n",
       "0         13028.0  1063.0   92.456178  7.543822\n",
       "1          4410.0   445.0   90.834192  9.165808\n",
       "2          1926.0   202.0   90.507519  9.492481\n",
       "3           303.0    27.0   91.818182  8.181818\n",
       "4            37.0     4.0   90.243902  9.756098\n",
       "5             9.0     0.0  100.000000  0.000000"
      ]
     },
     "execution_count": 225,
     "metadata": {},
     "output_type": "execute_result"
    }
   ],
   "source": [
    "\n",
    "pivot_table=pd.pivot_table(df, values='id', index='children', columns='debt', aggfunc=['count'], sort=True)\n",
    "##rellenando valores vacios del pivot table paraque no altere.\n",
    "pivot_table['count', 1].fillna(value=0, inplace=True)\n",
    "\n",
    "pivot_table['tasa %',0] = pivot_table['count', 0] / (pivot_table['count', 0]+pivot_table['count', 1]) * 100\n",
    "pivot_table['tasa %',1] = pivot_table['count', 1] / (pivot_table['count', 0]+pivot_table['count', 1]) * 100\n",
    "\n",
    "pivot_table"
   ]
  },
  {
   "cell_type": "markdown",
   "metadata": {},
   "source": [
    "\n",
    "**Respuesta `H1`:**\n",
    "\n",
    "+ No se puede concluir que la falta de pago tiene relacion con los hijos que se se tiene , ya que tiene una proporcion similar, vemos que el porcentaje de la table de las personas que no tienen deuda se mantiene constante, ademas las personas que no tienen hijos son las que mejor pagan hasta el momento por una pequeña diferencia.\n",
    "\n"
   ]
  },
  {
   "cell_type": "markdown",
   "metadata": {},
   "source": [
    "**¿Existe una correlación entre la situación familiar y el pago a tiempo?**"
   ]
  },
  {
   "cell_type": "code",
   "execution_count": 226,
   "metadata": {
    "scrolled": false
   },
   "outputs": [
    {
     "name": "stdout",
     "output_type": "stream",
     "text": [
      "debt  family_status    \n",
      "0     married              11408\n",
      "      civil partnership     3763\n",
      "      unmarried             2536\n",
      "      divorced              1110\n",
      "      widow / widower        896\n",
      "Name: family_status, dtype: int64 \n",
      "\n",
      "debt  family_status    \n",
      "1     married              931\n",
      "      civil partnership    388\n",
      "      unmarried            274\n",
      "      divorced              85\n",
      "      widow / widower       63\n",
      "Name: family_status, dtype: int64\n"
     ]
    }
   ],
   "source": [
    "# Comprueba los datos del estado familiar y los pagos a tiempo\n",
    "\n",
    "df_familia_status_pago_0 = df.loc[df['debt']==0].groupby('debt')['family_status'].value_counts()\n",
    "\n",
    "df_familia_status_pago_1= df.loc[df['debt']==1].groupby('debt')['family_status'].value_counts()\n",
    "\n",
    "# Calcular la tasa de incumplimiento basada en el estado familiar\n",
    "\n",
    "print(df_familia_status_pago_0,\"\\n\")\n",
    "\n",
    "print(df_familia_status_pago_1)\n",
    "\n"
   ]
  },
  {
   "cell_type": "code",
   "execution_count": 227,
   "metadata": {
    "scrolled": true
   },
   "outputs": [
    {
     "data": {
      "text/html": [
       "<div>\n",
       "<style scoped>\n",
       "    .dataframe tbody tr th:only-of-type {\n",
       "        vertical-align: middle;\n",
       "    }\n",
       "\n",
       "    .dataframe tbody tr th {\n",
       "        vertical-align: top;\n",
       "    }\n",
       "\n",
       "    .dataframe thead tr th {\n",
       "        text-align: left;\n",
       "    }\n",
       "\n",
       "    .dataframe thead tr:last-of-type th {\n",
       "        text-align: right;\n",
       "    }\n",
       "</style>\n",
       "<table border=\"1\" class=\"dataframe\">\n",
       "  <thead>\n",
       "    <tr>\n",
       "      <th></th>\n",
       "      <th colspan=\"2\" halign=\"left\">count</th>\n",
       "      <th colspan=\"2\" halign=\"left\">tasa %</th>\n",
       "    </tr>\n",
       "    <tr>\n",
       "      <th>debt</th>\n",
       "      <th>0</th>\n",
       "      <th>1</th>\n",
       "      <th>0</th>\n",
       "      <th>1</th>\n",
       "    </tr>\n",
       "    <tr>\n",
       "      <th>family_status</th>\n",
       "      <th></th>\n",
       "      <th></th>\n",
       "      <th></th>\n",
       "      <th></th>\n",
       "    </tr>\n",
       "  </thead>\n",
       "  <tbody>\n",
       "    <tr>\n",
       "      <th>civil partnership</th>\n",
       "      <td>3763</td>\n",
       "      <td>388</td>\n",
       "      <td>90.652855</td>\n",
       "      <td>9.347145</td>\n",
       "    </tr>\n",
       "    <tr>\n",
       "      <th>divorced</th>\n",
       "      <td>1110</td>\n",
       "      <td>85</td>\n",
       "      <td>92.887029</td>\n",
       "      <td>7.112971</td>\n",
       "    </tr>\n",
       "    <tr>\n",
       "      <th>married</th>\n",
       "      <td>11408</td>\n",
       "      <td>931</td>\n",
       "      <td>92.454818</td>\n",
       "      <td>7.545182</td>\n",
       "    </tr>\n",
       "    <tr>\n",
       "      <th>unmarried</th>\n",
       "      <td>2536</td>\n",
       "      <td>274</td>\n",
       "      <td>90.249110</td>\n",
       "      <td>9.750890</td>\n",
       "    </tr>\n",
       "    <tr>\n",
       "      <th>widow / widower</th>\n",
       "      <td>896</td>\n",
       "      <td>63</td>\n",
       "      <td>93.430657</td>\n",
       "      <td>6.569343</td>\n",
       "    </tr>\n",
       "  </tbody>\n",
       "</table>\n",
       "</div>"
      ],
      "text/plain": [
       "                   count          tasa %          \n",
       "debt                   0    1          0         1\n",
       "family_status                                     \n",
       "civil partnership   3763  388  90.652855  9.347145\n",
       "divorced            1110   85  92.887029  7.112971\n",
       "married            11408  931  92.454818  7.545182\n",
       "unmarried           2536  274  90.249110  9.750890\n",
       "widow / widower      896   63  93.430657  6.569343"
      ]
     },
     "execution_count": 227,
     "metadata": {},
     "output_type": "execute_result"
    }
   ],
   "source": [
    "pivot_table_family=pd.pivot_table(df, values='id', index='family_status', columns='debt', aggfunc=['count'], sort=True)\n",
    "\n",
    "pivot_table_family['tasa %',0] = pivot_table_family['count', 0] / (pivot_table_family['count', 0]+pivot_table_family['count', 1]) * 100\n",
    "pivot_table_family['tasa %',1] = pivot_table_family['count', 1] / (pivot_table_family['count', 0]+pivot_table_family['count', 1]) * 100\n",
    "\n",
    "pivot_table_family"
   ]
  },
  {
   "cell_type": "markdown",
   "metadata": {},
   "source": [
    "\n",
    "**Respuesta `H2`:**\n",
    " + Podemos concluir que que el 92.45 % de las personas  se encuentran casadas no presentan deudas o las pagan a tiempo, pero tambien los divorciados y los viudos por lo que se debe procurar dar prestamos a ese grupo de personas porque las pagan a tiempo.\n",
    " \n",
    "+ Puedo afirmar que existe una correlación entre la situación familiar y el pago a tiempo. Se observa que cada estado civil tiene una tasa de incumplimiento de pago diferente, siendo los clientes solteros quienes tienen una tasa de incumplimiento de pago más alta en comparación con los clientes casados o con pareja. "
   ]
  },
  {
   "cell_type": "markdown",
   "metadata": {},
   "source": [
    "**¿Existe una correlación entre el nivel de ingresos y el pago a tiempo?**"
   ]
  },
  {
   "cell_type": "code",
   "execution_count": 228,
   "metadata": {
    "scrolled": true
   },
   "outputs": [
    {
     "name": "stdout",
     "output_type": "stream",
     "text": [
      "debt  income_category\n",
      "0     4 very high        3991\n",
      "      0 very low         3947\n",
      "      1 low              3930\n",
      "      3 high             3930\n",
      "      2 medium           3915\n",
      "Name: income_category, dtype: int64 \n",
      "\n",
      "debt  income_category\n",
      "1     2 medium           375\n",
      "      1 low              361\n",
      "      3 high             361\n",
      "      0 very low         344\n",
      "      4 very high        300\n",
      "Name: income_category, dtype: int64\n"
     ]
    }
   ],
   "source": [
    "# Comprueba los datos del nivel de ingresos y los pagos a tiempo\n",
    "\n",
    "df_total_income_pago_0 = df.loc[df['debt']==0].groupby('debt')['income_category'].value_counts()\n",
    "\n",
    "df_total_income_pago_1= df.loc[df['debt']==1].groupby('debt')['income_category'].value_counts()\n",
    "\n",
    "\n",
    "# Calcular la tasa de incumplimiento basada en el nivel de ingresos\n",
    "\n",
    "print(df_total_income_pago_0,\"\\n\")\n",
    "\n",
    "print(df_total_income_pago_1)\n"
   ]
  },
  {
   "cell_type": "code",
   "execution_count": 229,
   "metadata": {
    "scrolled": true
   },
   "outputs": [
    {
     "data": {
      "text/html": [
       "<div>\n",
       "<style scoped>\n",
       "    .dataframe tbody tr th:only-of-type {\n",
       "        vertical-align: middle;\n",
       "    }\n",
       "\n",
       "    .dataframe tbody tr th {\n",
       "        vertical-align: top;\n",
       "    }\n",
       "\n",
       "    .dataframe thead tr th {\n",
       "        text-align: left;\n",
       "    }\n",
       "\n",
       "    .dataframe thead tr:last-of-type th {\n",
       "        text-align: right;\n",
       "    }\n",
       "</style>\n",
       "<table border=\"1\" class=\"dataframe\">\n",
       "  <thead>\n",
       "    <tr>\n",
       "      <th></th>\n",
       "      <th colspan=\"2\" halign=\"left\">count</th>\n",
       "      <th colspan=\"2\" halign=\"left\">tasa %</th>\n",
       "    </tr>\n",
       "    <tr>\n",
       "      <th>debt</th>\n",
       "      <th>0</th>\n",
       "      <th>1</th>\n",
       "      <th>0</th>\n",
       "      <th>1</th>\n",
       "    </tr>\n",
       "    <tr>\n",
       "      <th>income_category</th>\n",
       "      <th></th>\n",
       "      <th></th>\n",
       "      <th></th>\n",
       "      <th></th>\n",
       "    </tr>\n",
       "  </thead>\n",
       "  <tbody>\n",
       "    <tr>\n",
       "      <th>0 very low</th>\n",
       "      <td>3947</td>\n",
       "      <td>344</td>\n",
       "      <td>91.983221</td>\n",
       "      <td>8.016779</td>\n",
       "    </tr>\n",
       "    <tr>\n",
       "      <th>1 low</th>\n",
       "      <td>3930</td>\n",
       "      <td>361</td>\n",
       "      <td>91.587043</td>\n",
       "      <td>8.412957</td>\n",
       "    </tr>\n",
       "    <tr>\n",
       "      <th>2 medium</th>\n",
       "      <td>3915</td>\n",
       "      <td>375</td>\n",
       "      <td>91.258741</td>\n",
       "      <td>8.741259</td>\n",
       "    </tr>\n",
       "    <tr>\n",
       "      <th>3 high</th>\n",
       "      <td>3930</td>\n",
       "      <td>361</td>\n",
       "      <td>91.587043</td>\n",
       "      <td>8.412957</td>\n",
       "    </tr>\n",
       "    <tr>\n",
       "      <th>4 very high</th>\n",
       "      <td>3991</td>\n",
       "      <td>300</td>\n",
       "      <td>93.008623</td>\n",
       "      <td>6.991377</td>\n",
       "    </tr>\n",
       "  </tbody>\n",
       "</table>\n",
       "</div>"
      ],
      "text/plain": [
       "                count          tasa %          \n",
       "debt                0    1          0         1\n",
       "income_category                                \n",
       "0 very low       3947  344  91.983221  8.016779\n",
       "1 low            3930  361  91.587043  8.412957\n",
       "2 medium         3915  375  91.258741  8.741259\n",
       "3 high           3930  361  91.587043  8.412957\n",
       "4 very high      3991  300  93.008623  6.991377"
      ]
     },
     "execution_count": 229,
     "metadata": {},
     "output_type": "execute_result"
    }
   ],
   "source": [
    "pivot_table_income_category=pd.pivot_table(df, values='id', index='income_category', columns='debt', aggfunc=['count'], sort=True)\n",
    "##rellenando valores vacios del pivot table paraque no altere.\n",
    "\n",
    "\n",
    "pivot_table_income_category['tasa %',0] = pivot_table_income_category['count', 0] / (pivot_table_income_category['count', 0]+pivot_table_income_category['count', 1]) * 100\n",
    "pivot_table_income_category['tasa %',1] = pivot_table_income_category['count', 1] / (pivot_table_income_category['count', 0]+pivot_table_income_category['count', 1]) * 100\n",
    "\n",
    "pivot_table_income_category"
   ]
  },
  {
   "cell_type": "markdown",
   "metadata": {},
   "source": [
    "**Respuesta `H3`:**\n",
    "\n",
    "+ Se concluye que las personas que han tenido mayor ingreso pueden pagar su deuda, o son mejor paga. Esto los vuelve candidatos para prestamos.\n",
    "+ Sí, existe una correlación entre el nivel de ingresos y el pago a tiempo. Según los datos presentados en la tabla, se puede observar que a medida que aumenta el nivel de ingresos, también aumenta la tasa de pago a tiempo. Los clientes con un nivel de ingresos muy bajo tienen una tasa de pago a tiempo del 91.98%, mientras que los clientes con un nivel de ingresos muy alto tienen una tasa de pago a tiempo del 93.00%.\n"
   ]
  },
  {
   "cell_type": "markdown",
   "metadata": {},
   "source": [
    "**¿Cómo afecta el propósito del crédito a la tasa de incumplimiento?**"
   ]
  },
  {
   "cell_type": "code",
   "execution_count": 230,
   "metadata": {
    "scrolled": true
   },
   "outputs": [
    {
     "data": {
      "text/html": [
       "<div>\n",
       "<style scoped>\n",
       "    .dataframe tbody tr th:only-of-type {\n",
       "        vertical-align: middle;\n",
       "    }\n",
       "\n",
       "    .dataframe tbody tr th {\n",
       "        vertical-align: top;\n",
       "    }\n",
       "\n",
       "    .dataframe thead tr th {\n",
       "        text-align: left;\n",
       "    }\n",
       "\n",
       "    .dataframe thead tr:last-of-type th {\n",
       "        text-align: right;\n",
       "    }\n",
       "</style>\n",
       "<table border=\"1\" class=\"dataframe\">\n",
       "  <thead>\n",
       "    <tr>\n",
       "      <th></th>\n",
       "      <th colspan=\"2\" halign=\"left\">count</th>\n",
       "      <th colspan=\"2\" halign=\"left\">tasa %</th>\n",
       "    </tr>\n",
       "    <tr>\n",
       "      <th>debt</th>\n",
       "      <th>0</th>\n",
       "      <th>1</th>\n",
       "      <th>0</th>\n",
       "      <th>1</th>\n",
       "    </tr>\n",
       "    <tr>\n",
       "      <th>purpose_category</th>\n",
       "      <th></th>\n",
       "      <th></th>\n",
       "      <th></th>\n",
       "      <th></th>\n",
       "    </tr>\n",
       "  </thead>\n",
       "  <tbody>\n",
       "    <tr>\n",
       "      <th>car</th>\n",
       "      <td>3903</td>\n",
       "      <td>403</td>\n",
       "      <td>90.640966</td>\n",
       "      <td>9.359034</td>\n",
       "    </tr>\n",
       "    <tr>\n",
       "      <th>education</th>\n",
       "      <td>3643</td>\n",
       "      <td>370</td>\n",
       "      <td>90.779965</td>\n",
       "      <td>9.220035</td>\n",
       "    </tr>\n",
       "    <tr>\n",
       "      <th>real estate</th>\n",
       "      <td>10029</td>\n",
       "      <td>782</td>\n",
       "      <td>92.766627</td>\n",
       "      <td>7.233373</td>\n",
       "    </tr>\n",
       "    <tr>\n",
       "      <th>wedding</th>\n",
       "      <td>2138</td>\n",
       "      <td>186</td>\n",
       "      <td>91.996558</td>\n",
       "      <td>8.003442</td>\n",
       "    </tr>\n",
       "  </tbody>\n",
       "</table>\n",
       "</div>"
      ],
      "text/plain": [
       "                  count          tasa %          \n",
       "debt                  0    1          0         1\n",
       "purpose_category                                 \n",
       "car                3903  403  90.640966  9.359034\n",
       "education          3643  370  90.779965  9.220035\n",
       "real estate       10029  782  92.766627  7.233373\n",
       "wedding            2138  186  91.996558  8.003442"
      ]
     },
     "execution_count": 230,
     "metadata": {},
     "output_type": "execute_result"
    }
   ],
   "source": [
    "pivot_table_purpose_category=pd.pivot_table(df, values='id', index='purpose_category', columns='debt', aggfunc=['count'], sort=True)\n",
    "##rellenando valores vacios del pivot table paraque no altere.\n",
    "\n",
    "\n",
    "pivot_table_purpose_category['tasa %',0] = pivot_table_purpose_category['count', 0] / (pivot_table_purpose_category['count', 0]+pivot_table_purpose_category['count', 1]) * 100\n",
    "pivot_table_purpose_category['tasa %',1] = pivot_table_purpose_category['count', 1] / (pivot_table_purpose_category['count', 0]+pivot_table_purpose_category['count', 1]) * 100\n",
    "\n",
    "pivot_table_purpose_category"
   ]
  },
  {
   "cell_type": "markdown",
   "metadata": {},
   "source": [
    "**Respuesta `H4`:**\n",
    "\n",
    "\n",
    "Los datos presentados en la tabla muestran que diferentes categorías de propósitos tienen tasas de incumplimiento de pago diferentes. Por ejemplo, se observa que los clientes que solicitan un préstamo para comprar un automóvil tienen una tasa de incumplimiento de pago del 9.36%, mientras que los clientes que solicitan un préstamo para la educación tienen una tasa de incumplimiento de pago del 9.22%.\n"
   ]
  },
  {
   "cell_type": "markdown",
   "metadata": {},
   "source": [
    "<div class=\"alert alert-block alert-warning\">\n",
    "<b>Comentario del revisor #2</b> <a class=\"tocSkip\"></a>\n",
    "    \n",
    "Gran trabajo en esta sección, Gabriel. Habrá que ejecutarla de nuevo una vez se implementen los cambios sugeridos más arriba.\n",
    "</div>"
   ]
  },
  {
   "cell_type": "markdown",
   "metadata": {},
   "source": [
    "<div class=\"alert alert-block alert-info\">\n",
    "    \n",
    "<b>Respuesta del estudiante</b>  <a class=\"tocSkip\"></a> <br>\n",
    "    Listo. Se corrigio la seccion de arriba.\n",
    "    \n",
    "</div>"
   ]
  },
  {
   "cell_type": "markdown",
   "metadata": {},
   "source": [
    "# Conclusión general <a class=\"anchor\" id=\"conclusiongeneral\"></a>\n",
    "\n",
    "\n",
    "A partir de los datos analizados y las hipótesis propuestas, se puede concluir que existen varios factores que pueden afectar la tasa de incumplimiento de pago de un préstamo. \n",
    "\n",
    "En primer lugar, se observa que la situación familiar de los clientes tiene un impacto en el pago a tiempo, con los clientes casados o con pareja presentando una tasa de incumplimiento de pago más baja en comparación con los clientes solteros. \n",
    "\n",
    "Además, el nivel de ingresos de los clientes también se relaciona con el pago a tiempo, con los clientes con ingresos más altos teniendo una tasa de pago a tiempo más alta. \n",
    "\n",
    "Por último, el propósito del crédito también puede afectar la tasa de incumplimiento de pago, con diferentes categorías de propósitos presentando tasas de incumplimiento de pago diferentes.\n",
    "\n",
    "En resumen, el informe final debe reflejar que se deben tener en cuenta estos factores al momento de evaluar la solvencia crediticia de un cliente potencial y asignarle una puntuación de crédito. Es importante mencionar que no existe un factor determinante para el incumplimiento de pago y se deben considerar varios factores a la hora de evaluar el riesgo de un cliente.\n",
    "    "
   ]
  },
  {
   "cell_type": "code",
   "execution_count": 231,
   "metadata": {
    "scrolled": true
   },
   "outputs": [
    {
     "data": {
      "text/html": [
       "<div>\n",
       "<style scoped>\n",
       "    .dataframe tbody tr th:only-of-type {\n",
       "        vertical-align: middle;\n",
       "    }\n",
       "\n",
       "    .dataframe tbody tr th {\n",
       "        vertical-align: top;\n",
       "    }\n",
       "\n",
       "    .dataframe thead tr th {\n",
       "        text-align: left;\n",
       "    }\n",
       "\n",
       "    .dataframe thead tr:last-of-type th {\n",
       "        text-align: right;\n",
       "    }\n",
       "</style>\n",
       "<table border=\"1\" class=\"dataframe\">\n",
       "  <thead>\n",
       "    <tr>\n",
       "      <th></th>\n",
       "      <th colspan=\"2\" halign=\"left\">count</th>\n",
       "      <th colspan=\"2\" halign=\"left\">tasa %</th>\n",
       "    </tr>\n",
       "    <tr>\n",
       "      <th>debt</th>\n",
       "      <th>0</th>\n",
       "      <th>1</th>\n",
       "      <th>0</th>\n",
       "      <th>1</th>\n",
       "    </tr>\n",
       "    <tr>\n",
       "      <th>children</th>\n",
       "      <th></th>\n",
       "      <th></th>\n",
       "      <th></th>\n",
       "      <th></th>\n",
       "    </tr>\n",
       "  </thead>\n",
       "  <tbody>\n",
       "    <tr>\n",
       "      <th>0</th>\n",
       "      <td>13028.0</td>\n",
       "      <td>1063.0</td>\n",
       "      <td>92.456178</td>\n",
       "      <td>7.543822</td>\n",
       "    </tr>\n",
       "    <tr>\n",
       "      <th>1</th>\n",
       "      <td>4410.0</td>\n",
       "      <td>445.0</td>\n",
       "      <td>90.834192</td>\n",
       "      <td>9.165808</td>\n",
       "    </tr>\n",
       "    <tr>\n",
       "      <th>2</th>\n",
       "      <td>1926.0</td>\n",
       "      <td>202.0</td>\n",
       "      <td>90.507519</td>\n",
       "      <td>9.492481</td>\n",
       "    </tr>\n",
       "    <tr>\n",
       "      <th>3</th>\n",
       "      <td>303.0</td>\n",
       "      <td>27.0</td>\n",
       "      <td>91.818182</td>\n",
       "      <td>8.181818</td>\n",
       "    </tr>\n",
       "    <tr>\n",
       "      <th>4</th>\n",
       "      <td>37.0</td>\n",
       "      <td>4.0</td>\n",
       "      <td>90.243902</td>\n",
       "      <td>9.756098</td>\n",
       "    </tr>\n",
       "    <tr>\n",
       "      <th>5</th>\n",
       "      <td>9.0</td>\n",
       "      <td>0.0</td>\n",
       "      <td>100.000000</td>\n",
       "      <td>0.000000</td>\n",
       "    </tr>\n",
       "  </tbody>\n",
       "</table>\n",
       "</div>"
      ],
      "text/plain": [
       "            count              tasa %          \n",
       "debt            0       1           0         1\n",
       "children                                       \n",
       "0         13028.0  1063.0   92.456178  7.543822\n",
       "1          4410.0   445.0   90.834192  9.165808\n",
       "2          1926.0   202.0   90.507519  9.492481\n",
       "3           303.0    27.0   91.818182  8.181818\n",
       "4            37.0     4.0   90.243902  9.756098\n",
       "5             9.0     0.0  100.000000  0.000000"
      ]
     },
     "execution_count": 231,
     "metadata": {},
     "output_type": "execute_result"
    }
   ],
   "source": [
    "pivot_table"
   ]
  },
  {
   "cell_type": "code",
   "execution_count": 232,
   "metadata": {
    "scrolled": true
   },
   "outputs": [
    {
     "data": {
      "text/html": [
       "<div>\n",
       "<style scoped>\n",
       "    .dataframe tbody tr th:only-of-type {\n",
       "        vertical-align: middle;\n",
       "    }\n",
       "\n",
       "    .dataframe tbody tr th {\n",
       "        vertical-align: top;\n",
       "    }\n",
       "\n",
       "    .dataframe thead tr th {\n",
       "        text-align: left;\n",
       "    }\n",
       "\n",
       "    .dataframe thead tr:last-of-type th {\n",
       "        text-align: right;\n",
       "    }\n",
       "</style>\n",
       "<table border=\"1\" class=\"dataframe\">\n",
       "  <thead>\n",
       "    <tr>\n",
       "      <th></th>\n",
       "      <th colspan=\"2\" halign=\"left\">count</th>\n",
       "      <th colspan=\"2\" halign=\"left\">tasa %</th>\n",
       "    </tr>\n",
       "    <tr>\n",
       "      <th>debt</th>\n",
       "      <th>0</th>\n",
       "      <th>1</th>\n",
       "      <th>0</th>\n",
       "      <th>1</th>\n",
       "    </tr>\n",
       "    <tr>\n",
       "      <th>family_status</th>\n",
       "      <th></th>\n",
       "      <th></th>\n",
       "      <th></th>\n",
       "      <th></th>\n",
       "    </tr>\n",
       "  </thead>\n",
       "  <tbody>\n",
       "    <tr>\n",
       "      <th>civil partnership</th>\n",
       "      <td>3763</td>\n",
       "      <td>388</td>\n",
       "      <td>90.652855</td>\n",
       "      <td>9.347145</td>\n",
       "    </tr>\n",
       "    <tr>\n",
       "      <th>divorced</th>\n",
       "      <td>1110</td>\n",
       "      <td>85</td>\n",
       "      <td>92.887029</td>\n",
       "      <td>7.112971</td>\n",
       "    </tr>\n",
       "    <tr>\n",
       "      <th>married</th>\n",
       "      <td>11408</td>\n",
       "      <td>931</td>\n",
       "      <td>92.454818</td>\n",
       "      <td>7.545182</td>\n",
       "    </tr>\n",
       "    <tr>\n",
       "      <th>unmarried</th>\n",
       "      <td>2536</td>\n",
       "      <td>274</td>\n",
       "      <td>90.249110</td>\n",
       "      <td>9.750890</td>\n",
       "    </tr>\n",
       "    <tr>\n",
       "      <th>widow / widower</th>\n",
       "      <td>896</td>\n",
       "      <td>63</td>\n",
       "      <td>93.430657</td>\n",
       "      <td>6.569343</td>\n",
       "    </tr>\n",
       "  </tbody>\n",
       "</table>\n",
       "</div>"
      ],
      "text/plain": [
       "                   count          tasa %          \n",
       "debt                   0    1          0         1\n",
       "family_status                                     \n",
       "civil partnership   3763  388  90.652855  9.347145\n",
       "divorced            1110   85  92.887029  7.112971\n",
       "married            11408  931  92.454818  7.545182\n",
       "unmarried           2536  274  90.249110  9.750890\n",
       "widow / widower      896   63  93.430657  6.569343"
      ]
     },
     "execution_count": 232,
     "metadata": {},
     "output_type": "execute_result"
    }
   ],
   "source": [
    "pivot_table_family"
   ]
  },
  {
   "cell_type": "code",
   "execution_count": 233,
   "metadata": {
    "scrolled": true
   },
   "outputs": [
    {
     "data": {
      "text/html": [
       "<div>\n",
       "<style scoped>\n",
       "    .dataframe tbody tr th:only-of-type {\n",
       "        vertical-align: middle;\n",
       "    }\n",
       "\n",
       "    .dataframe tbody tr th {\n",
       "        vertical-align: top;\n",
       "    }\n",
       "\n",
       "    .dataframe thead tr th {\n",
       "        text-align: left;\n",
       "    }\n",
       "\n",
       "    .dataframe thead tr:last-of-type th {\n",
       "        text-align: right;\n",
       "    }\n",
       "</style>\n",
       "<table border=\"1\" class=\"dataframe\">\n",
       "  <thead>\n",
       "    <tr>\n",
       "      <th></th>\n",
       "      <th colspan=\"2\" halign=\"left\">count</th>\n",
       "      <th colspan=\"2\" halign=\"left\">tasa %</th>\n",
       "    </tr>\n",
       "    <tr>\n",
       "      <th>debt</th>\n",
       "      <th>0</th>\n",
       "      <th>1</th>\n",
       "      <th>0</th>\n",
       "      <th>1</th>\n",
       "    </tr>\n",
       "    <tr>\n",
       "      <th>income_category</th>\n",
       "      <th></th>\n",
       "      <th></th>\n",
       "      <th></th>\n",
       "      <th></th>\n",
       "    </tr>\n",
       "  </thead>\n",
       "  <tbody>\n",
       "    <tr>\n",
       "      <th>0 very low</th>\n",
       "      <td>3947</td>\n",
       "      <td>344</td>\n",
       "      <td>91.983221</td>\n",
       "      <td>8.016779</td>\n",
       "    </tr>\n",
       "    <tr>\n",
       "      <th>1 low</th>\n",
       "      <td>3930</td>\n",
       "      <td>361</td>\n",
       "      <td>91.587043</td>\n",
       "      <td>8.412957</td>\n",
       "    </tr>\n",
       "    <tr>\n",
       "      <th>2 medium</th>\n",
       "      <td>3915</td>\n",
       "      <td>375</td>\n",
       "      <td>91.258741</td>\n",
       "      <td>8.741259</td>\n",
       "    </tr>\n",
       "    <tr>\n",
       "      <th>3 high</th>\n",
       "      <td>3930</td>\n",
       "      <td>361</td>\n",
       "      <td>91.587043</td>\n",
       "      <td>8.412957</td>\n",
       "    </tr>\n",
       "    <tr>\n",
       "      <th>4 very high</th>\n",
       "      <td>3991</td>\n",
       "      <td>300</td>\n",
       "      <td>93.008623</td>\n",
       "      <td>6.991377</td>\n",
       "    </tr>\n",
       "  </tbody>\n",
       "</table>\n",
       "</div>"
      ],
      "text/plain": [
       "                count          tasa %          \n",
       "debt                0    1          0         1\n",
       "income_category                                \n",
       "0 very low       3947  344  91.983221  8.016779\n",
       "1 low            3930  361  91.587043  8.412957\n",
       "2 medium         3915  375  91.258741  8.741259\n",
       "3 high           3930  361  91.587043  8.412957\n",
       "4 very high      3991  300  93.008623  6.991377"
      ]
     },
     "execution_count": 233,
     "metadata": {},
     "output_type": "execute_result"
    }
   ],
   "source": [
    "pivot_table_income_category"
   ]
  },
  {
   "cell_type": "code",
   "execution_count": 234,
   "metadata": {
    "scrolled": true
   },
   "outputs": [
    {
     "data": {
      "text/html": [
       "<div>\n",
       "<style scoped>\n",
       "    .dataframe tbody tr th:only-of-type {\n",
       "        vertical-align: middle;\n",
       "    }\n",
       "\n",
       "    .dataframe tbody tr th {\n",
       "        vertical-align: top;\n",
       "    }\n",
       "\n",
       "    .dataframe thead tr th {\n",
       "        text-align: left;\n",
       "    }\n",
       "\n",
       "    .dataframe thead tr:last-of-type th {\n",
       "        text-align: right;\n",
       "    }\n",
       "</style>\n",
       "<table border=\"1\" class=\"dataframe\">\n",
       "  <thead>\n",
       "    <tr>\n",
       "      <th></th>\n",
       "      <th colspan=\"2\" halign=\"left\">count</th>\n",
       "      <th colspan=\"2\" halign=\"left\">tasa %</th>\n",
       "    </tr>\n",
       "    <tr>\n",
       "      <th>debt</th>\n",
       "      <th>0</th>\n",
       "      <th>1</th>\n",
       "      <th>0</th>\n",
       "      <th>1</th>\n",
       "    </tr>\n",
       "    <tr>\n",
       "      <th>purpose_category</th>\n",
       "      <th></th>\n",
       "      <th></th>\n",
       "      <th></th>\n",
       "      <th></th>\n",
       "    </tr>\n",
       "  </thead>\n",
       "  <tbody>\n",
       "    <tr>\n",
       "      <th>car</th>\n",
       "      <td>3903</td>\n",
       "      <td>403</td>\n",
       "      <td>90.640966</td>\n",
       "      <td>9.359034</td>\n",
       "    </tr>\n",
       "    <tr>\n",
       "      <th>education</th>\n",
       "      <td>3643</td>\n",
       "      <td>370</td>\n",
       "      <td>90.779965</td>\n",
       "      <td>9.220035</td>\n",
       "    </tr>\n",
       "    <tr>\n",
       "      <th>real estate</th>\n",
       "      <td>10029</td>\n",
       "      <td>782</td>\n",
       "      <td>92.766627</td>\n",
       "      <td>7.233373</td>\n",
       "    </tr>\n",
       "    <tr>\n",
       "      <th>wedding</th>\n",
       "      <td>2138</td>\n",
       "      <td>186</td>\n",
       "      <td>91.996558</td>\n",
       "      <td>8.003442</td>\n",
       "    </tr>\n",
       "  </tbody>\n",
       "</table>\n",
       "</div>"
      ],
      "text/plain": [
       "                  count          tasa %          \n",
       "debt                  0    1          0         1\n",
       "purpose_category                                 \n",
       "car                3903  403  90.640966  9.359034\n",
       "education          3643  370  90.779965  9.220035\n",
       "real estate       10029  782  92.766627  7.233373\n",
       "wedding            2138  186  91.996558  8.003442"
      ]
     },
     "execution_count": 234,
     "metadata": {},
     "output_type": "execute_result"
    }
   ],
   "source": [
    "pivot_table_purpose_category"
   ]
  },
  {
   "cell_type": "markdown",
   "metadata": {},
   "source": [
    "- [__Click para ir a la Tabla de Contenidos__](#tablacontenido)"
   ]
  },
  {
   "cell_type": "markdown",
   "metadata": {},
   "source": [
    "<div class=\"alert alert-block alert-danger\">\n",
    "<b>Comentario del revisor</b> <a class=\"tocSkip\"></a>\n",
    "    \n",
    "Esto debe hacerse con python exclusivamente para cumplir con los objetivos del curso. Puedes hacerlo con una tabla pivot.\n",
    "</div>"
   ]
  },
  {
   "cell_type": "markdown",
   "metadata": {},
   "source": [
    "<div class=\"alert alert-block alert-info\">\n",
    "    \n",
    "<b>Respuesta del estudiante</b>  <a class=\"tocSkip\"></a> <br>\n",
    "    Listo. Se elimino la tabla excel que estaba y se reemplazo por su equivalente en pyhton.\n",
    "\n",
    "</div>"
   ]
  },
  {
   "cell_type": "markdown",
   "metadata": {},
   "source": [
    "<div class=\"alert alert-block alert-danger\">\n",
    "\n",
    "# Comentarios generales #1\n",
    "<b>Comentario del revisor</b> <a class=\"tocSkip\"></a>\n",
    "    \n",
    "Hola, Gabriel. Has hecho un buen trabajo con el análisis de este dataset y su preprocesamiento, no obstante, es necesario trabajar en algunos puntos y el proyecto será aprobado cuando los mismos sean corregidos. He dejado comentarios detallados a lo largo del documento pero los enuemraré a continuación:\n",
    "    \n",
    "1. Elimina los comentarios entre corchetes y sustituyelos por conclusiones intermedias. El proyecto no se puede aprobar si esos comentarios están allí.\n",
    "2. Revisa la sección de preprocesamiento. Una línea de código ha trastocado la estructura interna del dataset.\n",
    "3. Solo podemos utilizar python para encontrar las soluciones a los problemas planteados en el proyecto.\n",
    "4. La imputación de datos ausentes es mejor hacerla a través de estadísticos condicionados en lugar de estadísticos generales.\n",
    "    \n",
    "Una vez esto sea corregido, el proyecto será aprobado.\n",
    "</div>"
   ]
  },
  {
   "cell_type": "markdown",
   "metadata": {},
   "source": [
    "<div class=\"alert alert-block alert-info\">\n",
    "    \n",
    "<b>Respuesta del estudiante</b>  <a class=\"tocSkip\"></a> <br>\n",
    "    Listo. Se corrigio lo mas los comentarios en rojo de la primera revision.\n",
    "\n",
    "</div>"
   ]
  },
  {
   "cell_type": "markdown",
   "metadata": {},
   "source": [
    "<div class=\"alert alert-block alert-danger\">\n",
    "\n",
    "# Comentarios generales #2\n",
    "<b>Comentario del revisor</b> <a class=\"tocSkip\"></a>\n",
    "    \n",
    "Gran trabajo, Gabriel. Has corregido gran parte de lo sugerido pero aún nos quedan algunos puntos por solucionar. Te he dejado comentarios detallados a lo largo del documento para ello.\n",
    "</div>"
   ]
  },
  {
   "cell_type": "markdown",
   "metadata": {},
   "source": [
    "<div class=\"alert alert-block alert-info\">\n",
    "    \n",
    "<b>Respuesta del estudiante #2</b>  <a class=\"tocSkip\"></a> <br>\n",
    "    Listo. Se hizo las correciones comentadas a detalle. \n",
    "    \n",
    "</div>"
   ]
  }
 ],
 "metadata": {
  "ExecuteTimeLog": [
   {
    "duration": 2741,
    "start_time": "2021-10-21T01:08:49.480Z"
   },
   {
    "duration": 52,
    "start_time": "2021-10-21T01:08:53.315Z"
   },
   {
    "duration": 49,
    "start_time": "2021-10-21T01:08:57.432Z"
   },
   {
    "duration": 70,
    "start_time": "2021-10-21T01:09:07.706Z"
   }
  ],
  "kernelspec": {
   "display_name": "Python 3 (ipykernel)",
   "language": "python",
   "name": "python3"
  },
  "language_info": {
   "codemirror_mode": {
    "name": "ipython",
    "version": 3
   },
   "file_extension": ".py",
   "mimetype": "text/x-python",
   "name": "python",
   "nbconvert_exporter": "python",
   "pygments_lexer": "ipython3",
   "version": "3.9.12"
  },
  "toc": {
   "base_numbering": 1,
   "nav_menu": {},
   "number_sections": true,
   "sideBar": true,
   "skip_h1_title": true,
   "title_cell": "Table of Contents",
   "title_sidebar": "Contents",
   "toc_cell": false,
   "toc_position": {},
   "toc_section_display": true,
   "toc_window_display": false
  }
 },
 "nbformat": 4,
 "nbformat_minor": 2
}
