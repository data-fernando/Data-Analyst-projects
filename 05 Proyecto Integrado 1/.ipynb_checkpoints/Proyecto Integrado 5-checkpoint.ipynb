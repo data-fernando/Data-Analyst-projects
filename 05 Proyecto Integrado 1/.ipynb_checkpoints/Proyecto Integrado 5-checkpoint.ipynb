{
 "cells": [
  {
   "cell_type": "markdown",
   "id": "4f93c522",
   "metadata": {},
   "source": [
    "# Proyecto Integrado 5\n",
    "\n",
    "¡Hola! Mi nombre es Fernando Ponce y en este caso debo analizar la base de datos de Online Ice para responder preguntas de negocio.\n",
    "Online Ice es una tienda que vende videojuegos de forma global. En este caso se debe determinar qué patrones de videojuegos tienen éxito y cuáles no.\n",
    "\n",
    "El dataset contiene la abreviatura ESRB. The Entertainment Software Rating Board (la Junta de clasificación de software de entretenimiento) evalúa el contenido de un juego y asigna una clasificación de edad como Adolescente o Adulto.\n",
    "\n",
    "Se debe identificar los parámetros o características que influyen en un videojuego para que sea exitoso dentro de una campaña de marketing o la elaboración de un nuevo videojuego.\n",
    "\n",
    "__Se debe obtener respuestas con argumentación estadística y probabilidad para:__\n",
    "\n",
    "+ Las calificaciones promedio de los usuarios para las plataformas Xbox One y PC son las mismas.\n",
    "\n",
    "+ Las calificaciones promedio de los usuarios para los géneros de Acción y Deportes son diferentes.\n",
    "\n"
   ]
  },
  {
   "cell_type": "markdown",
   "id": "ebaa9281",
   "metadata": {},
   "source": [
    "# Tabla de Contenidos\n",
    "\n",
    "1. [Introducción](#01introduccion)\n",
    "2. [Preparación de Datos](#preparacion-de-datos)\n",
    "    \n",
    "    \n",
    "3. [Análisis de Datos](#agrupardatos)\n",
    "4. [Evaluar Regiones](#evaluarRegiones)\n",
    "     + [Pletaforma](#plataforma)\n",
    "     + [Género](#genero)\n",
    "     + [Rating](#rating)\n",
    "     + [Conclusión Región](#conclusion0)\n",
    "5. [Prueba de Hipótesis](#hipotesis)\n",
    "6. [Conclusiones](#conclusion)\n"
   ]
  },
  {
   "cell_type": "markdown",
   "id": "dbc07ee5",
   "metadata": {},
   "source": [
    "## Introducción <a class=\"anchor\" id=\"01introduccion\"></a>\n",
    "\n",
    "\n",
    "## Preparación de Datos <a class=\"anchor\" id=\"preparacion-de-datos\"></a>\n",
    "\n",
    ">Si se usa anaconda se debe tener instalado previamente en el terminal conda `pip list`\n",
    "\n",
    "En esta sección, realizaremos el análisis de datos y presentaremos los resultados obtenidos.\n",
    "\n",
    "\n"
   ]
  },
  {
   "cell_type": "markdown",
   "id": "07b2a78b",
   "metadata": {},
   "source": [
    "### Importar las librerias que se usaran <a class=\"anchor\" id=\"01importacion\"></a>\n",
    "\n"
   ]
  },
  {
   "cell_type": "code",
   "execution_count": 427,
   "id": "e2b93579",
   "metadata": {},
   "outputs": [],
   "source": [
    "# Cargar todas las librerías\n",
    "\n",
    "import pandas as pd\n",
    "import numpy as np\n",
    "import matplotlib.pyplot as plt\n",
    "from scipy import stats as st\n",
    "\n"
   ]
  },
  {
   "cell_type": "markdown",
   "id": "b4a843ce",
   "metadata": {},
   "source": [
    "### Importar los datos <a class=\"anchor\" id=\"01importacion\"></a>\n",
    "#### Paso 1. Abrir el archivo de datos y estudia la información general\n",
    "\n",
    "Rutas del archivo:\n",
    "\n",
    "```python\n",
    "/datasets/datasets/games.csv\n",
    "```\n",
    "Teniendo las ruta del archivos importamos con el siguiente codigo:"
   ]
  },
  {
   "cell_type": "code",
   "execution_count": 428,
   "id": "b1877bf6",
   "metadata": {},
   "outputs": [],
   "source": [
    "\n",
    "# Cargar los DataFrames\n",
    "try:\n",
    "    df = pd.read_csv('games.csv')  \n",
    "    \n",
    "except:\n",
    "    df = pd.read_csv('/datasets/games.csv')\n",
    "    \n",
    "    "
   ]
  },
  {
   "cell_type": "markdown",
   "id": "9ef6b83f",
   "metadata": {},
   "source": [
    "Creamos un Df diferente al original en caso de que se quiera hacer comparaciones."
   ]
  },
  {
   "cell_type": "code",
   "execution_count": 429,
   "id": "8f61ff69",
   "metadata": {},
   "outputs": [],
   "source": [
    "df_lab = df.copy()\n",
    "    "
   ]
  },
  {
   "cell_type": "markdown",
   "id": "b41f7c15",
   "metadata": {},
   "source": [
    "# Paso 2. Prepara los datos\n",
    "\n",
    "En este paso se debe analisar superficialmente para escoger tratamiento correcto para aplicar y quedarse con datos utiles \n",
    "Convertir los datos en los tipos necesarios. Encontrar y eliminar errores en los datos. \n",
    "\n",
    "__Pista:__\n",
    "\n",
    "Reemplaza los nombres de las columnas (ponlos en minúsculas).\n",
    "Convierte los datos en los tipos necesarios.\n",
    "Describe las columnas en las que los tipos de datos han sido cambiados y explica por qué.\n",
    "Si es necesario, elige la manera de tratar los valores ausentes:\n",
    "Explica por qué rellenaste los valores ausentes como lo hiciste o por qué decidiste dejarlos en blanco.\n",
    "¿Por qué crees que los valores están ausentes? Brinda explicaciones posibles.\n",
    "Presta atención a la abreviatura TBD: significa \"to be determined\" (a determinar). Especifica cómo piensas manejar estos casos.\n",
    "Calcula las ventas totales (la suma de las ventas en todas las regiones) para cada juego y coloca estos valores en una columna separada."
   ]
  },
  {
   "cell_type": "markdown",
   "id": "b902718c",
   "metadata": {},
   "source": [
    "#### Preparando DF llamadas  <a class=\"anchor\" id=\"inspeccioncalls\"></a> "
   ]
  },
  {
   "cell_type": "code",
   "execution_count": 430,
   "id": "0eab8716",
   "metadata": {},
   "outputs": [
    {
     "name": "stdout",
     "output_type": "stream",
     "text": [
      "*HEAD*\n",
      "\n"
     ]
    },
    {
     "data": {
      "text/html": [
       "<div>\n",
       "<style scoped>\n",
       "    .dataframe tbody tr th:only-of-type {\n",
       "        vertical-align: middle;\n",
       "    }\n",
       "\n",
       "    .dataframe tbody tr th {\n",
       "        vertical-align: top;\n",
       "    }\n",
       "\n",
       "    .dataframe thead th {\n",
       "        text-align: right;\n",
       "    }\n",
       "</style>\n",
       "<table border=\"1\" class=\"dataframe\">\n",
       "  <thead>\n",
       "    <tr style=\"text-align: right;\">\n",
       "      <th></th>\n",
       "      <th>Name</th>\n",
       "      <th>Platform</th>\n",
       "      <th>Year_of_Release</th>\n",
       "      <th>Genre</th>\n",
       "      <th>NA_sales</th>\n",
       "      <th>EU_sales</th>\n",
       "      <th>JP_sales</th>\n",
       "      <th>Other_sales</th>\n",
       "      <th>Critic_Score</th>\n",
       "      <th>User_Score</th>\n",
       "      <th>Rating</th>\n",
       "    </tr>\n",
       "  </thead>\n",
       "  <tbody>\n",
       "    <tr>\n",
       "      <th>0</th>\n",
       "      <td>Wii Sports</td>\n",
       "      <td>Wii</td>\n",
       "      <td>2006.0</td>\n",
       "      <td>Sports</td>\n",
       "      <td>41.36</td>\n",
       "      <td>28.96</td>\n",
       "      <td>3.77</td>\n",
       "      <td>8.45</td>\n",
       "      <td>76.0</td>\n",
       "      <td>8</td>\n",
       "      <td>E</td>\n",
       "    </tr>\n",
       "    <tr>\n",
       "      <th>1</th>\n",
       "      <td>Super Mario Bros.</td>\n",
       "      <td>NES</td>\n",
       "      <td>1985.0</td>\n",
       "      <td>Platform</td>\n",
       "      <td>29.08</td>\n",
       "      <td>3.58</td>\n",
       "      <td>6.81</td>\n",
       "      <td>0.77</td>\n",
       "      <td>NaN</td>\n",
       "      <td>NaN</td>\n",
       "      <td>NaN</td>\n",
       "    </tr>\n",
       "    <tr>\n",
       "      <th>2</th>\n",
       "      <td>Mario Kart Wii</td>\n",
       "      <td>Wii</td>\n",
       "      <td>2008.0</td>\n",
       "      <td>Racing</td>\n",
       "      <td>15.68</td>\n",
       "      <td>12.76</td>\n",
       "      <td>3.79</td>\n",
       "      <td>3.29</td>\n",
       "      <td>82.0</td>\n",
       "      <td>8.3</td>\n",
       "      <td>E</td>\n",
       "    </tr>\n",
       "    <tr>\n",
       "      <th>3</th>\n",
       "      <td>Wii Sports Resort</td>\n",
       "      <td>Wii</td>\n",
       "      <td>2009.0</td>\n",
       "      <td>Sports</td>\n",
       "      <td>15.61</td>\n",
       "      <td>10.93</td>\n",
       "      <td>3.28</td>\n",
       "      <td>2.95</td>\n",
       "      <td>80.0</td>\n",
       "      <td>8</td>\n",
       "      <td>E</td>\n",
       "    </tr>\n",
       "    <tr>\n",
       "      <th>4</th>\n",
       "      <td>Pokemon Red/Pokemon Blue</td>\n",
       "      <td>GB</td>\n",
       "      <td>1996.0</td>\n",
       "      <td>Role-Playing</td>\n",
       "      <td>11.27</td>\n",
       "      <td>8.89</td>\n",
       "      <td>10.22</td>\n",
       "      <td>1.00</td>\n",
       "      <td>NaN</td>\n",
       "      <td>NaN</td>\n",
       "      <td>NaN</td>\n",
       "    </tr>\n",
       "  </tbody>\n",
       "</table>\n",
       "</div>"
      ],
      "text/plain": [
       "                       Name Platform  Year_of_Release         Genre  NA_sales  \\\n",
       "0                Wii Sports      Wii           2006.0        Sports     41.36   \n",
       "1         Super Mario Bros.      NES           1985.0      Platform     29.08   \n",
       "2            Mario Kart Wii      Wii           2008.0        Racing     15.68   \n",
       "3         Wii Sports Resort      Wii           2009.0        Sports     15.61   \n",
       "4  Pokemon Red/Pokemon Blue       GB           1996.0  Role-Playing     11.27   \n",
       "\n",
       "   EU_sales  JP_sales  Other_sales  Critic_Score User_Score Rating  \n",
       "0     28.96      3.77         8.45          76.0          8      E  \n",
       "1      3.58      6.81         0.77           NaN        NaN    NaN  \n",
       "2     12.76      3.79         3.29          82.0        8.3      E  \n",
       "3     10.93      3.28         2.95          80.0          8      E  \n",
       "4      8.89     10.22         1.00           NaN        NaN    NaN  "
      ]
     },
     "execution_count": 430,
     "metadata": {},
     "output_type": "execute_result"
    }
   ],
   "source": [
    "print(\"*HEAD*\\n\")\n",
    "df_lab.head()"
   ]
  },
  {
   "cell_type": "code",
   "execution_count": 431,
   "id": "58c42d46",
   "metadata": {},
   "outputs": [
    {
     "name": "stdout",
     "output_type": "stream",
     "text": [
      "\n",
      " *INFO* \n",
      "\n",
      "<class 'pandas.core.frame.DataFrame'>\n",
      "RangeIndex: 16715 entries, 0 to 16714\n",
      "Data columns (total 11 columns):\n",
      " #   Column           Non-Null Count  Dtype  \n",
      "---  ------           --------------  -----  \n",
      " 0   Name             16713 non-null  object \n",
      " 1   Platform         16715 non-null  object \n",
      " 2   Year_of_Release  16446 non-null  float64\n",
      " 3   Genre            16713 non-null  object \n",
      " 4   NA_sales         16715 non-null  float64\n",
      " 5   EU_sales         16715 non-null  float64\n",
      " 6   JP_sales         16715 non-null  float64\n",
      " 7   Other_sales      16715 non-null  float64\n",
      " 8   Critic_Score     8137 non-null   float64\n",
      " 9   User_Score       10014 non-null  object \n",
      " 10  Rating           9949 non-null   object \n",
      "dtypes: float64(6), object(5)\n",
      "memory usage: 1.4+ MB\n",
      "None\n"
     ]
    }
   ],
   "source": [
    "print(\"\\n *INFO* \\n\")\n",
    "df_lab_largo=len(df_lab)\n",
    "print(df_lab.info())\n",
    "\n"
   ]
  },
  {
   "cell_type": "markdown",
   "id": "cb3958a5",
   "metadata": {},
   "source": [
    "Es una buena practica que los nombres de las columnas sean minusculas asi que se cambiara."
   ]
  },
  {
   "cell_type": "code",
   "execution_count": 432,
   "id": "5b137b34",
   "metadata": {},
   "outputs": [],
   "source": [
    "df_lab.columns = df_lab.columns.str.lower()"
   ]
  },
  {
   "cell_type": "code",
   "execution_count": 433,
   "id": "7227e6cc",
   "metadata": {},
   "outputs": [
    {
     "name": "stdout",
     "output_type": "stream",
     "text": [
      "\n",
      "*DESCRIBE*\n",
      "\n"
     ]
    },
    {
     "data": {
      "text/html": [
       "<div>\n",
       "<style scoped>\n",
       "    .dataframe tbody tr th:only-of-type {\n",
       "        vertical-align: middle;\n",
       "    }\n",
       "\n",
       "    .dataframe tbody tr th {\n",
       "        vertical-align: top;\n",
       "    }\n",
       "\n",
       "    .dataframe thead th {\n",
       "        text-align: right;\n",
       "    }\n",
       "</style>\n",
       "<table border=\"1\" class=\"dataframe\">\n",
       "  <thead>\n",
       "    <tr style=\"text-align: right;\">\n",
       "      <th></th>\n",
       "      <th>year_of_release</th>\n",
       "      <th>na_sales</th>\n",
       "      <th>eu_sales</th>\n",
       "      <th>jp_sales</th>\n",
       "      <th>other_sales</th>\n",
       "      <th>critic_score</th>\n",
       "    </tr>\n",
       "  </thead>\n",
       "  <tbody>\n",
       "    <tr>\n",
       "      <th>count</th>\n",
       "      <td>16446.000000</td>\n",
       "      <td>16715.000000</td>\n",
       "      <td>16715.000000</td>\n",
       "      <td>16715.000000</td>\n",
       "      <td>16715.000000</td>\n",
       "      <td>8137.000000</td>\n",
       "    </tr>\n",
       "    <tr>\n",
       "      <th>mean</th>\n",
       "      <td>2006.484616</td>\n",
       "      <td>0.263377</td>\n",
       "      <td>0.145060</td>\n",
       "      <td>0.077617</td>\n",
       "      <td>0.047342</td>\n",
       "      <td>68.967679</td>\n",
       "    </tr>\n",
       "    <tr>\n",
       "      <th>std</th>\n",
       "      <td>5.877050</td>\n",
       "      <td>0.813604</td>\n",
       "      <td>0.503339</td>\n",
       "      <td>0.308853</td>\n",
       "      <td>0.186731</td>\n",
       "      <td>13.938165</td>\n",
       "    </tr>\n",
       "    <tr>\n",
       "      <th>min</th>\n",
       "      <td>1980.000000</td>\n",
       "      <td>0.000000</td>\n",
       "      <td>0.000000</td>\n",
       "      <td>0.000000</td>\n",
       "      <td>0.000000</td>\n",
       "      <td>13.000000</td>\n",
       "    </tr>\n",
       "    <tr>\n",
       "      <th>25%</th>\n",
       "      <td>2003.000000</td>\n",
       "      <td>0.000000</td>\n",
       "      <td>0.000000</td>\n",
       "      <td>0.000000</td>\n",
       "      <td>0.000000</td>\n",
       "      <td>60.000000</td>\n",
       "    </tr>\n",
       "    <tr>\n",
       "      <th>50%</th>\n",
       "      <td>2007.000000</td>\n",
       "      <td>0.080000</td>\n",
       "      <td>0.020000</td>\n",
       "      <td>0.000000</td>\n",
       "      <td>0.010000</td>\n",
       "      <td>71.000000</td>\n",
       "    </tr>\n",
       "    <tr>\n",
       "      <th>75%</th>\n",
       "      <td>2010.000000</td>\n",
       "      <td>0.240000</td>\n",
       "      <td>0.110000</td>\n",
       "      <td>0.040000</td>\n",
       "      <td>0.030000</td>\n",
       "      <td>79.000000</td>\n",
       "    </tr>\n",
       "    <tr>\n",
       "      <th>max</th>\n",
       "      <td>2016.000000</td>\n",
       "      <td>41.360000</td>\n",
       "      <td>28.960000</td>\n",
       "      <td>10.220000</td>\n",
       "      <td>10.570000</td>\n",
       "      <td>98.000000</td>\n",
       "    </tr>\n",
       "  </tbody>\n",
       "</table>\n",
       "</div>"
      ],
      "text/plain": [
       "       year_of_release      na_sales      eu_sales      jp_sales  \\\n",
       "count     16446.000000  16715.000000  16715.000000  16715.000000   \n",
       "mean       2006.484616      0.263377      0.145060      0.077617   \n",
       "std           5.877050      0.813604      0.503339      0.308853   \n",
       "min        1980.000000      0.000000      0.000000      0.000000   \n",
       "25%        2003.000000      0.000000      0.000000      0.000000   \n",
       "50%        2007.000000      0.080000      0.020000      0.000000   \n",
       "75%        2010.000000      0.240000      0.110000      0.040000   \n",
       "max        2016.000000     41.360000     28.960000     10.220000   \n",
       "\n",
       "        other_sales  critic_score  \n",
       "count  16715.000000   8137.000000  \n",
       "mean       0.047342     68.967679  \n",
       "std        0.186731     13.938165  \n",
       "min        0.000000     13.000000  \n",
       "25%        0.000000     60.000000  \n",
       "50%        0.010000     71.000000  \n",
       "75%        0.030000     79.000000  \n",
       "max       10.570000     98.000000  "
      ]
     },
     "execution_count": 433,
     "metadata": {},
     "output_type": "execute_result"
    }
   ],
   "source": [
    "\n",
    "print(\"\\n*DESCRIBE*\\n\")\n",
    "df_lab.describe()"
   ]
  },
  {
   "cell_type": "markdown",
   "id": "93748f2a",
   "metadata": {},
   "source": [
    "Podemos ver los siguientes errores en la primera revision a los datos."
   ]
  },
  {
   "cell_type": "markdown",
   "id": "4cc7a15d",
   "metadata": {},
   "source": [
    "|   | Columna  / Correccion  | tipo de dato | Valores nulos   | valores 0 |\n",
    "|---|------------------------|----------------|---------|--|\n",
    "| 0 | name                   |   |  x | |\n",
    "| 1 | platform               |  | x | |\n",
    "| 2 | year_of_Release        | x | x ||\n",
    "| 3 | genre                  |  | x  | |\n",
    "| 4 | na_sales               |  | | x|\n",
    "| 5 | eu_sales               | | |x |\n",
    "| 6 | jp_sales               |  |  | x|\n",
    "| 7 | other_sales            | |  | |\n",
    "| 8 | critic_Score           |  | x | |\n",
    "| 9 | user_Score             | | x | |\n",
    "|10 | rating                 |                |      x   | |\n"
   ]
  },
  {
   "cell_type": "markdown",
   "id": "1e04c254",
   "metadata": {},
   "source": [
    "> La mejor forma de reemplazar el año en los juegos que no presentan valores es con un valor representativo del año correspondiente a la consola que usa el juego"
   ]
  },
  {
   "cell_type": "code",
   "execution_count": 434,
   "id": "bb14f7dd",
   "metadata": {},
   "outputs": [
    {
     "data": {
      "text/plain": [
       "platform\n",
       "2600    1982.0\n",
       "3DO     1995.0\n",
       "3DS     2013.0\n",
       "DC      2000.0\n",
       "DS      2008.0\n",
       "Name: year_of_release, dtype: float64"
      ]
     },
     "execution_count": 434,
     "metadata": {},
     "output_type": "execute_result"
    }
   ],
   "source": [
    "df_lab_year_median = df_lab.groupby('platform')['year_of_release'].median()\n",
    "df_lab_year_median.head(5)"
   ]
  },
  {
   "cell_type": "code",
   "execution_count": 435,
   "id": "b74f1834",
   "metadata": {},
   "outputs": [],
   "source": [
    "# Creemos la función que nos ayudará a llenar los valores vacíos\n",
    "def fill_year(platform):\n",
    "    return df_lab_year_median[platform]\n",
    "\n",
    "# Apliquemos la función\n",
    "df_lab_fill_year = df_lab.apply(lambda row: fill_year(row['platform']), axis=1)\n",
    "df_lab['year_of_release'] = df_lab['year_of_release'].fillna(df_lab_fill_year)"
   ]
  },
  {
   "cell_type": "markdown",
   "id": "effb65ed",
   "metadata": {},
   "source": [
    "Convertir de flotante a enteros"
   ]
  },
  {
   "cell_type": "code",
   "execution_count": 436,
   "id": "d720b3b7",
   "metadata": {},
   "outputs": [],
   "source": [
    "df_lab['year_of_release'] = df_lab['year_of_release'].astype(int)\n"
   ]
  },
  {
   "cell_type": "markdown",
   "id": "cbe412cc",
   "metadata": {},
   "source": [
    "Reemplazamos los valores vacios a \"`Unknow`\" o desconocido"
   ]
  },
  {
   "cell_type": "code",
   "execution_count": 437,
   "id": "daa3a307",
   "metadata": {},
   "outputs": [],
   "source": [
    "df_lab['name'].fillna('Unknown', inplace=True)\n",
    "df_lab['genre'].fillna('Unknown', inplace=True)"
   ]
  },
  {
   "cell_type": "markdown",
   "id": "539a4eaf",
   "metadata": {},
   "source": [
    "> Descartar Valores donde en las 3  regiones los valores son 0"
   ]
  },
  {
   "cell_type": "code",
   "execution_count": 438,
   "id": "0f0d61b6",
   "metadata": {},
   "outputs": [],
   "source": [
    "df_lab.drop(df_lab[(df_lab['na_sales'] == 0) & (df_lab['eu_sales'] == 0) & (df_lab['jp_sales'] == 0)].index, inplace=True)\n"
   ]
  },
  {
   "cell_type": "code",
   "execution_count": 439,
   "id": "fc32eaf5",
   "metadata": {},
   "outputs": [
    {
     "name": "stdout",
     "output_type": "stream",
     "text": [
      "\n",
      " *INFO* \n",
      "\n",
      "<class 'pandas.core.frame.DataFrame'>\n",
      "Index: 16712 entries, 0 to 16714\n",
      "Data columns (total 11 columns):\n",
      " #   Column           Non-Null Count  Dtype  \n",
      "---  ------           --------------  -----  \n",
      " 0   name             16712 non-null  object \n",
      " 1   platform         16712 non-null  object \n",
      " 2   year_of_release  16712 non-null  int32  \n",
      " 3   genre            16712 non-null  object \n",
      " 4   na_sales         16712 non-null  float64\n",
      " 5   eu_sales         16712 non-null  float64\n",
      " 6   jp_sales         16712 non-null  float64\n",
      " 7   other_sales      16712 non-null  float64\n",
      " 8   critic_score     8137 non-null   float64\n",
      " 9   user_score       10013 non-null  object \n",
      " 10  rating           9948 non-null   object \n",
      "dtypes: float64(5), int32(1), object(5)\n",
      "memory usage: 1.5+ MB\n",
      "None\n"
     ]
    }
   ],
   "source": [
    "print(\"\\n *INFO* \\n\")\n",
    "df_lab_largo=len(df_lab)\n",
    "print(df_lab.info())\n"
   ]
  },
  {
   "cell_type": "markdown",
   "id": "8378cc12",
   "metadata": {},
   "source": [
    "> Vemos que aun falta cambiar el tipo de Datos , pero ya hemos resolvido el tema del genero asi que usaremos esos valores para rrellenar los vacios que pueda haber en las columnas `critic_score`, `user_score`, `rating`"
   ]
  },
  {
   "cell_type": "markdown",
   "id": "f2466bae",
   "metadata": {},
   "source": [
    "#### Llenando los valores de `critic score`\n"
   ]
  },
  {
   "cell_type": "code",
   "execution_count": 440,
   "id": "3129d363",
   "metadata": {},
   "outputs": [
    {
     "data": {
      "text/plain": [
       "count    8137.000000\n",
       "mean       68.967679\n",
       "std        13.938165\n",
       "min        13.000000\n",
       "25%        60.000000\n",
       "50%        71.000000\n",
       "75%        79.000000\n",
       "max        98.000000\n",
       "Name: critic_score, dtype: float64"
      ]
     },
     "execution_count": 440,
     "metadata": {},
     "output_type": "execute_result"
    }
   ],
   "source": [
    "df_lab['critic_score'].describe()"
   ]
  },
  {
   "cell_type": "markdown",
   "id": "f6b48341",
   "metadata": {},
   "source": [
    "Vemos que tiene un número en minimo 13 y maximo 98, por lo que sera sensato rellenar los valores con numeros de ese rango."
   ]
  },
  {
   "cell_type": "code",
   "execution_count": 441,
   "id": "3c428b67",
   "metadata": {},
   "outputs": [
    {
     "name": "stdout",
     "output_type": "stream",
     "text": [
      "[13, 14, 15, 16, 17, 18, 19, 20, 21, 22, 23, 24, 25, 26, 27, 28, 29, 30, 31, 32, 33, 34, 35, 36, 37, 38, 39, 40, 41, 42, 43, 44, 45, 46, 47, 48, 49, 50, 51, 52, 53, 54, 55, 56, 57, 58, 59, 60, 61, 62, 63, 64, 65, 66, 67, 68, 69, 70, 71, 72, 73, 74, 75, 76, 77, 78, 79, 80, 81, 82, 83, 84, 85, 86, 87, 88, 89, 90, 91, 92, 93, 94, 95, 96, 97]\n"
     ]
    }
   ],
   "source": [
    "fill_list = list(range(13, 98))\n",
    "print(fill_list)\n",
    "df_lab['critic_score'] = df_lab['critic_score'].fillna(pd.Series(np.random.choice(fill_list, size = len(df.index))))"
   ]
  },
  {
   "cell_type": "code",
   "execution_count": 442,
   "id": "711ddbc2",
   "metadata": {},
   "outputs": [
    {
     "data": {
      "text/plain": [
       "count    16712.000000\n",
       "mean        61.798348\n",
       "std         21.378224\n",
       "min         13.000000\n",
       "25%         47.000000\n",
       "50%         66.000000\n",
       "75%         79.000000\n",
       "max         98.000000\n",
       "Name: critic_score, dtype: float64"
      ]
     },
     "execution_count": 442,
     "metadata": {},
     "output_type": "execute_result"
    }
   ],
   "source": [
    "df_lab['critic_score'].describe()"
   ]
  },
  {
   "cell_type": "code",
   "execution_count": 443,
   "id": "87b9d9aa",
   "metadata": {},
   "outputs": [
    {
     "name": "stdout",
     "output_type": "stream",
     "text": [
      "<class 'pandas.core.series.Series'>\n",
      "Index: 16712 entries, 0 to 16714\n",
      "Series name: critic_score\n",
      "Non-Null Count  Dtype  \n",
      "--------------  -----  \n",
      "16712 non-null  float64\n",
      "dtypes: float64(1)\n",
      "memory usage: 261.1 KB\n"
     ]
    }
   ],
   "source": [
    "df_lab['critic_score'].info()"
   ]
  },
  {
   "cell_type": "markdown",
   "id": "aa00bf20",
   "metadata": {},
   "source": [
    "> Podemos ver que ya se ha rellenado los valores con un numero mas representativo que el original"
   ]
  },
  {
   "cell_type": "markdown",
   "id": "90357778",
   "metadata": {},
   "source": [
    "### Llenando los valores de `user_score`"
   ]
  },
  {
   "cell_type": "markdown",
   "id": "5f2afd32",
   "metadata": {},
   "source": [
    "Ejecutamos el comando unique para ver los valores que bota."
   ]
  },
  {
   "cell_type": "code",
   "execution_count": 444,
   "id": "3559416e",
   "metadata": {},
   "outputs": [
    {
     "data": {
      "text/plain": [
       "array(['8', nan, '8.3', '8.5', '6.6', '8.4', '8.6', '7.7', '6.3', '7.4',\n",
       "       '8.2', '9', '7.9', '8.1', '8.7', '7.1', '3.4', '5.3', '4.8', '3.2',\n",
       "       '8.9', '6.4', '7.8', '7.5', '2.6', '7.2', '9.2', '7', '7.3', '4.3',\n",
       "       '7.6', '5.7', '5', '9.1', '6.5', 'tbd', '8.8', '6.9', '9.4', '6.8',\n",
       "       '6.1', '6.7', '5.4', '4', '4.9', '4.5', '9.3', '6.2', '4.2', '6',\n",
       "       '3.7', '4.1', '5.8', '5.6', '5.5', '4.4', '4.6', '5.9', '3.9',\n",
       "       '3.1', '2.9', '5.2', '3.3', '4.7', '5.1', '3.5', '2.5', '1.9', '3',\n",
       "       '2.7', '2.2', '2', '9.5', '2.1', '3.6', '2.8', '1.8', '3.8', '0',\n",
       "       '1.6', '9.6', '2.4', '1.7', '1.1', '0.3', '1.5', '0.7', '1.2',\n",
       "       '2.3', '0.5', '1.3', '0.2', '0.6', '1.4', '0.9', '1', '9.7'],\n",
       "      dtype=object)"
      ]
     },
     "execution_count": 444,
     "metadata": {},
     "output_type": "execute_result"
    }
   ],
   "source": [
    "df_lab['user_score'].unique() "
   ]
  },
  {
   "cell_type": "markdown",
   "id": "134318db",
   "metadata": {},
   "source": [
    "Observamos que es de tipo string por lo que debemos corregir, en especial el string `tbd`"
   ]
  },
  {
   "cell_type": "code",
   "execution_count": 445,
   "id": "d86b2677",
   "metadata": {},
   "outputs": [],
   "source": [
    "fill_list2 = list(range(0, 10))\n",
    "df_lab['user_score'] = df_lab['user_score'].replace('tbd',np.nan)\n",
    "df_lab['user_score'] =df_lab['user_score'].fillna(pd.Series(np.random.choice(fill_list2, size = len(df.index))))"
   ]
  },
  {
   "cell_type": "code",
   "execution_count": 446,
   "id": "c45b06eb",
   "metadata": {},
   "outputs": [
    {
     "data": {
      "text/plain": [
       "count     16712\n",
       "unique      105\n",
       "top           8\n",
       "freq        964\n",
       "Name: user_score, dtype: int64"
      ]
     },
     "execution_count": 446,
     "metadata": {},
     "output_type": "execute_result"
    }
   ],
   "source": [
    "df_lab['user_score'].describe()"
   ]
  },
  {
   "cell_type": "code",
   "execution_count": 447,
   "id": "deca2578",
   "metadata": {},
   "outputs": [
    {
     "name": "stdout",
     "output_type": "stream",
     "text": [
      "<class 'pandas.core.series.Series'>\n",
      "Index: 16712 entries, 0 to 16714\n",
      "Series name: user_score\n",
      "Non-Null Count  Dtype \n",
      "--------------  ----- \n",
      "16712 non-null  object\n",
      "dtypes: object(1)\n",
      "memory usage: 261.1+ KB\n"
     ]
    }
   ],
   "source": [
    "df_lab['user_score'].info()"
   ]
  },
  {
   "cell_type": "code",
   "execution_count": 448,
   "id": "1133c404",
   "metadata": {},
   "outputs": [],
   "source": [
    "#conversion de tipo\n",
    "df_lab['user_score'] = df_lab['user_score'].astype(float)"
   ]
  },
  {
   "cell_type": "code",
   "execution_count": 449,
   "id": "1dde302c",
   "metadata": {},
   "outputs": [
    {
     "name": "stdout",
     "output_type": "stream",
     "text": [
      "<class 'pandas.core.series.Series'>\n",
      "Index: 16712 entries, 0 to 16714\n",
      "Series name: user_score\n",
      "Non-Null Count  Dtype  \n",
      "--------------  -----  \n",
      "16712 non-null  float64\n",
      "dtypes: float64(1)\n",
      "memory usage: 261.1 KB\n"
     ]
    }
   ],
   "source": [
    "df_lab['user_score'].info()"
   ]
  },
  {
   "cell_type": "markdown",
   "id": "f271cba1",
   "metadata": {},
   "source": [
    "#### Llenando los valores de `rating`"
   ]
  },
  {
   "cell_type": "code",
   "execution_count": 450,
   "id": "b55baf9d",
   "metadata": {},
   "outputs": [
    {
     "name": "stdout",
     "output_type": "stream",
     "text": [
      "<class 'pandas.core.series.Series'>\n",
      "Index: 16712 entries, 0 to 16714\n",
      "Series name: rating\n",
      "Non-Null Count  Dtype \n",
      "--------------  ----- \n",
      "9948 non-null   object\n",
      "dtypes: object(1)\n",
      "memory usage: 261.1+ KB\n"
     ]
    }
   ],
   "source": [
    "df_lab['rating'].info()"
   ]
  },
  {
   "cell_type": "code",
   "execution_count": 451,
   "id": "78b18d46",
   "metadata": {},
   "outputs": [
    {
     "data": {
      "text/plain": [
       "array(['E', nan, 'M', 'T', 'E10+', 'K-A', 'AO', 'EC', 'RP'], dtype=object)"
      ]
     },
     "execution_count": 451,
     "metadata": {},
     "output_type": "execute_result"
    }
   ],
   "source": [
    "df_lab['rating'].unique() "
   ]
  },
  {
   "cell_type": "code",
   "execution_count": 452,
   "id": "93f0871d",
   "metadata": {},
   "outputs": [
    {
     "data": {
      "text/html": [
       "<div>\n",
       "<style scoped>\n",
       "    .dataframe tbody tr th:only-of-type {\n",
       "        vertical-align: middle;\n",
       "    }\n",
       "\n",
       "    .dataframe tbody tr th {\n",
       "        vertical-align: top;\n",
       "    }\n",
       "\n",
       "    .dataframe thead th {\n",
       "        text-align: right;\n",
       "    }\n",
       "</style>\n",
       "<table border=\"1\" class=\"dataframe\">\n",
       "  <thead>\n",
       "    <tr style=\"text-align: right;\">\n",
       "      <th></th>\n",
       "      <th>rating</th>\n",
       "      <th>AO</th>\n",
       "      <th>E</th>\n",
       "      <th>E10+</th>\n",
       "      <th>EC</th>\n",
       "      <th>K-A</th>\n",
       "      <th>M</th>\n",
       "      <th>RP</th>\n",
       "      <th>T</th>\n",
       "    </tr>\n",
       "    <tr>\n",
       "      <th>genre</th>\n",
       "      <th>platform</th>\n",
       "      <th></th>\n",
       "      <th></th>\n",
       "      <th></th>\n",
       "      <th></th>\n",
       "      <th></th>\n",
       "      <th></th>\n",
       "      <th></th>\n",
       "      <th></th>\n",
       "    </tr>\n",
       "  </thead>\n",
       "  <tbody>\n",
       "    <tr>\n",
       "      <th rowspan=\"5\" valign=\"top\">Action</th>\n",
       "      <th>3DS</th>\n",
       "      <td>NaN</td>\n",
       "      <td>24.0</td>\n",
       "      <td>37.0</td>\n",
       "      <td>NaN</td>\n",
       "      <td>NaN</td>\n",
       "      <td>6.0</td>\n",
       "      <td>NaN</td>\n",
       "      <td>13.0</td>\n",
       "    </tr>\n",
       "    <tr>\n",
       "      <th>DS</th>\n",
       "      <td>NaN</td>\n",
       "      <td>102.0</td>\n",
       "      <td>77.0</td>\n",
       "      <td>1.0</td>\n",
       "      <td>NaN</td>\n",
       "      <td>2.0</td>\n",
       "      <td>NaN</td>\n",
       "      <td>22.0</td>\n",
       "    </tr>\n",
       "    <tr>\n",
       "      <th>GBA</th>\n",
       "      <td>NaN</td>\n",
       "      <td>86.0</td>\n",
       "      <td>13.0</td>\n",
       "      <td>NaN</td>\n",
       "      <td>NaN</td>\n",
       "      <td>1.0</td>\n",
       "      <td>NaN</td>\n",
       "      <td>22.0</td>\n",
       "    </tr>\n",
       "    <tr>\n",
       "      <th>GC</th>\n",
       "      <td>NaN</td>\n",
       "      <td>23.0</td>\n",
       "      <td>10.0</td>\n",
       "      <td>NaN</td>\n",
       "      <td>NaN</td>\n",
       "      <td>19.0</td>\n",
       "      <td>NaN</td>\n",
       "      <td>40.0</td>\n",
       "    </tr>\n",
       "    <tr>\n",
       "      <th>PC</th>\n",
       "      <td>NaN</td>\n",
       "      <td>12.0</td>\n",
       "      <td>25.0</td>\n",
       "      <td>NaN</td>\n",
       "      <td>NaN</td>\n",
       "      <td>73.0</td>\n",
       "      <td>NaN</td>\n",
       "      <td>34.0</td>\n",
       "    </tr>\n",
       "    <tr>\n",
       "      <th>...</th>\n",
       "      <th>...</th>\n",
       "      <td>...</td>\n",
       "      <td>...</td>\n",
       "      <td>...</td>\n",
       "      <td>...</td>\n",
       "      <td>...</td>\n",
       "      <td>...</td>\n",
       "      <td>...</td>\n",
       "      <td>...</td>\n",
       "    </tr>\n",
       "    <tr>\n",
       "      <th rowspan=\"5\" valign=\"top\">Strategy</th>\n",
       "      <th>Wii</th>\n",
       "      <td>NaN</td>\n",
       "      <td>4.0</td>\n",
       "      <td>5.0</td>\n",
       "      <td>NaN</td>\n",
       "      <td>NaN</td>\n",
       "      <td>NaN</td>\n",
       "      <td>NaN</td>\n",
       "      <td>2.0</td>\n",
       "    </tr>\n",
       "    <tr>\n",
       "      <th>WiiU</th>\n",
       "      <td>NaN</td>\n",
       "      <td>1.0</td>\n",
       "      <td>1.0</td>\n",
       "      <td>NaN</td>\n",
       "      <td>NaN</td>\n",
       "      <td>NaN</td>\n",
       "      <td>NaN</td>\n",
       "      <td>NaN</td>\n",
       "    </tr>\n",
       "    <tr>\n",
       "      <th>X360</th>\n",
       "      <td>NaN</td>\n",
       "      <td>1.0</td>\n",
       "      <td>6.0</td>\n",
       "      <td>NaN</td>\n",
       "      <td>NaN</td>\n",
       "      <td>3.0</td>\n",
       "      <td>NaN</td>\n",
       "      <td>11.0</td>\n",
       "    </tr>\n",
       "    <tr>\n",
       "      <th>XB</th>\n",
       "      <td>NaN</td>\n",
       "      <td>2.0</td>\n",
       "      <td>NaN</td>\n",
       "      <td>NaN</td>\n",
       "      <td>NaN</td>\n",
       "      <td>4.0</td>\n",
       "      <td>NaN</td>\n",
       "      <td>11.0</td>\n",
       "    </tr>\n",
       "    <tr>\n",
       "      <th>XOne</th>\n",
       "      <td>NaN</td>\n",
       "      <td>1.0</td>\n",
       "      <td>NaN</td>\n",
       "      <td>NaN</td>\n",
       "      <td>NaN</td>\n",
       "      <td>NaN</td>\n",
       "      <td>NaN</td>\n",
       "      <td>1.0</td>\n",
       "    </tr>\n",
       "  </tbody>\n",
       "</table>\n",
       "<p>198 rows × 8 columns</p>\n",
       "</div>"
      ],
      "text/plain": [
       "rating             AO      E  E10+   EC  K-A     M  RP     T\n",
       "genre    platform                                           \n",
       "Action   3DS      NaN   24.0  37.0  NaN  NaN   6.0 NaN  13.0\n",
       "         DS       NaN  102.0  77.0  1.0  NaN   2.0 NaN  22.0\n",
       "         GBA      NaN   86.0  13.0  NaN  NaN   1.0 NaN  22.0\n",
       "         GC       NaN   23.0  10.0  NaN  NaN  19.0 NaN  40.0\n",
       "         PC       NaN   12.0  25.0  NaN  NaN  73.0 NaN  34.0\n",
       "...                ..    ...   ...  ...  ...   ...  ..   ...\n",
       "Strategy Wii      NaN    4.0   5.0  NaN  NaN   NaN NaN   2.0\n",
       "         WiiU     NaN    1.0   1.0  NaN  NaN   NaN NaN   NaN\n",
       "         X360     NaN    1.0   6.0  NaN  NaN   3.0 NaN  11.0\n",
       "         XB       NaN    2.0   NaN  NaN  NaN   4.0 NaN  11.0\n",
       "         XOne     NaN    1.0   NaN  NaN  NaN   NaN NaN   1.0\n",
       "\n",
       "[198 rows x 8 columns]"
      ]
     },
     "execution_count": 452,
     "metadata": {},
     "output_type": "execute_result"
    }
   ],
   "source": [
    "pivot_table = df_lab.pivot_table(index=['genre', 'platform'], columns='rating', aggfunc='size')\n",
    "pivot_table\n"
   ]
  },
  {
   "cell_type": "markdown",
   "id": "f96e8168",
   "metadata": {},
   "source": [
    "Como vemos como rating es un tipo descriptivo o no numerico vamos a reemplazar los valores vacion con `RP` que significara `Rating Pending` "
   ]
  },
  {
   "cell_type": "code",
   "execution_count": 453,
   "id": "5de7773f",
   "metadata": {},
   "outputs": [
    {
     "data": {
      "text/plain": [
       "array(['E', 'RP', 'M', 'T', 'E10+', 'K-A', 'AO', 'EC'], dtype=object)"
      ]
     },
     "execution_count": 453,
     "metadata": {},
     "output_type": "execute_result"
    }
   ],
   "source": [
    "df_lab['rating'] = df_lab['rating'].fillna('RP')\n",
    "df_lab['rating'].unique() "
   ]
  },
  {
   "cell_type": "code",
   "execution_count": 454,
   "id": "dc8e12c3",
   "metadata": {},
   "outputs": [
    {
     "name": "stdout",
     "output_type": "stream",
     "text": [
      "<class 'pandas.core.series.Series'>\n",
      "Index: 16712 entries, 0 to 16714\n",
      "Series name: rating\n",
      "Non-Null Count  Dtype \n",
      "--------------  ----- \n",
      "16712 non-null  object\n",
      "dtypes: object(1)\n",
      "memory usage: 261.1+ KB\n"
     ]
    }
   ],
   "source": [
    "df_lab['rating'].info()"
   ]
  },
  {
   "cell_type": "markdown",
   "id": "a984479f",
   "metadata": {},
   "source": [
    "> Ya llenamos los valores de la Columna Rating\n",
    "\n",
    "#### Duplicados y Vacios Restantes\n",
    "\n",
    "Vamos a ejecutar comandos que hagan que nuestros avlores aun presenten valores nulos y duplicados"
   ]
  },
  {
   "cell_type": "code",
   "execution_count": 455,
   "id": "fdb8b86f",
   "metadata": {},
   "outputs": [],
   "source": [
    "# Eliminar registros con valores nulos\n",
    "df_lab = df_lab.dropna()\n",
    "\n",
    "# Eliminar registros duplicados\n",
    "df_lab = df_lab.drop_duplicates()\n",
    "\n",
    "# Restablecer el índice\n",
    "df_lab = df_lab.reset_index(drop=True)\n"
   ]
  },
  {
   "cell_type": "code",
   "execution_count": 456,
   "id": "83d540bc",
   "metadata": {},
   "outputs": [
    {
     "name": "stdout",
     "output_type": "stream",
     "text": [
      "Número total de valores nulos: name               0\n",
      "platform           0\n",
      "year_of_release    0\n",
      "genre              0\n",
      "na_sales           0\n",
      "eu_sales           0\n",
      "jp_sales           0\n",
      "other_sales        0\n",
      "critic_score       0\n",
      "user_score         0\n",
      "rating             0\n",
      "dtype: int64\n",
      "Número total de registros duplicados: 0\n"
     ]
    }
   ],
   "source": [
    "# Contar valores nulos\n",
    "nulos = df_lab.isnull().sum()\n",
    "print(f'Número total de valores nulos: {nulos}')\n",
    "\n",
    "# Contar registros duplicados\n",
    "duplicados = df_lab.duplicated().sum()\n",
    "print(f'Número total de registros duplicados: {duplicados}')"
   ]
  },
  {
   "cell_type": "code",
   "execution_count": 457,
   "id": "c7daf22b",
   "metadata": {},
   "outputs": [
    {
     "name": "stdout",
     "output_type": "stream",
     "text": [
      "<class 'pandas.core.frame.DataFrame'>\n",
      "RangeIndex: 16712 entries, 0 to 16711\n",
      "Data columns (total 11 columns):\n",
      " #   Column           Non-Null Count  Dtype  \n",
      "---  ------           --------------  -----  \n",
      " 0   name             16712 non-null  object \n",
      " 1   platform         16712 non-null  object \n",
      " 2   year_of_release  16712 non-null  int32  \n",
      " 3   genre            16712 non-null  object \n",
      " 4   na_sales         16712 non-null  float64\n",
      " 5   eu_sales         16712 non-null  float64\n",
      " 6   jp_sales         16712 non-null  float64\n",
      " 7   other_sales      16712 non-null  float64\n",
      " 8   critic_score     16712 non-null  float64\n",
      " 9   user_score       16712 non-null  float64\n",
      " 10  rating           16712 non-null  object \n",
      "dtypes: float64(6), int32(1), object(4)\n",
      "memory usage: 1.3+ MB\n"
     ]
    }
   ],
   "source": [
    "df_lab.info()"
   ]
  },
  {
   "cell_type": "markdown",
   "id": "82dacac5",
   "metadata": {},
   "source": [
    "> Vemos que ya estan limpios el tipo de dato y valores nulos"
   ]
  },
  {
   "cell_type": "markdown",
   "id": "f77e47d5",
   "metadata": {},
   "source": [
    "### Columna Auxiliar `other_sales`\n",
    "\n",
    "Ahora vamos a crear la columna Auxiliar que nos servira para un analisis a Futuro. donde sera la suma de todos los valores de la ventas de todas las regiones. Esta columna se llamara `other_sales`."
   ]
  },
  {
   "cell_type": "code",
   "execution_count": 458,
   "id": "1bdc8db2",
   "metadata": {},
   "outputs": [
    {
     "data": {
      "text/html": [
       "<div>\n",
       "<style scoped>\n",
       "    .dataframe tbody tr th:only-of-type {\n",
       "        vertical-align: middle;\n",
       "    }\n",
       "\n",
       "    .dataframe tbody tr th {\n",
       "        vertical-align: top;\n",
       "    }\n",
       "\n",
       "    .dataframe thead th {\n",
       "        text-align: right;\n",
       "    }\n",
       "</style>\n",
       "<table border=\"1\" class=\"dataframe\">\n",
       "  <thead>\n",
       "    <tr style=\"text-align: right;\">\n",
       "      <th></th>\n",
       "      <th>name</th>\n",
       "      <th>platform</th>\n",
       "      <th>year_of_release</th>\n",
       "      <th>genre</th>\n",
       "      <th>na_sales</th>\n",
       "      <th>eu_sales</th>\n",
       "      <th>jp_sales</th>\n",
       "      <th>other_sales</th>\n",
       "      <th>critic_score</th>\n",
       "      <th>user_score</th>\n",
       "      <th>rating</th>\n",
       "      <th>total_sales</th>\n",
       "    </tr>\n",
       "  </thead>\n",
       "  <tbody>\n",
       "    <tr>\n",
       "      <th>0</th>\n",
       "      <td>Wii Sports</td>\n",
       "      <td>Wii</td>\n",
       "      <td>2006</td>\n",
       "      <td>Sports</td>\n",
       "      <td>41.36</td>\n",
       "      <td>28.96</td>\n",
       "      <td>3.77</td>\n",
       "      <td>8.45</td>\n",
       "      <td>76.0</td>\n",
       "      <td>8.0</td>\n",
       "      <td>E</td>\n",
       "      <td>82.54</td>\n",
       "    </tr>\n",
       "    <tr>\n",
       "      <th>1</th>\n",
       "      <td>Super Mario Bros.</td>\n",
       "      <td>NES</td>\n",
       "      <td>1985</td>\n",
       "      <td>Platform</td>\n",
       "      <td>29.08</td>\n",
       "      <td>3.58</td>\n",
       "      <td>6.81</td>\n",
       "      <td>0.77</td>\n",
       "      <td>40.0</td>\n",
       "      <td>0.0</td>\n",
       "      <td>RP</td>\n",
       "      <td>40.24</td>\n",
       "    </tr>\n",
       "    <tr>\n",
       "      <th>2</th>\n",
       "      <td>Mario Kart Wii</td>\n",
       "      <td>Wii</td>\n",
       "      <td>2008</td>\n",
       "      <td>Racing</td>\n",
       "      <td>15.68</td>\n",
       "      <td>12.76</td>\n",
       "      <td>3.79</td>\n",
       "      <td>3.29</td>\n",
       "      <td>82.0</td>\n",
       "      <td>8.3</td>\n",
       "      <td>E</td>\n",
       "      <td>35.52</td>\n",
       "    </tr>\n",
       "    <tr>\n",
       "      <th>3</th>\n",
       "      <td>Wii Sports Resort</td>\n",
       "      <td>Wii</td>\n",
       "      <td>2009</td>\n",
       "      <td>Sports</td>\n",
       "      <td>15.61</td>\n",
       "      <td>10.93</td>\n",
       "      <td>3.28</td>\n",
       "      <td>2.95</td>\n",
       "      <td>80.0</td>\n",
       "      <td>8.0</td>\n",
       "      <td>E</td>\n",
       "      <td>32.77</td>\n",
       "    </tr>\n",
       "    <tr>\n",
       "      <th>4</th>\n",
       "      <td>Pokemon Red/Pokemon Blue</td>\n",
       "      <td>GB</td>\n",
       "      <td>1996</td>\n",
       "      <td>Role-Playing</td>\n",
       "      <td>11.27</td>\n",
       "      <td>8.89</td>\n",
       "      <td>10.22</td>\n",
       "      <td>1.00</td>\n",
       "      <td>24.0</td>\n",
       "      <td>2.0</td>\n",
       "      <td>RP</td>\n",
       "      <td>31.38</td>\n",
       "    </tr>\n",
       "    <tr>\n",
       "      <th>5</th>\n",
       "      <td>Tetris</td>\n",
       "      <td>GB</td>\n",
       "      <td>1989</td>\n",
       "      <td>Puzzle</td>\n",
       "      <td>23.20</td>\n",
       "      <td>2.26</td>\n",
       "      <td>4.22</td>\n",
       "      <td>0.58</td>\n",
       "      <td>30.0</td>\n",
       "      <td>5.0</td>\n",
       "      <td>RP</td>\n",
       "      <td>30.26</td>\n",
       "    </tr>\n",
       "    <tr>\n",
       "      <th>6</th>\n",
       "      <td>New Super Mario Bros.</td>\n",
       "      <td>DS</td>\n",
       "      <td>2006</td>\n",
       "      <td>Platform</td>\n",
       "      <td>11.28</td>\n",
       "      <td>9.14</td>\n",
       "      <td>6.50</td>\n",
       "      <td>2.88</td>\n",
       "      <td>89.0</td>\n",
       "      <td>8.5</td>\n",
       "      <td>E</td>\n",
       "      <td>29.80</td>\n",
       "    </tr>\n",
       "    <tr>\n",
       "      <th>7</th>\n",
       "      <td>Wii Play</td>\n",
       "      <td>Wii</td>\n",
       "      <td>2006</td>\n",
       "      <td>Misc</td>\n",
       "      <td>13.96</td>\n",
       "      <td>9.18</td>\n",
       "      <td>2.93</td>\n",
       "      <td>2.84</td>\n",
       "      <td>58.0</td>\n",
       "      <td>6.6</td>\n",
       "      <td>E</td>\n",
       "      <td>28.91</td>\n",
       "    </tr>\n",
       "    <tr>\n",
       "      <th>8</th>\n",
       "      <td>New Super Mario Bros. Wii</td>\n",
       "      <td>Wii</td>\n",
       "      <td>2009</td>\n",
       "      <td>Platform</td>\n",
       "      <td>14.44</td>\n",
       "      <td>6.94</td>\n",
       "      <td>4.70</td>\n",
       "      <td>2.24</td>\n",
       "      <td>87.0</td>\n",
       "      <td>8.4</td>\n",
       "      <td>E</td>\n",
       "      <td>28.32</td>\n",
       "    </tr>\n",
       "    <tr>\n",
       "      <th>9</th>\n",
       "      <td>Duck Hunt</td>\n",
       "      <td>NES</td>\n",
       "      <td>1984</td>\n",
       "      <td>Shooter</td>\n",
       "      <td>26.93</td>\n",
       "      <td>0.63</td>\n",
       "      <td>0.28</td>\n",
       "      <td>0.47</td>\n",
       "      <td>39.0</td>\n",
       "      <td>0.0</td>\n",
       "      <td>RP</td>\n",
       "      <td>28.31</td>\n",
       "    </tr>\n",
       "  </tbody>\n",
       "</table>\n",
       "</div>"
      ],
      "text/plain": [
       "                        name platform  year_of_release         genre  \\\n",
       "0                 Wii Sports      Wii             2006        Sports   \n",
       "1          Super Mario Bros.      NES             1985      Platform   \n",
       "2             Mario Kart Wii      Wii             2008        Racing   \n",
       "3          Wii Sports Resort      Wii             2009        Sports   \n",
       "4   Pokemon Red/Pokemon Blue       GB             1996  Role-Playing   \n",
       "5                     Tetris       GB             1989        Puzzle   \n",
       "6      New Super Mario Bros.       DS             2006      Platform   \n",
       "7                   Wii Play      Wii             2006          Misc   \n",
       "8  New Super Mario Bros. Wii      Wii             2009      Platform   \n",
       "9                  Duck Hunt      NES             1984       Shooter   \n",
       "\n",
       "   na_sales  eu_sales  jp_sales  other_sales  critic_score  user_score rating  \\\n",
       "0     41.36     28.96      3.77         8.45          76.0         8.0      E   \n",
       "1     29.08      3.58      6.81         0.77          40.0         0.0     RP   \n",
       "2     15.68     12.76      3.79         3.29          82.0         8.3      E   \n",
       "3     15.61     10.93      3.28         2.95          80.0         8.0      E   \n",
       "4     11.27      8.89     10.22         1.00          24.0         2.0     RP   \n",
       "5     23.20      2.26      4.22         0.58          30.0         5.0     RP   \n",
       "6     11.28      9.14      6.50         2.88          89.0         8.5      E   \n",
       "7     13.96      9.18      2.93         2.84          58.0         6.6      E   \n",
       "8     14.44      6.94      4.70         2.24          87.0         8.4      E   \n",
       "9     26.93      0.63      0.28         0.47          39.0         0.0     RP   \n",
       "\n",
       "   total_sales  \n",
       "0        82.54  \n",
       "1        40.24  \n",
       "2        35.52  \n",
       "3        32.77  \n",
       "4        31.38  \n",
       "5        30.26  \n",
       "6        29.80  \n",
       "7        28.91  \n",
       "8        28.32  \n",
       "9        28.31  "
      ]
     },
     "execution_count": 458,
     "metadata": {},
     "output_type": "execute_result"
    }
   ],
   "source": [
    "# Creamos la función que vamos a necesitar\n",
    "def sum_sales(row):\n",
    "    na = row['na_sales']\n",
    "    eu = row['eu_sales']\n",
    "    jp = row['jp_sales']\n",
    "    other = row['other_sales']\n",
    "    return na+eu+jp+other\n",
    "\n",
    "# Aplicamos la función\n",
    "df_lab['total_sales'] = df_lab.apply(sum_sales, axis=1)\n",
    "\n",
    "# Veamos si lo logramos\n",
    "df_lab.head(10)"
   ]
  },
  {
   "cell_type": "markdown",
   "id": "8f8f34b0",
   "metadata": {},
   "source": [
    "> __Concluimos que la el data frame se encuentra limpio de valores erroneos.__"
   ]
  },
  {
   "cell_type": "markdown",
   "id": "0751d8c9",
   "metadata": {},
   "source": [
    "### Analisis de Datos"
   ]
  },
  {
   "cell_type": "markdown",
   "id": "a0f0c6e7",
   "metadata": {},
   "source": [
    "+ Mirar cuántos juegos se lanzaron en diferentes años. Evaluar si los datos de cada período son significativos.\n"
   ]
  },
  {
   "cell_type": "code",
   "execution_count": 459,
   "id": "8efecef9",
   "metadata": {},
   "outputs": [
    {
     "name": "stdout",
     "output_type": "stream",
     "text": [
      "<class 'pandas.core.frame.DataFrame'>\n",
      "RangeIndex: 16712 entries, 0 to 16711\n",
      "Data columns (total 12 columns):\n",
      " #   Column           Non-Null Count  Dtype  \n",
      "---  ------           --------------  -----  \n",
      " 0   name             16712 non-null  object \n",
      " 1   platform         16712 non-null  object \n",
      " 2   year_of_release  16712 non-null  int32  \n",
      " 3   genre            16712 non-null  object \n",
      " 4   na_sales         16712 non-null  float64\n",
      " 5   eu_sales         16712 non-null  float64\n",
      " 6   jp_sales         16712 non-null  float64\n",
      " 7   other_sales      16712 non-null  float64\n",
      " 8   critic_score     16712 non-null  float64\n",
      " 9   user_score       16712 non-null  float64\n",
      " 10  rating           16712 non-null  object \n",
      " 11  total_sales      16712 non-null  float64\n",
      "dtypes: float64(7), int32(1), object(4)\n",
      "memory usage: 1.5+ MB\n"
     ]
    }
   ],
   "source": [
    "df_lab.info()"
   ]
  },
  {
   "cell_type": "markdown",
   "id": "78de6b50",
   "metadata": {},
   "source": [
    "#### Juegos por año\n",
    "+ Mirar cuántos juegos se lanzaron en diferentes años. Evaluar si los datos de cada período son significativos."
   ]
  },
  {
   "cell_type": "code",
   "execution_count": 460,
   "id": "2f1c5549",
   "metadata": {},
   "outputs": [
    {
     "data": {
      "text/html": [
       "<div>\n",
       "<style scoped>\n",
       "    .dataframe tbody tr th:only-of-type {\n",
       "        vertical-align: middle;\n",
       "    }\n",
       "\n",
       "    .dataframe tbody tr th {\n",
       "        vertical-align: top;\n",
       "    }\n",
       "\n",
       "    .dataframe thead th {\n",
       "        text-align: right;\n",
       "    }\n",
       "</style>\n",
       "<table border=\"1\" class=\"dataframe\">\n",
       "  <thead>\n",
       "    <tr style=\"text-align: right;\">\n",
       "      <th></th>\n",
       "      <th>year_of_release</th>\n",
       "      <th>name</th>\n",
       "    </tr>\n",
       "  </thead>\n",
       "  <tbody>\n",
       "    <tr>\n",
       "      <th>0</th>\n",
       "      <td>1980</td>\n",
       "      <td>9</td>\n",
       "    </tr>\n",
       "    <tr>\n",
       "      <th>1</th>\n",
       "      <td>1981</td>\n",
       "      <td>46</td>\n",
       "    </tr>\n",
       "    <tr>\n",
       "      <th>2</th>\n",
       "      <td>1982</td>\n",
       "      <td>53</td>\n",
       "    </tr>\n",
       "    <tr>\n",
       "      <th>3</th>\n",
       "      <td>1983</td>\n",
       "      <td>17</td>\n",
       "    </tr>\n",
       "    <tr>\n",
       "      <th>4</th>\n",
       "      <td>1984</td>\n",
       "      <td>14</td>\n",
       "    </tr>\n",
       "    <tr>\n",
       "      <th>5</th>\n",
       "      <td>1985</td>\n",
       "      <td>14</td>\n",
       "    </tr>\n",
       "    <tr>\n",
       "      <th>6</th>\n",
       "      <td>1986</td>\n",
       "      <td>21</td>\n",
       "    </tr>\n",
       "    <tr>\n",
       "      <th>7</th>\n",
       "      <td>1987</td>\n",
       "      <td>16</td>\n",
       "    </tr>\n",
       "    <tr>\n",
       "      <th>8</th>\n",
       "      <td>1988</td>\n",
       "      <td>15</td>\n",
       "    </tr>\n",
       "    <tr>\n",
       "      <th>9</th>\n",
       "      <td>1989</td>\n",
       "      <td>17</td>\n",
       "    </tr>\n",
       "  </tbody>\n",
       "</table>\n",
       "</div>"
      ],
      "text/plain": [
       "   year_of_release  name\n",
       "0             1980     9\n",
       "1             1981    46\n",
       "2             1982    53\n",
       "3             1983    17\n",
       "4             1984    14\n",
       "5             1985    14\n",
       "6             1986    21\n",
       "7             1987    16\n",
       "8             1988    15\n",
       "9             1989    17"
      ]
     },
     "execution_count": 460,
     "metadata": {},
     "output_type": "execute_result"
    }
   ],
   "source": [
    "df_game = df_lab[['year_of_release', 'name']].groupby('year_of_release').agg('count').sort_values('year_of_release').reset_index()\n",
    "df_game.head(10)"
   ]
  },
  {
   "cell_type": "code",
   "execution_count": 461,
   "id": "077088a7",
   "metadata": {},
   "outputs": [
    {
     "data": {
      "image/png": "[encoded data removed]",
      "text/plain": [
       "<Figure size 800x400 with 1 Axes>"
      ]
     },
     "metadata": {},
     "output_type": "display_data"
    }
   ],
   "source": [
    "\n",
    "df_game.plot.bar(x = 'year_of_release', y = 'name', rot = 90, figsize = (8, 4), alpha = 0.6, legend = False)\n",
    "plt.xlabel('Año')\n",
    "plt.ylabel('Numero de Juegos')\n",
    "plt.title(\"Numero de juegos VS Año\");"
   ]
  },
  {
   "cell_type": "markdown",
   "id": "56c09be7",
   "metadata": {},
   "source": [
    "Vemos que la industria de los videojuegos empieza desde el 1995 a crecer y su apogeo empieza en 2002 y alcanza su pico en 2009."
   ]
  },
  {
   "cell_type": "markdown",
   "id": "350d1a66",
   "metadata": {},
   "source": [
    "#### Ventas por Plataforma \n",
    "Observar cómo varían las ventas de una plataforma a otra. Elegir las plataformas con las mayores ventas totales y construir una distribución basada en los datos de cada año. "
   ]
  },
  {
   "cell_type": "code",
   "execution_count": 462,
   "id": "b8feda1a",
   "metadata": {},
   "outputs": [
    {
     "data": {
      "text/html": [
       "<div>\n",
       "<style scoped>\n",
       "    .dataframe tbody tr th:only-of-type {\n",
       "        vertical-align: middle;\n",
       "    }\n",
       "\n",
       "    .dataframe tbody tr th {\n",
       "        vertical-align: top;\n",
       "    }\n",
       "\n",
       "    .dataframe thead th {\n",
       "        text-align: right;\n",
       "    }\n",
       "</style>\n",
       "<table border=\"1\" class=\"dataframe\">\n",
       "  <thead>\n",
       "    <tr style=\"text-align: right;\">\n",
       "      <th></th>\n",
       "      <th>platform</th>\n",
       "      <th>total_sales</th>\n",
       "    </tr>\n",
       "  </thead>\n",
       "  <tbody>\n",
       "    <tr>\n",
       "      <th>0</th>\n",
       "      <td>PS2</td>\n",
       "      <td>2159</td>\n",
       "    </tr>\n",
       "    <tr>\n",
       "      <th>1</th>\n",
       "      <td>DS</td>\n",
       "      <td>2151</td>\n",
       "    </tr>\n",
       "    <tr>\n",
       "      <th>2</th>\n",
       "      <td>PS3</td>\n",
       "      <td>1330</td>\n",
       "    </tr>\n",
       "    <tr>\n",
       "      <th>3</th>\n",
       "      <td>Wii</td>\n",
       "      <td>1320</td>\n",
       "    </tr>\n",
       "    <tr>\n",
       "      <th>4</th>\n",
       "      <td>X360</td>\n",
       "      <td>1262</td>\n",
       "    </tr>\n",
       "  </tbody>\n",
       "</table>\n",
       "</div>"
      ],
      "text/plain": [
       "  platform  total_sales\n",
       "0      PS2         2159\n",
       "1       DS         2151\n",
       "2      PS3         1330\n",
       "3      Wii         1320\n",
       "4     X360         1262"
      ]
     },
     "execution_count": 462,
     "metadata": {},
     "output_type": "execute_result"
    }
   ],
   "source": [
    "df_sales = df_lab[['platform', 'total_sales']].groupby('platform').agg('count').sort_values('total_sales', ascending = False).reset_index()\n",
    "df_sales.nlargest(5, 'total_sales')"
   ]
  },
  {
   "cell_type": "code",
   "execution_count": 463,
   "id": "f5def2dc",
   "metadata": {},
   "outputs": [
    {
     "data": {
      "image/png": "[encoded data removed]",
      "text/plain": [
       "<Figure size 800x400 with 1 Axes>"
      ]
     },
     "metadata": {},
     "output_type": "display_data"
    }
   ],
   "source": [
    "df_sales.plot.bar(x = 'platform', y = 'total_sales', rot = 90, figsize = (8, 4), alpha = 0.6, legend = False)\n",
    "plt.xlabel('Platform')\n",
    "plt.ylabel('Total Sales')\n",
    "plt.title(\"Total sales variation from Platform to Platform\");"
   ]
  },
  {
   "cell_type": "markdown",
   "id": "9353b526",
   "metadata": {},
   "source": [
    "> Observamos que las plataformas que mas han vendido son la PS2, DS, PS3 , Wii"
   ]
  },
  {
   "cell_type": "markdown",
   "id": "656ecf14",
   "metadata": {},
   "source": [
    "Buscar las plataformas que eran populares pero que ahora no tienen ventas. Estimar cuánto tiempo tardan generalmente las nuevas plataformas en aparecer y las antiguas en desaparecer."
   ]
  },
  {
   "cell_type": "code",
   "execution_count": 464,
   "id": "5bbebe6e",
   "metadata": {},
   "outputs": [],
   "source": [
    "df_top = df_lab[df_lab.platform.isin(['PS2', 'DS', 'PS3', 'Wii', 'X360'])]\n",
    "top5_sales = df_top.pivot_table(index = 'year_of_release', values= 'total_sales', columns = 'platform', aggfunc = 'sum')\n"
   ]
  },
  {
   "cell_type": "code",
   "execution_count": 465,
   "id": "7e2b1499",
   "metadata": {},
   "outputs": [
    {
     "data": {
      "image/png": "[encoded data removed]",
      "text/plain": [
       "<Figure size 1000x2000 with 5 Axes>"
      ]
     },
     "metadata": {},
     "output_type": "display_data"
    }
   ],
   "source": [
    "top5_sales.plot.bar(subplots=True, figsize=(10, 20), alpha = 0.6)\n",
    "plt.suptitle(\"\")\n",
    "plt.xlabel('Año')\n",
    "plt.ylabel('Ventas totales');"
   ]
  },
  {
   "cell_type": "markdown",
   "id": "524ce420",
   "metadata": {},
   "source": [
    "+ Determinar para qué período se deben tomar los datos. Considerar las respuestas a las preguntas anteriores. "
   ]
  },
  {
   "cell_type": "markdown",
   "id": "d7774d09",
   "metadata": {},
   "source": [
    "> Concluimos que las plataformas y sus juegos tienen un periodo de vida de entre 9 y 12 años aproximadamente. por lo tanto consideraremos el periodo de tiempo igual a 10 años ."
   ]
  },
  {
   "cell_type": "markdown",
   "id": "8b0e53e8",
   "metadata": {},
   "source": [
    "+ Trabajar solo con los datos que se consideren relevantes. Ignorar los datos de años anteriores.\n",
    "\n",
    "Concluimos que los valores relevantes seria los juegos que tengan un potencias de 10 años , apartir de 2017 le quitaremos 5 años lo que nos deja que solo se tomara en cuenta los juegos desde el año 2012 , lo que nos deja un analisis para los siguientes 5 años.\n",
    "\n",
    "Filtramos el dataset para descartar los juegos anteriores de 2012."
   ]
  },
  {
   "cell_type": "code",
   "execution_count": 466,
   "id": "c5e0d130",
   "metadata": {},
   "outputs": [
    {
     "name": "stdout",
     "output_type": "stream",
     "text": [
      "0       2013\n",
      "1       2013\n",
      "2       2015\n",
      "3       2013\n",
      "4       2012\n",
      "        ... \n",
      "2890    2016\n",
      "2891    2014\n",
      "2892    2016\n",
      "2893    2016\n",
      "2894    2016\n",
      "Name: year_of_release, Length: 2895, dtype: int32\n"
     ]
    }
   ],
   "source": [
    "print(df_lab_filtrado['year_of_release'])"
   ]
  },
  {
   "cell_type": "code",
   "execution_count": 467,
   "id": "5cef9825",
   "metadata": {},
   "outputs": [],
   "source": [
    "df_lab_filtrado=df_lab[df_lab['year_of_release']>=2012].reset_index(drop=True)"
   ]
  },
  {
   "cell_type": "markdown",
   "id": "e8aae2d1",
   "metadata": {},
   "source": [
    "Vamos a tener los dato relevantes a partir de 2012"
   ]
  },
  {
   "cell_type": "code",
   "execution_count": 468,
   "id": "0d40a0c9",
   "metadata": {},
   "outputs": [
    {
     "name": "stdout",
     "output_type": "stream",
     "text": [
      "0       2013\n",
      "1       2013\n",
      "2       2015\n",
      "3       2013\n",
      "4       2012\n",
      "        ... \n",
      "2890    2016\n",
      "2891    2014\n",
      "2892    2016\n",
      "2893    2016\n",
      "2894    2016\n",
      "Name: year_of_release, Length: 2895, dtype: int32\n"
     ]
    }
   ],
   "source": [
    "print(df_lab_filtrado['year_of_release'])"
   ]
  },
  {
   "cell_type": "markdown",
   "id": "69c2f816",
   "metadata": {},
   "source": [
    "#### Ventas Globales de Juegos\n",
    "+ Crear un diagrama de caja para las ventas globales de todos los juegos, desglosados por plataforma. Analizar si las diferencias en las ventas son significativas y qué sucede con las ventas promedio en varias plataformas. Describir los hallazgos.\n",
    "\n"
   ]
  },
  {
   "cell_type": "code",
   "execution_count": 469,
   "id": "0fd24fd7",
   "metadata": {},
   "outputs": [
    {
     "data": {
      "image/png": "[encoded data removed]",
      "text/plain": [
       "<Figure size 1500x500 with 1 Axes>"
      ]
     },
     "metadata": {},
     "output_type": "display_data"
    }
   ],
   "source": [
    "# Hagamos una tabla con las ventas\n",
    "df_4_sales = df_lab_filtrado.pivot_table(index='name', columns='platform', values='total_sales', aggfunc='sum')\n",
    "\n",
    "# Hagamos un enfoque para ver mejor estas cajas\n",
    "df_4_sales.boxplot(figsize=(15,5))\n",
    "\n",
    "plt.yticks(np.arange(0,1.1,0.1))\n",
    "plt.ylim(0,1)\n",
    "plt.show()"
   ]
  },
  {
   "cell_type": "markdown",
   "id": "71ea781b",
   "metadata": {},
   "source": [
    "#### Reseñas de Usuarios\n",
    "+ Investigar cómo las reseñas de usuarios y profesionales afectan las ventas de una plataforma popular. Crear un gráfico de dispersión y calcular la correlación entre las reseñas y las ventas. \n",
    "\n",
    "##### Rating"
   ]
  },
  {
   "cell_type": "code",
   "execution_count": 470,
   "id": "842e53ec",
   "metadata": {},
   "outputs": [
    {
     "data": {
      "text/html": [
       "<div>\n",
       "<style scoped>\n",
       "    .dataframe tbody tr th:only-of-type {\n",
       "        vertical-align: middle;\n",
       "    }\n",
       "\n",
       "    .dataframe tbody tr th {\n",
       "        vertical-align: top;\n",
       "    }\n",
       "\n",
       "    .dataframe thead th {\n",
       "        text-align: right;\n",
       "    }\n",
       "</style>\n",
       "<table border=\"1\" class=\"dataframe\">\n",
       "  <thead>\n",
       "    <tr style=\"text-align: right;\">\n",
       "      <th>rating</th>\n",
       "      <th>E</th>\n",
       "      <th>E10+</th>\n",
       "      <th>M</th>\n",
       "      <th>RP</th>\n",
       "      <th>T</th>\n",
       "    </tr>\n",
       "  </thead>\n",
       "  <tbody>\n",
       "    <tr>\n",
       "      <th>count</th>\n",
       "      <td>186.000000</td>\n",
       "      <td>131.000000</td>\n",
       "      <td>216.000000</td>\n",
       "      <td>979.000000</td>\n",
       "      <td>245.000000</td>\n",
       "    </tr>\n",
       "    <tr>\n",
       "      <th>mean</th>\n",
       "      <td>1.544785</td>\n",
       "      <td>1.190687</td>\n",
       "      <td>2.361620</td>\n",
       "      <td>0.338274</td>\n",
       "      <td>0.666898</td>\n",
       "    </tr>\n",
       "    <tr>\n",
       "      <th>std</th>\n",
       "      <td>2.932520</td>\n",
       "      <td>1.854536</td>\n",
       "      <td>5.326225</td>\n",
       "      <td>1.513681</td>\n",
       "      <td>1.197021</td>\n",
       "    </tr>\n",
       "    <tr>\n",
       "      <th>min</th>\n",
       "      <td>0.010000</td>\n",
       "      <td>0.010000</td>\n",
       "      <td>0.020000</td>\n",
       "      <td>0.010000</td>\n",
       "      <td>0.010000</td>\n",
       "    </tr>\n",
       "    <tr>\n",
       "      <th>25%</th>\n",
       "      <td>0.110000</td>\n",
       "      <td>0.120000</td>\n",
       "      <td>0.207500</td>\n",
       "      <td>0.020000</td>\n",
       "      <td>0.110000</td>\n",
       "    </tr>\n",
       "    <tr>\n",
       "      <th>50%</th>\n",
       "      <td>0.500000</td>\n",
       "      <td>0.360000</td>\n",
       "      <td>0.775000</td>\n",
       "      <td>0.050000</td>\n",
       "      <td>0.240000</td>\n",
       "    </tr>\n",
       "    <tr>\n",
       "      <th>75%</th>\n",
       "      <td>1.477500</td>\n",
       "      <td>1.195000</td>\n",
       "      <td>2.227500</td>\n",
       "      <td>0.160000</td>\n",
       "      <td>0.660000</td>\n",
       "    </tr>\n",
       "    <tr>\n",
       "      <th>max</th>\n",
       "      <td>17.370000</td>\n",
       "      <td>8.900000</td>\n",
       "      <td>56.580000</td>\n",
       "      <td>25.670000</td>\n",
       "      <td>12.540000</td>\n",
       "    </tr>\n",
       "  </tbody>\n",
       "</table>\n",
       "</div>"
      ],
      "text/plain": [
       "rating           E        E10+           M          RP           T\n",
       "count   186.000000  131.000000  216.000000  979.000000  245.000000\n",
       "mean      1.544785    1.190687    2.361620    0.338274    0.666898\n",
       "std       2.932520    1.854536    5.326225    1.513681    1.197021\n",
       "min       0.010000    0.010000    0.020000    0.010000    0.010000\n",
       "25%       0.110000    0.120000    0.207500    0.020000    0.110000\n",
       "50%       0.500000    0.360000    0.775000    0.050000    0.240000\n",
       "75%       1.477500    1.195000    2.227500    0.160000    0.660000\n",
       "max      17.370000    8.900000   56.580000   25.670000   12.540000"
      ]
     },
     "execution_count": 470,
     "metadata": {},
     "output_type": "execute_result"
    }
   ],
   "source": [
    "\n",
    "# Vemos como se distribuye por calificación\n",
    "df_lab_ESRB=df_lab_filtrado.pivot_table(index='name', columns='rating', values='total_sales', aggfunc='sum')\n",
    "\n",
    "df_lab_ESRB.describe()"
   ]
  },
  {
   "cell_type": "code",
   "execution_count": 471,
   "id": "9848f48d",
   "metadata": {},
   "outputs": [
    {
     "data": {
      "image/png": "[encoded data removed]",
      "text/plain": [
       "<Figure size 1500x700 with 1 Axes>"
      ]
     },
     "metadata": {},
     "output_type": "display_data"
    }
   ],
   "source": [
    "# Hagamos un zoom en nuestros diagramas de caja\n",
    "df_lab_ESRB.boxplot(figsize=(15,7))\n",
    "plt.ylim(0,5.5)\n",
    "plt.yticks((np.arange(0, 5.5, step=0.5)))\n",
    "# Marquemos la mediana en rojo\n",
    "plt.hlines(0.48, xmin=0.5,xmax=5.5, color='red')\n",
    "# Marquemos la media en morado\n",
    "plt.hlines(0.11, xmin=0.5,xmax=5.5, color='purple')\n",
    "plt.show()"
   ]
  },
  {
   "cell_type": "markdown",
   "id": "8e13ffaa",
   "metadata": {},
   "source": [
    "> Se puede concluir que por calificacion ESRB la categoria que mas vende es la `M`"
   ]
  },
  {
   "cell_type": "code",
   "execution_count": 472,
   "id": "e426f1ea",
   "metadata": {},
   "outputs": [
    {
     "data": {
      "text/html": [
       "<div>\n",
       "<style scoped>\n",
       "    .dataframe tbody tr th:only-of-type {\n",
       "        vertical-align: middle;\n",
       "    }\n",
       "\n",
       "    .dataframe tbody tr th {\n",
       "        vertical-align: top;\n",
       "    }\n",
       "\n",
       "    .dataframe thead th {\n",
       "        text-align: right;\n",
       "    }\n",
       "</style>\n",
       "<table border=\"1\" class=\"dataframe\">\n",
       "  <thead>\n",
       "    <tr style=\"text-align: right;\">\n",
       "      <th>platform</th>\n",
       "      <th>3DS</th>\n",
       "      <th>DS</th>\n",
       "      <th>PC</th>\n",
       "      <th>PS3</th>\n",
       "      <th>PS4</th>\n",
       "      <th>PSP</th>\n",
       "      <th>PSV</th>\n",
       "      <th>Wii</th>\n",
       "      <th>WiiU</th>\n",
       "      <th>X360</th>\n",
       "      <th>XOne</th>\n",
       "    </tr>\n",
       "  </thead>\n",
       "  <tbody>\n",
       "    <tr>\n",
       "      <th>count</th>\n",
       "      <td>404.000000</td>\n",
       "      <td>31.000000</td>\n",
       "      <td>250.000000</td>\n",
       "      <td>492.000000</td>\n",
       "      <td>392.000000</td>\n",
       "      <td>173.000000</td>\n",
       "      <td>412.000000</td>\n",
       "      <td>54.000000</td>\n",
       "      <td>147.000000</td>\n",
       "      <td>292.000000</td>\n",
       "      <td>247.000000</td>\n",
       "    </tr>\n",
       "    <tr>\n",
       "      <th>mean</th>\n",
       "      <td>5.016832</td>\n",
       "      <td>4.451613</td>\n",
       "      <td>6.029200</td>\n",
       "      <td>5.755691</td>\n",
       "      <td>5.855357</td>\n",
       "      <td>4.524855</td>\n",
       "      <td>5.723058</td>\n",
       "      <td>5.340741</td>\n",
       "      <td>6.200000</td>\n",
       "      <td>5.828425</td>\n",
       "      <td>6.092713</td>\n",
       "    </tr>\n",
       "    <tr>\n",
       "      <th>std</th>\n",
       "      <td>2.841148</td>\n",
       "      <td>3.177826</td>\n",
       "      <td>2.057972</td>\n",
       "      <td>2.505714</td>\n",
       "      <td>2.467170</td>\n",
       "      <td>2.948041</td>\n",
       "      <td>2.730503</td>\n",
       "      <td>2.525606</td>\n",
       "      <td>2.203391</td>\n",
       "      <td>2.022344</td>\n",
       "      <td>2.089975</td>\n",
       "    </tr>\n",
       "    <tr>\n",
       "      <th>min</th>\n",
       "      <td>0.000000</td>\n",
       "      <td>0.000000</td>\n",
       "      <td>0.000000</td>\n",
       "      <td>0.000000</td>\n",
       "      <td>0.000000</td>\n",
       "      <td>0.000000</td>\n",
       "      <td>0.000000</td>\n",
       "      <td>0.000000</td>\n",
       "      <td>0.000000</td>\n",
       "      <td>0.000000</td>\n",
       "      <td>0.000000</td>\n",
       "    </tr>\n",
       "    <tr>\n",
       "      <th>25%</th>\n",
       "      <td>2.300000</td>\n",
       "      <td>1.500000</td>\n",
       "      <td>4.800000</td>\n",
       "      <td>4.000000</td>\n",
       "      <td>4.900000</td>\n",
       "      <td>2.000000</td>\n",
       "      <td>4.000000</td>\n",
       "      <td>4.000000</td>\n",
       "      <td>5.000000</td>\n",
       "      <td>4.800000</td>\n",
       "      <td>5.400000</td>\n",
       "    </tr>\n",
       "    <tr>\n",
       "      <th>50%</th>\n",
       "      <td>6.000000</td>\n",
       "      <td>5.000000</td>\n",
       "      <td>6.500000</td>\n",
       "      <td>6.400000</td>\n",
       "      <td>6.600000</td>\n",
       "      <td>4.000000</td>\n",
       "      <td>6.750000</td>\n",
       "      <td>6.000000</td>\n",
       "      <td>6.800000</td>\n",
       "      <td>6.250000</td>\n",
       "      <td>6.600000</td>\n",
       "    </tr>\n",
       "    <tr>\n",
       "      <th>75%</th>\n",
       "      <td>7.400000</td>\n",
       "      <td>7.000000</td>\n",
       "      <td>7.600000</td>\n",
       "      <td>7.800000</td>\n",
       "      <td>7.725000</td>\n",
       "      <td>7.000000</td>\n",
       "      <td>8.000000</td>\n",
       "      <td>7.075000</td>\n",
       "      <td>7.950000</td>\n",
       "      <td>7.300000</td>\n",
       "      <td>7.550000</td>\n",
       "    </tr>\n",
       "    <tr>\n",
       "      <th>max</th>\n",
       "      <td>9.100000</td>\n",
       "      <td>9.000000</td>\n",
       "      <td>9.300000</td>\n",
       "      <td>11.000000</td>\n",
       "      <td>9.200000</td>\n",
       "      <td>9.000000</td>\n",
       "      <td>9.300000</td>\n",
       "      <td>9.000000</td>\n",
       "      <td>9.100000</td>\n",
       "      <td>9.000000</td>\n",
       "      <td>9.200000</td>\n",
       "    </tr>\n",
       "  </tbody>\n",
       "</table>\n",
       "</div>"
      ],
      "text/plain": [
       "platform         3DS         DS          PC         PS3         PS4  \\\n",
       "count     404.000000  31.000000  250.000000  492.000000  392.000000   \n",
       "mean        5.016832   4.451613    6.029200    5.755691    5.855357   \n",
       "std         2.841148   3.177826    2.057972    2.505714    2.467170   \n",
       "min         0.000000   0.000000    0.000000    0.000000    0.000000   \n",
       "25%         2.300000   1.500000    4.800000    4.000000    4.900000   \n",
       "50%         6.000000   5.000000    6.500000    6.400000    6.600000   \n",
       "75%         7.400000   7.000000    7.600000    7.800000    7.725000   \n",
       "max         9.100000   9.000000    9.300000   11.000000    9.200000   \n",
       "\n",
       "platform         PSP         PSV        Wii        WiiU        X360  \\\n",
       "count     173.000000  412.000000  54.000000  147.000000  292.000000   \n",
       "mean        4.524855    5.723058   5.340741    6.200000    5.828425   \n",
       "std         2.948041    2.730503   2.525606    2.203391    2.022344   \n",
       "min         0.000000    0.000000   0.000000    0.000000    0.000000   \n",
       "25%         2.000000    4.000000   4.000000    5.000000    4.800000   \n",
       "50%         4.000000    6.750000   6.000000    6.800000    6.250000   \n",
       "75%         7.000000    8.000000   7.075000    7.950000    7.300000   \n",
       "max         9.000000    9.300000   9.000000    9.100000    9.000000   \n",
       "\n",
       "platform        XOne  \n",
       "count     247.000000  \n",
       "mean        6.092713  \n",
       "std         2.089975  \n",
       "min         0.000000  \n",
       "25%         5.400000  \n",
       "50%         6.600000  \n",
       "75%         7.550000  \n",
       "max         9.200000  "
      ]
     },
     "execution_count": 472,
     "metadata": {},
     "output_type": "execute_result"
    }
   ],
   "source": [
    "df_lab_userScore=df_lab_filtrado.pivot_table(index='name', columns='platform', values='user_score', aggfunc='sum')\n",
    "\n",
    "df_lab_userScore.describe()"
   ]
  },
  {
   "cell_type": "code",
   "execution_count": 473,
   "id": "8fc9e9ad",
   "metadata": {},
   "outputs": [
    {
     "data": {
      "text/plain": [
       "platform\n",
       "3DS     7.400\n",
       "DS      7.000\n",
       "PC      7.600\n",
       "PS3     7.800\n",
       "PS4     7.725\n",
       "PSP     7.000\n",
       "PSV     8.000\n",
       "Wii     7.075\n",
       "WiiU    7.950\n",
       "X360    7.300\n",
       "XOne    7.550\n",
       "Name: 0.75, dtype: float64"
      ]
     },
     "execution_count": 473,
     "metadata": {},
     "output_type": "execute_result"
    }
   ],
   "source": [
    "best_quartile_userScore = df_lab_userScore.quantile(0.75)\n",
    "best_quartile_userScore"
   ]
  },
  {
   "cell_type": "code",
   "execution_count": 474,
   "id": "a3b3ddfb",
   "metadata": {},
   "outputs": [
    {
     "data": {
      "image/png": "[encoded data removed]",
      "text/plain": [
       "<Figure size 1000x500 with 1 Axes>"
      ]
     },
     "metadata": {},
     "output_type": "display_data"
    }
   ],
   "source": [
    "best_quartile_userScore.plot.bar(figsize=(10,5))\n",
    "\n",
    "\n",
    "# Etiquetas y título\n",
    "plt.xlabel('Platform')\n",
    "plt.ylabel('User Score')\n",
    "plt.title('UserScore by Platform')\n",
    "\n",
    "# Mostrar el gráfico\n",
    "plt.show()"
   ]
  },
  {
   "cell_type": "markdown",
   "id": "fb570e7c",
   "metadata": {},
   "source": [
    "Vamos a ver si es que hay correlacion"
   ]
  },
  {
   "cell_type": "code",
   "execution_count": 475,
   "id": "73f9ac27",
   "metadata": {},
   "outputs": [
    {
     "data": {
      "text/plain": [
       "0.07533064999746268"
      ]
     },
     "execution_count": 475,
     "metadata": {},
     "output_type": "execute_result"
    }
   ],
   "source": [
    "df_lab_filtrado['user_score'].corr(df_lab_filtrado['total_sales'])"
   ]
  },
  {
   "cell_type": "markdown",
   "id": "fcaad59a",
   "metadata": {},
   "source": [
    "> Podemos ver que no necesariemente existe una correlacion entre el user score y las ventas."
   ]
  },
  {
   "cell_type": "markdown",
   "id": "40cbb457",
   "metadata": {},
   "source": [
    "#### Calidicacion de Criticos `critic_score`"
   ]
  },
  {
   "cell_type": "code",
   "execution_count": 476,
   "id": "f3790d25",
   "metadata": {},
   "outputs": [
    {
     "data": {
      "text/plain": [
       "count    2895.000000\n",
       "mean       62.917444\n",
       "std        22.087541\n",
       "min        13.000000\n",
       "25%        48.000000\n",
       "50%        69.000000\n",
       "75%        80.000000\n",
       "max        97.000000\n",
       "Name: critic_score, dtype: float64"
      ]
     },
     "execution_count": 476,
     "metadata": {},
     "output_type": "execute_result"
    }
   ],
   "source": [
    "df_lab_filtrado['critic_score'].describe()"
   ]
  },
  {
   "cell_type": "code",
   "execution_count": 477,
   "id": "0a204530",
   "metadata": {},
   "outputs": [
    {
     "data": {
      "text/html": [
       "<div>\n",
       "<style scoped>\n",
       "    .dataframe tbody tr th:only-of-type {\n",
       "        vertical-align: middle;\n",
       "    }\n",
       "\n",
       "    .dataframe tbody tr th {\n",
       "        vertical-align: top;\n",
       "    }\n",
       "\n",
       "    .dataframe thead th {\n",
       "        text-align: right;\n",
       "    }\n",
       "</style>\n",
       "<table border=\"1\" class=\"dataframe\">\n",
       "  <thead>\n",
       "    <tr style=\"text-align: right;\">\n",
       "      <th>platform</th>\n",
       "      <th>3DS</th>\n",
       "      <th>DS</th>\n",
       "      <th>PC</th>\n",
       "      <th>PS3</th>\n",
       "      <th>PS4</th>\n",
       "      <th>PSP</th>\n",
       "      <th>PSV</th>\n",
       "      <th>Wii</th>\n",
       "      <th>WiiU</th>\n",
       "      <th>X360</th>\n",
       "      <th>XOne</th>\n",
       "    </tr>\n",
       "  </thead>\n",
       "  <tbody>\n",
       "    <tr>\n",
       "      <th>count</th>\n",
       "      <td>404.000000</td>\n",
       "      <td>31.000000</td>\n",
       "      <td>250.000000</td>\n",
       "      <td>492.000000</td>\n",
       "      <td>392.000000</td>\n",
       "      <td>173.000000</td>\n",
       "      <td>412.000000</td>\n",
       "      <td>54.000000</td>\n",
       "      <td>147.000000</td>\n",
       "      <td>292.000000</td>\n",
       "      <td>247.00000</td>\n",
       "    </tr>\n",
       "    <tr>\n",
       "      <th>mean</th>\n",
       "      <td>60.559406</td>\n",
       "      <td>53.870968</td>\n",
       "      <td>71.840000</td>\n",
       "      <td>61.654472</td>\n",
       "      <td>65.875000</td>\n",
       "      <td>54.526012</td>\n",
       "      <td>60.004854</td>\n",
       "      <td>58.592593</td>\n",
       "      <td>63.176871</td>\n",
       "      <td>64.123288</td>\n",
       "      <td>67.05668</td>\n",
       "    </tr>\n",
       "    <tr>\n",
       "      <th>std</th>\n",
       "      <td>22.803921</td>\n",
       "      <td>22.299091</td>\n",
       "      <td>15.765042</td>\n",
       "      <td>23.175117</td>\n",
       "      <td>19.915864</td>\n",
       "      <td>25.301339</td>\n",
       "      <td>23.683435</td>\n",
       "      <td>25.673949</td>\n",
       "      <td>21.374258</td>\n",
       "      <td>20.633903</td>\n",
       "      <td>20.17134</td>\n",
       "    </tr>\n",
       "    <tr>\n",
       "      <th>min</th>\n",
       "      <td>13.000000</td>\n",
       "      <td>18.000000</td>\n",
       "      <td>15.000000</td>\n",
       "      <td>13.000000</td>\n",
       "      <td>13.000000</td>\n",
       "      <td>13.000000</td>\n",
       "      <td>13.000000</td>\n",
       "      <td>14.000000</td>\n",
       "      <td>13.000000</td>\n",
       "      <td>14.000000</td>\n",
       "      <td>13.00000</td>\n",
       "    </tr>\n",
       "    <tr>\n",
       "      <th>25%</th>\n",
       "      <td>44.000000</td>\n",
       "      <td>37.000000</td>\n",
       "      <td>65.000000</td>\n",
       "      <td>44.000000</td>\n",
       "      <td>54.000000</td>\n",
       "      <td>32.000000</td>\n",
       "      <td>40.000000</td>\n",
       "      <td>36.000000</td>\n",
       "      <td>49.000000</td>\n",
       "      <td>49.750000</td>\n",
       "      <td>60.00000</td>\n",
       "    </tr>\n",
       "    <tr>\n",
       "      <th>50%</th>\n",
       "      <td>65.000000</td>\n",
       "      <td>54.000000</td>\n",
       "      <td>75.500000</td>\n",
       "      <td>68.000000</td>\n",
       "      <td>71.000000</td>\n",
       "      <td>55.000000</td>\n",
       "      <td>64.000000</td>\n",
       "      <td>64.500000</td>\n",
       "      <td>69.000000</td>\n",
       "      <td>69.000000</td>\n",
       "      <td>73.00000</td>\n",
       "    </tr>\n",
       "    <tr>\n",
       "      <th>75%</th>\n",
       "      <td>79.250000</td>\n",
       "      <td>70.000000</td>\n",
       "      <td>82.000000</td>\n",
       "      <td>79.000000</td>\n",
       "      <td>80.000000</td>\n",
       "      <td>75.000000</td>\n",
       "      <td>79.000000</td>\n",
       "      <td>80.250000</td>\n",
       "      <td>79.000000</td>\n",
       "      <td>80.000000</td>\n",
       "      <td>81.00000</td>\n",
       "    </tr>\n",
       "    <tr>\n",
       "      <th>max</th>\n",
       "      <td>97.000000</td>\n",
       "      <td>93.000000</td>\n",
       "      <td>97.000000</td>\n",
       "      <td>166.000000</td>\n",
       "      <td>97.000000</td>\n",
       "      <td>97.000000</td>\n",
       "      <td>97.000000</td>\n",
       "      <td>97.000000</td>\n",
       "      <td>96.000000</td>\n",
       "      <td>97.000000</td>\n",
       "      <td>97.00000</td>\n",
       "    </tr>\n",
       "  </tbody>\n",
       "</table>\n",
       "</div>"
      ],
      "text/plain": [
       "platform         3DS         DS          PC         PS3         PS4  \\\n",
       "count     404.000000  31.000000  250.000000  492.000000  392.000000   \n",
       "mean       60.559406  53.870968   71.840000   61.654472   65.875000   \n",
       "std        22.803921  22.299091   15.765042   23.175117   19.915864   \n",
       "min        13.000000  18.000000   15.000000   13.000000   13.000000   \n",
       "25%        44.000000  37.000000   65.000000   44.000000   54.000000   \n",
       "50%        65.000000  54.000000   75.500000   68.000000   71.000000   \n",
       "75%        79.250000  70.000000   82.000000   79.000000   80.000000   \n",
       "max        97.000000  93.000000   97.000000  166.000000   97.000000   \n",
       "\n",
       "platform         PSP         PSV        Wii        WiiU        X360       XOne  \n",
       "count     173.000000  412.000000  54.000000  147.000000  292.000000  247.00000  \n",
       "mean       54.526012   60.004854  58.592593   63.176871   64.123288   67.05668  \n",
       "std        25.301339   23.683435  25.673949   21.374258   20.633903   20.17134  \n",
       "min        13.000000   13.000000  14.000000   13.000000   14.000000   13.00000  \n",
       "25%        32.000000   40.000000  36.000000   49.000000   49.750000   60.00000  \n",
       "50%        55.000000   64.000000  64.500000   69.000000   69.000000   73.00000  \n",
       "75%        75.000000   79.000000  80.250000   79.000000   80.000000   81.00000  \n",
       "max        97.000000   97.000000  97.000000   96.000000   97.000000   97.00000  "
      ]
     },
     "execution_count": 477,
     "metadata": {},
     "output_type": "execute_result"
    }
   ],
   "source": [
    "df_lab_cscore = df_lab_filtrado.pivot_table(index='name', columns='platform', values='critic_score', aggfunc='sum')\n",
    "\n",
    "df_lab_cscore.describe()"
   ]
  },
  {
   "cell_type": "markdown",
   "id": "b9eea294",
   "metadata": {},
   "source": [
    "Vemos si es que hay correlacion "
   ]
  },
  {
   "cell_type": "code",
   "execution_count": 478,
   "id": "ddb90518",
   "metadata": {},
   "outputs": [
    {
     "data": {
      "text/plain": [
       "0.17305298535768682"
      ]
     },
     "execution_count": 478,
     "metadata": {},
     "output_type": "execute_result"
    }
   ],
   "source": [
    "df_lab_filtrado['critic_score'].corr(df_lab_filtrado['total_sales'])"
   ]
  },
  {
   "cell_type": "markdown",
   "id": "40f9a98b",
   "metadata": {},
   "source": [
    "> Concluimos que es demasiado baja la relacion de entre la critica y el juego con las ventas."
   ]
  },
  {
   "cell_type": "markdown",
   "id": "686faf2a",
   "metadata": {},
   "source": [
    "Juegos Vs Plataformas\n",
    "+ Comparar las ventas de los mismos juegos en otras plataformas, teniendo en cuenta las conclusiones.\n",
    "En este caso Vamos a tomar los mejores Juegos analizados en diferentes plataformas. "
   ]
  },
  {
   "cell_type": "code",
   "execution_count": 479,
   "id": "abd3dcfb",
   "metadata": {},
   "outputs": [
    {
     "name": "stdout",
     "output_type": "stream",
     "text": [
      "<class 'pandas.core.frame.DataFrame'>\n",
      "RangeIndex: 2895 entries, 0 to 2894\n",
      "Data columns (total 12 columns):\n",
      " #   Column           Non-Null Count  Dtype  \n",
      "---  ------           --------------  -----  \n",
      " 0   name             2895 non-null   object \n",
      " 1   platform         2895 non-null   object \n",
      " 2   year_of_release  2895 non-null   int32  \n",
      " 3   genre            2895 non-null   object \n",
      " 4   na_sales         2895 non-null   float64\n",
      " 5   eu_sales         2895 non-null   float64\n",
      " 6   jp_sales         2895 non-null   float64\n",
      " 7   other_sales      2895 non-null   float64\n",
      " 8   critic_score     2895 non-null   float64\n",
      " 9   user_score       2895 non-null   float64\n",
      " 10  rating           2895 non-null   object \n",
      " 11  total_sales      2895 non-null   float64\n",
      "dtypes: float64(7), int32(1), object(4)\n",
      "memory usage: 260.2+ KB\n"
     ]
    }
   ],
   "source": [
    "df_lab_filtrado.info()"
   ]
  },
  {
   "cell_type": "code",
   "execution_count": 480,
   "id": "a9f5acc1",
   "metadata": {},
   "outputs": [],
   "source": [
    "df_grouped_best_games = df_lab_filtrado.groupby(['name', 'platform'])['total_sales'].sum()\n"
   ]
  },
  {
   "cell_type": "code",
   "execution_count": 481,
   "id": "905a91d3",
   "metadata": {},
   "outputs": [],
   "source": [
    "# Ordenar la Serie de forma descendente\n",
    "df_grouped_best_games_sorted = df_grouped_best_games.sort_values(ascending=False)\n"
   ]
  },
  {
   "cell_type": "code",
   "execution_count": 482,
   "id": "f4bb89bd",
   "metadata": {},
   "outputs": [
    {
     "data": {
      "text/plain": [
       "name                                            platform\n",
       "Grand Theft Auto V                              PS3         21.05\n",
       "                                                X360        16.27\n",
       "Call of Duty: Black Ops 3                       PS4         14.63\n",
       "Pokemon X/Pokemon Y                             3DS         14.60\n",
       "Call of Duty: Black Ops II                      PS3         13.79\n",
       "                                                            ...  \n",
       "SoniPro                                         3DS          0.01\n",
       "Horse Life 4: My Horse, My Friend, My Champion  3DS          0.01\n",
       "Hyakka Yakou                                    PSV          0.01\n",
       "Hyakki Yagyou Kaidan Romance                    PSP          0.01\n",
       "Mark McMorris Infinite Air                      XOne         0.01\n",
       "Name: total_sales, Length: 2894, dtype: float64"
      ]
     },
     "execution_count": 482,
     "metadata": {},
     "output_type": "execute_result"
    }
   ],
   "source": [
    "df_grouped_best_games_sorted\n",
    "\n"
   ]
  },
  {
   "cell_type": "code",
   "execution_count": 483,
   "id": "6d1a6e5e",
   "metadata": {},
   "outputs": [],
   "source": [
    "top_games=df_grouped_best_games_sorted.head(20)"
   ]
  },
  {
   "cell_type": "code",
   "execution_count": 484,
   "id": "68e327a3",
   "metadata": {},
   "outputs": [
    {
     "data": {
      "image/png": "[encoded data removed]",
      "text/plain": [
       "<Figure size 1500x400 with 1 Axes>"
      ]
     },
     "metadata": {},
     "output_type": "display_data"
    }
   ],
   "source": [
    "# Deshacer el índice 'platform'\n",
    "df_unstacked = top_games.unstack('platform')\n",
    "\n",
    "# Crear el gráfico de barras\n",
    "df_unstacked.plot(kind='bar', figsize=(15,4))\n",
    "\n",
    "plt.xlabel('Nombre del juego')\n",
    "plt.ylabel('Ventas totales')\n",
    "plt.title('ventas de los mejores videojuegos segun sus plataformas')\n",
    "\n",
    "# Mostrar el gráfico\n",
    "plt.show()\n"
   ]
  },
  {
   "cell_type": "markdown",
   "id": "4bff3be2",
   "metadata": {},
   "source": [
    "> Podemos Observar que los juegos mas Vendidos que estan en diferentes plataformas tiene una correlacion.\n",
    "En este caso se ve que las plataformas que mas venden videojuegos son a consolas por lo que hay que enfocarse en las mismas\n",
    "\n",
    "> Entre ellas destaca \"Grand Theft Auto V\""
   ]
  },
  {
   "cell_type": "markdown",
   "id": "52bc06a6",
   "metadata": {},
   "source": [
    "#### Rentabilidad por Genero\n",
    "\n",
    "+ Echar un vistazo a la distribución general de los juegos por género. Analizar los géneros más rentables y tratar de generalizar acerca de los géneros con ventas altas y bajas."
   ]
  },
  {
   "cell_type": "code",
   "execution_count": 485,
   "id": "9201d114",
   "metadata": {},
   "outputs": [
    {
     "data": {
      "text/plain": [
       "genre\n",
       "Action          441.52\n",
       "Adventure        29.52\n",
       "Fighting         44.49\n",
       "Misc             85.04\n",
       "Platform         61.00\n",
       "Puzzle            4.89\n",
       "Racing           53.59\n",
       "Role-Playing    193.09\n",
       "Shooter         304.80\n",
       "Simulation       35.61\n",
       "Sports          181.09\n",
       "Strategy         13.34\n",
       "Name: total_sales, dtype: float64"
      ]
     },
     "execution_count": 485,
     "metadata": {},
     "output_type": "execute_result"
    }
   ],
   "source": [
    "df_grouped_best_genre = df_lab_filtrado.groupby(['genre'])['total_sales'].sum()\n",
    "df_grouped_best_genre"
   ]
  },
  {
   "cell_type": "code",
   "execution_count": 486,
   "id": "df719356",
   "metadata": {},
   "outputs": [],
   "source": [
    "df_grouped_best_genre = df_grouped_best_genre.sort_values(ascending=False)"
   ]
  },
  {
   "cell_type": "markdown",
   "id": "eee35a45",
   "metadata": {},
   "source": [
    "Los mejores Juegos:"
   ]
  },
  {
   "cell_type": "code",
   "execution_count": 487,
   "id": "39ac4d67",
   "metadata": {},
   "outputs": [
    {
     "data": {
      "text/plain": [
       "genre\n",
       "Action          441.52\n",
       "Shooter         304.80\n",
       "Role-Playing    193.09\n",
       "Sports          181.09\n",
       "Misc             85.04\n",
       "Platform         61.00\n",
       "Racing           53.59\n",
       "Fighting         44.49\n",
       "Simulation       35.61\n",
       "Adventure        29.52\n",
       "Strategy         13.34\n",
       "Puzzle            4.89\n",
       "Name: total_sales, dtype: float64"
      ]
     },
     "execution_count": 487,
     "metadata": {},
     "output_type": "execute_result"
    }
   ],
   "source": [
    "df_grouped_best_genre"
   ]
  },
  {
   "cell_type": "code",
   "execution_count": 488,
   "id": "d8c9c864",
   "metadata": {},
   "outputs": [
    {
     "data": {
      "image/png": "[encoded data removed]",
      "text/plain": [
       "<Figure size 1000x500 with 1 Axes>"
      ]
     },
     "metadata": {},
     "output_type": "display_data"
    }
   ],
   "source": [
    "\n",
    "# Crear el gráfico de barras\n",
    "df_grouped_best_genre.plot(kind='bar', color='skyblue', figsize=(10,5))\n",
    "\n",
    "# Agregar nombres a los ejes\n",
    "plt.xlabel('Género')\n",
    "plt.ylabel('Ventas totales')\n",
    "\n",
    "# Agregar título al gráfico\n",
    "plt.title('Ventas totales por género')\n",
    "\n",
    "# Mostrar el gráfico\n",
    "plt.show()\n"
   ]
  },
  {
   "cell_type": "markdown",
   "id": "2a87bfcd",
   "metadata": {},
   "source": [
    "> Podemos concluir que si hay una relacion entre el genero y las ventas del Juego, donde hay que procurar hacer videojuegos de Accion y shooter."
   ]
  },
  {
   "cell_type": "markdown",
   "id": "ce3aa6d3",
   "metadata": {},
   "source": [
    "###  Evaluar por Regiones <a class=\"anchor\" id=\"evaluarRegiones\"></a> \n",
    "\n",
    "Para cada región (NA, UE, JP)\n",
    "\n",
    "\n",
    "+ Las cinco plataformas principales. \n",
    "+ Describir las variaciones en sus cuotas de mercado de una región a otra.\n",
    "+ Los cinco géneros principales. Explicar la diferencia.\n"
   ]
  },
  {
   "cell_type": "markdown",
   "id": "ffda7d4f",
   "metadata": {},
   "source": [
    "#### Comparacion de Regiones en plataforma"
   ]
  },
  {
   "cell_type": "code",
   "execution_count": 489,
   "id": "5ca15ec3",
   "metadata": {},
   "outputs": [
    {
     "data": {
      "text/html": [
       "<div>\n",
       "<style scoped>\n",
       "    .dataframe tbody tr th:only-of-type {\n",
       "        vertical-align: middle;\n",
       "    }\n",
       "\n",
       "    .dataframe tbody tr th {\n",
       "        vertical-align: top;\n",
       "    }\n",
       "\n",
       "    .dataframe thead th {\n",
       "        text-align: right;\n",
       "    }\n",
       "</style>\n",
       "<table border=\"1\" class=\"dataframe\">\n",
       "  <thead>\n",
       "    <tr style=\"text-align: right;\">\n",
       "      <th></th>\n",
       "      <th>na_sales</th>\n",
       "      <th>eu_sales</th>\n",
       "      <th>jp_sales</th>\n",
       "    </tr>\n",
       "    <tr>\n",
       "      <th>platform</th>\n",
       "      <th></th>\n",
       "      <th></th>\n",
       "      <th></th>\n",
       "    </tr>\n",
       "  </thead>\n",
       "  <tbody>\n",
       "    <tr>\n",
       "      <th>X360</th>\n",
       "      <td>140.05</td>\n",
       "      <td>74.52</td>\n",
       "      <td>1.57</td>\n",
       "    </tr>\n",
       "    <tr>\n",
       "      <th>PS4</th>\n",
       "      <td>108.74</td>\n",
       "      <td>141.09</td>\n",
       "      <td>15.96</td>\n",
       "    </tr>\n",
       "    <tr>\n",
       "      <th>PS3</th>\n",
       "      <td>103.38</td>\n",
       "      <td>106.86</td>\n",
       "      <td>35.29</td>\n",
       "    </tr>\n",
       "    <tr>\n",
       "      <th>XOne</th>\n",
       "      <td>93.12</td>\n",
       "      <td>51.59</td>\n",
       "      <td>0.34</td>\n",
       "    </tr>\n",
       "    <tr>\n",
       "      <th>3DS</th>\n",
       "      <td>56.15</td>\n",
       "      <td>42.85</td>\n",
       "      <td>87.84</td>\n",
       "    </tr>\n",
       "    <tr>\n",
       "      <th>WiiU</th>\n",
       "      <td>38.10</td>\n",
       "      <td>25.13</td>\n",
       "      <td>13.01</td>\n",
       "    </tr>\n",
       "    <tr>\n",
       "      <th>PC</th>\n",
       "      <td>19.12</td>\n",
       "      <td>37.76</td>\n",
       "      <td>0.00</td>\n",
       "    </tr>\n",
       "    <tr>\n",
       "      <th>Wii</th>\n",
       "      <td>17.45</td>\n",
       "      <td>11.92</td>\n",
       "      <td>3.39</td>\n",
       "    </tr>\n",
       "    <tr>\n",
       "      <th>PSV</th>\n",
       "      <td>11.09</td>\n",
       "      <td>11.41</td>\n",
       "      <td>21.11</td>\n",
       "    </tr>\n",
       "    <tr>\n",
       "      <th>DS</th>\n",
       "      <td>4.59</td>\n",
       "      <td>3.53</td>\n",
       "      <td>3.72</td>\n",
       "    </tr>\n",
       "    <tr>\n",
       "      <th>PSP</th>\n",
       "      <td>0.13</td>\n",
       "      <td>0.42</td>\n",
       "      <td>10.47</td>\n",
       "    </tr>\n",
       "  </tbody>\n",
       "</table>\n",
       "</div>"
      ],
      "text/plain": [
       "          na_sales  eu_sales  jp_sales\n",
       "platform                              \n",
       "X360        140.05     74.52      1.57\n",
       "PS4         108.74    141.09     15.96\n",
       "PS3         103.38    106.86     35.29\n",
       "XOne         93.12     51.59      0.34\n",
       "3DS          56.15     42.85     87.84\n",
       "WiiU         38.10     25.13     13.01\n",
       "PC           19.12     37.76      0.00\n",
       "Wii          17.45     11.92      3.39\n",
       "PSV          11.09     11.41     21.11\n",
       "DS            4.59      3.53      3.72\n",
       "PSP           0.13      0.42     10.47"
      ]
     },
     "execution_count": 489,
     "metadata": {},
     "output_type": "execute_result"
    }
   ],
   "source": [
    "df_grouped_region_platform= df_lab_filtrado.groupby('platform')[['na_sales','eu_sales','jp_sales']].sum()\n",
    "# Ordenar el DataFrame de forma descendente por 'na_sales'\n",
    "df_grouped_region_platform = df_grouped_region_platform.sort_values('na_sales', ascending=False)\n",
    "\n",
    "df_grouped_region_platform "
   ]
  },
  {
   "cell_type": "code",
   "execution_count": 490,
   "id": "102afa76",
   "metadata": {},
   "outputs": [
    {
     "data": {
      "image/png": "[encoded data removed]",
      "text/plain": [
       "<Figure size 1000x500 with 1 Axes>"
      ]
     },
     "metadata": {},
     "output_type": "display_data"
    }
   ],
   "source": [
    "#Crear el gráfico de barras\n",
    "df_grouped_region_platform.plot(kind='bar', stacked=True, figsize=(10,5))\n",
    "\n",
    "# Agregar nombres a los ejes\n",
    "plt.xlabel('Plataforma')\n",
    "plt.ylabel('Ventas')\n",
    "\n",
    "# Agregar título al gráfico\n",
    "plt.title('Ventas por región y plataforma')\n",
    "\n",
    "# Mostrar el gráfico\n",
    "plt.show()"
   ]
  },
  {
   "cell_type": "markdown",
   "id": "58db6546",
   "metadata": {},
   "source": [
    "__Conclusión en las Plataformas:__\n",
    "+ NA: Vemos el las plataformas de consolas son las mas importantes, como la X360 y PS4. \n",
    "+ EU: Igual se acerca a los juegos de consola pero mas de sony, como la PS4.\n",
    "+ JP: Tiene mejor afinidad por plataformas Portables como el 3DS."
   ]
  },
  {
   "cell_type": "markdown",
   "id": "0887073f",
   "metadata": {},
   "source": [
    "#### Comparacion de Regiones por Genero"
   ]
  },
  {
   "cell_type": "code",
   "execution_count": 491,
   "id": "a27a7d32",
   "metadata": {},
   "outputs": [
    {
     "data": {
      "text/html": [
       "<div>\n",
       "<style scoped>\n",
       "    .dataframe tbody tr th:only-of-type {\n",
       "        vertical-align: middle;\n",
       "    }\n",
       "\n",
       "    .dataframe tbody tr th {\n",
       "        vertical-align: top;\n",
       "    }\n",
       "\n",
       "    .dataframe thead th {\n",
       "        text-align: right;\n",
       "    }\n",
       "</style>\n",
       "<table border=\"1\" class=\"dataframe\">\n",
       "  <thead>\n",
       "    <tr style=\"text-align: right;\">\n",
       "      <th></th>\n",
       "      <th>na_sales</th>\n",
       "      <th>eu_sales</th>\n",
       "      <th>jp_sales</th>\n",
       "    </tr>\n",
       "    <tr>\n",
       "      <th>genre</th>\n",
       "      <th></th>\n",
       "      <th></th>\n",
       "      <th></th>\n",
       "    </tr>\n",
       "  </thead>\n",
       "  <tbody>\n",
       "    <tr>\n",
       "      <th>Action</th>\n",
       "      <td>178.02</td>\n",
       "      <td>159.53</td>\n",
       "      <td>52.80</td>\n",
       "    </tr>\n",
       "    <tr>\n",
       "      <th>Shooter</th>\n",
       "      <td>144.81</td>\n",
       "      <td>113.49</td>\n",
       "      <td>9.23</td>\n",
       "    </tr>\n",
       "    <tr>\n",
       "      <th>Sports</th>\n",
       "      <td>81.53</td>\n",
       "      <td>69.09</td>\n",
       "      <td>8.03</td>\n",
       "    </tr>\n",
       "    <tr>\n",
       "      <th>Role-Playing</th>\n",
       "      <td>64.11</td>\n",
       "      <td>48.58</td>\n",
       "      <td>65.54</td>\n",
       "    </tr>\n",
       "    <tr>\n",
       "      <th>Misc</th>\n",
       "      <td>38.19</td>\n",
       "      <td>26.32</td>\n",
       "      <td>12.86</td>\n",
       "    </tr>\n",
       "    <tr>\n",
       "      <th>Platform</th>\n",
       "      <td>25.38</td>\n",
       "      <td>21.41</td>\n",
       "      <td>8.63</td>\n",
       "    </tr>\n",
       "    <tr>\n",
       "      <th>Fighting</th>\n",
       "      <td>19.79</td>\n",
       "      <td>10.79</td>\n",
       "      <td>9.44</td>\n",
       "    </tr>\n",
       "    <tr>\n",
       "      <th>Racing</th>\n",
       "      <td>17.30</td>\n",
       "      <td>27.29</td>\n",
       "      <td>2.50</td>\n",
       "    </tr>\n",
       "    <tr>\n",
       "      <th>Adventure</th>\n",
       "      <td>9.00</td>\n",
       "      <td>9.46</td>\n",
       "      <td>8.24</td>\n",
       "    </tr>\n",
       "    <tr>\n",
       "      <th>Simulation</th>\n",
       "      <td>8.43</td>\n",
       "      <td>14.55</td>\n",
       "      <td>10.41</td>\n",
       "    </tr>\n",
       "    <tr>\n",
       "      <th>Strategy</th>\n",
       "      <td>4.23</td>\n",
       "      <td>5.17</td>\n",
       "      <td>2.88</td>\n",
       "    </tr>\n",
       "    <tr>\n",
       "      <th>Puzzle</th>\n",
       "      <td>1.13</td>\n",
       "      <td>1.40</td>\n",
       "      <td>2.14</td>\n",
       "    </tr>\n",
       "  </tbody>\n",
       "</table>\n",
       "</div>"
      ],
      "text/plain": [
       "              na_sales  eu_sales  jp_sales\n",
       "genre                                     \n",
       "Action          178.02    159.53     52.80\n",
       "Shooter         144.81    113.49      9.23\n",
       "Sports           81.53     69.09      8.03\n",
       "Role-Playing     64.11     48.58     65.54\n",
       "Misc             38.19     26.32     12.86\n",
       "Platform         25.38     21.41      8.63\n",
       "Fighting         19.79     10.79      9.44\n",
       "Racing           17.30     27.29      2.50\n",
       "Adventure         9.00      9.46      8.24\n",
       "Simulation        8.43     14.55     10.41\n",
       "Strategy          4.23      5.17      2.88\n",
       "Puzzle            1.13      1.40      2.14"
      ]
     },
     "execution_count": 491,
     "metadata": {},
     "output_type": "execute_result"
    }
   ],
   "source": [
    "df_grouped_region_genre= df_lab_filtrado.groupby('genre')[['na_sales','eu_sales','jp_sales']].sum()\n",
    "df_grouped_region_genre = df_grouped_region_genre.sort_values('na_sales', ascending=False)\n",
    "df_grouped_region_genre "
   ]
  },
  {
   "cell_type": "code",
   "execution_count": 492,
   "id": "5eba182b",
   "metadata": {},
   "outputs": [
    {
     "data": {
      "image/png": "[encoded data removed]",
      "text/plain": [
       "<Figure size 1000x500 with 1 Axes>"
      ]
     },
     "metadata": {},
     "output_type": "display_data"
    }
   ],
   "source": [
    "#Crear el gráfico de barras\n",
    "df_grouped_region_genre.plot(kind='bar', stacked=True, figsize=(10,5))\n",
    "\n",
    "# Agregar nombres a los ejes\n",
    "plt.xlabel('Genero')\n",
    "plt.ylabel('Ventas')\n",
    "\n",
    "# Agregar título al gráfico\n",
    "plt.title('Ventas por región y genero')\n",
    "\n",
    "# Mostrar el gráfico\n",
    "plt.show()"
   ]
  },
  {
   "cell_type": "markdown",
   "id": "ba29369f",
   "metadata": {},
   "source": [
    "__Conclusión en el Género:__\n",
    "+ NA: Vemos que el comportamiento se acerca mas a los juegos de acción y disparos.\n",
    "+ EU: También se  acerca más a los juegos de accion y disparos.\n",
    "+ JP: Son más propensos a los juegos de Rol"
   ]
  },
  {
   "cell_type": "markdown",
   "id": "d2e94da0",
   "metadata": {},
   "source": [
    "#### Calificacion ESRB entre regiones\n",
    "+ Si las clasificaciones de ESRB afectan a las ventas en regiones individuales."
   ]
  },
  {
   "cell_type": "code",
   "execution_count": 493,
   "id": "8b3788ed",
   "metadata": {},
   "outputs": [
    {
     "data": {
      "text/html": [
       "<div>\n",
       "<style scoped>\n",
       "    .dataframe tbody tr th:only-of-type {\n",
       "        vertical-align: middle;\n",
       "    }\n",
       "\n",
       "    .dataframe tbody tr th {\n",
       "        vertical-align: top;\n",
       "    }\n",
       "\n",
       "    .dataframe thead th {\n",
       "        text-align: right;\n",
       "    }\n",
       "</style>\n",
       "<table border=\"1\" class=\"dataframe\">\n",
       "  <thead>\n",
       "    <tr style=\"text-align: right;\">\n",
       "      <th></th>\n",
       "      <th>na_sales</th>\n",
       "      <th>eu_sales</th>\n",
       "      <th>jp_sales</th>\n",
       "    </tr>\n",
       "    <tr>\n",
       "      <th>rating</th>\n",
       "      <th></th>\n",
       "      <th></th>\n",
       "      <th></th>\n",
       "    </tr>\n",
       "  </thead>\n",
       "  <tbody>\n",
       "    <tr>\n",
       "      <th>M</th>\n",
       "      <td>231.57</td>\n",
       "      <td>193.96</td>\n",
       "      <td>21.20</td>\n",
       "    </tr>\n",
       "    <tr>\n",
       "      <th>E</th>\n",
       "      <td>114.49</td>\n",
       "      <td>113.05</td>\n",
       "      <td>28.33</td>\n",
       "    </tr>\n",
       "    <tr>\n",
       "      <th>RP</th>\n",
       "      <td>103.59</td>\n",
       "      <td>91.50</td>\n",
       "      <td>108.89</td>\n",
       "    </tr>\n",
       "    <tr>\n",
       "      <th>E10+</th>\n",
       "      <td>75.96</td>\n",
       "      <td>55.56</td>\n",
       "      <td>8.19</td>\n",
       "    </tr>\n",
       "    <tr>\n",
       "      <th>T</th>\n",
       "      <td>66.31</td>\n",
       "      <td>53.01</td>\n",
       "      <td>26.09</td>\n",
       "    </tr>\n",
       "  </tbody>\n",
       "</table>\n",
       "</div>"
      ],
      "text/plain": [
       "        na_sales  eu_sales  jp_sales\n",
       "rating                              \n",
       "M         231.57    193.96     21.20\n",
       "E         114.49    113.05     28.33\n",
       "RP        103.59     91.50    108.89\n",
       "E10+       75.96     55.56      8.19\n",
       "T          66.31     53.01     26.09"
      ]
     },
     "execution_count": 493,
     "metadata": {},
     "output_type": "execute_result"
    }
   ],
   "source": [
    "df_grouped_region_ESRB= df_lab_filtrado.groupby('rating')[['na_sales','eu_sales','jp_sales']].sum()\n",
    "df_grouped_region_ESRB = df_grouped_region_ESRB.sort_values('na_sales', ascending=False)\n",
    "df_grouped_region_ESRB "
   ]
  },
  {
   "cell_type": "code",
   "execution_count": 494,
   "id": "012ba350",
   "metadata": {},
   "outputs": [
    {
     "data": {
      "image/png": "[encoded data removed]",
      "text/plain": [
       "<Figure size 1000x500 with 1 Axes>"
      ]
     },
     "metadata": {},
     "output_type": "display_data"
    }
   ],
   "source": [
    "#Crear el gráfico de barras\n",
    "df_grouped_region_ESRB.plot(kind='bar', stacked=True, figsize=(10,5))\n",
    "\n",
    "# Agregar nombres a los ejes\n",
    "plt.xlabel('Rating')\n",
    "plt.ylabel('Ventas Regionales')\n",
    "\n",
    "# Agregar título al gráfico\n",
    "plt.title('Ventas por región y genero')\n",
    "\n",
    "# Mostrar el gráfico\n",
    "plt.show()"
   ]
  },
  {
   "cell_type": "markdown",
   "id": "95921b3d",
   "metadata": {},
   "source": [
    "__Conclusión en el Rating:__\n",
    "+ NA: Vemos que la clasificacion de Rating mas jugada es la M para publico maduro aunque la segunda es para todo Publica.\n",
    "+ EU: Se comporta igual que la Region NA, pero en otras clasificaciones tiene mas presencia.\n",
    "+ JP: La mejor clasificacion es la de RP , con ratin sin categoria especifica, puede deberse a que sacan nuevos generos pocos conocidos a nivel mundial."
   ]
  },
  {
   "cell_type": "markdown",
   "id": "3bfa9237",
   "metadata": {},
   "source": [
    "#### Conclusion General\n",
    "Podemos apreciar que las regiones NA y EU , son parecidas en comportamiento y gustos dentro de los videojuegos.\n",
    "En Cambio JP difiere significativamente en algunas categorias , puede ser por la cultura y su afinidad por la fantasia y juegos de rol."
   ]
  },
  {
   "cell_type": "markdown",
   "id": "d51ef3be",
   "metadata": {},
   "source": [
    "## Prueba de Hipótesis <a class=\"anchor\" id=\"hipotesis\"></a>\n",
    "\n",
    "Dentro de nuestro proyecto debemos probar 2 hipótesis\n",
    "* Caso 1: Las calificaciones promedio de los usuarios para las plataformas Xbox One y PC son las mismas.\n",
    "* caso2 : Las calificaciones promedio de los usuarios para los géneros de Acción y Deportes son diferentes.\n",
    "\n",
    "En cada caso vamos a escoger el grado de significancia del 5%."
   ]
  },
  {
   "cell_type": "markdown",
   "id": "4f54faff",
   "metadata": {},
   "source": [
    "### Caso 1: Las calificaciones promedio de los usuarios para las plataformas Xbox One y PC son las mismas.\n",
    "\n",
    "Hipótesis nula: Las calificaciones promedio son las mismas."
   ]
  },
  {
   "cell_type": "code",
   "execution_count": 495,
   "id": "bb12abf8",
   "metadata": {},
   "outputs": [
    {
     "name": "stdout",
     "output_type": "stream",
     "text": [
      "p-value: 0.7329825233236501\n",
      "No rechazamos la hipótesis nula, las calificaciones promedio son iguales.\n"
     ]
    }
   ],
   "source": [
    "# Fijamos el valor de alpha\n",
    "alpha = 0.05\n",
    "\n",
    "# Fijamos las muestras\n",
    "sample1 = df_lab_filtrado[df_lab_filtrado['platform']=='XOne']['user_score']\n",
    "sample2 = df_lab_filtrado[df_lab_filtrado['platform']=='PC']['user_score']\n",
    "\n",
    "# Realizamos el test\n",
    "results = st.ttest_ind(sample1, sample2)\n",
    "\n",
    "# Vemos el resultado\n",
    "print('p-value:', results.pvalue)\n",
    "\n",
    "if results.pvalue < alpha:\n",
    "    print('Rechazamos la hipótesis nula, las calificaciones promedio son diferentes.')\n",
    "else:\n",
    "    print('No rechazamos la hipótesis nula, las calificaciones promedio son iguales.')\n"
   ]
  },
  {
   "cell_type": "markdown",
   "id": "39755923",
   "metadata": {},
   "source": [
    "> El valor p que tenemos es muy cercano al valor de alpha, lo que sugiere que se podrían obtener resultados más definitivos con estudios adicionales. Sin embargo, por el momento, nos quedamos con los resultados actuales. No descartamos la hipótesis nula y confirmamos la hipótesis 1."
   ]
  },
  {
   "cell_type": "markdown",
   "id": "b58d84c7",
   "metadata": {},
   "source": [
    "### Caso 2: Las calificaciones promedio de los usuarios para los géneros de Acción y Deportes son diferentes.\n",
    "Hipótesis nula: Las calificaciones promedio son las mismas."
   ]
  },
  {
   "cell_type": "code",
   "execution_count": 496,
   "id": "f5d11eef",
   "metadata": {},
   "outputs": [
    {
     "name": "stdout",
     "output_type": "stream",
     "text": [
      "p-value: 5.6950363372868215e-05\n",
      "Rechazamos la hipótesis nula, las calificaciones promedio son diferentes.\n"
     ]
    }
   ],
   "source": [
    "# Fijamos el valor de alpha\n",
    "alpha = 0.05\n",
    "\n",
    "# Fijamos las muestras\n",
    "sample1 = df_lab_filtrado[df_lab_filtrado['genre']=='Action']['user_score']\n",
    "sample2 = df_lab_filtrado[df_lab_filtrado['genre']=='Sports']['user_score']\n",
    "\n",
    "# Realizamos el test\n",
    "results = st.ttest_ind(sample1, sample2)\n",
    "\n",
    "# Vemos el resultado\n",
    "print('p-value:', results.pvalue)\n",
    "\n",
    "if results.pvalue < alpha:\n",
    "    print('Rechazamos la hipótesis nula, las calificaciones promedio son diferentes.')\n",
    "else:\n",
    "    print('No rechazamos la hipótesis nula, las calificaciones promedio son iguales.')\n"
   ]
  },
  {
   "cell_type": "markdown",
   "id": "3635cbbe",
   "metadata": {},
   "source": [
    "## Conclusión  <a class=\"anchor\" id=\"conclusion\"></a>\n",
    "\n",
    "\n",
    "__Problema:__ El objetivo del proyecto es analizar los datos de ventas de juegos en diferentes zonas y plataformas, y encontrar las mejores estrategias para lanzar una nueva campaña publicitaria en el año 2017.\n",
    "\n",
    "__Proceso de Solución:__ Se realizó un preprocesamiento de los datos para corregir los errores de formato y los datos vacíos, y se exploró la relación entre las ventas y diversos factores como el género, la plataforma, la calificación y la zona geográfica.\n",
    "\n",
    "Se ha analizado el los datos en relacion a los juegos y se obtuvo la siguiente informacion:\n",
    "\n",
    "\n",
    "\n",
    "+ Se encontró que las plataformas tienen una vida útil promedio de 10 años. \n",
    "+ Las calificaciones no influyen en las ventas (calificacionde Rating, usuario y criticos).\n",
    "+ Hay géneros más populares que otros y se refleja en las ventas.\n",
    "+ Existe diferencias entre las preferencias de las zonas de Norte América, Europa y Japón, pero la que mas difiere es Japon.\n",
    "\n",
    "Recomendaciones: \n",
    "\n",
    "    - Se sugirió considerar la zona de lanzamiento, la plataforma y el género más adecuados para la nueva campaña\n",
    "    - La posibilidad de crear y lanzar una nueva plataforma para aprovechar el vacío que dejarán las plataformas existentes. \n",
    "    - Se mencionó que los juegos exitosos suelen ser parte de una saga o tener mecánicas innovadoras.\n",
    "    - Segmentar por Regiones y generos para algo mas especifico atinando al publico adulto."
   ]
  }
 ],
 "metadata": {
  "kernelspec": {
   "display_name": "Python 3 (ipykernel)",
   "language": "python",
   "name": "python3"
  },
  "language_info": {
   "codemirror_mode": {
    "name": "ipython",
    "version": 3
   },
   "file_extension": ".py",
   "mimetype": "text/x-python",
   "name": "python",
   "nbconvert_exporter": "python",
   "pygments_lexer": "ipython3",
   "version": "3.9.12"
  }
 },
 "nbformat": 4,
 "nbformat_minor": 5
}
