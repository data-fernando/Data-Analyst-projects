{
 "cells": [
  {
   "cell_type": "markdown",
   "id": "3c4e0786",
   "metadata": {},
   "source": [
    "**Hola!**\n",
    "\n",
    "Mi nombre es Maria Efimova, voy a revisar tu proyecto. Encantada de conocerte :)\n",
    "Está bien si hablamos en 'Tú'? Por favor, dime si eso no está bien para tí, lo cambiaremos.\n",
    "\n",
    "Mi trabajo no es señalar los errores que cometiste, sino compartir mi experiencia y ayudarte a convertirte en analista de datos. Ya has trabajado mucho en el proyecto, pero vamos a hacerlo aún mejor. A continuación encontrará mis comentarios; no los mueva, modifique ni elimine. Usaré marcas de color:\n",
    "\n",
    "\n",
    "<div class=\"alert alert-danger\">\n",
    "<b>❌ Comentario del revisor:</b> Esto destaca los comentarios más importantes. Sin su desarrollo, el proyecto no será aceptado. </div>\n",
    "\n",
    "\n",
    "<div class=\"alert alert-warning\">\n",
    "<b>⚠️ Comentario del revisor:</b> Así que los pequeños comentarios están resaltados. Se aceptan uno o dos comentarios de este tipo en el borrador, pero si hay más, deberá hacer las correcciones. Es como una tarea de prueba al solicitar un trabajo: muchos pequeños errores pueden hacer que un candidato sea rechazado.\n",
    "\n",
    "</div>\n",
    "\n",
    "<div class=\"alert alert-success\">\n",
    "<b>✔️ Comentario del revisor:</b> Así que destaco todos los demás comentarios.</div>\n",
    "\n",
    "Vamos a trabajar en el proyecto en un diálogo: si cambias algo en el proyecto o respondes a mis comentarios, escribe sobre eso. Será más fácil para mí seguir los cambios si resaltas tus comentarios asi:\n",
    "<div class=\"alert alert-info\"> <b>Comentario del estudiante:</b> Por ejemplo, asi.</div>\n",
    "\n",
    "Todo esto ayudará a volver a revisar tu proyecto más rápido.\n",
    " \n",
    "\n",
    "Recuerde que, si quieres dejarme un comentario en alguna parte del documento, sólo tiene que dar doble clic sobre la celda de arriba, copiar el código, pegarlo en una nueva celda y sustituir la frase \"En celdas como estas puede dejarme sus comentarios\" por su propio comentario. Asegúrese sólamente que la celda donde usted vaya a incluir su comentario esté en formato \"Markdown\".\n",
    "\n",
    "Respecto del proceso de revisión, esta es la <b>primera iteración</b> para este ejercicio. Su proyecto será aceptado una vez que los comentarios en rojo hayan sido atendidos. Al final de este Notebook encontrará comentarios con mis observaciones finales."
   ]
  },
  {
   "cell_type": "markdown",
   "id": "4f93c522",
   "metadata": {},
   "source": [
    "# Proyecto 4\n",
    "¡Hola! Mi nombre es Fernando Ponce y he sido contratado por Megaline para llevar a cabo un proyecto de análisis. Como analista de la empresa, me han encargado determinar qué tarifa de prepago genera más ingresos entre Surf y Ultimate, con el fin de ajustar el presupuesto de publicidad.\n",
    "\n",
    "En este proyecto, realizaré un análisis preliminar basado en una muestra de 500 clientes de Megaline. Tendré acceso a datos importantes, como quiénes son los clientes, de dónde provienen, qué tarifa utilizan y la cantidad de llamadas y mensajes de texto que realizaron en 2018.\n",
    "\n",
    "Las dos tarifas que quiero analizar son Surf y Ultimate. \n",
    "\n",
    "+ La tarifa Surf tiene un pago mensual de 20USD, que incluye 500 minutos, 50 SMS y 15 GB de datos. Si los clientes exceden estos límites, se les cobrará adicionalmente: 3 centavos por minuto, 3 centavos por SMS y 10USD por cada GB de datos.\n",
    "\n",
    "+ La tarifa Ultimate tiene un pago mensual de 70USD, con una oferta de 3000 minutos, 1000 SMS y 30 GB de datos. Si los clientes exceden estos límites, los cargos adicionales serán: 1 centavo por minuto, 1 centavo por SMS y 7USD por cada GB de datos.\n",
    "\n",
    "Mi tarea es analizar el comportamiento de los clientes y determinar qué tarifa de prepago genera más ingresos para Megaline. "
   ]
  },
  {
   "cell_type": "markdown",
   "id": "ebaa9281",
   "metadata": {},
   "source": [
    "# Tabla de Contenidos\n",
    "\n",
    "1. [Introducción](#01introduccion)\n",
    "2. [Preparación de Datos](#preparacion-de-datos)\n",
    "    + [Importación de datos](#01importacion) \n",
    "    + [Inspección de llamadas (df calls)](#inspeccioncalls)\n",
    "    + [Inspección de internet (df internet)](#inspeccioninternet)\n",
    "    + [Inspección de mensajes (df messages)](#inspeccionmessages)\n",
    "    + [Inspección de planes (df plans)](#inspeccionplans)\n",
    "    + [Inspección de usuarios (df users)](#inspeccionusers)\n",
    "    \n",
    "3. [Agrupación de Datos](#agrupardatos)\n",
    "4. [Remover datos nulos](#removernulos)\n",
    "5. [Análisis exploratorio de datos EDA](#eda)\n",
    "     + [Llamadas](#llamadas)\n",
    "     + [Mensajes](#mensajes)\n",
    "     + [Volumen](#volumen)\n",
    "     + [Valores Atípicos](#atipicos)\n",
    "6. [Prueba de Hipótesis](#hipotesis)\n",
    "7. [Conclusiones](#conclusion)\n"
   ]
  },
  {
   "cell_type": "markdown",
   "id": "9134e49e",
   "metadata": {},
   "source": [
    "<div class=\"alert alert-success\">\n",
    "<b>✔️ Comentario del revisor:</b> Genial que empecamos con el plan todo"
   ]
  },
  {
   "cell_type": "markdown",
   "id": "dbc07ee5",
   "metadata": {},
   "source": [
    "## Introducción <a class=\"anchor\" id=\"01introduccion\"></a>\n",
    "\n",
    "\n",
    "## Preparación de Datos <a class=\"anchor\" id=\"preparacion-de-datos\"></a>\n",
    "\n",
    ">Si se usa anaconda se debe tener instalado previamente en el terminal conda `pip list`\n",
    "\n",
    "En esta sección, realizaremos el análisis de datos y presentaremos los resultados obtenidos.\n",
    "\n",
    "\n"
   ]
  },
  {
   "cell_type": "markdown",
   "id": "07b2a78b",
   "metadata": {},
   "source": [
    "### Importar las librerias que se usaran <a class=\"anchor\" id=\"01importacion\"></a>\n",
    "\n"
   ]
  },
  {
   "cell_type": "code",
   "execution_count": 2004,
   "id": "e2b93579",
   "metadata": {},
   "outputs": [],
   "source": [
    "# Cargar todas las librerías\n",
    "\n",
    "import pandas as pd\n",
    "import numpy as np\n",
    "import matplotlib.pyplot as plt\n",
    "from scipy.stats import norm\n",
    "from scipy import stats as st\n",
    "\n"
   ]
  },
  {
   "cell_type": "markdown",
   "id": "b4a843ce",
   "metadata": {},
   "source": [
    "### Importar los datos <a class=\"anchor\" id=\"01importacion\"></a>\n",
    "#### Paso 1. Abrir el archivo de datos y estudia la información general\n",
    "\n",
    "Rutas de archivos:\n",
    "\n",
    "```python\n",
    "/datasets/megaline_calls.csv Descarga el dataset\n",
    "/datasets/megaline_internet.csv Descarga el dataset\n",
    "/datasets/megaline_messages.csv Descarga el dataset\n",
    "/datasets/megaline_plans.csv Descarga el dataset\n",
    "/datasets/megaline_users.csv Descarga el dataset\n",
    "```\n",
    "Teniendo las rutas de los archivos importamos con el siguiente codigo:"
   ]
  },
  {
   "cell_type": "code",
   "execution_count": 2005,
   "id": "b1877bf6",
   "metadata": {},
   "outputs": [],
   "source": [
    "\n",
    "# Cargar otros DataFrames\n",
    "try:\n",
    "    calls_df = pd.read_csv('megaline_calls.csv')\n",
    "    internet_df = pd.read_csv('megaline_internet.csv')    \n",
    "    messages_df = pd.read_csv('megaline_messages.csv')    \n",
    "    plans_df = pd.read_csv('megaline_plans.csv')    \n",
    "    users_df = pd.read_csv('megaline_users.csv')    \n",
    "    \n",
    "except:\n",
    "    calls_df = pd.read_csv('/datasets/megaline_calls.csv')\n",
    "    internet_df = pd.read_csv('/datasets/megaline_internet.csv')\n",
    "    messages_df = pd.read_csv('/datasets/megaline_messages.csv')\n",
    "    plans_df = pd.read_csv('/datasets/megaline_plans.csv')\n",
    "    users_df = pd.read_csv('/datasets/megaline_users.csv')\n",
    "    \n",
    "    \n",
    "    \n",
    "\n"
   ]
  },
  {
   "cell_type": "markdown",
   "id": "b41f7c15",
   "metadata": {},
   "source": [
    "# Paso 2. Prepara los datos\n",
    "Convertir los datos en los tipos necesarios. Encontrar y eliminar errores en los datos. \n",
    "\n",
    "Explicar qué errores se encontraron y cómo se eliminaron. Nota: muchas llamadas tienen duración de 0.0 minutos. \n",
    "Estas pueden ser llamadas perdidas.\n",
    "\n",
    "Decidir si se quieren preprocesar o no estos valores; evaluar cuánto afectaría su ausencia a los resultados del análisis. \n",
    "\n",
    "Para cada usuario, buscar: \n",
    "+ El número de llamadas realizadas y minutos utilizados al mes.\n",
    "+ La cantidad de los SMS enviados por mes.\n",
    "+ El volumen de datos por mes. \n",
    "+ Los ingresos mensuales de cada usuario (restar el límite del paquete gratuito del número total de llamadas, SMS y datos; multiplicar el resultado por el valor de tarifa de llamadas; agregar el cargo mensual según la tarifa de llamadas)."
   ]
  },
  {
   "cell_type": "markdown",
   "id": "b902718c",
   "metadata": {},
   "source": [
    "#### Preparando DF llamadas  <a class=\"anchor\" id=\"inspeccioncalls\"></a> "
   ]
  },
  {
   "cell_type": "code",
   "execution_count": 2006,
   "id": "0eab8716",
   "metadata": {},
   "outputs": [
    {
     "name": "stdout",
     "output_type": "stream",
     "text": [
      "*HEAD*\n",
      "\n"
     ]
    },
    {
     "data": {
      "text/html": [
       "<div>\n",
       "<style scoped>\n",
       "    .dataframe tbody tr th:only-of-type {\n",
       "        vertical-align: middle;\n",
       "    }\n",
       "\n",
       "    .dataframe tbody tr th {\n",
       "        vertical-align: top;\n",
       "    }\n",
       "\n",
       "    .dataframe thead th {\n",
       "        text-align: right;\n",
       "    }\n",
       "</style>\n",
       "<table border=\"1\" class=\"dataframe\">\n",
       "  <thead>\n",
       "    <tr style=\"text-align: right;\">\n",
       "      <th></th>\n",
       "      <th>id</th>\n",
       "      <th>user_id</th>\n",
       "      <th>call_date</th>\n",
       "      <th>duration</th>\n",
       "    </tr>\n",
       "  </thead>\n",
       "  <tbody>\n",
       "    <tr>\n",
       "      <th>0</th>\n",
       "      <td>1000_93</td>\n",
       "      <td>1000</td>\n",
       "      <td>2018-12-27</td>\n",
       "      <td>8.52</td>\n",
       "    </tr>\n",
       "    <tr>\n",
       "      <th>1</th>\n",
       "      <td>1000_145</td>\n",
       "      <td>1000</td>\n",
       "      <td>2018-12-27</td>\n",
       "      <td>13.66</td>\n",
       "    </tr>\n",
       "    <tr>\n",
       "      <th>2</th>\n",
       "      <td>1000_247</td>\n",
       "      <td>1000</td>\n",
       "      <td>2018-12-27</td>\n",
       "      <td>14.48</td>\n",
       "    </tr>\n",
       "    <tr>\n",
       "      <th>3</th>\n",
       "      <td>1000_309</td>\n",
       "      <td>1000</td>\n",
       "      <td>2018-12-28</td>\n",
       "      <td>5.76</td>\n",
       "    </tr>\n",
       "    <tr>\n",
       "      <th>4</th>\n",
       "      <td>1000_380</td>\n",
       "      <td>1000</td>\n",
       "      <td>2018-12-30</td>\n",
       "      <td>4.22</td>\n",
       "    </tr>\n",
       "  </tbody>\n",
       "</table>\n",
       "</div>"
      ],
      "text/plain": [
       "         id  user_id   call_date  duration\n",
       "0   1000_93     1000  2018-12-27      8.52\n",
       "1  1000_145     1000  2018-12-27     13.66\n",
       "2  1000_247     1000  2018-12-27     14.48\n",
       "3  1000_309     1000  2018-12-28      5.76\n",
       "4  1000_380     1000  2018-12-30      4.22"
      ]
     },
     "execution_count": 2006,
     "metadata": {},
     "output_type": "execute_result"
    }
   ],
   "source": [
    "print(\"*HEAD*\\n\")\n",
    "calls_df.head()"
   ]
  },
  {
   "cell_type": "code",
   "execution_count": 2007,
   "id": "58c42d46",
   "metadata": {},
   "outputs": [
    {
     "name": "stdout",
     "output_type": "stream",
     "text": [
      "\n",
      "*DESCRIBE*\n",
      "\n",
      "             user_id       duration\n",
      "count  137735.000000  137735.000000\n",
      "mean     1247.658046       6.745927\n",
      "std       139.416268       5.839241\n",
      "min      1000.000000       0.000000\n",
      "25%      1128.000000       1.290000\n",
      "50%      1247.000000       5.980000\n",
      "75%      1365.000000      10.690000\n",
      "max      1499.000000      37.600000\n",
      "\n",
      " *INFO* \n",
      "\n",
      "<class 'pandas.core.frame.DataFrame'>\n",
      "RangeIndex: 137735 entries, 0 to 137734\n",
      "Data columns (total 4 columns):\n",
      " #   Column     Non-Null Count   Dtype  \n",
      "---  ------     --------------   -----  \n",
      " 0   id         137735 non-null  object \n",
      " 1   user_id    137735 non-null  int64  \n",
      " 2   call_date  137735 non-null  object \n",
      " 3   duration   137735 non-null  float64\n",
      "dtypes: float64(1), int64(1), object(2)\n",
      "memory usage: 4.2+ MB\n"
     ]
    }
   ],
   "source": [
    "\n",
    "print(\"\\n*DESCRIBE*\\n\")\n",
    "print(calls_df.describe())\n",
    "print(\"\\n *INFO* \\n\")\n",
    "len_original_calls_df=len(calls_df)\n",
    "calls_df.info()"
   ]
  },
  {
   "cell_type": "markdown",
   "id": "a7436574",
   "metadata": {},
   "source": [
    "> Podemos ver que las llamadas donde la duracion es igual a 0 , son llamadas perdidas por lo que lo descartamos.\n"
   ]
  },
  {
   "cell_type": "code",
   "execution_count": 2008,
   "id": "daa3a307",
   "metadata": {},
   "outputs": [],
   "source": [
    "calls_df=calls_df[calls_df['duration']>0.00001]"
   ]
  },
  {
   "cell_type": "code",
   "execution_count": 2009,
   "id": "0756a42f",
   "metadata": {},
   "outputs": [
    {
     "name": "stdout",
     "output_type": "stream",
     "text": [
      "\n",
      " *DESCRIBE* \n",
      " \n",
      "             user_id       duration\n",
      "count  110901.000000  110901.000000\n",
      "mean     1247.511871       8.378196\n",
      "std       139.475249       5.354567\n",
      "min      1000.000000       0.010000\n",
      "25%      1127.000000       4.150000\n",
      "50%      1247.000000       7.710000\n",
      "75%      1365.000000      11.820000\n",
      "max      1499.000000      37.600000\n",
      "\n",
      " *INFO* \n",
      " \n",
      "<class 'pandas.core.frame.DataFrame'>\n",
      "Index: 110901 entries, 0 to 137734\n",
      "Data columns (total 4 columns):\n",
      " #   Column     Non-Null Count   Dtype  \n",
      "---  ------     --------------   -----  \n",
      " 0   id         110901 non-null  object \n",
      " 1   user_id    110901 non-null  int64  \n",
      " 2   call_date  110901 non-null  object \n",
      " 3   duration   110901 non-null  float64\n",
      "dtypes: float64(1), int64(1), object(2)\n",
      "memory usage: 4.2+ MB\n"
     ]
    }
   ],
   "source": [
    "print(\"\\n *DESCRIBE* \\n \")\n",
    "print(calls_df.describe())\n",
    "print(\"\\n *INFO* \\n \")\n",
    "len_modificado_calls_df=len(calls_df)\n",
    "calls_df.info()"
   ]
  },
  {
   "cell_type": "code",
   "execution_count": 2010,
   "id": "c5d1f971",
   "metadata": {},
   "outputs": [
    {
     "name": "stdout",
     "output_type": "stream",
     "text": [
      "El porcentaje de valores limpiado respecto al original es: 19.48%\n"
     ]
    }
   ],
   "source": [
    "#codigo para ver caul porcentaje se perdio del dataframe original (calls)\n",
    "porcentaje_calls_df=abs(len_modificado_calls_df-len_original_calls_df)/len_original_calls_df\n",
    "\n",
    "print(f\"El porcentaje de valores limpiado respecto al original es: {porcentaje_calls_df:.2%}\")"
   ]
  },
  {
   "cell_type": "markdown",
   "id": "f9a56c27",
   "metadata": {},
   "source": [
    "> Podemos ver que ya se descarto las llamadas de valor cero minutos o lamadas perdidas"
   ]
  },
  {
   "cell_type": "markdown",
   "id": "7a3fcf9f",
   "metadata": {},
   "source": [
    "<div class=\"alert alert-success\">\n",
    "<b>✔️ Comentario del revisor:</b> Genial, aqui todo bien"
   ]
  },
  {
   "cell_type": "markdown",
   "id": "639b746f",
   "metadata": {},
   "source": [
    "#### Preparando DF internet <a class=\"anchor\" id=\"inspeccioninternet\"></a> \n"
   ]
  },
  {
   "cell_type": "code",
   "execution_count": 2011,
   "id": "59d9c38b",
   "metadata": {},
   "outputs": [
    {
     "name": "stdout",
     "output_type": "stream",
     "text": [
      "*HEAD*\n",
      " \n"
     ]
    },
    {
     "data": {
      "text/html": [
       "<div>\n",
       "<style scoped>\n",
       "    .dataframe tbody tr th:only-of-type {\n",
       "        vertical-align: middle;\n",
       "    }\n",
       "\n",
       "    .dataframe tbody tr th {\n",
       "        vertical-align: top;\n",
       "    }\n",
       "\n",
       "    .dataframe thead th {\n",
       "        text-align: right;\n",
       "    }\n",
       "</style>\n",
       "<table border=\"1\" class=\"dataframe\">\n",
       "  <thead>\n",
       "    <tr style=\"text-align: right;\">\n",
       "      <th></th>\n",
       "      <th>id</th>\n",
       "      <th>user_id</th>\n",
       "      <th>session_date</th>\n",
       "      <th>mb_used</th>\n",
       "    </tr>\n",
       "  </thead>\n",
       "  <tbody>\n",
       "    <tr>\n",
       "      <th>0</th>\n",
       "      <td>1000_13</td>\n",
       "      <td>1000</td>\n",
       "      <td>2018-12-29</td>\n",
       "      <td>89.86</td>\n",
       "    </tr>\n",
       "    <tr>\n",
       "      <th>1</th>\n",
       "      <td>1000_204</td>\n",
       "      <td>1000</td>\n",
       "      <td>2018-12-31</td>\n",
       "      <td>0.00</td>\n",
       "    </tr>\n",
       "    <tr>\n",
       "      <th>2</th>\n",
       "      <td>1000_379</td>\n",
       "      <td>1000</td>\n",
       "      <td>2018-12-28</td>\n",
       "      <td>660.40</td>\n",
       "    </tr>\n",
       "    <tr>\n",
       "      <th>3</th>\n",
       "      <td>1000_413</td>\n",
       "      <td>1000</td>\n",
       "      <td>2018-12-26</td>\n",
       "      <td>270.99</td>\n",
       "    </tr>\n",
       "    <tr>\n",
       "      <th>4</th>\n",
       "      <td>1000_442</td>\n",
       "      <td>1000</td>\n",
       "      <td>2018-12-27</td>\n",
       "      <td>880.22</td>\n",
       "    </tr>\n",
       "  </tbody>\n",
       "</table>\n",
       "</div>"
      ],
      "text/plain": [
       "         id  user_id session_date  mb_used\n",
       "0   1000_13     1000   2018-12-29    89.86\n",
       "1  1000_204     1000   2018-12-31     0.00\n",
       "2  1000_379     1000   2018-12-28   660.40\n",
       "3  1000_413     1000   2018-12-26   270.99\n",
       "4  1000_442     1000   2018-12-27   880.22"
      ]
     },
     "execution_count": 2011,
     "metadata": {},
     "output_type": "execute_result"
    }
   ],
   "source": [
    "print(\"*HEAD*\\n \")\n",
    "internet_df.head()"
   ]
  },
  {
   "cell_type": "code",
   "execution_count": 2012,
   "id": "29a6365a",
   "metadata": {},
   "outputs": [
    {
     "name": "stdout",
     "output_type": "stream",
     "text": [
      "\n",
      " *DESCRIBE* \n",
      "\n",
      "             user_id        mb_used\n",
      "count  104825.000000  104825.000000\n",
      "mean     1242.496361     366.713701\n",
      "std       142.053913     277.170542\n",
      "min      1000.000000       0.000000\n",
      "25%      1122.000000     136.080000\n",
      "50%      1236.000000     343.980000\n",
      "75%      1367.000000     554.610000\n",
      "max      1499.000000    1693.470000\n",
      "\n",
      " *INFO* \n",
      "\n",
      "<class 'pandas.core.frame.DataFrame'>\n",
      "RangeIndex: 104825 entries, 0 to 104824\n",
      "Data columns (total 4 columns):\n",
      " #   Column        Non-Null Count   Dtype  \n",
      "---  ------        --------------   -----  \n",
      " 0   id            104825 non-null  object \n",
      " 1   user_id       104825 non-null  int64  \n",
      " 2   session_date  104825 non-null  object \n",
      " 3   mb_used       104825 non-null  float64\n",
      "dtypes: float64(1), int64(1), object(2)\n",
      "memory usage: 3.2+ MB\n"
     ]
    }
   ],
   "source": [
    "\n",
    "print(\"\\n *DESCRIBE* \\n\")\n",
    "print(internet_df.describe())\n",
    "print(\"\\n *INFO* \\n\" )\n",
    "len_original_internet_df=len(internet_df)\n",
    "internet_df.info()"
   ]
  },
  {
   "cell_type": "markdown",
   "id": "74e03f04",
   "metadata": {},
   "source": [
    "> Vemos que hay valores que usa 0 MB , por lo que decartamos."
   ]
  },
  {
   "cell_type": "code",
   "execution_count": 2013,
   "id": "bd841041",
   "metadata": {},
   "outputs": [],
   "source": [
    "internet_df=internet_df[internet_df['mb_used']>0.00001]"
   ]
  },
  {
   "cell_type": "code",
   "execution_count": 2014,
   "id": "4c583e55",
   "metadata": {},
   "outputs": [
    {
     "name": "stdout",
     "output_type": "stream",
     "text": [
      "\n",
      " *DESCRIBE* \n",
      "\n",
      "            user_id       mb_used\n",
      "count  91078.000000  91078.000000\n",
      "mean    1242.576923    422.064206\n",
      "std      141.992374    255.063501\n",
      "min     1000.000000      0.010000\n",
      "25%     1122.000000    223.380000\n",
      "50%     1236.000000    395.905000\n",
      "75%     1367.000000    588.367500\n",
      "max     1499.000000   1693.470000\n",
      "\n",
      " *INFO* \n",
      "\n",
      "<class 'pandas.core.frame.DataFrame'>\n",
      "Index: 91078 entries, 0 to 104824\n",
      "Data columns (total 4 columns):\n",
      " #   Column        Non-Null Count  Dtype  \n",
      "---  ------        --------------  -----  \n",
      " 0   id            91078 non-null  object \n",
      " 1   user_id       91078 non-null  int64  \n",
      " 2   session_date  91078 non-null  object \n",
      " 3   mb_used       91078 non-null  float64\n",
      "dtypes: float64(1), int64(1), object(2)\n",
      "memory usage: 3.5+ MB\n"
     ]
    }
   ],
   "source": [
    "print(\"\\n *DESCRIBE* \\n\")\n",
    "print(internet_df.describe())\n",
    "print(\"\\n *INFO* \\n\")\n",
    "len_modificado_internet_df=len(internet_df)\n",
    "internet_df.info()"
   ]
  },
  {
   "cell_type": "code",
   "execution_count": 2015,
   "id": "c063de6a",
   "metadata": {},
   "outputs": [
    {
     "name": "stdout",
     "output_type": "stream",
     "text": [
      "El porcentaje de valores limpiado respecto al original es: 13.11%\n"
     ]
    }
   ],
   "source": [
    "#codigo para ver caul porcentaje se perdio del dataframe original (internet)\n",
    "porcentaje_internet_df=abs(len_modificado_internet_df-len_original_internet_df)/len_original_internet_df\n",
    "\n",
    "print(f\"El porcentaje de valores limpiado respecto al original es: {porcentaje_internet_df:.2%}\")"
   ]
  },
  {
   "cell_type": "markdown",
   "id": "8a68c11e",
   "metadata": {},
   "source": [
    "#### Preparando DF messages <a class=\"anchor\" id=\"inspeccionmessages\"></a> \n"
   ]
  },
  {
   "cell_type": "code",
   "execution_count": 2016,
   "id": "fb4a6f30",
   "metadata": {},
   "outputs": [
    {
     "name": "stdout",
     "output_type": "stream",
     "text": [
      "*HEAD* \n",
      "\n"
     ]
    },
    {
     "data": {
      "text/html": [
       "<div>\n",
       "<style scoped>\n",
       "    .dataframe tbody tr th:only-of-type {\n",
       "        vertical-align: middle;\n",
       "    }\n",
       "\n",
       "    .dataframe tbody tr th {\n",
       "        vertical-align: top;\n",
       "    }\n",
       "\n",
       "    .dataframe thead th {\n",
       "        text-align: right;\n",
       "    }\n",
       "</style>\n",
       "<table border=\"1\" class=\"dataframe\">\n",
       "  <thead>\n",
       "    <tr style=\"text-align: right;\">\n",
       "      <th></th>\n",
       "      <th>id</th>\n",
       "      <th>user_id</th>\n",
       "      <th>message_date</th>\n",
       "    </tr>\n",
       "  </thead>\n",
       "  <tbody>\n",
       "    <tr>\n",
       "      <th>0</th>\n",
       "      <td>1000_125</td>\n",
       "      <td>1000</td>\n",
       "      <td>2018-12-27</td>\n",
       "    </tr>\n",
       "    <tr>\n",
       "      <th>1</th>\n",
       "      <td>1000_160</td>\n",
       "      <td>1000</td>\n",
       "      <td>2018-12-31</td>\n",
       "    </tr>\n",
       "    <tr>\n",
       "      <th>2</th>\n",
       "      <td>1000_223</td>\n",
       "      <td>1000</td>\n",
       "      <td>2018-12-31</td>\n",
       "    </tr>\n",
       "    <tr>\n",
       "      <th>3</th>\n",
       "      <td>1000_251</td>\n",
       "      <td>1000</td>\n",
       "      <td>2018-12-27</td>\n",
       "    </tr>\n",
       "    <tr>\n",
       "      <th>4</th>\n",
       "      <td>1000_255</td>\n",
       "      <td>1000</td>\n",
       "      <td>2018-12-26</td>\n",
       "    </tr>\n",
       "  </tbody>\n",
       "</table>\n",
       "</div>"
      ],
      "text/plain": [
       "         id  user_id message_date\n",
       "0  1000_125     1000   2018-12-27\n",
       "1  1000_160     1000   2018-12-31\n",
       "2  1000_223     1000   2018-12-31\n",
       "3  1000_251     1000   2018-12-27\n",
       "4  1000_255     1000   2018-12-26"
      ]
     },
     "execution_count": 2016,
     "metadata": {},
     "output_type": "execute_result"
    }
   ],
   "source": [
    "print(\"*HEAD* \\n\")\n",
    "messages_df.head()"
   ]
  },
  {
   "cell_type": "code",
   "execution_count": 2017,
   "id": "b262430b",
   "metadata": {},
   "outputs": [
    {
     "name": "stdout",
     "output_type": "stream",
     "text": [
      "\n",
      " *DESCRIBE* \n",
      "\n",
      "            user_id\n",
      "count  76051.000000\n",
      "mean    1245.972768\n",
      "std      139.843635\n",
      "min     1000.000000\n",
      "25%     1123.000000\n",
      "50%     1251.000000\n",
      "75%     1362.000000\n",
      "max     1497.000000\n",
      "\n",
      " *INFO* \n",
      " \n",
      "<class 'pandas.core.frame.DataFrame'>\n",
      "RangeIndex: 76051 entries, 0 to 76050\n",
      "Data columns (total 3 columns):\n",
      " #   Column        Non-Null Count  Dtype \n",
      "---  ------        --------------  ----- \n",
      " 0   id            76051 non-null  object\n",
      " 1   user_id       76051 non-null  int64 \n",
      " 2   message_date  76051 non-null  object\n",
      "dtypes: int64(1), object(2)\n",
      "memory usage: 1.7+ MB\n"
     ]
    }
   ],
   "source": [
    "print(\"\\n *DESCRIBE* \\n\")\n",
    "print(messages_df.describe())\n",
    "print(\"\\n *INFO* \\n \")\n",
    "len_original_messages_df=len(messages_df)\n",
    "messages_df.info()"
   ]
  },
  {
   "cell_type": "markdown",
   "id": "9b246442",
   "metadata": {},
   "source": [
    "> Vemos que no hay valores que pueden ser descartados en este DT , por lo que podriamos usar la fecha despues."
   ]
  },
  {
   "cell_type": "markdown",
   "id": "c0f49e16",
   "metadata": {},
   "source": [
    "<div class=\"alert alert-success\">\n",
    "<b>✔️ Comentario del revisor:</b> Todo bien con esta parte"
   ]
  },
  {
   "cell_type": "markdown",
   "id": "b756cb29",
   "metadata": {},
   "source": [
    "#### Preparando DF plans <a class=\"anchor\" id=\"#inspeccionplans\"></a> \n"
   ]
  },
  {
   "cell_type": "code",
   "execution_count": 2018,
   "id": "c4589d81",
   "metadata": {},
   "outputs": [
    {
     "name": "stdout",
     "output_type": "stream",
     "text": [
      "*HEAD* \n",
      " \n"
     ]
    },
    {
     "data": {
      "text/html": [
       "<div>\n",
       "<style scoped>\n",
       "    .dataframe tbody tr th:only-of-type {\n",
       "        vertical-align: middle;\n",
       "    }\n",
       "\n",
       "    .dataframe tbody tr th {\n",
       "        vertical-align: top;\n",
       "    }\n",
       "\n",
       "    .dataframe thead th {\n",
       "        text-align: right;\n",
       "    }\n",
       "</style>\n",
       "<table border=\"1\" class=\"dataframe\">\n",
       "  <thead>\n",
       "    <tr style=\"text-align: right;\">\n",
       "      <th></th>\n",
       "      <th>messages_included</th>\n",
       "      <th>mb_per_month_included</th>\n",
       "      <th>minutes_included</th>\n",
       "      <th>usd_monthly_pay</th>\n",
       "      <th>usd_per_gb</th>\n",
       "      <th>usd_per_message</th>\n",
       "      <th>usd_per_minute</th>\n",
       "      <th>plan_name</th>\n",
       "    </tr>\n",
       "  </thead>\n",
       "  <tbody>\n",
       "    <tr>\n",
       "      <th>0</th>\n",
       "      <td>50</td>\n",
       "      <td>15360</td>\n",
       "      <td>500</td>\n",
       "      <td>20</td>\n",
       "      <td>10</td>\n",
       "      <td>0.03</td>\n",
       "      <td>0.03</td>\n",
       "      <td>surf</td>\n",
       "    </tr>\n",
       "    <tr>\n",
       "      <th>1</th>\n",
       "      <td>1000</td>\n",
       "      <td>30720</td>\n",
       "      <td>3000</td>\n",
       "      <td>70</td>\n",
       "      <td>7</td>\n",
       "      <td>0.01</td>\n",
       "      <td>0.01</td>\n",
       "      <td>ultimate</td>\n",
       "    </tr>\n",
       "  </tbody>\n",
       "</table>\n",
       "</div>"
      ],
      "text/plain": [
       "   messages_included  mb_per_month_included  minutes_included  \\\n",
       "0                 50                  15360               500   \n",
       "1               1000                  30720              3000   \n",
       "\n",
       "   usd_monthly_pay  usd_per_gb  usd_per_message  usd_per_minute plan_name  \n",
       "0               20          10             0.03            0.03      surf  \n",
       "1               70           7             0.01            0.01  ultimate  "
      ]
     },
     "execution_count": 2018,
     "metadata": {},
     "output_type": "execute_result"
    }
   ],
   "source": [
    "print(\"*HEAD* \\n \")\n",
    "plans_df.head()"
   ]
  },
  {
   "cell_type": "code",
   "execution_count": 2019,
   "id": "e90bab97",
   "metadata": {},
   "outputs": [
    {
     "name": "stdout",
     "output_type": "stream",
     "text": [
      "*DESCRIBE* \n",
      " \n",
      "       messages_included  mb_per_month_included  minutes_included  \\\n",
      "count           2.000000               2.000000          2.000000   \n",
      "mean          525.000000           23040.000000       1750.000000   \n",
      "std           671.751442           10861.160159       1767.766953   \n",
      "min            50.000000           15360.000000        500.000000   \n",
      "25%           287.500000           19200.000000       1125.000000   \n",
      "50%           525.000000           23040.000000       1750.000000   \n",
      "75%           762.500000           26880.000000       2375.000000   \n",
      "max          1000.000000           30720.000000       3000.000000   \n",
      "\n",
      "       usd_monthly_pay  usd_per_gb  usd_per_message  usd_per_minute  \n",
      "count         2.000000     2.00000         2.000000        2.000000  \n",
      "mean         45.000000     8.50000         0.020000        0.020000  \n",
      "std          35.355339     2.12132         0.014142        0.014142  \n",
      "min          20.000000     7.00000         0.010000        0.010000  \n",
      "25%          32.500000     7.75000         0.015000        0.015000  \n",
      "50%          45.000000     8.50000         0.020000        0.020000  \n",
      "75%          57.500000     9.25000         0.025000        0.025000  \n",
      "max          70.000000    10.00000         0.030000        0.030000  \n",
      "\n",
      " *INFO* \n",
      "\n",
      "<class 'pandas.core.frame.DataFrame'>\n",
      "RangeIndex: 2 entries, 0 to 1\n",
      "Data columns (total 8 columns):\n",
      " #   Column                 Non-Null Count  Dtype  \n",
      "---  ------                 --------------  -----  \n",
      " 0   messages_included      2 non-null      int64  \n",
      " 1   mb_per_month_included  2 non-null      int64  \n",
      " 2   minutes_included       2 non-null      int64  \n",
      " 3   usd_monthly_pay        2 non-null      int64  \n",
      " 4   usd_per_gb             2 non-null      int64  \n",
      " 5   usd_per_message        2 non-null      float64\n",
      " 6   usd_per_minute         2 non-null      float64\n",
      " 7   plan_name              2 non-null      object \n",
      "dtypes: float64(2), int64(5), object(1)\n",
      "memory usage: 256.0+ bytes\n"
     ]
    }
   ],
   "source": [
    "\n",
    "print(\"*DESCRIBE* \\n \")\n",
    "print(plans_df.describe())\n",
    "print(\"\\n *INFO* \\n\")\n",
    "len_original_plans_df=len(plans_df)\n",
    "plans_df.info()"
   ]
  },
  {
   "cell_type": "markdown",
   "id": "189aa59f",
   "metadata": {},
   "source": [
    "> Observamos que son los planes y solo tiene 2 registros por lo que este Data Frame no necestia tratamiento"
   ]
  },
  {
   "cell_type": "markdown",
   "id": "1fdefebb",
   "metadata": {},
   "source": [
    "#### Preparando DF users <a class=\"anchor\" id=\"#inspeccionusers\"></a> \n"
   ]
  },
  {
   "cell_type": "code",
   "execution_count": 2020,
   "id": "5a42d225",
   "metadata": {},
   "outputs": [
    {
     "name": "stdout",
     "output_type": "stream",
     "text": [
      " *HEAD* /n\n"
     ]
    },
    {
     "data": {
      "text/html": [
       "<div>\n",
       "<style scoped>\n",
       "    .dataframe tbody tr th:only-of-type {\n",
       "        vertical-align: middle;\n",
       "    }\n",
       "\n",
       "    .dataframe tbody tr th {\n",
       "        vertical-align: top;\n",
       "    }\n",
       "\n",
       "    .dataframe thead th {\n",
       "        text-align: right;\n",
       "    }\n",
       "</style>\n",
       "<table border=\"1\" class=\"dataframe\">\n",
       "  <thead>\n",
       "    <tr style=\"text-align: right;\">\n",
       "      <th></th>\n",
       "      <th>user_id</th>\n",
       "      <th>first_name</th>\n",
       "      <th>last_name</th>\n",
       "      <th>age</th>\n",
       "      <th>city</th>\n",
       "      <th>reg_date</th>\n",
       "      <th>plan</th>\n",
       "      <th>churn_date</th>\n",
       "    </tr>\n",
       "  </thead>\n",
       "  <tbody>\n",
       "    <tr>\n",
       "      <th>0</th>\n",
       "      <td>1000</td>\n",
       "      <td>Anamaria</td>\n",
       "      <td>Bauer</td>\n",
       "      <td>45</td>\n",
       "      <td>Atlanta-Sandy Springs-Roswell, GA MSA</td>\n",
       "      <td>2018-12-24</td>\n",
       "      <td>ultimate</td>\n",
       "      <td>NaN</td>\n",
       "    </tr>\n",
       "    <tr>\n",
       "      <th>1</th>\n",
       "      <td>1001</td>\n",
       "      <td>Mickey</td>\n",
       "      <td>Wilkerson</td>\n",
       "      <td>28</td>\n",
       "      <td>Seattle-Tacoma-Bellevue, WA MSA</td>\n",
       "      <td>2018-08-13</td>\n",
       "      <td>surf</td>\n",
       "      <td>NaN</td>\n",
       "    </tr>\n",
       "    <tr>\n",
       "      <th>2</th>\n",
       "      <td>1002</td>\n",
       "      <td>Carlee</td>\n",
       "      <td>Hoffman</td>\n",
       "      <td>36</td>\n",
       "      <td>Las Vegas-Henderson-Paradise, NV MSA</td>\n",
       "      <td>2018-10-21</td>\n",
       "      <td>surf</td>\n",
       "      <td>NaN</td>\n",
       "    </tr>\n",
       "    <tr>\n",
       "      <th>3</th>\n",
       "      <td>1003</td>\n",
       "      <td>Reynaldo</td>\n",
       "      <td>Jenkins</td>\n",
       "      <td>52</td>\n",
       "      <td>Tulsa, OK MSA</td>\n",
       "      <td>2018-01-28</td>\n",
       "      <td>surf</td>\n",
       "      <td>NaN</td>\n",
       "    </tr>\n",
       "    <tr>\n",
       "      <th>4</th>\n",
       "      <td>1004</td>\n",
       "      <td>Leonila</td>\n",
       "      <td>Thompson</td>\n",
       "      <td>40</td>\n",
       "      <td>Seattle-Tacoma-Bellevue, WA MSA</td>\n",
       "      <td>2018-05-23</td>\n",
       "      <td>surf</td>\n",
       "      <td>NaN</td>\n",
       "    </tr>\n",
       "  </tbody>\n",
       "</table>\n",
       "</div>"
      ],
      "text/plain": [
       "   user_id first_name  last_name  age                                   city  \\\n",
       "0     1000   Anamaria      Bauer   45  Atlanta-Sandy Springs-Roswell, GA MSA   \n",
       "1     1001     Mickey  Wilkerson   28        Seattle-Tacoma-Bellevue, WA MSA   \n",
       "2     1002     Carlee    Hoffman   36   Las Vegas-Henderson-Paradise, NV MSA   \n",
       "3     1003   Reynaldo    Jenkins   52                          Tulsa, OK MSA   \n",
       "4     1004    Leonila   Thompson   40        Seattle-Tacoma-Bellevue, WA MSA   \n",
       "\n",
       "     reg_date      plan churn_date  \n",
       "0  2018-12-24  ultimate        NaN  \n",
       "1  2018-08-13      surf        NaN  \n",
       "2  2018-10-21      surf        NaN  \n",
       "3  2018-01-28      surf        NaN  \n",
       "4  2018-05-23      surf        NaN  "
      ]
     },
     "execution_count": 2020,
     "metadata": {},
     "output_type": "execute_result"
    }
   ],
   "source": [
    "print(\" *HEAD* /n\")\n",
    "users_df.head()\n"
   ]
  },
  {
   "cell_type": "code",
   "execution_count": 2021,
   "id": "b4a29545",
   "metadata": {},
   "outputs": [
    {
     "name": "stdout",
     "output_type": "stream",
     "text": [
      "*DESCRIBE* \n",
      "\n",
      "           user_id         age\n",
      "count   500.000000  500.000000\n",
      "mean   1249.500000   45.486000\n",
      "std     144.481833   16.972269\n",
      "min    1000.000000   18.000000\n",
      "25%    1124.750000   30.000000\n",
      "50%    1249.500000   46.000000\n",
      "75%    1374.250000   61.000000\n",
      "max    1499.000000   75.000000\n",
      "\n",
      " *INFO*\n",
      "\n",
      "<class 'pandas.core.frame.DataFrame'>\n",
      "RangeIndex: 500 entries, 0 to 499\n",
      "Data columns (total 8 columns):\n",
      " #   Column      Non-Null Count  Dtype \n",
      "---  ------      --------------  ----- \n",
      " 0   user_id     500 non-null    int64 \n",
      " 1   first_name  500 non-null    object\n",
      " 2   last_name   500 non-null    object\n",
      " 3   age         500 non-null    int64 \n",
      " 4   city        500 non-null    object\n",
      " 5   reg_date    500 non-null    object\n",
      " 6   plan        500 non-null    object\n",
      " 7   churn_date  34 non-null     object\n",
      "dtypes: int64(2), object(6)\n",
      "memory usage: 31.4+ KB\n"
     ]
    }
   ],
   "source": [
    "print(\"*DESCRIBE* \\n\")\n",
    "print(users_df.describe())\n",
    "print(\"\\n *INFO*\\n\")\n",
    "len_original_users_df=len(users_df)\n",
    "users_df.info()"
   ]
  },
  {
   "cell_type": "markdown",
   "id": "a649f9aa",
   "metadata": {},
   "source": [
    "> En este caso no hay necesidad de tratar la edad."
   ]
  },
  {
   "cell_type": "markdown",
   "id": "844e150a",
   "metadata": {},
   "source": [
    "<div class=\"alert alert-success\">\n",
    "<b>✔️ Comentario del revisor:</b> Genial!"
   ]
  },
  {
   "cell_type": "markdown",
   "id": "ce3aa6d3",
   "metadata": {},
   "source": [
    "### 3. Agrupar datos <a class=\"anchor\" id=\"agrupardatos\"></a> \n",
    "\n",
    "Ahora vamos a agrupar los dato por mes en base de la fecha de los dataframes.\n",
    "\n",
    "#### Creamos la columna month"
   ]
  },
  {
   "cell_type": "code",
   "execution_count": 2022,
   "id": "3cdb9569",
   "metadata": {},
   "outputs": [],
   "source": [
    "# Crear un una nueva fila llamada month \n",
    "calls_df['month'] = pd.to_datetime(calls_df['call_date']).dt.month\n",
    "messages_df['month'] = pd.to_datetime(messages_df['message_date']).dt.month\n",
    "internet_df['month'] = pd.to_datetime(internet_df['session_date']).dt.month\n"
   ]
  },
  {
   "cell_type": "code",
   "execution_count": 2023,
   "id": "89e8e353",
   "metadata": {},
   "outputs": [
    {
     "data": {
      "text/html": [
       "<div>\n",
       "<style scoped>\n",
       "    .dataframe tbody tr th:only-of-type {\n",
       "        vertical-align: middle;\n",
       "    }\n",
       "\n",
       "    .dataframe tbody tr th {\n",
       "        vertical-align: top;\n",
       "    }\n",
       "\n",
       "    .dataframe thead th {\n",
       "        text-align: right;\n",
       "    }\n",
       "</style>\n",
       "<table border=\"1\" class=\"dataframe\">\n",
       "  <thead>\n",
       "    <tr style=\"text-align: right;\">\n",
       "      <th></th>\n",
       "      <th>id</th>\n",
       "      <th>user_id</th>\n",
       "      <th>call_date</th>\n",
       "      <th>duration</th>\n",
       "      <th>month</th>\n",
       "    </tr>\n",
       "  </thead>\n",
       "  <tbody>\n",
       "    <tr>\n",
       "      <th>0</th>\n",
       "      <td>1000_93</td>\n",
       "      <td>1000</td>\n",
       "      <td>2018-12-27</td>\n",
       "      <td>8.52</td>\n",
       "      <td>12</td>\n",
       "    </tr>\n",
       "  </tbody>\n",
       "</table>\n",
       "</div>"
      ],
      "text/plain": [
       "        id  user_id   call_date  duration  month\n",
       "0  1000_93     1000  2018-12-27      8.52     12"
      ]
     },
     "execution_count": 2023,
     "metadata": {},
     "output_type": "execute_result"
    }
   ],
   "source": [
    "calls_df.head(1)"
   ]
  },
  {
   "cell_type": "code",
   "execution_count": 2024,
   "id": "6249a7ee",
   "metadata": {},
   "outputs": [
    {
     "data": {
      "text/html": [
       "<div>\n",
       "<style scoped>\n",
       "    .dataframe tbody tr th:only-of-type {\n",
       "        vertical-align: middle;\n",
       "    }\n",
       "\n",
       "    .dataframe tbody tr th {\n",
       "        vertical-align: top;\n",
       "    }\n",
       "\n",
       "    .dataframe thead th {\n",
       "        text-align: right;\n",
       "    }\n",
       "</style>\n",
       "<table border=\"1\" class=\"dataframe\">\n",
       "  <thead>\n",
       "    <tr style=\"text-align: right;\">\n",
       "      <th></th>\n",
       "      <th>id</th>\n",
       "      <th>user_id</th>\n",
       "      <th>message_date</th>\n",
       "      <th>month</th>\n",
       "    </tr>\n",
       "  </thead>\n",
       "  <tbody>\n",
       "    <tr>\n",
       "      <th>0</th>\n",
       "      <td>1000_125</td>\n",
       "      <td>1000</td>\n",
       "      <td>2018-12-27</td>\n",
       "      <td>12</td>\n",
       "    </tr>\n",
       "  </tbody>\n",
       "</table>\n",
       "</div>"
      ],
      "text/plain": [
       "         id  user_id message_date  month\n",
       "0  1000_125     1000   2018-12-27     12"
      ]
     },
     "execution_count": 2024,
     "metadata": {},
     "output_type": "execute_result"
    }
   ],
   "source": [
    "messages_df.head(1)"
   ]
  },
  {
   "cell_type": "code",
   "execution_count": 2025,
   "id": "f81c80a9",
   "metadata": {},
   "outputs": [
    {
     "data": {
      "text/html": [
       "<div>\n",
       "<style scoped>\n",
       "    .dataframe tbody tr th:only-of-type {\n",
       "        vertical-align: middle;\n",
       "    }\n",
       "\n",
       "    .dataframe tbody tr th {\n",
       "        vertical-align: top;\n",
       "    }\n",
       "\n",
       "    .dataframe thead th {\n",
       "        text-align: right;\n",
       "    }\n",
       "</style>\n",
       "<table border=\"1\" class=\"dataframe\">\n",
       "  <thead>\n",
       "    <tr style=\"text-align: right;\">\n",
       "      <th></th>\n",
       "      <th>id</th>\n",
       "      <th>user_id</th>\n",
       "      <th>session_date</th>\n",
       "      <th>mb_used</th>\n",
       "      <th>month</th>\n",
       "    </tr>\n",
       "  </thead>\n",
       "  <tbody>\n",
       "    <tr>\n",
       "      <th>0</th>\n",
       "      <td>1000_13</td>\n",
       "      <td>1000</td>\n",
       "      <td>2018-12-29</td>\n",
       "      <td>89.86</td>\n",
       "      <td>12</td>\n",
       "    </tr>\n",
       "  </tbody>\n",
       "</table>\n",
       "</div>"
      ],
      "text/plain": [
       "        id  user_id session_date  mb_used  month\n",
       "0  1000_13     1000   2018-12-29    89.86     12"
      ]
     },
     "execution_count": 2025,
     "metadata": {},
     "output_type": "execute_result"
    }
   ],
   "source": [
    "internet_df.head(1)"
   ]
  },
  {
   "cell_type": "markdown",
   "id": "e47e4260",
   "metadata": {},
   "source": [
    "> Podemos apreciar que se creo una nueva columna en cada dataframe , esta columna \"month\" respresenta el valor mesnual del mes [0-12]"
   ]
  },
  {
   "cell_type": "markdown",
   "id": "3460ef29",
   "metadata": {},
   "source": [
    "Creamos una funcion que agrupe los valores de las llamadas, mensajes y MB usados, en este caso agruparemos por `user_id` (identificacion de usuario) y por `month` (mes)."
   ]
  },
  {
   "cell_type": "code",
   "execution_count": 2026,
   "id": "4a380043",
   "metadata": {},
   "outputs": [],
   "source": [
    "calls_grouped = calls_df.groupby(['user_id', 'month']).agg({'duration': 'sum','id': 'count'})\n",
    "calls_grouped = calls_grouped.rename(columns={'duration': 'calls_duration'})\n",
    "calls_grouped = calls_grouped.rename(columns={'id': 'calls_count'})\n",
    "\n",
    "\n",
    "messages_grouped = messages_df.groupby(['user_id', 'month']).agg({'id': 'count'})\n",
    "messages_grouped = messages_grouped.rename(columns={'id': 'sms_count'})\n",
    "\n",
    "internet_grouped = internet_df.groupby(['user_id', 'month']).agg({'mb_used': 'sum'})"
   ]
  },
  {
   "cell_type": "code",
   "execution_count": 2027,
   "id": "1afc5566",
   "metadata": {},
   "outputs": [
    {
     "data": {
      "text/html": [
       "<div>\n",
       "<style scoped>\n",
       "    .dataframe tbody tr th:only-of-type {\n",
       "        vertical-align: middle;\n",
       "    }\n",
       "\n",
       "    .dataframe tbody tr th {\n",
       "        vertical-align: top;\n",
       "    }\n",
       "\n",
       "    .dataframe thead th {\n",
       "        text-align: right;\n",
       "    }\n",
       "</style>\n",
       "<table border=\"1\" class=\"dataframe\">\n",
       "  <thead>\n",
       "    <tr style=\"text-align: right;\">\n",
       "      <th></th>\n",
       "      <th></th>\n",
       "      <th>calls_duration</th>\n",
       "      <th>calls_count</th>\n",
       "    </tr>\n",
       "    <tr>\n",
       "      <th>user_id</th>\n",
       "      <th>month</th>\n",
       "      <th></th>\n",
       "      <th></th>\n",
       "    </tr>\n",
       "  </thead>\n",
       "  <tbody>\n",
       "    <tr>\n",
       "      <th>1000</th>\n",
       "      <th>12</th>\n",
       "      <td>116.83</td>\n",
       "      <td>16</td>\n",
       "    </tr>\n",
       "    <tr>\n",
       "      <th rowspan=\"5\" valign=\"top\">1001</th>\n",
       "      <th>8</th>\n",
       "      <td>171.14</td>\n",
       "      <td>22</td>\n",
       "    </tr>\n",
       "    <tr>\n",
       "      <th>9</th>\n",
       "      <td>297.69</td>\n",
       "      <td>38</td>\n",
       "    </tr>\n",
       "    <tr>\n",
       "      <th>10</th>\n",
       "      <td>374.11</td>\n",
       "      <td>47</td>\n",
       "    </tr>\n",
       "    <tr>\n",
       "      <th>11</th>\n",
       "      <td>404.59</td>\n",
       "      <td>49</td>\n",
       "    </tr>\n",
       "    <tr>\n",
       "      <th>12</th>\n",
       "      <td>392.93</td>\n",
       "      <td>46</td>\n",
       "    </tr>\n",
       "    <tr>\n",
       "      <th rowspan=\"3\" valign=\"top\">1002</th>\n",
       "      <th>10</th>\n",
       "      <td>54.13</td>\n",
       "      <td>8</td>\n",
       "    </tr>\n",
       "    <tr>\n",
       "      <th>11</th>\n",
       "      <td>359.76</td>\n",
       "      <td>48</td>\n",
       "    </tr>\n",
       "    <tr>\n",
       "      <th>12</th>\n",
       "      <td>363.24</td>\n",
       "      <td>38</td>\n",
       "    </tr>\n",
       "    <tr>\n",
       "      <th>1003</th>\n",
       "      <th>12</th>\n",
       "      <td>1041.00</td>\n",
       "      <td>118</td>\n",
       "    </tr>\n",
       "    <tr>\n",
       "      <th rowspan=\"5\" valign=\"top\">1004</th>\n",
       "      <th>5</th>\n",
       "      <td>181.58</td>\n",
       "      <td>19</td>\n",
       "    </tr>\n",
       "    <tr>\n",
       "      <th>6</th>\n",
       "      <td>261.32</td>\n",
       "      <td>33</td>\n",
       "    </tr>\n",
       "    <tr>\n",
       "      <th>7</th>\n",
       "      <td>358.45</td>\n",
       "      <td>45</td>\n",
       "    </tr>\n",
       "    <tr>\n",
       "      <th>8</th>\n",
       "      <td>334.86</td>\n",
       "      <td>42</td>\n",
       "    </tr>\n",
       "    <tr>\n",
       "      <th>9</th>\n",
       "      <td>284.60</td>\n",
       "      <td>32</td>\n",
       "    </tr>\n",
       "  </tbody>\n",
       "</table>\n",
       "</div>"
      ],
      "text/plain": [
       "               calls_duration  calls_count\n",
       "user_id month                             \n",
       "1000    12             116.83           16\n",
       "1001    8              171.14           22\n",
       "        9              297.69           38\n",
       "        10             374.11           47\n",
       "        11             404.59           49\n",
       "        12             392.93           46\n",
       "1002    10              54.13            8\n",
       "        11             359.76           48\n",
       "        12             363.24           38\n",
       "1003    12            1041.00          118\n",
       "1004    5              181.58           19\n",
       "        6              261.32           33\n",
       "        7              358.45           45\n",
       "        8              334.86           42\n",
       "        9              284.60           32"
      ]
     },
     "execution_count": 2027,
     "metadata": {},
     "output_type": "execute_result"
    }
   ],
   "source": [
    "calls_grouped.head(15)"
   ]
  },
  {
   "cell_type": "code",
   "execution_count": 2028,
   "id": "d8c81472",
   "metadata": {},
   "outputs": [
    {
     "data": {
      "text/html": [
       "<div>\n",
       "<style scoped>\n",
       "    .dataframe tbody tr th:only-of-type {\n",
       "        vertical-align: middle;\n",
       "    }\n",
       "\n",
       "    .dataframe tbody tr th {\n",
       "        vertical-align: top;\n",
       "    }\n",
       "\n",
       "    .dataframe thead th {\n",
       "        text-align: right;\n",
       "    }\n",
       "</style>\n",
       "<table border=\"1\" class=\"dataframe\">\n",
       "  <thead>\n",
       "    <tr style=\"text-align: right;\">\n",
       "      <th></th>\n",
       "      <th></th>\n",
       "      <th>sms_count</th>\n",
       "    </tr>\n",
       "    <tr>\n",
       "      <th>user_id</th>\n",
       "      <th>month</th>\n",
       "      <th></th>\n",
       "    </tr>\n",
       "  </thead>\n",
       "  <tbody>\n",
       "    <tr>\n",
       "      <th>1000</th>\n",
       "      <th>12</th>\n",
       "      <td>11</td>\n",
       "    </tr>\n",
       "    <tr>\n",
       "      <th rowspan=\"5\" valign=\"top\">1001</th>\n",
       "      <th>8</th>\n",
       "      <td>30</td>\n",
       "    </tr>\n",
       "    <tr>\n",
       "      <th>9</th>\n",
       "      <td>44</td>\n",
       "    </tr>\n",
       "    <tr>\n",
       "      <th>10</th>\n",
       "      <td>53</td>\n",
       "    </tr>\n",
       "    <tr>\n",
       "      <th>11</th>\n",
       "      <td>36</td>\n",
       "    </tr>\n",
       "    <tr>\n",
       "      <th>12</th>\n",
       "      <td>44</td>\n",
       "    </tr>\n",
       "    <tr>\n",
       "      <th rowspan=\"3\" valign=\"top\">1002</th>\n",
       "      <th>10</th>\n",
       "      <td>15</td>\n",
       "    </tr>\n",
       "    <tr>\n",
       "      <th>11</th>\n",
       "      <td>32</td>\n",
       "    </tr>\n",
       "    <tr>\n",
       "      <th>12</th>\n",
       "      <td>41</td>\n",
       "    </tr>\n",
       "    <tr>\n",
       "      <th>1003</th>\n",
       "      <th>12</th>\n",
       "      <td>50</td>\n",
       "    </tr>\n",
       "    <tr>\n",
       "      <th rowspan=\"5\" valign=\"top\">1004</th>\n",
       "      <th>5</th>\n",
       "      <td>7</td>\n",
       "    </tr>\n",
       "    <tr>\n",
       "      <th>6</th>\n",
       "      <td>18</td>\n",
       "    </tr>\n",
       "    <tr>\n",
       "      <th>7</th>\n",
       "      <td>26</td>\n",
       "    </tr>\n",
       "    <tr>\n",
       "      <th>8</th>\n",
       "      <td>25</td>\n",
       "    </tr>\n",
       "    <tr>\n",
       "      <th>9</th>\n",
       "      <td>21</td>\n",
       "    </tr>\n",
       "  </tbody>\n",
       "</table>\n",
       "</div>"
      ],
      "text/plain": [
       "               sms_count\n",
       "user_id month           \n",
       "1000    12            11\n",
       "1001    8             30\n",
       "        9             44\n",
       "        10            53\n",
       "        11            36\n",
       "        12            44\n",
       "1002    10            15\n",
       "        11            32\n",
       "        12            41\n",
       "1003    12            50\n",
       "1004    5              7\n",
       "        6             18\n",
       "        7             26\n",
       "        8             25\n",
       "        9             21"
      ]
     },
     "execution_count": 2028,
     "metadata": {},
     "output_type": "execute_result"
    }
   ],
   "source": [
    "messages_grouped.head(15)"
   ]
  },
  {
   "cell_type": "code",
   "execution_count": 2029,
   "id": "6d86a4c2",
   "metadata": {},
   "outputs": [
    {
     "data": {
      "text/html": [
       "<div>\n",
       "<style scoped>\n",
       "    .dataframe tbody tr th:only-of-type {\n",
       "        vertical-align: middle;\n",
       "    }\n",
       "\n",
       "    .dataframe tbody tr th {\n",
       "        vertical-align: top;\n",
       "    }\n",
       "\n",
       "    .dataframe thead th {\n",
       "        text-align: right;\n",
       "    }\n",
       "</style>\n",
       "<table border=\"1\" class=\"dataframe\">\n",
       "  <thead>\n",
       "    <tr style=\"text-align: right;\">\n",
       "      <th></th>\n",
       "      <th></th>\n",
       "      <th>mb_used</th>\n",
       "    </tr>\n",
       "    <tr>\n",
       "      <th>user_id</th>\n",
       "      <th>month</th>\n",
       "      <th></th>\n",
       "    </tr>\n",
       "  </thead>\n",
       "  <tbody>\n",
       "    <tr>\n",
       "      <th>1000</th>\n",
       "      <th>12</th>\n",
       "      <td>1901.47</td>\n",
       "    </tr>\n",
       "    <tr>\n",
       "      <th rowspan=\"5\" valign=\"top\">1001</th>\n",
       "      <th>8</th>\n",
       "      <td>6919.15</td>\n",
       "    </tr>\n",
       "    <tr>\n",
       "      <th>9</th>\n",
       "      <td>13314.82</td>\n",
       "    </tr>\n",
       "    <tr>\n",
       "      <th>10</th>\n",
       "      <td>22330.49</td>\n",
       "    </tr>\n",
       "    <tr>\n",
       "      <th>11</th>\n",
       "      <td>18504.30</td>\n",
       "    </tr>\n",
       "    <tr>\n",
       "      <th>12</th>\n",
       "      <td>19369.18</td>\n",
       "    </tr>\n",
       "    <tr>\n",
       "      <th rowspan=\"3\" valign=\"top\">1002</th>\n",
       "      <th>10</th>\n",
       "      <td>6552.01</td>\n",
       "    </tr>\n",
       "    <tr>\n",
       "      <th>11</th>\n",
       "      <td>19345.08</td>\n",
       "    </tr>\n",
       "    <tr>\n",
       "      <th>12</th>\n",
       "      <td>14396.24</td>\n",
       "    </tr>\n",
       "    <tr>\n",
       "      <th>1003</th>\n",
       "      <th>12</th>\n",
       "      <td>27044.14</td>\n",
       "    </tr>\n",
       "    <tr>\n",
       "      <th rowspan=\"5\" valign=\"top\">1004</th>\n",
       "      <th>5</th>\n",
       "      <td>6547.21</td>\n",
       "    </tr>\n",
       "    <tr>\n",
       "      <th>6</th>\n",
       "      <td>20672.82</td>\n",
       "    </tr>\n",
       "    <tr>\n",
       "      <th>7</th>\n",
       "      <td>24516.62</td>\n",
       "    </tr>\n",
       "    <tr>\n",
       "      <th>8</th>\n",
       "      <td>27981.74</td>\n",
       "    </tr>\n",
       "    <tr>\n",
       "      <th>9</th>\n",
       "      <td>18852.72</td>\n",
       "    </tr>\n",
       "  </tbody>\n",
       "</table>\n",
       "</div>"
      ],
      "text/plain": [
       "                mb_used\n",
       "user_id month          \n",
       "1000    12      1901.47\n",
       "1001    8       6919.15\n",
       "        9      13314.82\n",
       "        10     22330.49\n",
       "        11     18504.30\n",
       "        12     19369.18\n",
       "1002    10      6552.01\n",
       "        11     19345.08\n",
       "        12     14396.24\n",
       "1003    12     27044.14\n",
       "1004    5       6547.21\n",
       "        6      20672.82\n",
       "        7      24516.62\n",
       "        8      27981.74\n",
       "        9      18852.72"
      ]
     },
     "execution_count": 2029,
     "metadata": {},
     "output_type": "execute_result"
    }
   ],
   "source": [
    "internet_grouped.head(15)"
   ]
  },
  {
   "cell_type": "markdown",
   "id": "a75a1fa8",
   "metadata": {},
   "source": [
    "Unimos el dataframe en uno solo "
   ]
  },
  {
   "cell_type": "markdown",
   "id": "dfcd920b",
   "metadata": {},
   "source": [
    "<div class=\"alert alert-success\">\n",
    "<b>✔️ Comentario del revisor:</b> Aqui bien!"
   ]
  },
  {
   "cell_type": "code",
   "execution_count": 2030,
   "id": "66c1db58",
   "metadata": {},
   "outputs": [],
   "source": [
    "## Unir los DataFrames en uno solo\n",
    "user_data = pd.concat([calls_grouped, messages_grouped, internet_grouped], axis=1)"
   ]
  },
  {
   "cell_type": "code",
   "execution_count": 2031,
   "id": "e7d6eaa4",
   "metadata": {},
   "outputs": [
    {
     "data": {
      "text/html": [
       "<div>\n",
       "<style scoped>\n",
       "    .dataframe tbody tr th:only-of-type {\n",
       "        vertical-align: middle;\n",
       "    }\n",
       "\n",
       "    .dataframe tbody tr th {\n",
       "        vertical-align: top;\n",
       "    }\n",
       "\n",
       "    .dataframe thead th {\n",
       "        text-align: right;\n",
       "    }\n",
       "</style>\n",
       "<table border=\"1\" class=\"dataframe\">\n",
       "  <thead>\n",
       "    <tr style=\"text-align: right;\">\n",
       "      <th></th>\n",
       "      <th></th>\n",
       "      <th>calls_duration</th>\n",
       "      <th>calls_count</th>\n",
       "      <th>sms_count</th>\n",
       "      <th>mb_used</th>\n",
       "    </tr>\n",
       "    <tr>\n",
       "      <th>user_id</th>\n",
       "      <th>month</th>\n",
       "      <th></th>\n",
       "      <th></th>\n",
       "      <th></th>\n",
       "      <th></th>\n",
       "    </tr>\n",
       "  </thead>\n",
       "  <tbody>\n",
       "    <tr>\n",
       "      <th>1000</th>\n",
       "      <th>12</th>\n",
       "      <td>116.83</td>\n",
       "      <td>16.0</td>\n",
       "      <td>11.0</td>\n",
       "      <td>1901.47</td>\n",
       "    </tr>\n",
       "    <tr>\n",
       "      <th rowspan=\"5\" valign=\"top\">1001</th>\n",
       "      <th>8</th>\n",
       "      <td>171.14</td>\n",
       "      <td>22.0</td>\n",
       "      <td>30.0</td>\n",
       "      <td>6919.15</td>\n",
       "    </tr>\n",
       "    <tr>\n",
       "      <th>9</th>\n",
       "      <td>297.69</td>\n",
       "      <td>38.0</td>\n",
       "      <td>44.0</td>\n",
       "      <td>13314.82</td>\n",
       "    </tr>\n",
       "    <tr>\n",
       "      <th>10</th>\n",
       "      <td>374.11</td>\n",
       "      <td>47.0</td>\n",
       "      <td>53.0</td>\n",
       "      <td>22330.49</td>\n",
       "    </tr>\n",
       "    <tr>\n",
       "      <th>11</th>\n",
       "      <td>404.59</td>\n",
       "      <td>49.0</td>\n",
       "      <td>36.0</td>\n",
       "      <td>18504.30</td>\n",
       "    </tr>\n",
       "    <tr>\n",
       "      <th>12</th>\n",
       "      <td>392.93</td>\n",
       "      <td>46.0</td>\n",
       "      <td>44.0</td>\n",
       "      <td>19369.18</td>\n",
       "    </tr>\n",
       "    <tr>\n",
       "      <th rowspan=\"3\" valign=\"top\">1002</th>\n",
       "      <th>10</th>\n",
       "      <td>54.13</td>\n",
       "      <td>8.0</td>\n",
       "      <td>15.0</td>\n",
       "      <td>6552.01</td>\n",
       "    </tr>\n",
       "    <tr>\n",
       "      <th>11</th>\n",
       "      <td>359.76</td>\n",
       "      <td>48.0</td>\n",
       "      <td>32.0</td>\n",
       "      <td>19345.08</td>\n",
       "    </tr>\n",
       "    <tr>\n",
       "      <th>12</th>\n",
       "      <td>363.24</td>\n",
       "      <td>38.0</td>\n",
       "      <td>41.0</td>\n",
       "      <td>14396.24</td>\n",
       "    </tr>\n",
       "    <tr>\n",
       "      <th>1003</th>\n",
       "      <th>12</th>\n",
       "      <td>1041.00</td>\n",
       "      <td>118.0</td>\n",
       "      <td>50.0</td>\n",
       "      <td>27044.14</td>\n",
       "    </tr>\n",
       "    <tr>\n",
       "      <th rowspan=\"5\" valign=\"top\">1004</th>\n",
       "      <th>5</th>\n",
       "      <td>181.58</td>\n",
       "      <td>19.0</td>\n",
       "      <td>7.0</td>\n",
       "      <td>6547.21</td>\n",
       "    </tr>\n",
       "    <tr>\n",
       "      <th>6</th>\n",
       "      <td>261.32</td>\n",
       "      <td>33.0</td>\n",
       "      <td>18.0</td>\n",
       "      <td>20672.82</td>\n",
       "    </tr>\n",
       "    <tr>\n",
       "      <th>7</th>\n",
       "      <td>358.45</td>\n",
       "      <td>45.0</td>\n",
       "      <td>26.0</td>\n",
       "      <td>24516.62</td>\n",
       "    </tr>\n",
       "    <tr>\n",
       "      <th>8</th>\n",
       "      <td>334.86</td>\n",
       "      <td>42.0</td>\n",
       "      <td>25.0</td>\n",
       "      <td>27981.74</td>\n",
       "    </tr>\n",
       "    <tr>\n",
       "      <th>9</th>\n",
       "      <td>284.60</td>\n",
       "      <td>32.0</td>\n",
       "      <td>21.0</td>\n",
       "      <td>18852.72</td>\n",
       "    </tr>\n",
       "  </tbody>\n",
       "</table>\n",
       "</div>"
      ],
      "text/plain": [
       "               calls_duration  calls_count  sms_count   mb_used\n",
       "user_id month                                                  \n",
       "1000    12             116.83         16.0       11.0   1901.47\n",
       "1001    8              171.14         22.0       30.0   6919.15\n",
       "        9              297.69         38.0       44.0  13314.82\n",
       "        10             374.11         47.0       53.0  22330.49\n",
       "        11             404.59         49.0       36.0  18504.30\n",
       "        12             392.93         46.0       44.0  19369.18\n",
       "1002    10              54.13          8.0       15.0   6552.01\n",
       "        11             359.76         48.0       32.0  19345.08\n",
       "        12             363.24         38.0       41.0  14396.24\n",
       "1003    12            1041.00        118.0       50.0  27044.14\n",
       "1004    5              181.58         19.0        7.0   6547.21\n",
       "        6              261.32         33.0       18.0  20672.82\n",
       "        7              358.45         45.0       26.0  24516.62\n",
       "        8              334.86         42.0       25.0  27981.74\n",
       "        9              284.60         32.0       21.0  18852.72"
      ]
     },
     "execution_count": 2031,
     "metadata": {},
     "output_type": "execute_result"
    }
   ],
   "source": [
    "user_data.head(15)"
   ]
  },
  {
   "cell_type": "markdown",
   "id": "299d9722",
   "metadata": {},
   "source": [
    "> Podemos ver que ya se ha unido por meses e ID de usuario .\n",
    "\n",
    "A continuación tenemos que unir con la tabla de usuarios y el plan.\n",
    "Como el DataFrame de los Usuarios tiene mas en común con la talba de plan."
   ]
  },
  {
   "cell_type": "code",
   "execution_count": 2032,
   "id": "c5209187",
   "metadata": {},
   "outputs": [],
   "source": [
    "# creamos un dataframe que solo usa las filas que nos inportan\n",
    "user_plan_df = users_df[['user_id','plan','city']]\n",
    "# hacemos un merge con left y right ya que los dataframes tienen los parametros con diferentes nombre\n",
    "# se hace un drop para mantener una sola columna que haga referencia al plan\n",
    "user_plan_df  = (user_plan_df.merge(plans_df, left_on='plan', right_on='plan_name')).drop(columns='plan_name')"
   ]
  },
  {
   "cell_type": "code",
   "execution_count": 2033,
   "id": "edd03c90",
   "metadata": {
    "scrolled": true
   },
   "outputs": [
    {
     "data": {
      "text/html": [
       "<div>\n",
       "<style scoped>\n",
       "    .dataframe tbody tr th:only-of-type {\n",
       "        vertical-align: middle;\n",
       "    }\n",
       "\n",
       "    .dataframe tbody tr th {\n",
       "        vertical-align: top;\n",
       "    }\n",
       "\n",
       "    .dataframe thead th {\n",
       "        text-align: right;\n",
       "    }\n",
       "</style>\n",
       "<table border=\"1\" class=\"dataframe\">\n",
       "  <thead>\n",
       "    <tr style=\"text-align: right;\">\n",
       "      <th></th>\n",
       "      <th>user_id</th>\n",
       "      <th>plan</th>\n",
       "      <th>city</th>\n",
       "      <th>messages_included</th>\n",
       "      <th>mb_per_month_included</th>\n",
       "      <th>minutes_included</th>\n",
       "      <th>usd_monthly_pay</th>\n",
       "      <th>usd_per_gb</th>\n",
       "      <th>usd_per_message</th>\n",
       "      <th>usd_per_minute</th>\n",
       "    </tr>\n",
       "  </thead>\n",
       "  <tbody>\n",
       "    <tr>\n",
       "      <th>0</th>\n",
       "      <td>1000</td>\n",
       "      <td>ultimate</td>\n",
       "      <td>Atlanta-Sandy Springs-Roswell, GA MSA</td>\n",
       "      <td>1000</td>\n",
       "      <td>30720</td>\n",
       "      <td>3000</td>\n",
       "      <td>70</td>\n",
       "      <td>7</td>\n",
       "      <td>0.01</td>\n",
       "      <td>0.01</td>\n",
       "    </tr>\n",
       "    <tr>\n",
       "      <th>1</th>\n",
       "      <td>1006</td>\n",
       "      <td>ultimate</td>\n",
       "      <td>San Francisco-Oakland-Berkeley, CA MSA</td>\n",
       "      <td>1000</td>\n",
       "      <td>30720</td>\n",
       "      <td>3000</td>\n",
       "      <td>70</td>\n",
       "      <td>7</td>\n",
       "      <td>0.01</td>\n",
       "      <td>0.01</td>\n",
       "    </tr>\n",
       "    <tr>\n",
       "      <th>2</th>\n",
       "      <td>1008</td>\n",
       "      <td>ultimate</td>\n",
       "      <td>Orlando-Kissimmee-Sanford, FL MSA</td>\n",
       "      <td>1000</td>\n",
       "      <td>30720</td>\n",
       "      <td>3000</td>\n",
       "      <td>70</td>\n",
       "      <td>7</td>\n",
       "      <td>0.01</td>\n",
       "      <td>0.01</td>\n",
       "    </tr>\n",
       "    <tr>\n",
       "      <th>3</th>\n",
       "      <td>1011</td>\n",
       "      <td>ultimate</td>\n",
       "      <td>Cleveland-Elyria, OH MSA</td>\n",
       "      <td>1000</td>\n",
       "      <td>30720</td>\n",
       "      <td>3000</td>\n",
       "      <td>70</td>\n",
       "      <td>7</td>\n",
       "      <td>0.01</td>\n",
       "      <td>0.01</td>\n",
       "    </tr>\n",
       "    <tr>\n",
       "      <th>4</th>\n",
       "      <td>1013</td>\n",
       "      <td>ultimate</td>\n",
       "      <td>Knoxville, TN MSA</td>\n",
       "      <td>1000</td>\n",
       "      <td>30720</td>\n",
       "      <td>3000</td>\n",
       "      <td>70</td>\n",
       "      <td>7</td>\n",
       "      <td>0.01</td>\n",
       "      <td>0.01</td>\n",
       "    </tr>\n",
       "    <tr>\n",
       "      <th>5</th>\n",
       "      <td>1025</td>\n",
       "      <td>ultimate</td>\n",
       "      <td>Atlanta-Sandy Springs-Roswell, GA MSA</td>\n",
       "      <td>1000</td>\n",
       "      <td>30720</td>\n",
       "      <td>3000</td>\n",
       "      <td>70</td>\n",
       "      <td>7</td>\n",
       "      <td>0.01</td>\n",
       "      <td>0.01</td>\n",
       "    </tr>\n",
       "    <tr>\n",
       "      <th>6</th>\n",
       "      <td>1026</td>\n",
       "      <td>ultimate</td>\n",
       "      <td>Houston-The Woodlands-Sugar Land, TX MSA</td>\n",
       "      <td>1000</td>\n",
       "      <td>30720</td>\n",
       "      <td>3000</td>\n",
       "      <td>70</td>\n",
       "      <td>7</td>\n",
       "      <td>0.01</td>\n",
       "      <td>0.01</td>\n",
       "    </tr>\n",
       "    <tr>\n",
       "      <th>7</th>\n",
       "      <td>1028</td>\n",
       "      <td>ultimate</td>\n",
       "      <td>Philadelphia-Camden-Wilmington, PA-NJ-DE-MD MSA</td>\n",
       "      <td>1000</td>\n",
       "      <td>30720</td>\n",
       "      <td>3000</td>\n",
       "      <td>70</td>\n",
       "      <td>7</td>\n",
       "      <td>0.01</td>\n",
       "      <td>0.01</td>\n",
       "    </tr>\n",
       "    <tr>\n",
       "      <th>8</th>\n",
       "      <td>1030</td>\n",
       "      <td>ultimate</td>\n",
       "      <td>Chicago-Naperville-Elgin, IL-IN-WI MSA</td>\n",
       "      <td>1000</td>\n",
       "      <td>30720</td>\n",
       "      <td>3000</td>\n",
       "      <td>70</td>\n",
       "      <td>7</td>\n",
       "      <td>0.01</td>\n",
       "      <td>0.01</td>\n",
       "    </tr>\n",
       "    <tr>\n",
       "      <th>9</th>\n",
       "      <td>1031</td>\n",
       "      <td>ultimate</td>\n",
       "      <td>New York-Newark-Jersey City, NY-NJ-PA MSA</td>\n",
       "      <td>1000</td>\n",
       "      <td>30720</td>\n",
       "      <td>3000</td>\n",
       "      <td>70</td>\n",
       "      <td>7</td>\n",
       "      <td>0.01</td>\n",
       "      <td>0.01</td>\n",
       "    </tr>\n",
       "  </tbody>\n",
       "</table>\n",
       "</div>"
      ],
      "text/plain": [
       "   user_id      plan                                             city  \\\n",
       "0     1000  ultimate            Atlanta-Sandy Springs-Roswell, GA MSA   \n",
       "1     1006  ultimate           San Francisco-Oakland-Berkeley, CA MSA   \n",
       "2     1008  ultimate                Orlando-Kissimmee-Sanford, FL MSA   \n",
       "3     1011  ultimate                         Cleveland-Elyria, OH MSA   \n",
       "4     1013  ultimate                                Knoxville, TN MSA   \n",
       "5     1025  ultimate            Atlanta-Sandy Springs-Roswell, GA MSA   \n",
       "6     1026  ultimate         Houston-The Woodlands-Sugar Land, TX MSA   \n",
       "7     1028  ultimate  Philadelphia-Camden-Wilmington, PA-NJ-DE-MD MSA   \n",
       "8     1030  ultimate           Chicago-Naperville-Elgin, IL-IN-WI MSA   \n",
       "9     1031  ultimate        New York-Newark-Jersey City, NY-NJ-PA MSA   \n",
       "\n",
       "   messages_included  mb_per_month_included  minutes_included  \\\n",
       "0               1000                  30720              3000   \n",
       "1               1000                  30720              3000   \n",
       "2               1000                  30720              3000   \n",
       "3               1000                  30720              3000   \n",
       "4               1000                  30720              3000   \n",
       "5               1000                  30720              3000   \n",
       "6               1000                  30720              3000   \n",
       "7               1000                  30720              3000   \n",
       "8               1000                  30720              3000   \n",
       "9               1000                  30720              3000   \n",
       "\n",
       "   usd_monthly_pay  usd_per_gb  usd_per_message  usd_per_minute  \n",
       "0               70           7             0.01            0.01  \n",
       "1               70           7             0.01            0.01  \n",
       "2               70           7             0.01            0.01  \n",
       "3               70           7             0.01            0.01  \n",
       "4               70           7             0.01            0.01  \n",
       "5               70           7             0.01            0.01  \n",
       "6               70           7             0.01            0.01  \n",
       "7               70           7             0.01            0.01  \n",
       "8               70           7             0.01            0.01  \n",
       "9               70           7             0.01            0.01  "
      ]
     },
     "execution_count": 2033,
     "metadata": {},
     "output_type": "execute_result"
    }
   ],
   "source": [
    "user_plan_df.head(10)"
   ]
  },
  {
   "cell_type": "markdown",
   "id": "3cf104a9",
   "metadata": {},
   "source": [
    "<div class=\"alert alert-success\">\n",
    "<b>✔️ Comentario del revisor:</b> Muy bien que muestras todo en DataFrame!"
   ]
  },
  {
   "cell_type": "markdown",
   "id": "4f81d381",
   "metadata": {},
   "source": [
    "Ahora que los planes y los usuarios estan funcionados podemos unir con los meses de llamadas , mensajes e internet"
   ]
  },
  {
   "cell_type": "code",
   "execution_count": 2034,
   "id": "7ac3452f",
   "metadata": {},
   "outputs": [],
   "source": [
    "### al usar merge se pierde el valor de month por lo que se debe de resetear para que no exista los subíndices\n",
    "user_data.reset_index(inplace=True)\n",
    "\n",
    "user_data = user_data.merge(user_plan_df, on='user_id', how='left')\n",
    "\n",
    "\n"
   ]
  },
  {
   "cell_type": "markdown",
   "id": "a63e99c4",
   "metadata": {},
   "source": [
    "### 4. Remover datos nulos  <a class=\"anchor\" id=\"removernulos\"></a> "
   ]
  },
  {
   "cell_type": "code",
   "execution_count": 2035,
   "id": "e3fa67d4",
   "metadata": {
    "scrolled": true
   },
   "outputs": [
    {
     "data": {
      "text/html": [
       "<div>\n",
       "<style scoped>\n",
       "    .dataframe tbody tr th:only-of-type {\n",
       "        vertical-align: middle;\n",
       "    }\n",
       "\n",
       "    .dataframe tbody tr th {\n",
       "        vertical-align: top;\n",
       "    }\n",
       "\n",
       "    .dataframe thead th {\n",
       "        text-align: right;\n",
       "    }\n",
       "</style>\n",
       "<table border=\"1\" class=\"dataframe\">\n",
       "  <thead>\n",
       "    <tr style=\"text-align: right;\">\n",
       "      <th></th>\n",
       "      <th>user_id</th>\n",
       "      <th>month</th>\n",
       "      <th>calls_duration</th>\n",
       "      <th>calls_count</th>\n",
       "      <th>sms_count</th>\n",
       "      <th>mb_used</th>\n",
       "      <th>plan</th>\n",
       "      <th>city</th>\n",
       "      <th>messages_included</th>\n",
       "      <th>mb_per_month_included</th>\n",
       "      <th>minutes_included</th>\n",
       "      <th>usd_monthly_pay</th>\n",
       "      <th>usd_per_gb</th>\n",
       "      <th>usd_per_message</th>\n",
       "      <th>usd_per_minute</th>\n",
       "    </tr>\n",
       "  </thead>\n",
       "  <tbody>\n",
       "    <tr>\n",
       "      <th>0</th>\n",
       "      <td>1000</td>\n",
       "      <td>12</td>\n",
       "      <td>116.83</td>\n",
       "      <td>16.0</td>\n",
       "      <td>11.0</td>\n",
       "      <td>1901.47</td>\n",
       "      <td>ultimate</td>\n",
       "      <td>Atlanta-Sandy Springs-Roswell, GA MSA</td>\n",
       "      <td>1000</td>\n",
       "      <td>30720</td>\n",
       "      <td>3000</td>\n",
       "      <td>70</td>\n",
       "      <td>7</td>\n",
       "      <td>0.01</td>\n",
       "      <td>0.01</td>\n",
       "    </tr>\n",
       "    <tr>\n",
       "      <th>1</th>\n",
       "      <td>1001</td>\n",
       "      <td>8</td>\n",
       "      <td>171.14</td>\n",
       "      <td>22.0</td>\n",
       "      <td>30.0</td>\n",
       "      <td>6919.15</td>\n",
       "      <td>surf</td>\n",
       "      <td>Seattle-Tacoma-Bellevue, WA MSA</td>\n",
       "      <td>50</td>\n",
       "      <td>15360</td>\n",
       "      <td>500</td>\n",
       "      <td>20</td>\n",
       "      <td>10</td>\n",
       "      <td>0.03</td>\n",
       "      <td>0.03</td>\n",
       "    </tr>\n",
       "    <tr>\n",
       "      <th>2</th>\n",
       "      <td>1001</td>\n",
       "      <td>9</td>\n",
       "      <td>297.69</td>\n",
       "      <td>38.0</td>\n",
       "      <td>44.0</td>\n",
       "      <td>13314.82</td>\n",
       "      <td>surf</td>\n",
       "      <td>Seattle-Tacoma-Bellevue, WA MSA</td>\n",
       "      <td>50</td>\n",
       "      <td>15360</td>\n",
       "      <td>500</td>\n",
       "      <td>20</td>\n",
       "      <td>10</td>\n",
       "      <td>0.03</td>\n",
       "      <td>0.03</td>\n",
       "    </tr>\n",
       "    <tr>\n",
       "      <th>3</th>\n",
       "      <td>1001</td>\n",
       "      <td>10</td>\n",
       "      <td>374.11</td>\n",
       "      <td>47.0</td>\n",
       "      <td>53.0</td>\n",
       "      <td>22330.49</td>\n",
       "      <td>surf</td>\n",
       "      <td>Seattle-Tacoma-Bellevue, WA MSA</td>\n",
       "      <td>50</td>\n",
       "      <td>15360</td>\n",
       "      <td>500</td>\n",
       "      <td>20</td>\n",
       "      <td>10</td>\n",
       "      <td>0.03</td>\n",
       "      <td>0.03</td>\n",
       "    </tr>\n",
       "    <tr>\n",
       "      <th>4</th>\n",
       "      <td>1001</td>\n",
       "      <td>11</td>\n",
       "      <td>404.59</td>\n",
       "      <td>49.0</td>\n",
       "      <td>36.0</td>\n",
       "      <td>18504.30</td>\n",
       "      <td>surf</td>\n",
       "      <td>Seattle-Tacoma-Bellevue, WA MSA</td>\n",
       "      <td>50</td>\n",
       "      <td>15360</td>\n",
       "      <td>500</td>\n",
       "      <td>20</td>\n",
       "      <td>10</td>\n",
       "      <td>0.03</td>\n",
       "      <td>0.03</td>\n",
       "    </tr>\n",
       "    <tr>\n",
       "      <th>...</th>\n",
       "      <td>...</td>\n",
       "      <td>...</td>\n",
       "      <td>...</td>\n",
       "      <td>...</td>\n",
       "      <td>...</td>\n",
       "      <td>...</td>\n",
       "      <td>...</td>\n",
       "      <td>...</td>\n",
       "      <td>...</td>\n",
       "      <td>...</td>\n",
       "      <td>...</td>\n",
       "      <td>...</td>\n",
       "      <td>...</td>\n",
       "      <td>...</td>\n",
       "      <td>...</td>\n",
       "    </tr>\n",
       "    <tr>\n",
       "      <th>2288</th>\n",
       "      <td>1407</td>\n",
       "      <td>11</td>\n",
       "      <td>NaN</td>\n",
       "      <td>NaN</td>\n",
       "      <td>1.0</td>\n",
       "      <td>290.06</td>\n",
       "      <td>ultimate</td>\n",
       "      <td>New York-Newark-Jersey City, NY-NJ-PA MSA</td>\n",
       "      <td>1000</td>\n",
       "      <td>30720</td>\n",
       "      <td>3000</td>\n",
       "      <td>70</td>\n",
       "      <td>7</td>\n",
       "      <td>0.01</td>\n",
       "      <td>0.01</td>\n",
       "    </tr>\n",
       "    <tr>\n",
       "      <th>2289</th>\n",
       "      <td>1482</td>\n",
       "      <td>10</td>\n",
       "      <td>NaN</td>\n",
       "      <td>NaN</td>\n",
       "      <td>2.0</td>\n",
       "      <td>NaN</td>\n",
       "      <td>ultimate</td>\n",
       "      <td>New York-Newark-Jersey City, NY-NJ-PA MSA</td>\n",
       "      <td>1000</td>\n",
       "      <td>30720</td>\n",
       "      <td>3000</td>\n",
       "      <td>70</td>\n",
       "      <td>7</td>\n",
       "      <td>0.01</td>\n",
       "      <td>0.01</td>\n",
       "    </tr>\n",
       "    <tr>\n",
       "      <th>2290</th>\n",
       "      <td>1094</td>\n",
       "      <td>10</td>\n",
       "      <td>NaN</td>\n",
       "      <td>NaN</td>\n",
       "      <td>NaN</td>\n",
       "      <td>1728.71</td>\n",
       "      <td>surf</td>\n",
       "      <td>Los Angeles-Long Beach-Anaheim, CA MSA</td>\n",
       "      <td>50</td>\n",
       "      <td>15360</td>\n",
       "      <td>500</td>\n",
       "      <td>20</td>\n",
       "      <td>10</td>\n",
       "      <td>0.03</td>\n",
       "      <td>0.03</td>\n",
       "    </tr>\n",
       "    <tr>\n",
       "      <th>2291</th>\n",
       "      <td>1108</td>\n",
       "      <td>12</td>\n",
       "      <td>NaN</td>\n",
       "      <td>NaN</td>\n",
       "      <td>NaN</td>\n",
       "      <td>233.17</td>\n",
       "      <td>ultimate</td>\n",
       "      <td>Salt Lake City, UT MSA</td>\n",
       "      <td>1000</td>\n",
       "      <td>30720</td>\n",
       "      <td>3000</td>\n",
       "      <td>70</td>\n",
       "      <td>7</td>\n",
       "      <td>0.01</td>\n",
       "      <td>0.01</td>\n",
       "    </tr>\n",
       "    <tr>\n",
       "      <th>2292</th>\n",
       "      <td>1311</td>\n",
       "      <td>6</td>\n",
       "      <td>NaN</td>\n",
       "      <td>NaN</td>\n",
       "      <td>NaN</td>\n",
       "      <td>1498.83</td>\n",
       "      <td>ultimate</td>\n",
       "      <td>Memphis, TN-MS-AR MSA</td>\n",
       "      <td>1000</td>\n",
       "      <td>30720</td>\n",
       "      <td>3000</td>\n",
       "      <td>70</td>\n",
       "      <td>7</td>\n",
       "      <td>0.01</td>\n",
       "      <td>0.01</td>\n",
       "    </tr>\n",
       "  </tbody>\n",
       "</table>\n",
       "<p>2293 rows × 15 columns</p>\n",
       "</div>"
      ],
      "text/plain": [
       "      user_id  month  calls_duration  calls_count  sms_count   mb_used  \\\n",
       "0        1000     12          116.83         16.0       11.0   1901.47   \n",
       "1        1001      8          171.14         22.0       30.0   6919.15   \n",
       "2        1001      9          297.69         38.0       44.0  13314.82   \n",
       "3        1001     10          374.11         47.0       53.0  22330.49   \n",
       "4        1001     11          404.59         49.0       36.0  18504.30   \n",
       "...       ...    ...             ...          ...        ...       ...   \n",
       "2288     1407     11             NaN          NaN        1.0    290.06   \n",
       "2289     1482     10             NaN          NaN        2.0       NaN   \n",
       "2290     1094     10             NaN          NaN        NaN   1728.71   \n",
       "2291     1108     12             NaN          NaN        NaN    233.17   \n",
       "2292     1311      6             NaN          NaN        NaN   1498.83   \n",
       "\n",
       "          plan                                       city  messages_included  \\\n",
       "0     ultimate      Atlanta-Sandy Springs-Roswell, GA MSA               1000   \n",
       "1         surf            Seattle-Tacoma-Bellevue, WA MSA                 50   \n",
       "2         surf            Seattle-Tacoma-Bellevue, WA MSA                 50   \n",
       "3         surf            Seattle-Tacoma-Bellevue, WA MSA                 50   \n",
       "4         surf            Seattle-Tacoma-Bellevue, WA MSA                 50   \n",
       "...        ...                                        ...                ...   \n",
       "2288  ultimate  New York-Newark-Jersey City, NY-NJ-PA MSA               1000   \n",
       "2289  ultimate  New York-Newark-Jersey City, NY-NJ-PA MSA               1000   \n",
       "2290      surf     Los Angeles-Long Beach-Anaheim, CA MSA                 50   \n",
       "2291  ultimate                     Salt Lake City, UT MSA               1000   \n",
       "2292  ultimate                      Memphis, TN-MS-AR MSA               1000   \n",
       "\n",
       "      mb_per_month_included  minutes_included  usd_monthly_pay  usd_per_gb  \\\n",
       "0                     30720              3000               70           7   \n",
       "1                     15360               500               20          10   \n",
       "2                     15360               500               20          10   \n",
       "3                     15360               500               20          10   \n",
       "4                     15360               500               20          10   \n",
       "...                     ...               ...              ...         ...   \n",
       "2288                  30720              3000               70           7   \n",
       "2289                  30720              3000               70           7   \n",
       "2290                  15360               500               20          10   \n",
       "2291                  30720              3000               70           7   \n",
       "2292                  30720              3000               70           7   \n",
       "\n",
       "      usd_per_message  usd_per_minute  \n",
       "0                0.01            0.01  \n",
       "1                0.03            0.03  \n",
       "2                0.03            0.03  \n",
       "3                0.03            0.03  \n",
       "4                0.03            0.03  \n",
       "...               ...             ...  \n",
       "2288             0.01            0.01  \n",
       "2289             0.01            0.01  \n",
       "2290             0.03            0.03  \n",
       "2291             0.01            0.01  \n",
       "2292             0.01            0.01  \n",
       "\n",
       "[2293 rows x 15 columns]"
      ]
     },
     "execution_count": 2035,
     "metadata": {},
     "output_type": "execute_result"
    }
   ],
   "source": [
    "user_data"
   ]
  },
  {
   "cell_type": "markdown",
   "id": "6bf2114d",
   "metadata": {},
   "source": [
    "> podemos ver que hay valores nulos y por lo tanto hay que tratarlos debidamente.\n",
    "\n",
    "En este caso vamos a remplazar los valores nulos"
   ]
  },
  {
   "cell_type": "code",
   "execution_count": 2036,
   "id": "f2553732",
   "metadata": {},
   "outputs": [
    {
     "name": "stdout",
     "output_type": "stream",
     "text": [
      "Valores nulos por columna:\n"
     ]
    },
    {
     "data": {
      "text/plain": [
       "user_id                    0\n",
       "month                      0\n",
       "calls_duration            37\n",
       "calls_count               37\n",
       "sms_count                487\n",
       "mb_used                   16\n",
       "plan                       0\n",
       "city                       0\n",
       "messages_included          0\n",
       "mb_per_month_included      0\n",
       "minutes_included           0\n",
       "usd_monthly_pay            0\n",
       "usd_per_gb                 0\n",
       "usd_per_message            0\n",
       "usd_per_minute             0\n",
       "dtype: int64"
      ]
     },
     "execution_count": 2036,
     "metadata": {},
     "output_type": "execute_result"
    }
   ],
   "source": [
    "print(\"Valores nulos por columna:\")\n",
    "user_data.isnull().sum()"
   ]
  },
  {
   "cell_type": "markdown",
   "id": "56330f85",
   "metadata": {},
   "source": [
    "> Vamos a tratar estos valores nulos medianque una fucnion que reemplace el valor nulo con 0."
   ]
  },
  {
   "cell_type": "code",
   "execution_count": 2037,
   "id": "71a91f77",
   "metadata": {},
   "outputs": [],
   "source": [
    "# Esta columna llena los valores vacios con 0.\n",
    "for col in ['calls_duration','calls_duration','calls_count','sms_count','mb_used']:\n",
    "    user_data[col] = user_data[col].fillna(0)"
   ]
  },
  {
   "cell_type": "code",
   "execution_count": 2038,
   "id": "853ffe53",
   "metadata": {},
   "outputs": [
    {
     "name": "stdout",
     "output_type": "stream",
     "text": [
      "Valores nulos por columna:\n"
     ]
    },
    {
     "data": {
      "text/plain": [
       "user_id                  0\n",
       "month                    0\n",
       "calls_duration           0\n",
       "calls_count              0\n",
       "sms_count                0\n",
       "mb_used                  0\n",
       "plan                     0\n",
       "city                     0\n",
       "messages_included        0\n",
       "mb_per_month_included    0\n",
       "minutes_included         0\n",
       "usd_monthly_pay          0\n",
       "usd_per_gb               0\n",
       "usd_per_message          0\n",
       "usd_per_minute           0\n",
       "dtype: int64"
      ]
     },
     "execution_count": 2038,
     "metadata": {},
     "output_type": "execute_result"
    }
   ],
   "source": [
    "print(\"Valores nulos por columna:\")\n",
    "user_data.isnull().sum()"
   ]
  },
  {
   "cell_type": "markdown",
   "id": "9caf5d86",
   "metadata": {},
   "source": [
    "> Podemos apreciar que no hay valores nulos , por lo que damos por terminado el proceso de limpieza de datos y ahora falta aumentar la columna de `beneficio por mes`."
   ]
  },
  {
   "cell_type": "markdown",
   "id": "b8c21188",
   "metadata": {},
   "source": [
    "<div class=\"alert alert-success\">\n",
    "<b>✔️ Comentario del revisor:</b> Aqui bien!"
   ]
  },
  {
   "cell_type": "markdown",
   "id": "b0d2e852",
   "metadata": {},
   "source": [
    "### Agregar columna Beneficio Mensual `profit`\n",
    "\n",
    "Para Los ingresos mensuales de cada usuario se va Restar el límite del paquete gratuito del número total de llamadas, SMS y datos. Multiplicar el resultado por el valor de la tarifa de llamadas. Agregar el cargo mensual según la tarifa de llamadas a los ingresos mensuales de cada usuario.\n",
    "\n",
    "\n"
   ]
  },
  {
   "cell_type": "code",
   "execution_count": 2039,
   "id": "eaaeff0d",
   "metadata": {
    "scrolled": false
   },
   "outputs": [
    {
     "data": {
      "text/html": [
       "<div>\n",
       "<style scoped>\n",
       "    .dataframe tbody tr th:only-of-type {\n",
       "        vertical-align: middle;\n",
       "    }\n",
       "\n",
       "    .dataframe tbody tr th {\n",
       "        vertical-align: top;\n",
       "    }\n",
       "\n",
       "    .dataframe thead th {\n",
       "        text-align: right;\n",
       "    }\n",
       "</style>\n",
       "<table border=\"1\" class=\"dataframe\">\n",
       "  <thead>\n",
       "    <tr style=\"text-align: right;\">\n",
       "      <th></th>\n",
       "      <th>user_id</th>\n",
       "      <th>month</th>\n",
       "      <th>calls_duration</th>\n",
       "      <th>calls_count</th>\n",
       "      <th>sms_count</th>\n",
       "      <th>mb_used</th>\n",
       "      <th>plan</th>\n",
       "      <th>city</th>\n",
       "      <th>messages_included</th>\n",
       "      <th>mb_per_month_included</th>\n",
       "      <th>minutes_included</th>\n",
       "      <th>usd_monthly_pay</th>\n",
       "      <th>usd_per_gb</th>\n",
       "      <th>usd_per_message</th>\n",
       "      <th>usd_per_minute</th>\n",
       "    </tr>\n",
       "  </thead>\n",
       "  <tbody>\n",
       "    <tr>\n",
       "      <th>0</th>\n",
       "      <td>1000</td>\n",
       "      <td>12</td>\n",
       "      <td>116.83</td>\n",
       "      <td>16.0</td>\n",
       "      <td>11.0</td>\n",
       "      <td>1901.47</td>\n",
       "      <td>ultimate</td>\n",
       "      <td>Atlanta-Sandy Springs-Roswell, GA MSA</td>\n",
       "      <td>1000</td>\n",
       "      <td>30720</td>\n",
       "      <td>3000</td>\n",
       "      <td>70</td>\n",
       "      <td>7</td>\n",
       "      <td>0.01</td>\n",
       "      <td>0.01</td>\n",
       "    </tr>\n",
       "    <tr>\n",
       "      <th>1</th>\n",
       "      <td>1001</td>\n",
       "      <td>8</td>\n",
       "      <td>171.14</td>\n",
       "      <td>22.0</td>\n",
       "      <td>30.0</td>\n",
       "      <td>6919.15</td>\n",
       "      <td>surf</td>\n",
       "      <td>Seattle-Tacoma-Bellevue, WA MSA</td>\n",
       "      <td>50</td>\n",
       "      <td>15360</td>\n",
       "      <td>500</td>\n",
       "      <td>20</td>\n",
       "      <td>10</td>\n",
       "      <td>0.03</td>\n",
       "      <td>0.03</td>\n",
       "    </tr>\n",
       "    <tr>\n",
       "      <th>2</th>\n",
       "      <td>1001</td>\n",
       "      <td>9</td>\n",
       "      <td>297.69</td>\n",
       "      <td>38.0</td>\n",
       "      <td>44.0</td>\n",
       "      <td>13314.82</td>\n",
       "      <td>surf</td>\n",
       "      <td>Seattle-Tacoma-Bellevue, WA MSA</td>\n",
       "      <td>50</td>\n",
       "      <td>15360</td>\n",
       "      <td>500</td>\n",
       "      <td>20</td>\n",
       "      <td>10</td>\n",
       "      <td>0.03</td>\n",
       "      <td>0.03</td>\n",
       "    </tr>\n",
       "    <tr>\n",
       "      <th>3</th>\n",
       "      <td>1001</td>\n",
       "      <td>10</td>\n",
       "      <td>374.11</td>\n",
       "      <td>47.0</td>\n",
       "      <td>53.0</td>\n",
       "      <td>22330.49</td>\n",
       "      <td>surf</td>\n",
       "      <td>Seattle-Tacoma-Bellevue, WA MSA</td>\n",
       "      <td>50</td>\n",
       "      <td>15360</td>\n",
       "      <td>500</td>\n",
       "      <td>20</td>\n",
       "      <td>10</td>\n",
       "      <td>0.03</td>\n",
       "      <td>0.03</td>\n",
       "    </tr>\n",
       "    <tr>\n",
       "      <th>4</th>\n",
       "      <td>1001</td>\n",
       "      <td>11</td>\n",
       "      <td>404.59</td>\n",
       "      <td>49.0</td>\n",
       "      <td>36.0</td>\n",
       "      <td>18504.30</td>\n",
       "      <td>surf</td>\n",
       "      <td>Seattle-Tacoma-Bellevue, WA MSA</td>\n",
       "      <td>50</td>\n",
       "      <td>15360</td>\n",
       "      <td>500</td>\n",
       "      <td>20</td>\n",
       "      <td>10</td>\n",
       "      <td>0.03</td>\n",
       "      <td>0.03</td>\n",
       "    </tr>\n",
       "  </tbody>\n",
       "</table>\n",
       "</div>"
      ],
      "text/plain": [
       "   user_id  month  calls_duration  calls_count  sms_count   mb_used      plan  \\\n",
       "0     1000     12          116.83         16.0       11.0   1901.47  ultimate   \n",
       "1     1001      8          171.14         22.0       30.0   6919.15      surf   \n",
       "2     1001      9          297.69         38.0       44.0  13314.82      surf   \n",
       "3     1001     10          374.11         47.0       53.0  22330.49      surf   \n",
       "4     1001     11          404.59         49.0       36.0  18504.30      surf   \n",
       "\n",
       "                                    city  messages_included  \\\n",
       "0  Atlanta-Sandy Springs-Roswell, GA MSA               1000   \n",
       "1        Seattle-Tacoma-Bellevue, WA MSA                 50   \n",
       "2        Seattle-Tacoma-Bellevue, WA MSA                 50   \n",
       "3        Seattle-Tacoma-Bellevue, WA MSA                 50   \n",
       "4        Seattle-Tacoma-Bellevue, WA MSA                 50   \n",
       "\n",
       "   mb_per_month_included  minutes_included  usd_monthly_pay  usd_per_gb  \\\n",
       "0                  30720              3000               70           7   \n",
       "1                  15360               500               20          10   \n",
       "2                  15360               500               20          10   \n",
       "3                  15360               500               20          10   \n",
       "4                  15360               500               20          10   \n",
       "\n",
       "   usd_per_message  usd_per_minute  \n",
       "0             0.01            0.01  \n",
       "1             0.03            0.03  \n",
       "2             0.03            0.03  \n",
       "3             0.03            0.03  \n",
       "4             0.03            0.03  "
      ]
     },
     "execution_count": 2039,
     "metadata": {},
     "output_type": "execute_result"
    }
   ],
   "source": [
    "user_data.head()"
   ]
  },
  {
   "cell_type": "markdown",
   "id": "f8e9fe67",
   "metadata": {},
   "source": [
    "Hacemos la funcion que calcule el valor de llamada , mensage y megas y hacemos el calculo para obtener el beneficio mensual `profit` "
   ]
  },
  {
   "cell_type": "code",
   "execution_count": 2040,
   "id": "0b569b8b",
   "metadata": {},
   "outputs": [],
   "source": [
    "def calculate_monthly_profit(row):\n",
    "    # Ingresos por llamadas\n",
    "    calls_profit = max(0, row['calls_duration'] - row['minutes_included']) * row['usd_per_minute']\n",
    "    \n",
    "    # Ingresos por mensajes\n",
    "    messages_profit = max(0, row['sms_count'] - row['messages_included']) * row['usd_per_message']\n",
    "    \n",
    "    # Ingresos por uso de internet\n",
    "    internet_profit = max(0, (row['mb_used'] - row['mb_per_month_included']) / 1000) * row['usd_per_gb']\n",
    "    \n",
    "    # Total de ingresos\n",
    "    total_profit = calls_profit + messages_profit + internet_profit + row['usd_monthly_pay']\n",
    "    \n",
    "    return total_profit\n",
    "\n",
    "\n",
    "\n"
   ]
  },
  {
   "cell_type": "markdown",
   "id": "8a4ef64f",
   "metadata": {},
   "source": [
    "<div class=\"alert alert-success\">\n",
    "<b>✔️ Comentario del revisor:</b> Funciona correcto!"
   ]
  },
  {
   "cell_type": "markdown",
   "id": "ac845c07",
   "metadata": {},
   "source": [
    "Probamos la funcioncon un registro"
   ]
  },
  {
   "cell_type": "code",
   "execution_count": 2041,
   "id": "13eb56d0",
   "metadata": {},
   "outputs": [
    {
     "name": "stdout",
     "output_type": "stream",
     "text": [
      "Monthly Profit para el registro seleccionado: 70.0\n"
     ]
    }
   ],
   "source": [
    "# Cambia el índice [0] por el número de fila que quieras evaluar , para evaluar cualquier otro registro sustituir el valor[]\n",
    "registro = user_data.iloc[0]  \n",
    "profit_para_registro = calculate_monthly_profit(registro)\n",
    "\n",
    "print(\"Monthly Profit para el registro seleccionado:\", profit_para_registro)"
   ]
  },
  {
   "cell_type": "markdown",
   "id": "784692d7",
   "metadata": {},
   "source": [
    "> Ahora que probamos la funicon le aplicamos en el Dataframe"
   ]
  },
  {
   "cell_type": "code",
   "execution_count": 2042,
   "id": "0a9b599b",
   "metadata": {
    "scrolled": true
   },
   "outputs": [
    {
     "data": {
      "text/html": [
       "<div>\n",
       "<style scoped>\n",
       "    .dataframe tbody tr th:only-of-type {\n",
       "        vertical-align: middle;\n",
       "    }\n",
       "\n",
       "    .dataframe tbody tr th {\n",
       "        vertical-align: top;\n",
       "    }\n",
       "\n",
       "    .dataframe thead th {\n",
       "        text-align: right;\n",
       "    }\n",
       "</style>\n",
       "<table border=\"1\" class=\"dataframe\">\n",
       "  <thead>\n",
       "    <tr style=\"text-align: right;\">\n",
       "      <th></th>\n",
       "      <th>user_id</th>\n",
       "      <th>month</th>\n",
       "      <th>calls_duration</th>\n",
       "      <th>calls_count</th>\n",
       "      <th>sms_count</th>\n",
       "      <th>mb_used</th>\n",
       "      <th>plan</th>\n",
       "      <th>city</th>\n",
       "      <th>messages_included</th>\n",
       "      <th>mb_per_month_included</th>\n",
       "      <th>minutes_included</th>\n",
       "      <th>usd_monthly_pay</th>\n",
       "      <th>usd_per_gb</th>\n",
       "      <th>usd_per_message</th>\n",
       "      <th>usd_per_minute</th>\n",
       "      <th>monthly_profit</th>\n",
       "    </tr>\n",
       "  </thead>\n",
       "  <tbody>\n",
       "    <tr>\n",
       "      <th>0</th>\n",
       "      <td>1000</td>\n",
       "      <td>12</td>\n",
       "      <td>116.83</td>\n",
       "      <td>16.0</td>\n",
       "      <td>11.0</td>\n",
       "      <td>1901.47</td>\n",
       "      <td>ultimate</td>\n",
       "      <td>Atlanta-Sandy Springs-Roswell, GA MSA</td>\n",
       "      <td>1000</td>\n",
       "      <td>30720</td>\n",
       "      <td>3000</td>\n",
       "      <td>70</td>\n",
       "      <td>7</td>\n",
       "      <td>0.01</td>\n",
       "      <td>0.01</td>\n",
       "      <td>70.0000</td>\n",
       "    </tr>\n",
       "    <tr>\n",
       "      <th>1</th>\n",
       "      <td>1001</td>\n",
       "      <td>8</td>\n",
       "      <td>171.14</td>\n",
       "      <td>22.0</td>\n",
       "      <td>30.0</td>\n",
       "      <td>6919.15</td>\n",
       "      <td>surf</td>\n",
       "      <td>Seattle-Tacoma-Bellevue, WA MSA</td>\n",
       "      <td>50</td>\n",
       "      <td>15360</td>\n",
       "      <td>500</td>\n",
       "      <td>20</td>\n",
       "      <td>10</td>\n",
       "      <td>0.03</td>\n",
       "      <td>0.03</td>\n",
       "      <td>20.0000</td>\n",
       "    </tr>\n",
       "    <tr>\n",
       "      <th>2</th>\n",
       "      <td>1001</td>\n",
       "      <td>9</td>\n",
       "      <td>297.69</td>\n",
       "      <td>38.0</td>\n",
       "      <td>44.0</td>\n",
       "      <td>13314.82</td>\n",
       "      <td>surf</td>\n",
       "      <td>Seattle-Tacoma-Bellevue, WA MSA</td>\n",
       "      <td>50</td>\n",
       "      <td>15360</td>\n",
       "      <td>500</td>\n",
       "      <td>20</td>\n",
       "      <td>10</td>\n",
       "      <td>0.03</td>\n",
       "      <td>0.03</td>\n",
       "      <td>20.0000</td>\n",
       "    </tr>\n",
       "    <tr>\n",
       "      <th>3</th>\n",
       "      <td>1001</td>\n",
       "      <td>10</td>\n",
       "      <td>374.11</td>\n",
       "      <td>47.0</td>\n",
       "      <td>53.0</td>\n",
       "      <td>22330.49</td>\n",
       "      <td>surf</td>\n",
       "      <td>Seattle-Tacoma-Bellevue, WA MSA</td>\n",
       "      <td>50</td>\n",
       "      <td>15360</td>\n",
       "      <td>500</td>\n",
       "      <td>20</td>\n",
       "      <td>10</td>\n",
       "      <td>0.03</td>\n",
       "      <td>0.03</td>\n",
       "      <td>89.7949</td>\n",
       "    </tr>\n",
       "    <tr>\n",
       "      <th>4</th>\n",
       "      <td>1001</td>\n",
       "      <td>11</td>\n",
       "      <td>404.59</td>\n",
       "      <td>49.0</td>\n",
       "      <td>36.0</td>\n",
       "      <td>18504.30</td>\n",
       "      <td>surf</td>\n",
       "      <td>Seattle-Tacoma-Bellevue, WA MSA</td>\n",
       "      <td>50</td>\n",
       "      <td>15360</td>\n",
       "      <td>500</td>\n",
       "      <td>20</td>\n",
       "      <td>10</td>\n",
       "      <td>0.03</td>\n",
       "      <td>0.03</td>\n",
       "      <td>51.4430</td>\n",
       "    </tr>\n",
       "  </tbody>\n",
       "</table>\n",
       "</div>"
      ],
      "text/plain": [
       "   user_id  month  calls_duration  calls_count  sms_count   mb_used      plan  \\\n",
       "0     1000     12          116.83         16.0       11.0   1901.47  ultimate   \n",
       "1     1001      8          171.14         22.0       30.0   6919.15      surf   \n",
       "2     1001      9          297.69         38.0       44.0  13314.82      surf   \n",
       "3     1001     10          374.11         47.0       53.0  22330.49      surf   \n",
       "4     1001     11          404.59         49.0       36.0  18504.30      surf   \n",
       "\n",
       "                                    city  messages_included  \\\n",
       "0  Atlanta-Sandy Springs-Roswell, GA MSA               1000   \n",
       "1        Seattle-Tacoma-Bellevue, WA MSA                 50   \n",
       "2        Seattle-Tacoma-Bellevue, WA MSA                 50   \n",
       "3        Seattle-Tacoma-Bellevue, WA MSA                 50   \n",
       "4        Seattle-Tacoma-Bellevue, WA MSA                 50   \n",
       "\n",
       "   mb_per_month_included  minutes_included  usd_monthly_pay  usd_per_gb  \\\n",
       "0                  30720              3000               70           7   \n",
       "1                  15360               500               20          10   \n",
       "2                  15360               500               20          10   \n",
       "3                  15360               500               20          10   \n",
       "4                  15360               500               20          10   \n",
       "\n",
       "   usd_per_message  usd_per_minute  monthly_profit  \n",
       "0             0.01            0.01         70.0000  \n",
       "1             0.03            0.03         20.0000  \n",
       "2             0.03            0.03         20.0000  \n",
       "3             0.03            0.03         89.7949  \n",
       "4             0.03            0.03         51.4430  "
      ]
     },
     "execution_count": 2042,
     "metadata": {},
     "output_type": "execute_result"
    }
   ],
   "source": [
    "user_data['monthly_profit'] = user_data.apply(calculate_monthly_profit, axis=1)\n",
    "user_data.head()"
   ]
  },
  {
   "cell_type": "markdown",
   "id": "8f7957cc",
   "metadata": {},
   "source": [
    "> Podemos apreciar que se creo la columna `monthly profit` por lo cual ya se puede hacer la base para el analisis que pide el enunciado"
   ]
  },
  {
   "cell_type": "markdown",
   "id": "19a1b659",
   "metadata": {},
   "source": [
    "<div class=\"alert alert-success\">\n",
    "<b>✔️ Comentario del revisor:</b> Aqui bien!"
   ]
  },
  {
   "cell_type": "markdown",
   "id": "b1bf64a8",
   "metadata": {},
   "source": [
    "### Análisis exploratorio de datos EDA <a class=\"anchor\" id=\"eda\"></a> \n",
    "\n",
    "En esta seccion vamos a analizar los datos que trabajaremos , graficaremos  y buscaremos descartar valores atípicos que puedan existir. \n",
    "\n",
    "Vamos a ver cual de los 2 planes genera más ingesos. Por lo que separaremos los dataframes en los que tienen plan de surf y plan ultimate. "
   ]
  },
  {
   "cell_type": "code",
   "execution_count": 2043,
   "id": "2008d28b",
   "metadata": {},
   "outputs": [
    {
     "name": "stdout",
     "output_type": "stream",
     "text": [
      "Tamaño de df_surf:\n",
      "(1573, 16)\n",
      "Tamaño de df_ultimate:\n",
      "(720, 16)\n"
     ]
    }
   ],
   "source": [
    "df_surf = user_data[user_data['plan'] == 'surf']\n",
    "df_ultimate = user_data[user_data['plan'] == 'ultimate']\n",
    "\n",
    "tamanio_surf = df_surf.shape\n",
    "tamanio_ultimate = df_ultimate.shape\n",
    "\n",
    "print(f\"Tamaño de df_surf:\\n{tamanio_surf}\")\n",
    "print(f\"Tamaño de df_ultimate:\\n{tamanio_ultimate}\")\n"
   ]
  },
  {
   "cell_type": "code",
   "execution_count": 2044,
   "id": "6f119b21",
   "metadata": {},
   "outputs": [
    {
     "name": "stdout",
     "output_type": "stream",
     "text": [
      "Total de profit en df_surf: 91467.80\n",
      "Total de profit en df_ultimate: 51960.14\n"
     ]
    }
   ],
   "source": [
    "total_profit_surf = df_surf['monthly_profit'].sum()\n",
    "total_profit_ultimate = df_ultimate['monthly_profit'].sum()\n",
    "\n",
    "print(f\"Total de profit en df_surf: {total_profit_surf:.2f}\")\n",
    "print(f\"Total de profit en df_ultimate: {total_profit_ultimate:.2f}\")\n"
   ]
  },
  {
   "cell_type": "markdown",
   "id": "8920d967",
   "metadata": {},
   "source": [
    ">Observamos que el que que genera en total mas ingresos es el plan surf porque tiene mas ususarios.\n",
    "\n",
    "### Representación visual de ingresos mensuales\n",
    "\n",
    "#### Ingresos del plan surf mensual\n"
   ]
  },
  {
   "cell_type": "code",
   "execution_count": 2045,
   "id": "24906750",
   "metadata": {},
   "outputs": [],
   "source": [
    "df_surf_profit = df_surf.groupby(['plan','month'])['monthly_profit'].sum().reset_index()\n"
   ]
  },
  {
   "cell_type": "markdown",
   "id": "124bb36e",
   "metadata": {},
   "source": [
    "#### Ingresos del plan ultimate mensual"
   ]
  },
  {
   "cell_type": "code",
   "execution_count": 2046,
   "id": "ff3e7456",
   "metadata": {},
   "outputs": [],
   "source": [
    "df_ultimate_profit = df_ultimate.groupby(['plan','month'])['monthly_profit'].sum().reset_index()"
   ]
  },
  {
   "cell_type": "markdown",
   "id": "068c3d2b",
   "metadata": {},
   "source": [
    "#### Comparando ambos planes de ingresos\n"
   ]
  },
  {
   "cell_type": "code",
   "execution_count": 2047,
   "id": "ceb7360c",
   "metadata": {},
   "outputs": [
    {
     "data": {
      "image/png": "[encoded data removed]",
      "text/plain": [
       "<Figure size 1000x600 with 1 Axes>"
      ]
     },
     "metadata": {},
     "output_type": "display_data"
    }
   ],
   "source": [
    "\n",
    "\n",
    "# Crea un gráfico de barras para el plan \"Surf\" (en azul) y el plan \"Ultimate\" (en rojo) en el mismo gráfico\n",
    "plt.figure(figsize=(10, 6))\n",
    "plt.bar(df_surf_profit['month'], df_surf_profit['monthly_profit'], color='blue', label='Surf',alpha=0.7)\n",
    "plt.bar(df_ultimate_profit['month'], df_ultimate_profit['monthly_profit'], color='red', label='Ultimate', alpha=0.7)  # Utiliza alpha para hacer las barras transparentes\n",
    "\n",
    "plt.title('Comparación Surf y Ultimate planes')\n",
    "plt.xlabel('Month')\n",
    "plt.ylabel('Monthly Profit')\n",
    "plt.legend()\n",
    "plt.show()\n"
   ]
  },
  {
   "cell_type": "markdown",
   "id": "7eefc745",
   "metadata": {},
   "source": [
    "> Observamos en el histograma la comparación y podemos ver que se tiene mas ingresos por el plan Surf."
   ]
  },
  {
   "cell_type": "markdown",
   "id": "dcab455a",
   "metadata": {},
   "source": [
    "<div class=\"alert alert-success\">\n",
    "<b>✔️ Comentario del revisor:</b> Me gusta mucho el grafico! Muy bien que anadiste el titulo aqui!"
   ]
  },
  {
   "cell_type": "markdown",
   "id": "f24c8695",
   "metadata": {},
   "source": [
    "#### Función para graficar \n",
    "\n",
    "En esta funcion vamos a graficar histogramas de los dataframes y una columna especifica. También va a calcular la media , mediana y std , esos valores representativos se mostrarán en el gráfico."
   ]
  },
  {
   "cell_type": "code",
   "execution_count": 2048,
   "id": "a13efe50",
   "metadata": {},
   "outputs": [],
   "source": [
    "def plot_histogram_and_stats(df, column_name):\n",
    "    # Obtener el nombre del plan desde el DataFrame\n",
    "    plan_name = df['plan'].iloc[0]\n",
    "\n",
    "    # Crear el histograma\n",
    "    df.hist(column_name)\n",
    "    plt.title(f'Histograma de {column_name} (Plan \"{plan_name}\")')\n",
    "    plt.xlabel(column_name)\n",
    "    plt.ylabel('Frecuencia')\n",
    "\n",
    "    # Calcular y mostrar la media, mediana y desviación estándar\n",
    "    mean_value = df[column_name].mean()\n",
    "    median_value = df[column_name].median()\n",
    "    std_value = df[column_name].std()\n",
    "\n",
    "    # Agregar líneas verticales para representar la media, mediana y desviación estándar\n",
    "    plt.axvline(mean_value, color='red', linestyle='-', label=f'Mean: {mean_value:.0f}')\n",
    "    plt.axvline(median_value, color='blue', linestyle='--', label=f'Median: {median_value:.0f}')\n",
    "    plt.axvline(median_value - std_value, color='green', linestyle='-', label=f'Standard Deviation -: {std_value:.0f}')\n",
    "    plt.axvline(median_value + std_value, color='green', linestyle='-', label=f'Standard Deviation +: {std_value:.0f}')\n",
    "\n",
    "    # Mostrar el gráfico con leyenda\n",
    "    plt.legend()\n",
    "\n",
    "    # Mostrar el gráfico\n",
    "    plt.show()\n",
    "\n"
   ]
  },
  {
   "cell_type": "markdown",
   "id": "bb4993e5",
   "metadata": {},
   "source": [
    "\n",
    "#### Histograma llamadas  <a class=\"anchor\" id=\"llamadas\"></a> "
   ]
  },
  {
   "cell_type": "code",
   "execution_count": 2049,
   "id": "dc5df967",
   "metadata": {},
   "outputs": [
    {
     "data": {
      "image/png": "[encoded data removed]",
      "text/plain": [
       "<Figure size 640x480 with 1 Axes>"
      ]
     },
     "metadata": {},
     "output_type": "display_data"
    }
   ],
   "source": [
    "plot_histogram_and_stats(df_surf, 'calls_duration')"
   ]
  },
  {
   "cell_type": "markdown",
   "id": "d1d09046",
   "metadata": {},
   "source": [
    "> Apreciamos que en la duración de llamadas en minutos del plan Surf tiene como media `405` ,mediana `402` y std `222`."
   ]
  },
  {
   "cell_type": "markdown",
   "id": "4e7cc59c",
   "metadata": {},
   "source": [
    "<div class=\"alert alert-success\">\n",
    "<b>✔️ Comentario del revisor:</b> Genial!"
   ]
  },
  {
   "cell_type": "code",
   "execution_count": 2050,
   "id": "31d41313",
   "metadata": {},
   "outputs": [
    {
     "data": {
      "image/png": "[encoded data removed]",
      "text/plain": [
       "<Figure size 640x480 with 1 Axes>"
      ]
     },
     "metadata": {},
     "output_type": "display_data"
    }
   ],
   "source": [
    "plot_histogram_and_stats(df_ultimate, 'calls_duration')"
   ]
  },
  {
   "cell_type": "markdown",
   "id": "ff8f41a7",
   "metadata": {},
   "source": [
    "> Apreciamos que en la duración de llamadas en minutos del plan Ultimate tiene como media `406` ,mediana `399` y std `277`."
   ]
  },
  {
   "cell_type": "markdown",
   "id": "2f9e85d1",
   "metadata": {},
   "source": [
    "#### Histograma mensajes <a class=\"anchor\" id=\"mensajes\"></a> "
   ]
  },
  {
   "cell_type": "code",
   "execution_count": 2051,
   "id": "7e49e8fb",
   "metadata": {},
   "outputs": [
    {
     "data": {
      "image/png": "[encoded data removed]",
      "text/plain": [
       "<Figure size 640x480 with 1 Axes>"
      ]
     },
     "metadata": {},
     "output_type": "display_data"
    }
   ],
   "source": [
    "plot_histogram_and_stats(df_surf, 'sms_count')"
   ]
  },
  {
   "cell_type": "markdown",
   "id": "44c78e86",
   "metadata": {},
   "source": [
    "> Apreciamos que en el número de mensajes en el plan Surf tiene como media `31` ,mediana `24` y std `34`."
   ]
  },
  {
   "cell_type": "code",
   "execution_count": 2052,
   "id": "69cf56a7",
   "metadata": {},
   "outputs": [
    {
     "data": {
      "image/png": "[encoded data removed]",
      "text/plain": [
       "<Figure size 640x480 with 1 Axes>"
      ]
     },
     "metadata": {},
     "output_type": "display_data"
    }
   ],
   "source": [
    "plot_histogram_and_stats(df_ultimate, 'sms_count')"
   ]
  },
  {
   "cell_type": "markdown",
   "id": "9e1913a4",
   "metadata": {},
   "source": [
    "> Apreciamos que en el número de mensajes en el plan Ultimate tiene como media `38` ,mediana `30` y std `35`."
   ]
  },
  {
   "cell_type": "markdown",
   "id": "42152a43",
   "metadata": {},
   "source": [
    "#### Histograma de volumen de datos (internet) <a class=\"anchor\" id=\"internet\"></a> "
   ]
  },
  {
   "cell_type": "code",
   "execution_count": 2053,
   "id": "b129af1b",
   "metadata": {},
   "outputs": [
    {
     "data": {
      "image/png": "[encoded data removed]",
      "text/plain": [
       "<Figure size 640x480 with 1 Axes>"
      ]
     },
     "metadata": {},
     "output_type": "display_data"
    }
   ],
   "source": [
    "plot_histogram_and_stats(df_surf, 'mb_used')"
   ]
  },
  {
   "cell_type": "markdown",
   "id": "65bd3d2d",
   "metadata": {},
   "source": [
    "> Apreciamos que en volumen de datos utilizados en el plan Surf tiene como media `16558` ,mediana `16829` y std `8014`."
   ]
  },
  {
   "cell_type": "code",
   "execution_count": 2054,
   "id": "5ca15ec3",
   "metadata": {},
   "outputs": [
    {
     "data": {
      "image/png": "[encoded data removed]",
      "text/plain": [
       "<Figure size 640x480 with 1 Axes>"
      ]
     },
     "metadata": {},
     "output_type": "display_data"
    }
   ],
   "source": [
    "plot_histogram_and_stats(df_ultimate, 'mb_used')"
   ]
  },
  {
   "cell_type": "markdown",
   "id": "ead3f812",
   "metadata": {},
   "source": [
    "> Apreciamos que en volumen de datos utilizados en el plan Ultimate tiene como media `17215` ,mediana `116858` y std `7852`."
   ]
  },
  {
   "cell_type": "markdown",
   "id": "05147291",
   "metadata": {},
   "source": [
    "<div class=\"alert alert-danger\">\n",
    "<b>❌ Comentario del revisor:</b> Te pido anadir aqui los conclusiones despues de los graficos!"
   ]
  },
  {
   "cell_type": "markdown",
   "id": "b3ea861e",
   "metadata": {},
   "source": [
    "<div class=\"alert alert-info\"> <b>Comentario del estudiante:</b> Listo. Se agredo una pequeña descripción de cada grafico por debajo</div>"
   ]
  },
  {
   "cell_type": "markdown",
   "id": "6f1f8f03",
   "metadata": {},
   "source": [
    "### Valores Atípicos <a class=\"anchor\" id=\"atipicos\"></a> \n",
    "\n",
    "#### Diagrama de caja llamadas\n",
    "Con esto vamos a ver si existen valores atipicos para extraer.\n",
    "En este caso solo existe valores atipicos de la parte superior.\n",
    "\n",
    "Realizamos una funcion que haga el diagrama de cajas y calcule el limite superior que despues vamos a guardar."
   ]
  },
  {
   "cell_type": "code",
   "execution_count": 2055,
   "id": "d76a6c15",
   "metadata": {},
   "outputs": [],
   "source": [
    "def plot_boxplot_and_upper_limit(df, column_name):\n",
    "    # Obtener el nombre del plan desde el DataFrame\n",
    "    plan_name = df['plan'].iloc[0]\n",
    "\n",
    "    # Crear el diagrama de cajas\n",
    "    df.boxplot(column=column_name)\n",
    "    plt.title(f'Diagrama de Cajas de {column_name} (Plan \"{plan_name}\")')\n",
    "    plt.ylabel(column_name)\n",
    "\n",
    "    # Calcular el límite superior\n",
    "    q25 = df[column_name].quantile(0.25)\n",
    "    q75 = df[column_name].quantile(0.75)\n",
    "    iqr = q75 - q25\n",
    "    # Calcular el valor de corte para los valores atípicos y el límite superior\n",
    "    cut_off = iqr * 1.5\n",
    "    upper_limit = q75 + cut_off\n",
    "    # Mostrar el gráfico\n",
    "    plt.show()\n",
    "    retorno=(f\"{column_name} upper limit {plan_name}: \",upper_limit)\n",
    "    print(retorno)\n",
    "\n",
    "    # Devolver el límite superior en un diccionario con el nombre de la columna\n",
    "    return retorno\n",
    "\n",
    "\n",
    "\n",
    " \n"
   ]
  },
  {
   "cell_type": "code",
   "execution_count": 2056,
   "id": "40b6f353",
   "metadata": {},
   "outputs": [
    {
     "data": {
      "image/png": "[encoded data removed]",
      "text/plain": [
       "<Figure size 640x480 with 1 Axes>"
      ]
     },
     "metadata": {},
     "output_type": "display_data"
    },
    {
     "name": "stdout",
     "output_type": "stream",
     "text": [
      "('calls_duration upper limit surf: ', 975.9950000000001)\n"
     ]
    }
   ],
   "source": [
    "\n",
    "lim_sup_calls_surf=plot_boxplot_and_upper_limit(df_surf, 'calls_duration')[1]\n"
   ]
  },
  {
   "cell_type": "markdown",
   "id": "27ad1678",
   "metadata": {},
   "source": [
    "> Apreciamos que existe valores atípicos dentro de la duración de las llamadas como 1400 minutos , que da convertido a horas da aproximadamente 23 horas , en este caso se descartara cualquier valor que sea mayor de `975.99 minutos` en el plan Surf. "
   ]
  },
  {
   "cell_type": "code",
   "execution_count": 2057,
   "id": "a6c9976e",
   "metadata": {},
   "outputs": [
    {
     "data": {
      "image/png": "[encoded data removed]",
      "text/plain": [
       "<Figure size 640x480 with 1 Axes>"
      ]
     },
     "metadata": {},
     "output_type": "display_data"
    },
    {
     "name": "stdout",
     "output_type": "stream",
     "text": [
      "('calls_duration upper limit ultimate: ', 961.1337499999998)\n"
     ]
    }
   ],
   "source": [
    "\n",
    "lim_sup_calls_ultimate=plot_boxplot_and_upper_limit(df_ultimate, 'calls_duration')[1]\n"
   ]
  },
  {
   "cell_type": "markdown",
   "id": "485838c1",
   "metadata": {},
   "source": [
    "> Apreciamos que existe valores atípicos dentro de la duración de las llamadas como 1200 minutos , que da convertido a horas da aproximadamente 20 horas , en este caso se descartara cualquier valor que sea mayor de `961.13 minutos` en el plan Ultimate. "
   ]
  },
  {
   "cell_type": "code",
   "execution_count": 2058,
   "id": "89acd53a",
   "metadata": {},
   "outputs": [
    {
     "data": {
      "image/png": "[encoded data removed]",
      "text/plain": [
       "<Figure size 640x480 with 1 Axes>"
      ]
     },
     "metadata": {},
     "output_type": "display_data"
    },
    {
     "name": "stdout",
     "output_type": "stream",
     "text": [
      "('sms_count upper limit surf: ', 113.0)\n"
     ]
    }
   ],
   "source": [
    "\n",
    "lim_sup_sms_surf=plot_boxplot_and_upper_limit(df_surf, 'sms_count')[1]\n"
   ]
  },
  {
   "cell_type": "markdown",
   "id": "ce1b2ae6",
   "metadata": {},
   "source": [
    "> Apreciamos que existe valores atipicos dentro de la del número de mensajes enviados`sms_count` , en este caso se descartara cualquier valor que sea mayor de `113 mensajes` en el plan Surf. "
   ]
  },
  {
   "cell_type": "code",
   "execution_count": 2059,
   "id": "fb68d6e4",
   "metadata": {},
   "outputs": [
    {
     "data": {
      "image/png": "[encoded data removed]",
      "text/plain": [
       "<Figure size 640x480 with 1 Axes>"
      ]
     },
     "metadata": {},
     "output_type": "display_data"
    },
    {
     "name": "stdout",
     "output_type": "stream",
     "text": [
      "('sms_count upper limit ultimate: ', 142.0)\n"
     ]
    }
   ],
   "source": [
    "\n",
    "lim_sup_sms_ultimate=plot_boxplot_and_upper_limit(df_ultimate, 'sms_count')[1]\n"
   ]
  },
  {
   "cell_type": "markdown",
   "id": "ea1a232f",
   "metadata": {},
   "source": [
    "> Apreciamos que existe valores atipicos dentro de la del número de mensajes enviados`sms_count` , en este caso se descartara cualquier valor que sea mayor de `142 mensajes` en el plan Ultimate. "
   ]
  },
  {
   "cell_type": "code",
   "execution_count": 2060,
   "id": "f8f2e31d",
   "metadata": {},
   "outputs": [
    {
     "data": {
      "image/png": "[encoded data removed]",
      "text/plain": [
       "<Figure size 640x480 with 1 Axes>"
      ]
     },
     "metadata": {},
     "output_type": "display_data"
    },
    {
     "name": "stdout",
     "output_type": "stream",
     "text": [
      "('mb_used upper limit surf: ', 34519.245)\n"
     ]
    }
   ],
   "source": [
    "lim_sup_mb_used_surf=plot_boxplot_and_upper_limit(df_surf, 'mb_used')[1]\n"
   ]
  },
  {
   "cell_type": "markdown",
   "id": "333c070a",
   "metadata": {},
   "source": [
    "> Apreciamos que existe valores atípicos dentro del volumen de datos utilizados `mb_used` , en este caso se descartara cualquier valor que sea mayor de `34519.245 MB` en el plan Surf. "
   ]
  },
  {
   "cell_type": "code",
   "execution_count": 2061,
   "id": "48225194",
   "metadata": {},
   "outputs": [
    {
     "data": {
      "image/png": "[encoded data removed]",
      "text/plain": [
       "<Figure size 640x480 with 1 Axes>"
      ]
     },
     "metadata": {},
     "output_type": "display_data"
    },
    {
     "name": "stdout",
     "output_type": "stream",
     "text": [
      "('mb_used upper limit ultimate: ', 33535.886249999996)\n"
     ]
    }
   ],
   "source": [
    "lim_sup_mb_used_ultimate=plot_boxplot_and_upper_limit(df_ultimate, 'mb_used')[1]"
   ]
  },
  {
   "cell_type": "markdown",
   "id": "76772068",
   "metadata": {},
   "source": [
    "> Apreciamos que existe valores atípicos dentro del volumen de datos utilizados `mb_used` , en este caso se descartara cualquier valor que sea mayor de `33535.886 MB` en el plan Surf. "
   ]
  },
  {
   "cell_type": "code",
   "execution_count": 2062,
   "id": "b9e30cc2",
   "metadata": {},
   "outputs": [
    {
     "name": "stdout",
     "output_type": "stream",
     "text": [
      "\n",
      " Cambio en volumen de datos si aplicando limite superior en Data frame de Surf\n",
      "(1573, 16)\n",
      "(1475, 16)\n"
     ]
    }
   ],
   "source": [
    "print(\"\\n Cambio en volumen de datos si aplicando limite superior en Data frame de Surf\")\n",
    "print(df_surf.shape)\n",
    "df_surf = df_surf.query('calls_duration < @lim_sup_calls_surf and sms_count < @lim_sup_sms_surf and mb_used < @lim_sup_mb_used_surf')\n",
    "print(df_surf.shape)"
   ]
  },
  {
   "cell_type": "code",
   "execution_count": 2063,
   "id": "1b1e8aaa",
   "metadata": {},
   "outputs": [
    {
     "name": "stdout",
     "output_type": "stream",
     "text": [
      "\n",
      "Cambio en volumen de datos si aplicando límite superior en DataFrame de Ultimate\n",
      "(720, 16)\n",
      "(665, 16)\n"
     ]
    }
   ],
   "source": [
    "# Filtrado en df_ultimate\n",
    "print(\"\\nCambio en volumen de datos si aplicando límite superior en DataFrame de Ultimate\")\n",
    "print(df_ultimate.shape)\n",
    "df_ultimate = df_ultimate.query('calls_duration < @lim_sup_calls_ultimate and sms_count < @lim_sup_sms_ultimate and mb_used < @lim_sup_mb_used_ultimate')\n",
    "print(df_ultimate.shape)"
   ]
  },
  {
   "cell_type": "markdown",
   "id": "28b603ae",
   "metadata": {},
   "source": [
    "<div class=\"alert alert-danger\">\n",
    "<b>❌ Comentario del revisor:</b> Te pido anadir aqui los conclusiones despues de los graficos!"
   ]
  },
  {
   "cell_type": "markdown",
   "id": "e33ebe66",
   "metadata": {},
   "source": [
    "<div class=\"alert alert-info\"> <b>Comentario del estudiante:</b> Listo. igual que en los histogramas , se agrego un comentario en cada diagrama de cajas explicando el limite que se usara como filtro adelante</div>"
   ]
  },
  {
   "cell_type": "markdown",
   "id": "a1a1843d",
   "metadata": {},
   "source": [
    "> Podemos concluir que los datos estan limpios de valores atípicos."
   ]
  },
  {
   "cell_type": "markdown",
   "id": "d51ef3be",
   "metadata": {},
   "source": [
    "## Prueba de Hipótesis <a class=\"anchor\" id=\"hipotesis\"></a>\n",
    "\n",
    "Dentro de nuestro proyecto debemos probar 2 hipótesis\n",
    "* Caso 1: El ingreso promedio de los usuarios de las tarifas Ultimate y Surf difiere.\n",
    "* caso2 : El ingreso promedio de los usuarios en el área de estados Nueva York-Nueva Jersey es diferente al de los usuarios de otras regiones.\n",
    "\n",
    "En cada caso vamos a escoger el grado de significancia del 5%."
   ]
  },
  {
   "cell_type": "markdown",
   "id": "4f54faff",
   "metadata": {},
   "source": [
    "### Caso 1: El ingreso promedio de los usuarios de las tarifas Ultimate y Surf difiere.\n",
    "\n",
    "\n"
   ]
  },
  {
   "cell_type": "markdown",
   "id": "41db416f",
   "metadata": {},
   "source": [
    "+ ### Planteamiento 1 (Bilateral)\n",
    " \n",
    "__Hipótesis Nula (H0):__ \n",
    "El ingreso promedio de los usuarios de las tarifas Ultimate es igual al ingreso promedio de los usuarios de las tarifas Surf. Matemáticamente, esto se expresaría como:\n",
    "\n",
    "\n",
    "$H_0: \\mu_{\\text{Ultimate}} = \\mu_{\\text{Surf}}$\n",
    "\n",
    "\n",
    "Donde μ_Ultimate representa el ingreso promedio de los usuarios de Ultimate y μ_Surf representa el ingreso promedio de los usuarios de Surf.\n",
    "\n",
    "__Hipótesis Alternativa (H1):__\n",
    "\n",
    "El ingreso promedio de los usuarios de las tarifas Ultimate es diferente al ingreso promedio de los usuarios de las tarifas Surf. Matemáticamente, esto se expresaría como:\n",
    "\n",
    "$H_1: \\mu_{\\text{Ultimate}} \\neq \\mu_{\\text{Surf}}$"
   ]
  },
  {
   "cell_type": "code",
   "execution_count": 2064,
   "id": "9d8b6eff",
   "metadata": {},
   "outputs": [],
   "source": [
    "sample_1 = df_surf['monthly_profit']\n",
    "sample_2 = df_ultimate['monthly_profit']"
   ]
  },
  {
   "cell_type": "code",
   "execution_count": 2065,
   "id": "ad6fcd14",
   "metadata": {},
   "outputs": [
    {
     "data": {
      "text/plain": [
       "LeveneResult(statistic=551.36695623861, pvalue=1.154835161358275e-108)"
      ]
     },
     "execution_count": 2065,
     "metadata": {},
     "output_type": "execute_result"
    }
   ],
   "source": [
    "st.levene(sample_1, sample_2)"
   ]
  },
  {
   "cell_type": "markdown",
   "id": "36c83982",
   "metadata": {},
   "source": [
    "> en este caso como los planes son de diferentes valores vamos a dar el valor `False` en la Variable `equal_var`."
   ]
  },
  {
   "cell_type": "code",
   "execution_count": 2066,
   "id": "058963fe",
   "metadata": {},
   "outputs": [
    {
     "name": "stdout",
     "output_type": "stream",
     "text": [
      "p-value:  6.601543083989414e-58\n",
      "We reject the null hypothesis\n"
     ]
    }
   ],
   "source": [
    "alpha = 0.05 # critical statistical significance level\n",
    "                        \n",
    "\n",
    "results = st.ttest_ind(sample_1,sample_2, equal_var=False)\n",
    "\n",
    "print('p-value: ', results.pvalue)\n",
    "\n",
    "# if the p-value is less than alpha, we reject the hypothesis\n",
    "alpha_by2=alpha/2\n",
    "if (results.pvalue < alpha_by2):\n",
    "        print(\"We reject the null hypothesis\")\n",
    "else:\n",
    "        print(\"We retain the null hypothesis\")"
   ]
  },
  {
   "cell_type": "markdown",
   "id": "f222a0d0",
   "metadata": {},
   "source": [
    "Por lo tanto concluimos con un margen de error del 5% de que el promedio de ingresos de los usuarios del Plan surf puede ser diferente que los usuarios que contrataron el plan `ultimate`."
   ]
  },
  {
   "cell_type": "markdown",
   "id": "c67151bd",
   "metadata": {},
   "source": [
    "<div class=\"alert alert-success\">\n",
    "<b>✔️ Comentario del revisor:</b> Genial! Si, aqui correcto! Tambien te pido escribir en espanol :)"
   ]
  },
  {
   "cell_type": "markdown",
   "id": "b6d7fd41",
   "metadata": {},
   "source": [
    "\n",
    "+ ### Planteamiento 2 (Unilateral)\n",
    "\n",
    "__Hipótesis Nula (H0):__ \n",
    "\n",
    "El ingreso promedio de los usuarios de las tarifas Ultimate es igual al ingreso promedio de los usuarios de las tarifas Surf. Matemáticamente, esto se expresaría como:\n",
    "\n",
    "\n",
    "$H_0: \\mu_{\\text{Ultimate}} = \\mu_{\\text{Surf}}$\n",
    "\n",
    "\n",
    "Donde μ_Ultimate representa el ingreso promedio de los usuarios de Ultimate y μ_Surf representa el ingreso promedio de los usuarios de Surf.\n",
    "\n",
    "\n",
    "__Hipótesis Alternativa (H1)__:\n",
    "\n",
    "El ingreso promedio de los usuarios de las tarifas Surf es menor que el ingreso promedio de los usuarios de las tarifas Ultimate. Matemáticamente, esto se expresaría como:\n",
    "\n",
    "$H_1: \\mu_{\\text{Surf}} < \\mu_{\\text{Ultimate}}$\n",
    " \n",
    "\n",
    "Esta hipótesis alternativa sugiere que estás interesado en determinar si el ingreso promedio de los usuarios de Surf es significativamente menor que el ingreso promedio de los usuarios de Ultimate."
   ]
  },
  {
   "cell_type": "code",
   "execution_count": 2067,
   "id": "adf2846d",
   "metadata": {},
   "outputs": [
    {
     "name": "stdout",
     "output_type": "stream",
     "text": [
      "p-value:  3.300771541994707e-58\n",
      "We reject the null hypothesis\n"
     ]
    }
   ],
   "source": [
    "alpha = 0.05 # critical statistical significance level\n",
    "                        \n",
    "\n",
    "results = st.ttest_ind(sample_1,sample_2, equal_var=False ,alternative='less')\n",
    "\n",
    "print('p-value: ', results.pvalue)\n",
    "\n",
    "# if the p-value is less than alpha, we reject the hypothesis\n",
    "\n",
    "if (results.pvalue < alpha):\n",
    "        print(\"We reject the null hypothesis\")\n",
    "else:\n",
    "        print(\"We retain the null hypothesis\")"
   ]
  },
  {
   "cell_type": "markdown",
   "id": "ba7b758b",
   "metadata": {},
   "source": [
    "<div class=\"alert alert-success\">\n",
    "<b>✔️ Comentario del revisor:</b> Trabajas con p-value correcto!"
   ]
  },
  {
   "cell_type": "markdown",
   "id": "68c43053",
   "metadata": {},
   "source": [
    "+ ### Planteamiento 3 (Unilateral)\n",
    "\n",
    "__Hipótesis Nula (H0):__ \n",
    "\n",
    "El ingreso promedio de los usuarios de las tarifas Ultimate es igual al ingreso promedio de los usuarios de las tarifas Surf. Matemáticamente, esto se expresaría como:\n",
    "\n",
    "\n",
    "$H_0: \\mu_{\\text{Ultimate}} = \\mu_{\\text{Surf}}$\n",
    "\n",
    "\n",
    "Donde μ_Ultimate representa el ingreso promedio de los usuarios de Ultimate y μ_Surf representa el ingreso promedio de los usuarios de Surf.\n",
    "\n",
    "\n",
    "__Hipótesis Alternativa (H1)__:\n",
    "\n",
    "El ingreso promedio de los usuarios de las tarifas Ultimate es menor que el ingreso promedio de los usuarios de las tarifas Surf. Matemáticamente, esto se expresaría como:\n",
    "\n",
    "$H_1: \\mu_{\\text{Ultimate}} < \\mu_{\\text{Surf}}$\n",
    "\n",
    "\n",
    "Esta hipótesis alternativa sugiere que estás interesado en determinar si el ingreso promedio de los usuarios de Ultimate es significativamente menor que el ingreso promedio de los usuarios de Surf."
   ]
  },
  {
   "cell_type": "code",
   "execution_count": 2068,
   "id": "86fcbe64",
   "metadata": {},
   "outputs": [
    {
     "name": "stdout",
     "output_type": "stream",
     "text": [
      "p-value:  1.0\n",
      "We retain the null hypothesis\n"
     ]
    }
   ],
   "source": [
    "alpha = 0.05 # critical statistical significance level\n",
    "                        \n",
    "\n",
    "results = st.ttest_ind(sample_1,sample_2, equal_var=False ,alternative='greater')\n",
    "\n",
    "print('p-value: ', results.pvalue)\n",
    "\n",
    "# if the p-value is less than alpha, we reject the hypothesis\n",
    "\n",
    "if (results.pvalue < alpha):\n",
    "        print(\"We reject the null hypothesis\")\n",
    "else:\n",
    "        print(\"We retain the null hypothesis\")"
   ]
  },
  {
   "cell_type": "markdown",
   "id": "dd39ef6e",
   "metadata": {},
   "source": [
    "<div class=\"alert alert-success\">\n",
    "<b>✔️ Comentario del revisor:</b> Genial!"
   ]
  },
  {
   "cell_type": "markdown",
   "id": "b9fe7734",
   "metadata": {},
   "source": [
    "> Es este caso podemos afirmar con un 95% de certeza que el en promedio , el plan Surf genera mas ingresos que el plan Ultimate."
   ]
  },
  {
   "cell_type": "markdown",
   "id": "b58d84c7",
   "metadata": {},
   "source": [
    "### Caso 2: El ingreso promedio de los usuarios en el área de estados Nueva York-Nueva Jersey es diferente al de los usuarios de otras regiones."
   ]
  },
  {
   "cell_type": "markdown",
   "id": "afe745e9",
   "metadata": {},
   "source": [
    "Conbinamos los planes anterior mente separados para crear un data frame que pueda resolver la pregunta si las personas de cierta ciudad se comporta diferen a las de las demas."
   ]
  },
  {
   "cell_type": "code",
   "execution_count": 2069,
   "id": "01788e21",
   "metadata": {},
   "outputs": [
    {
     "name": "stdout",
     "output_type": "stream",
     "text": [
      "(1475, 16)\n",
      "(665, 16)\n",
      "(2140, 16)\n"
     ]
    }
   ],
   "source": [
    "print(df_surf.shape)\n",
    "print(df_ultimate.shape)\n",
    "data_users2 = pd.concat([df_surf, df_ultimate], ignore_index=True)\n",
    "print(data_users2.shape)"
   ]
  },
  {
   "cell_type": "code",
   "execution_count": 2070,
   "id": "cc8ee28d",
   "metadata": {},
   "outputs": [
    {
     "data": {
      "text/html": [
       "<div>\n",
       "<style scoped>\n",
       "    .dataframe tbody tr th:only-of-type {\n",
       "        vertical-align: middle;\n",
       "    }\n",
       "\n",
       "    .dataframe tbody tr th {\n",
       "        vertical-align: top;\n",
       "    }\n",
       "\n",
       "    .dataframe thead th {\n",
       "        text-align: right;\n",
       "    }\n",
       "</style>\n",
       "<table border=\"1\" class=\"dataframe\">\n",
       "  <thead>\n",
       "    <tr style=\"text-align: right;\">\n",
       "      <th></th>\n",
       "      <th>user_id</th>\n",
       "      <th>month</th>\n",
       "      <th>calls_duration</th>\n",
       "      <th>calls_count</th>\n",
       "      <th>sms_count</th>\n",
       "      <th>mb_used</th>\n",
       "      <th>plan</th>\n",
       "      <th>city</th>\n",
       "      <th>messages_included</th>\n",
       "      <th>mb_per_month_included</th>\n",
       "      <th>minutes_included</th>\n",
       "      <th>usd_monthly_pay</th>\n",
       "      <th>usd_per_gb</th>\n",
       "      <th>usd_per_message</th>\n",
       "      <th>usd_per_minute</th>\n",
       "      <th>monthly_profit</th>\n",
       "    </tr>\n",
       "  </thead>\n",
       "  <tbody>\n",
       "    <tr>\n",
       "      <th>0</th>\n",
       "      <td>1001</td>\n",
       "      <td>8</td>\n",
       "      <td>171.14</td>\n",
       "      <td>22.0</td>\n",
       "      <td>30.0</td>\n",
       "      <td>6919.15</td>\n",
       "      <td>surf</td>\n",
       "      <td>Seattle-Tacoma-Bellevue, WA MSA</td>\n",
       "      <td>50</td>\n",
       "      <td>15360</td>\n",
       "      <td>500</td>\n",
       "      <td>20</td>\n",
       "      <td>10</td>\n",
       "      <td>0.03</td>\n",
       "      <td>0.03</td>\n",
       "      <td>20.0000</td>\n",
       "    </tr>\n",
       "    <tr>\n",
       "      <th>1</th>\n",
       "      <td>1001</td>\n",
       "      <td>9</td>\n",
       "      <td>297.69</td>\n",
       "      <td>38.0</td>\n",
       "      <td>44.0</td>\n",
       "      <td>13314.82</td>\n",
       "      <td>surf</td>\n",
       "      <td>Seattle-Tacoma-Bellevue, WA MSA</td>\n",
       "      <td>50</td>\n",
       "      <td>15360</td>\n",
       "      <td>500</td>\n",
       "      <td>20</td>\n",
       "      <td>10</td>\n",
       "      <td>0.03</td>\n",
       "      <td>0.03</td>\n",
       "      <td>20.0000</td>\n",
       "    </tr>\n",
       "    <tr>\n",
       "      <th>2</th>\n",
       "      <td>1001</td>\n",
       "      <td>10</td>\n",
       "      <td>374.11</td>\n",
       "      <td>47.0</td>\n",
       "      <td>53.0</td>\n",
       "      <td>22330.49</td>\n",
       "      <td>surf</td>\n",
       "      <td>Seattle-Tacoma-Bellevue, WA MSA</td>\n",
       "      <td>50</td>\n",
       "      <td>15360</td>\n",
       "      <td>500</td>\n",
       "      <td>20</td>\n",
       "      <td>10</td>\n",
       "      <td>0.03</td>\n",
       "      <td>0.03</td>\n",
       "      <td>89.7949</td>\n",
       "    </tr>\n",
       "    <tr>\n",
       "      <th>3</th>\n",
       "      <td>1001</td>\n",
       "      <td>11</td>\n",
       "      <td>404.59</td>\n",
       "      <td>49.0</td>\n",
       "      <td>36.0</td>\n",
       "      <td>18504.30</td>\n",
       "      <td>surf</td>\n",
       "      <td>Seattle-Tacoma-Bellevue, WA MSA</td>\n",
       "      <td>50</td>\n",
       "      <td>15360</td>\n",
       "      <td>500</td>\n",
       "      <td>20</td>\n",
       "      <td>10</td>\n",
       "      <td>0.03</td>\n",
       "      <td>0.03</td>\n",
       "      <td>51.4430</td>\n",
       "    </tr>\n",
       "    <tr>\n",
       "      <th>4</th>\n",
       "      <td>1001</td>\n",
       "      <td>12</td>\n",
       "      <td>392.93</td>\n",
       "      <td>46.0</td>\n",
       "      <td>44.0</td>\n",
       "      <td>19369.18</td>\n",
       "      <td>surf</td>\n",
       "      <td>Seattle-Tacoma-Bellevue, WA MSA</td>\n",
       "      <td>50</td>\n",
       "      <td>15360</td>\n",
       "      <td>500</td>\n",
       "      <td>20</td>\n",
       "      <td>10</td>\n",
       "      <td>0.03</td>\n",
       "      <td>0.03</td>\n",
       "      <td>60.0918</td>\n",
       "    </tr>\n",
       "    <tr>\n",
       "      <th>...</th>\n",
       "      <td>...</td>\n",
       "      <td>...</td>\n",
       "      <td>...</td>\n",
       "      <td>...</td>\n",
       "      <td>...</td>\n",
       "      <td>...</td>\n",
       "      <td>...</td>\n",
       "      <td>...</td>\n",
       "      <td>...</td>\n",
       "      <td>...</td>\n",
       "      <td>...</td>\n",
       "      <td>...</td>\n",
       "      <td>...</td>\n",
       "      <td>...</td>\n",
       "      <td>...</td>\n",
       "      <td>...</td>\n",
       "    </tr>\n",
       "    <tr>\n",
       "      <th>2135</th>\n",
       "      <td>1224</td>\n",
       "      <td>6</td>\n",
       "      <td>0.00</td>\n",
       "      <td>0.0</td>\n",
       "      <td>5.0</td>\n",
       "      <td>2966.21</td>\n",
       "      <td>ultimate</td>\n",
       "      <td>Atlanta-Sandy Springs-Roswell, GA MSA</td>\n",
       "      <td>1000</td>\n",
       "      <td>30720</td>\n",
       "      <td>3000</td>\n",
       "      <td>70</td>\n",
       "      <td>7</td>\n",
       "      <td>0.01</td>\n",
       "      <td>0.01</td>\n",
       "      <td>70.0000</td>\n",
       "    </tr>\n",
       "    <tr>\n",
       "      <th>2136</th>\n",
       "      <td>1407</td>\n",
       "      <td>11</td>\n",
       "      <td>0.00</td>\n",
       "      <td>0.0</td>\n",
       "      <td>1.0</td>\n",
       "      <td>290.06</td>\n",
       "      <td>ultimate</td>\n",
       "      <td>New York-Newark-Jersey City, NY-NJ-PA MSA</td>\n",
       "      <td>1000</td>\n",
       "      <td>30720</td>\n",
       "      <td>3000</td>\n",
       "      <td>70</td>\n",
       "      <td>7</td>\n",
       "      <td>0.01</td>\n",
       "      <td>0.01</td>\n",
       "      <td>70.0000</td>\n",
       "    </tr>\n",
       "    <tr>\n",
       "      <th>2137</th>\n",
       "      <td>1482</td>\n",
       "      <td>10</td>\n",
       "      <td>0.00</td>\n",
       "      <td>0.0</td>\n",
       "      <td>2.0</td>\n",
       "      <td>0.00</td>\n",
       "      <td>ultimate</td>\n",
       "      <td>New York-Newark-Jersey City, NY-NJ-PA MSA</td>\n",
       "      <td>1000</td>\n",
       "      <td>30720</td>\n",
       "      <td>3000</td>\n",
       "      <td>70</td>\n",
       "      <td>7</td>\n",
       "      <td>0.01</td>\n",
       "      <td>0.01</td>\n",
       "      <td>70.0000</td>\n",
       "    </tr>\n",
       "    <tr>\n",
       "      <th>2138</th>\n",
       "      <td>1108</td>\n",
       "      <td>12</td>\n",
       "      <td>0.00</td>\n",
       "      <td>0.0</td>\n",
       "      <td>0.0</td>\n",
       "      <td>233.17</td>\n",
       "      <td>ultimate</td>\n",
       "      <td>Salt Lake City, UT MSA</td>\n",
       "      <td>1000</td>\n",
       "      <td>30720</td>\n",
       "      <td>3000</td>\n",
       "      <td>70</td>\n",
       "      <td>7</td>\n",
       "      <td>0.01</td>\n",
       "      <td>0.01</td>\n",
       "      <td>70.0000</td>\n",
       "    </tr>\n",
       "    <tr>\n",
       "      <th>2139</th>\n",
       "      <td>1311</td>\n",
       "      <td>6</td>\n",
       "      <td>0.00</td>\n",
       "      <td>0.0</td>\n",
       "      <td>0.0</td>\n",
       "      <td>1498.83</td>\n",
       "      <td>ultimate</td>\n",
       "      <td>Memphis, TN-MS-AR MSA</td>\n",
       "      <td>1000</td>\n",
       "      <td>30720</td>\n",
       "      <td>3000</td>\n",
       "      <td>70</td>\n",
       "      <td>7</td>\n",
       "      <td>0.01</td>\n",
       "      <td>0.01</td>\n",
       "      <td>70.0000</td>\n",
       "    </tr>\n",
       "  </tbody>\n",
       "</table>\n",
       "<p>2140 rows × 16 columns</p>\n",
       "</div>"
      ],
      "text/plain": [
       "      user_id  month  calls_duration  calls_count  sms_count   mb_used  \\\n",
       "0        1001      8          171.14         22.0       30.0   6919.15   \n",
       "1        1001      9          297.69         38.0       44.0  13314.82   \n",
       "2        1001     10          374.11         47.0       53.0  22330.49   \n",
       "3        1001     11          404.59         49.0       36.0  18504.30   \n",
       "4        1001     12          392.93         46.0       44.0  19369.18   \n",
       "...       ...    ...             ...          ...        ...       ...   \n",
       "2135     1224      6            0.00          0.0        5.0   2966.21   \n",
       "2136     1407     11            0.00          0.0        1.0    290.06   \n",
       "2137     1482     10            0.00          0.0        2.0      0.00   \n",
       "2138     1108     12            0.00          0.0        0.0    233.17   \n",
       "2139     1311      6            0.00          0.0        0.0   1498.83   \n",
       "\n",
       "          plan                                       city  messages_included  \\\n",
       "0         surf            Seattle-Tacoma-Bellevue, WA MSA                 50   \n",
       "1         surf            Seattle-Tacoma-Bellevue, WA MSA                 50   \n",
       "2         surf            Seattle-Tacoma-Bellevue, WA MSA                 50   \n",
       "3         surf            Seattle-Tacoma-Bellevue, WA MSA                 50   \n",
       "4         surf            Seattle-Tacoma-Bellevue, WA MSA                 50   \n",
       "...        ...                                        ...                ...   \n",
       "2135  ultimate      Atlanta-Sandy Springs-Roswell, GA MSA               1000   \n",
       "2136  ultimate  New York-Newark-Jersey City, NY-NJ-PA MSA               1000   \n",
       "2137  ultimate  New York-Newark-Jersey City, NY-NJ-PA MSA               1000   \n",
       "2138  ultimate                     Salt Lake City, UT MSA               1000   \n",
       "2139  ultimate                      Memphis, TN-MS-AR MSA               1000   \n",
       "\n",
       "      mb_per_month_included  minutes_included  usd_monthly_pay  usd_per_gb  \\\n",
       "0                     15360               500               20          10   \n",
       "1                     15360               500               20          10   \n",
       "2                     15360               500               20          10   \n",
       "3                     15360               500               20          10   \n",
       "4                     15360               500               20          10   \n",
       "...                     ...               ...              ...         ...   \n",
       "2135                  30720              3000               70           7   \n",
       "2136                  30720              3000               70           7   \n",
       "2137                  30720              3000               70           7   \n",
       "2138                  30720              3000               70           7   \n",
       "2139                  30720              3000               70           7   \n",
       "\n",
       "      usd_per_message  usd_per_minute  monthly_profit  \n",
       "0                0.03            0.03         20.0000  \n",
       "1                0.03            0.03         20.0000  \n",
       "2                0.03            0.03         89.7949  \n",
       "3                0.03            0.03         51.4430  \n",
       "4                0.03            0.03         60.0918  \n",
       "...               ...             ...             ...  \n",
       "2135             0.01            0.01         70.0000  \n",
       "2136             0.01            0.01         70.0000  \n",
       "2137             0.01            0.01         70.0000  \n",
       "2138             0.01            0.01         70.0000  \n",
       "2139             0.01            0.01         70.0000  \n",
       "\n",
       "[2140 rows x 16 columns]"
      ]
     },
     "execution_count": 2070,
     "metadata": {},
     "output_type": "execute_result"
    }
   ],
   "source": [
    "data_users2"
   ]
  },
  {
   "cell_type": "markdown",
   "id": "4a846513",
   "metadata": {},
   "source": [
    "Creamos el Dataframe y lo separamos en usuarios de la ciudad de Nueva York-Nueva Jersey y las demas."
   ]
  },
  {
   "cell_type": "code",
   "execution_count": 2071,
   "id": "ab1a8e34",
   "metadata": {},
   "outputs": [],
   "source": [
    "ny_nj_users = data_users2[data_users2['city'] == 'New York-Newark-Jersey City, NY-NJ-PA MSA']\n",
    "otras_ciudades_users = data_users2[data_users2['city'] != 'New York-Newark-Jersey City, NY-NJ-PA MSA']"
   ]
  },
  {
   "cell_type": "code",
   "execution_count": 2072,
   "id": "374bcdc6",
   "metadata": {},
   "outputs": [
    {
     "data": {
      "text/plain": [
       "(364, 16)"
      ]
     },
     "execution_count": 2072,
     "metadata": {},
     "output_type": "execute_result"
    }
   ],
   "source": [
    "ny_nj_users.shape"
   ]
  },
  {
   "cell_type": "code",
   "execution_count": 2073,
   "id": "0a8a3ed8",
   "metadata": {},
   "outputs": [
    {
     "data": {
      "text/plain": [
       "(1776, 16)"
      ]
     },
     "execution_count": 2073,
     "metadata": {},
     "output_type": "execute_result"
    }
   ],
   "source": [
    "otras_ciudades_users.shape"
   ]
  },
  {
   "cell_type": "markdown",
   "id": "e1fd7d57",
   "metadata": {},
   "source": [
    "+ ### Planteamiento 1 (Bilateral)\n",
    "\n",
    "__Hipótesis Nula (H0):__ El ingreso promedio de los usuarios en el área de estados Nueva York-Nueva Jersey es diferente al ingreso promedio de los usuarios de otras regiones. Matemáticamente, esto se expresaría como:\n",
    "\n",
    "$H_0: \\mu_{\\text{NY-NJ}} \\neq \\mu_{\\text{Otras}}$\n",
    "\n",
    "__Hipótesis Alternativa (H1):__ El ingreso promedio de los usuarios en el área de estados Nueva York-Nueva Jersey es igual al ingreso promedio de los usuarios de otras regiones. Matemáticamente, esto se expresaría como:\n",
    "\n",
    "$H_1: \\mu_{\\text{NY-NJ}} = \\mu_{\\text{Otras}}$\n",
    "\n",
    "Donde μ_NY-NJ representa el ingreso promedio de los usuarios en el área de estados Nueva York-Nueva Jersey y μ_Otras representa el ingreso promedio de los usuarios de otras regiones.\n",
    "\n"
   ]
  },
  {
   "cell_type": "code",
   "execution_count": 2074,
   "id": "9d2b0456",
   "metadata": {},
   "outputs": [
    {
     "data": {
      "text/plain": [
       "LeveneResult(statistic=5.6080234258381125, pvalue=0.01796691754872323)"
      ]
     },
     "execution_count": 2074,
     "metadata": {},
     "output_type": "execute_result"
    }
   ],
   "source": [
    "sample_3 = ny_nj_users['monthly_profit']\n",
    "sample_4 = otras_ciudades_users['monthly_profit']\n",
    "\n",
    "st.levene(sample_3, sample_4)"
   ]
  },
  {
   "cell_type": "markdown",
   "id": "25abfabc",
   "metadata": {},
   "source": [
    "pvalue < 5% sugiere usar  el valor `False` en la Variable `equal_var`."
   ]
  },
  {
   "cell_type": "code",
   "execution_count": 2075,
   "id": "da587e25",
   "metadata": {},
   "outputs": [
    {
     "name": "stdout",
     "output_type": "stream",
     "text": [
      "p-value:  0.09085200024176729\n",
      "We retain the null hypothesis\n"
     ]
    }
   ],
   "source": [
    "\n",
    "alpha = 0.05 # critical statistical significance level\n",
    "                        \n",
    "\n",
    "results = st.ttest_ind(sample_3, sample_4,equal_var=False)\n",
    "\n",
    "print('p-value: ', results.pvalue)\n",
    "alpha_by_2=alpha/2\n",
    "\n",
    "# if the p-value is less than alpha, we reject the hypothesis\n",
    "## en este caso usamos >= porque la hipotesis pide si es diferente y no igual\n",
    "if (results.pvalue < alpha_by_2):\n",
    "        print(\"We reject the null hypothesis\")\n",
    "else:\n",
    "        print(\"We retain the null hypothesis\")"
   ]
  },
  {
   "cell_type": "markdown",
   "id": "4fa0e993",
   "metadata": {},
   "source": [
    "Podemos Conluir que podemos descartar la Hipotesis que los ciudadanos de `New York-Newark-Jersey City` se comportan de manera diferente a la de los usuarios de las demas ciudades con un 95 % de certeza."
   ]
  },
  {
   "cell_type": "markdown",
   "id": "d5bc784e",
   "metadata": {},
   "source": [
    "<div class=\"alert alert-success\">\n",
    "<b>✔️ Comentario del revisor:</b> Buen trabajo!"
   ]
  },
  {
   "cell_type": "markdown",
   "id": "3635cbbe",
   "metadata": {},
   "source": [
    "## Conlusión  <a class=\"anchor\" id=\"conclusion\"></a>\n",
    "\n",
    "Se ha analizado el comportamiento de los clientes de telecomunicaciones para determinar cuál de los dos planes prepago es más rentable y para probar dos hipótesis estadísticas.\n",
    "\n",
    "Durante la preparacion y limpieza de datos se hizo:\n",
    "+ Minutos totales utilizados por mes.\n",
    "+ El número de mensajes de texto enviados por mes.\n",
    "+ El volumen de datos por mes.\n",
    "+ La ganancia mensual de cada usuario (restamos el límite del paquete gratuito del número total de llamadas, mensajes de texto y datos; multiplicamos el resultado por los números incluidos en el plan y agregamos el cargo mensual del plan).\n",
    "- Limpiar valores vacios \n",
    "- Limpiar valores atipicos\n",
    "- reemplazar con valores significativos o equitativos.\n",
    "\n",
    "Despues de lo anterior se agruparon los datos para responder a las siguientes hipotesis pre planteadas y se concluyo que:\n",
    "\n",
    "+ ##### La ganancia promedio de los usuarios de los planes Ultimate y Surf es diferente , donde Surf genera mas ganancias.\n",
    "+ ##### La ganancia promedio de los usuarios en el área de NY-NJ es diferente de la de los usuarios de otras regiones.\n",
    "\n",
    "##### Accion a Tomar\n",
    "- Se recomienda invertir mas publicidad en el plan de Surf ya que genera mas que el Plan Ultimate.\n",
    "- No hay que tomar una medida especial con los habitantes de la ciudad de `New York-Newark-Jersey City`con respecto a los demas."
   ]
  },
  {
   "cell_type": "markdown",
   "id": "34458e89",
   "metadata": {},
   "source": [
    "<div class=\"alert alert-success\">\n",
    "<b>✔️ Comentario del revisor:</b> Muchas gracias por tu trabajo! Te pido anadir los cocnlusiones despues de los graficos y estoy lista para aceptar tu proyecto!"
   ]
  }
 ],
 "metadata": {
  "kernelspec": {
   "display_name": "Python 3 (ipykernel)",
   "language": "python",
   "name": "python3"
  },
  "language_info": {
   "codemirror_mode": {
    "name": "ipython",
    "version": 3
   },
   "file_extension": ".py",
   "mimetype": "text/x-python",
   "name": "python",
   "nbconvert_exporter": "python",
   "pygments_lexer": "ipython3",
   "version": "3.9.12"
  },
  "toc": {
   "base_numbering": 1,
   "nav_menu": {},
   "number_sections": true,
   "sideBar": true,
   "skip_h1_title": true,
   "title_cell": "Table of Contents",
   "title_sidebar": "Contents",
   "toc_cell": false,
   "toc_position": {},
   "toc_section_display": true,
   "toc_window_display": false
  }
 },
 "nbformat": 4,
 "nbformat_minor": 5
}
